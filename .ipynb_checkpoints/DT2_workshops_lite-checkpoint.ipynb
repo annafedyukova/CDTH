{
 "cells": [
  {
   "cell_type": "markdown",
   "id": "3a2460f4",
   "metadata": {},
   "source": [
    "\n",
    "<div>\n",
    "<img src=\"Images/LOGO.png\" width=\"300\" align=\"right\">\n",
    "</div>\n",
    "\n",
    "# Learning Healthcare Systems\n",
    "\n",
    "Estaimted time needed: **6** hours\n",
    "\n",
    "## Objectives\n",
    "\n",
    "After completing this course you will be able to:\n",
    "\n",
    "-   What are Different data types\n",
    "-   Basic boolean logic - what is it?\n",
    "-   What are data types that computers can understand?\n",
    "-   Basic boolean logic - venn diagrams\n",
    "-   Difference between categorical, ordinal, continuous, etc\n",
    "\n",
    "\n",
    "\n",
    "<h1 id=\"data_acquisition\">Data Acquisition</h1>\n",
    "<p>\n",
    "In this section, you will learn how to load a dataset into a Jupyter Notebook and create a cohort for the futher analysis.<br>\n",
    "As an example, we will use the Type-2 Diabetes (T2D) dataset. It includes data extracted from the Indiana Network for Patient Care for patients presenting with Diabetes.<br>\n",
    "    <br>\n",
    "    The dataset consists of 5 tables in CSV (comma separated value) format:\n",
    "    \n",
    "-   Patients table \n",
    "-   Prescription medication table \n",
    "-   Encounters table \n",
    "-   Diagnoses table \n",
    "-   Clinical variables (e.g. tests, measurements etc.) table \n",
    "    \n",
    "Deatailed dataset description: <a href=\"https://github.com/regenstrief/T15Training/blob/master/Dictionaries/Data%20Dictionary%20-%20T2D.md\" target=\"_blank\">https://github.com/regenstrief/T15Training/blob/master/Dictionaries/Data%20Dictionary%20-%20T2D.md</a></li>\n",
    "\n",
    "The Pandas Library is a useful tool for data manipulation and analysis. \n",
    "</p>\n"
   ]
  },
  {
   "cell_type": "code",
   "execution_count": 2,
   "id": "fe9fa592",
   "metadata": {},
   "outputs": [],
   "source": [
    "import re\n",
    "import os\n",
    "\n",
    "import pandas as pd \n",
    "import numpy as np\n",
    "import seaborn as sns\n",
    "import matplotlib.pyplot as plt\n",
    "import seaborn as sns\n",
    "import holoviews as hv\n",
    "import graphviz\n",
    "import hvplot\n",
    "import hvplot.pandas \n",
    "import sweetviz as sv\n",
    "import qgrid\n",
    "import ipywidgets as widgets\n",
    "import pydotplus as pdp\n",
    "\n",
    "from imblearn.pipeline import Pipeline\n",
    "from sklearn.preprocessing import OneHotEncoder, StandardScaler, LabelEncoder\n",
    "from sklearn.impute import SimpleImputer\n",
    "from sklearn.compose import make_column_transformer, ColumnTransformer\n",
    "from sklearn.model_selection import train_test_split\n",
    "from sklearn.metrics import matthews_corrcoef,accuracy_score,make_scorer,balanced_accuracy_score,classification_report,roc_auc_score,confusion_matrix,plot_roc_curve\n",
    "from sklearn.model_selection import cross_val_score\n",
    "from sklearn.linear_model import LogisticRegression\n",
    "from sklearn.naive_bayes import GaussianNB,BernoulliNB\n",
    "from sklearn.tree import DecisionTreeClassifier\n",
    "from sklearn.inspection import permutation_importance\n",
    "from sklearn.neighbors import KNeighborsClassifier\n",
    "from sklearn import tree\n",
    "from IPython.display import YouTubeVideo\n",
    "\n",
    "from ipywidgets import  GridspecLayout, Layout\n",
    "from IPython.display import display, clear_output\n",
    "from matplotlib_venn import venn2, venn2_circles, venn2_unweighted,venn3, venn3_circles\n",
    "from ipywidgets import interact, interact_manual, HBox, Label\n",
    "\n",
    "import functions_for_LHS_workshops as f_LHS\n",
    "pd.options.plotting.backend = 'holoviews'\n",
    "#for qgrid desnt work\n",
    "#jupyter nbextension enable --py --sys-prefix qgrid\n",
    "#jupyter nbextension enable --py --sys-prefix widgetsnbextension"
   ]
  },
  {
   "cell_type": "markdown",
   "id": "b88550c9",
   "metadata": {},
   "source": [
    "<h2>Read Data</h2>\n",
    "<p>\n",
    "We use <code>pandas.read_csv()</code> function to read csv files. In the brackets, we put the file name and path, so that Pandas will read the file into a data frame from that address. The file path can be either an URL or your local file address.<br>\n",
    "\n",
    "You can also assign the dataset to any variable you create.\n",
    "</p>"
   ]
  },
  {
   "cell_type": "code",
   "execution_count": 3,
   "id": "33948794",
   "metadata": {},
   "outputs": [],
   "source": [
    "patients_df = pd.read_csv('patients.csv', sep=',')\n",
    "diagnosis_df = pd.read_csv('diagnosis.csv', sep=',')\n",
    "encounters_df = pd.read_csv('encounters.csv', sep=',')\n",
    "medication_df = pd.read_csv('medication.csv', sep=',')"
   ]
  },
  {
   "cell_type": "code",
   "execution_count": 4,
   "id": "bac98a1e",
   "metadata": {},
   "outputs": [],
   "source": [
    "items = ['patients', 'medication','diagnosis', 'encounters']\n",
    "def items_2_table_name(item):\n",
    "    if item == 'patients': \n",
    "        df = patients_df\n",
    "    elif item == 'diagnosis':\n",
    "        df = diagnosis_df\n",
    "    elif item == 'encounters': \n",
    "        df = encounters_df\n",
    "    else: \n",
    "        df = medication_df\n",
    "    return df"
   ]
  },
  {
   "cell_type": "markdown",
   "id": "e8934fd3",
   "metadata": {},
   "source": [
    "<h1 id=\"basic_insight\">Basic Insights of the Dataset</h1>\n",
    "<p>\n",
    "Next step after reading data into a Pandas dataframe, is data exploration.<br>\n",
    "There are several ways to obtain essential insights of the data to help us better understand our dataset.\n",
    "</p>\n"
   ]
  },
  {
   "cell_type": "markdown",
   "id": "ca1b193f",
   "metadata": {},
   "source": [
    "<h2>Analysis of tables content</h2>\n",
    "<p>\n",
    "Choose a table below to see its view.<br>\n",
    "    Grid allows to <b>filter</b> and <b>sort</b> data by any column. <br>\n",
    "    You will be able <b>to get detailed description</b> of each colomn by pointing your mouse on a column name.\n",
    "</p>"
   ]
  },
  {
   "cell_type": "code",
   "execution_count": 5,
   "id": "412090b9",
   "metadata": {},
   "outputs": [
    {
     "data": {
      "application/vnd.jupyter.widget-view+json": {
       "model_id": "a1e8107105394869a3f7647e120e093e",
       "version_major": 2,
       "version_minor": 0
      },
      "text/plain": [
       "interactive(children=(Dropdown(description='Select a table to view:', options=('patients', 'medication', 'diag…"
      ]
     },
     "metadata": {},
     "output_type": "display_data"
    },
    {
     "data": {
      "text/plain": [
       "<function functions_for_LHS_workshops.dataframe_2_qgrid(x)>"
      ]
     },
     "execution_count": 5,
     "metadata": {},
     "output_type": "execute_result"
    }
   ],
   "source": [
    "w = widgets.Dropdown(options=items, description='Select a table to view:', disabled=False,style={'description_width': 'max-content'},)\n",
    "interact(f_LHS.dataframe_2_qgrid, x=w) "
   ]
  },
  {
   "cell_type": "markdown",
   "id": "ceaf9ca8",
   "metadata": {},
   "source": [
    "<h2>Data Types</h2>\n",
    "\n",
    "<p>\n",
    "The main types stored in Pandas dataframes are object, float, int, bool and datetime64. In order to better learn about each attribute, it is always good for us to know the data type of each column. In Pandas:\n",
    " </p>"
   ]
  },
  {
   "cell_type": "markdown",
   "id": "878c1cf8",
   "metadata": {},
   "source": [
    "<div>\n",
    "<img src=\"Images/Variable_types_v2.png\" width=\"800\" >\n",
    "</div>"
   ]
  },
  {
   "cell_type": "code",
   "execution_count": 6,
   "id": "a91517b2",
   "metadata": {},
   "outputs": [
    {
     "name": "stdout",
     "output_type": "stream",
     "text": [
      "STUDYID             int64\n",
      "INDEX_YEAR          int64\n",
      "INDEX_AGE           int64\n",
      "GENDER             object\n",
      "RACE               object\n",
      "T2D_STATUS         object\n",
      "CARDIOVASCULAR    float64\n",
      "NEPHROPATHY       float64\n",
      "LIVER             float64\n",
      "ENC_12M_BF          int64\n",
      "ENC_12M_AF          int64\n",
      "ENC_YRS_BF          int64\n",
      "ENC_YRS_AF          int64\n",
      "BIOBANK           float64\n",
      "dtype: object\n"
     ]
    }
   ],
   "source": [
    "# check the data type of data frame \"df\" by .dtypes\n",
    "print(patients_df.dtypes)"
   ]
  },
  {
   "cell_type": "markdown",
   "id": "f0977994",
   "metadata": {},
   "source": [
    "<h2>Basic boolean logic. Visualisation of what filtering should give us</h2>"
   ]
  },
  {
   "cell_type": "code",
   "execution_count": 7,
   "id": "3c40aaf3",
   "metadata": {},
   "outputs": [],
   "source": [
    "df_W = widgets.Dropdown(description ='Table:', options = ['patients'])\n",
    "columnW_1 = widgets.Dropdown(description ='Column 1:', options =  list((items_2_table_name('patients').columns))[1:], value = 'GENDER')\n",
    "relat = widgets.Dropdown(description ='condition', options = ['='])\n",
    "columnW_1_Val = widgets.Dropdown(description='Value:', options =list(items_2_table_name('patients')[columnW_1.value].sort_values().unique()))\n",
    "bool_oper = widgets.Dropdown(description ='Boolean condition:', options = ['AND', 'OR'], style={'description_width': 'max-content'},)\n",
    "columnW_2 = widgets.Dropdown(description ='Column 2:', options = list((items_2_table_name('patients').columns))[1:], value= 'T2D_STATUS')\n",
    "relat_2 = widgets.Dropdown(description ='condition', options = ['='] )\n",
    "columnW_2_Val = widgets.Dropdown(description ='Value:', options =list(items_2_table_name('patients')[columnW_2.value].sort_values().unique()))\n",
    "button = widgets.Button(description ='Show result',layout=Layout(width='100%'))\n",
    "\n",
    "#handle the events\n",
    "def print_col_1_val(change):\n",
    "    columnW_1_Val.options=list(items_2_table_name('patients')[change.new].sort_values().unique())\n",
    "    columnW_1_Val\n",
    "    \n",
    "columnW_1.observe(print_col_1_val, names=['value'])\n",
    "\n",
    "\n",
    "def print_col_2_val(change):\n",
    "    columnW_2_Val.options=list(items_2_table_name('patients')[change.new].sort_values().unique())\n",
    "    columnW_2_Val\n",
    "    \n",
    "columnW_2.observe(print_col_2_val, names=['value'])\n",
    "\n",
    "def update_relat_col_1(change):    \n",
    "    if isinstance(columnW_1_Val.value, (float, int, np.integer)):\n",
    "        relat.options = ['=']#['>', '<', '=']\n",
    "    else:\n",
    "        relat.options = ['=']\n",
    "    \n",
    "columnW_1_Val.observe(update_relat_col_1, names=['value'])\n",
    "\n",
    "def update_relat_col_2(change):    \n",
    "    if isinstance(columnW_2_Val.value, (float, int, np.integer)):\n",
    "        relat_2.options = ['=']#['>', '<', '=']\n",
    "    else:\n",
    "        relat_2.options = ['=']\n",
    "    \n",
    "columnW_2_Val.observe(update_relat_col_2, names=['value'])\n",
    "\n",
    "out = widgets.Output()\n",
    "\n",
    "def on_button_clicked(_):\n",
    "    out.clear_output()   \n",
    "    if (columnW_1_Val.value is not None) & (columnW_2.value is not None):\n",
    "        if bool_oper.value == 'AND':            \n",
    "            result = patients_df[(patients_df[columnW_1.value]==columnW_1_Val.value) & (patients_df[columnW_2.value]==columnW_2_Val.value)]\n",
    "        else:\n",
    "            result = patients_df[(patients_df[columnW_1.value]==columnW_1_Val.value) | (patients_df[columnW_2.value]==columnW_2_Val.value)]\n",
    "     \n",
    "        with out:\n",
    "            subs1 = list(patients_df['STUDYID'][(patients_df[columnW_1.value]==columnW_1_Val.value)])\n",
    "            subs2 = list(patients_df['STUDYID'][(patients_df[columnW_2.value]==columnW_2_Val.value)])\n",
    "            inter=list(set(subs1).intersection(subs2))\n",
    "            if bool_oper.value == 'AND':\n",
    "                plt.figure(figsize=(6,6))                \n",
    "                \n",
    "                plt.title(\"Venn diagram\")\n",
    "                venn2(subsets = (len(subs1), len(subs2), len(inter)), set_labels = ('Column 1 subset', 'Column 2 subset'), set_colors=('purple', 'skyblue'))\n",
    "                plt.show()\n",
    "                print('Number of rows in result:', len(inter))\n",
    "                \n",
    "            if bool_oper.value == 'OR':\n",
    "                plt.figure(figsize=(6,6))  \n",
    "                \n",
    "                plt.title(\"Venn diagram\")\n",
    "                venn2(subsets = (len(subs1), len(subs2), len(inter)), set_labels = ('Column 1 subset', 'Column 2 subset'), set_colors=('skyblue', 'skyblue'))\n",
    "                plt.show()\n",
    "                print('Number of rows in result:', result.shape[0])\n",
    "                \n",
    "            display(result)\n",
    "          \n",
    "\n",
    "   \n",
    "button.on_click(on_button_clicked) "
   ]
  },
  {
   "cell_type": "code",
   "execution_count": 8,
   "id": "1328c097",
   "metadata": {},
   "outputs": [
    {
     "data": {
      "application/vnd.jupyter.widget-view+json": {
       "model_id": "cdeb9a9bf66f4f0b9afd2120b56540ad",
       "version_major": 2,
       "version_minor": 0
      },
      "text/plain": [
       "GridspecLayout(children=(Dropdown(description='Table:', layout=Layout(grid_area='widget001'), options=('patien…"
      ]
     },
     "metadata": {},
     "output_type": "display_data"
    },
    {
     "data": {
      "application/vnd.jupyter.widget-view+json": {
       "model_id": "a80c4e15610e486eba6118bdd58714e6",
       "version_major": 2,
       "version_minor": 0
      },
      "text/plain": [
       "Output()"
      ]
     },
     "metadata": {},
     "output_type": "display_data"
    }
   ],
   "source": [
    "# add initialisation\n",
    "# create a 4x3 grid layout\n",
    "grid = GridspecLayout(5, 3)\n",
    "# fill it in with widgets\n",
    "grid[0, 1] = df_W\n",
    "grid[1, 0] = columnW_1\n",
    "grid[2, 0] = relat\n",
    "grid[3, 0] = columnW_1_Val\n",
    "grid[1, 1] = bool_oper\n",
    "grid[1, 2] = columnW_2\n",
    "grid[2, 2]=relat_2\n",
    "grid[3, 2]=columnW_2_Val\n",
    "grid[3, 1]=button\n",
    "\n",
    "display(grid)\n",
    "display(out)\n"
   ]
  },
  {
   "cell_type": "markdown",
   "id": "b5368012",
   "metadata": {},
   "source": [
    "<h2>Exploratory Data Analysis of the tables</h2>\n",
    "\n",
    "To get a statistical summary of each column, such as, count, column mean value or column standard deviation use 'describe' method:\n",
    "<p>\n",
    "This method shows statistical summaries of all numeric-typed (int, float) columns.<br>\n",
    "For example, the attribute <b>\"INDEX_YEAR\"</b> (Year of Diabetes Diagnosis) has 77,908 <b>counts</b>, the <b>mean</b> value of this column is 2008, the <b>median value</b> is 2009, the <b>standard deviation</b> is 3.96, the minimum value is 1995, 25th percentile is 2006, 75th percentile is 2012, and the <b>maximum value</b> is 2015.\n",
    "<br>"
   ]
  },
  {
   "cell_type": "markdown",
   "id": "d14375d5",
   "metadata": {},
   "source": [
    "<div>\n",
    "<img src=\"Images/Math_graph_summary.png\" width=\"900\" >\n",
    "</div>"
   ]
  },
  {
   "cell_type": "code",
   "execution_count": 9,
   "id": "30519109",
   "metadata": {},
   "outputs": [
    {
     "data": {
      "text/html": [
       "<div>\n",
       "<style scoped>\n",
       "    .dataframe tbody tr th:only-of-type {\n",
       "        vertical-align: middle;\n",
       "    }\n",
       "\n",
       "    .dataframe tbody tr th {\n",
       "        vertical-align: top;\n",
       "    }\n",
       "\n",
       "    .dataframe thead th {\n",
       "        text-align: right;\n",
       "    }\n",
       "</style>\n",
       "<table border=\"1\" class=\"dataframe\">\n",
       "  <thead>\n",
       "    <tr style=\"text-align: right;\">\n",
       "      <th></th>\n",
       "      <th>count</th>\n",
       "      <th>mean</th>\n",
       "      <th>std</th>\n",
       "      <th>min</th>\n",
       "      <th>25%</th>\n",
       "      <th>50%</th>\n",
       "      <th>75%</th>\n",
       "      <th>max</th>\n",
       "    </tr>\n",
       "  </thead>\n",
       "  <tbody>\n",
       "    <tr>\n",
       "      <th>STUDYID</th>\n",
       "      <td>77908.0</td>\n",
       "      <td>666050.871515</td>\n",
       "      <td>359104.576216</td>\n",
       "      <td>16.0</td>\n",
       "      <td>358335.5</td>\n",
       "      <td>701734.5</td>\n",
       "      <td>981660.25</td>\n",
       "      <td>1256051.0</td>\n",
       "    </tr>\n",
       "    <tr>\n",
       "      <th>INDEX_YEAR</th>\n",
       "      <td>77908.0</td>\n",
       "      <td>2008.615380</td>\n",
       "      <td>3.955751</td>\n",
       "      <td>1995.0</td>\n",
       "      <td>2006.0</td>\n",
       "      <td>2009.0</td>\n",
       "      <td>2012.00</td>\n",
       "      <td>2015.0</td>\n",
       "    </tr>\n",
       "    <tr>\n",
       "      <th>INDEX_AGE</th>\n",
       "      <td>77908.0</td>\n",
       "      <td>56.011745</td>\n",
       "      <td>14.771435</td>\n",
       "      <td>18.0</td>\n",
       "      <td>47.0</td>\n",
       "      <td>57.0</td>\n",
       "      <td>66.00</td>\n",
       "      <td>85.0</td>\n",
       "    </tr>\n",
       "    <tr>\n",
       "      <th>CARDIOVASCULAR</th>\n",
       "      <td>51568.0</td>\n",
       "      <td>1.000000</td>\n",
       "      <td>0.000000</td>\n",
       "      <td>1.0</td>\n",
       "      <td>1.0</td>\n",
       "      <td>1.0</td>\n",
       "      <td>1.00</td>\n",
       "      <td>1.0</td>\n",
       "    </tr>\n",
       "    <tr>\n",
       "      <th>NEPHROPATHY</th>\n",
       "      <td>7453.0</td>\n",
       "      <td>1.000000</td>\n",
       "      <td>0.000000</td>\n",
       "      <td>1.0</td>\n",
       "      <td>1.0</td>\n",
       "      <td>1.0</td>\n",
       "      <td>1.00</td>\n",
       "      <td>1.0</td>\n",
       "    </tr>\n",
       "    <tr>\n",
       "      <th>LIVER</th>\n",
       "      <td>3730.0</td>\n",
       "      <td>1.000000</td>\n",
       "      <td>0.000000</td>\n",
       "      <td>1.0</td>\n",
       "      <td>1.0</td>\n",
       "      <td>1.0</td>\n",
       "      <td>1.00</td>\n",
       "      <td>1.0</td>\n",
       "    </tr>\n",
       "    <tr>\n",
       "      <th>ENC_12M_BF</th>\n",
       "      <td>77908.0</td>\n",
       "      <td>8.276827</td>\n",
       "      <td>18.709342</td>\n",
       "      <td>0.0</td>\n",
       "      <td>0.0</td>\n",
       "      <td>2.0</td>\n",
       "      <td>7.00</td>\n",
       "      <td>363.0</td>\n",
       "    </tr>\n",
       "    <tr>\n",
       "      <th>ENC_12M_AF</th>\n",
       "      <td>77908.0</td>\n",
       "      <td>13.344997</td>\n",
       "      <td>22.274271</td>\n",
       "      <td>0.0</td>\n",
       "      <td>1.0</td>\n",
       "      <td>5.0</td>\n",
       "      <td>15.00</td>\n",
       "      <td>359.0</td>\n",
       "    </tr>\n",
       "    <tr>\n",
       "      <th>ENC_YRS_BF</th>\n",
       "      <td>77908.0</td>\n",
       "      <td>2.355676</td>\n",
       "      <td>2.850258</td>\n",
       "      <td>0.0</td>\n",
       "      <td>1.0</td>\n",
       "      <td>1.0</td>\n",
       "      <td>3.00</td>\n",
       "      <td>20.0</td>\n",
       "    </tr>\n",
       "    <tr>\n",
       "      <th>ENC_YRS_AF</th>\n",
       "      <td>77908.0</td>\n",
       "      <td>3.660754</td>\n",
       "      <td>3.148038</td>\n",
       "      <td>0.0</td>\n",
       "      <td>1.0</td>\n",
       "      <td>3.0</td>\n",
       "      <td>5.00</td>\n",
       "      <td>20.0</td>\n",
       "    </tr>\n",
       "    <tr>\n",
       "      <th>BIOBANK</th>\n",
       "      <td>539.0</td>\n",
       "      <td>1.000000</td>\n",
       "      <td>0.000000</td>\n",
       "      <td>1.0</td>\n",
       "      <td>1.0</td>\n",
       "      <td>1.0</td>\n",
       "      <td>1.00</td>\n",
       "      <td>1.0</td>\n",
       "    </tr>\n",
       "  </tbody>\n",
       "</table>\n",
       "</div>"
      ],
      "text/plain": [
       "                  count           mean            std     min       25%  \\\n",
       "STUDYID         77908.0  666050.871515  359104.576216    16.0  358335.5   \n",
       "INDEX_YEAR      77908.0    2008.615380       3.955751  1995.0    2006.0   \n",
       "INDEX_AGE       77908.0      56.011745      14.771435    18.0      47.0   \n",
       "CARDIOVASCULAR  51568.0       1.000000       0.000000     1.0       1.0   \n",
       "NEPHROPATHY      7453.0       1.000000       0.000000     1.0       1.0   \n",
       "LIVER            3730.0       1.000000       0.000000     1.0       1.0   \n",
       "ENC_12M_BF      77908.0       8.276827      18.709342     0.0       0.0   \n",
       "ENC_12M_AF      77908.0      13.344997      22.274271     0.0       1.0   \n",
       "ENC_YRS_BF      77908.0       2.355676       2.850258     0.0       1.0   \n",
       "ENC_YRS_AF      77908.0       3.660754       3.148038     0.0       1.0   \n",
       "BIOBANK           539.0       1.000000       0.000000     1.0       1.0   \n",
       "\n",
       "                     50%        75%        max  \n",
       "STUDYID         701734.5  981660.25  1256051.0  \n",
       "INDEX_YEAR        2009.0    2012.00     2015.0  \n",
       "INDEX_AGE           57.0      66.00       85.0  \n",
       "CARDIOVASCULAR       1.0       1.00        1.0  \n",
       "NEPHROPATHY          1.0       1.00        1.0  \n",
       "LIVER                1.0       1.00        1.0  \n",
       "ENC_12M_BF           2.0       7.00      363.0  \n",
       "ENC_12M_AF           5.0      15.00      359.0  \n",
       "ENC_YRS_BF           1.0       3.00       20.0  \n",
       "ENC_YRS_AF           3.0       5.00       20.0  \n",
       "BIOBANK              1.0       1.00        1.0  "
      ]
     },
     "execution_count": 9,
     "metadata": {},
     "output_type": "execute_result"
    }
   ],
   "source": [
    "patients_df.describe()\n",
    "patients_df.describe().T.head(30)"
   ]
  },
  {
   "cell_type": "markdown",
   "id": "787a8d97",
   "metadata": {},
   "source": [
    "<h2>Extreme values/outliers identification</h2>"
   ]
  },
  {
   "cell_type": "code",
   "execution_count": 10,
   "id": "e917e5c4",
   "metadata": {},
   "outputs": [],
   "source": [
    "# Function to Detection Outlier on one-dimentional datasets.\n",
    "def find_anomalies(data):\n",
    "    #define a list to accumlate anomalies\n",
    "    anomalies = []\n",
    "    \n",
    "    # Set upper and lower limit to 3 standard deviation\n",
    "    random_data_std = np.std(data)\n",
    "    random_data_mean = np.mean(data)\n",
    "    anomaly_cut_off = random_data_std * 3\n",
    "    \n",
    "    lower_limit  = random_data_mean - anomaly_cut_off \n",
    "    upper_limit = random_data_mean + anomaly_cut_off\n",
    "    #print(lower_limit)\n",
    "    # Generate outliers\n",
    "    for outlier in data:\n",
    "        if outlier > upper_limit or outlier < lower_limit:\n",
    "            anomalies.append(outlier)\n",
    "    return anomalies, upper_limit, lower_limit\n"
   ]
  },
  {
   "cell_type": "code",
   "execution_count": 11,
   "id": "c96d0560",
   "metadata": {},
   "outputs": [
    {
     "data": {
      "text/html": [
       "<div>\n",
       "<style scoped>\n",
       "    .dataframe tbody tr th:only-of-type {\n",
       "        vertical-align: middle;\n",
       "    }\n",
       "\n",
       "    .dataframe tbody tr th {\n",
       "        vertical-align: top;\n",
       "    }\n",
       "\n",
       "    .dataframe thead th {\n",
       "        text-align: right;\n",
       "    }\n",
       "</style>\n",
       "<table border=\"1\" class=\"dataframe\">\n",
       "  <thead>\n",
       "    <tr style=\"text-align: right;\">\n",
       "      <th></th>\n",
       "      <th>STUDYID</th>\n",
       "      <th>INDEX_YEAR</th>\n",
       "      <th>INDEX_AGE</th>\n",
       "      <th>GENDER</th>\n",
       "      <th>RACE</th>\n",
       "      <th>T2D_STATUS</th>\n",
       "      <th>CARDIOVASCULAR</th>\n",
       "      <th>NEPHROPATHY</th>\n",
       "      <th>LIVER</th>\n",
       "      <th>ENC_12M_BF</th>\n",
       "      <th>ENC_12M_AF</th>\n",
       "      <th>ENC_YRS_BF</th>\n",
       "      <th>ENC_YRS_AF</th>\n",
       "      <th>BIOBANK</th>\n",
       "    </tr>\n",
       "  </thead>\n",
       "  <tbody>\n",
       "    <tr>\n",
       "      <th>0</th>\n",
       "      <td>16</td>\n",
       "      <td>1996</td>\n",
       "      <td>76</td>\n",
       "      <td>F</td>\n",
       "      <td>BLACK OR AFRICAN AMERICAN</td>\n",
       "      <td>ICD2 Only</td>\n",
       "      <td>True</td>\n",
       "      <td>True</td>\n",
       "      <td>True</td>\n",
       "      <td>4</td>\n",
       "      <td>24</td>\n",
       "      <td>1</td>\n",
       "      <td>2</td>\n",
       "      <td>True</td>\n",
       "    </tr>\n",
       "    <tr>\n",
       "      <th>1</th>\n",
       "      <td>103</td>\n",
       "      <td>1995</td>\n",
       "      <td>71</td>\n",
       "      <td>M</td>\n",
       "      <td>BLACK OR AFRICAN AMERICAN</td>\n",
       "      <td>ICD2+A1C</td>\n",
       "      <td>True</td>\n",
       "      <td>True</td>\n",
       "      <td>True</td>\n",
       "      <td>0</td>\n",
       "      <td>1</td>\n",
       "      <td>0</td>\n",
       "      <td>7</td>\n",
       "      <td>True</td>\n",
       "    </tr>\n",
       "    <tr>\n",
       "      <th>2</th>\n",
       "      <td>179</td>\n",
       "      <td>2014</td>\n",
       "      <td>71</td>\n",
       "      <td>M</td>\n",
       "      <td>BLACK OR AFRICAN AMERICAN</td>\n",
       "      <td>ICD2 Only</td>\n",
       "      <td>True</td>\n",
       "      <td>True</td>\n",
       "      <td>True</td>\n",
       "      <td>93</td>\n",
       "      <td>7</td>\n",
       "      <td>15</td>\n",
       "      <td>2</td>\n",
       "      <td>True</td>\n",
       "    </tr>\n",
       "    <tr>\n",
       "      <th>3</th>\n",
       "      <td>188</td>\n",
       "      <td>2013</td>\n",
       "      <td>57</td>\n",
       "      <td>M</td>\n",
       "      <td>BLACK OR AFRICAN AMERICAN</td>\n",
       "      <td>A1C Only</td>\n",
       "      <td>True</td>\n",
       "      <td>True</td>\n",
       "      <td>True</td>\n",
       "      <td>4</td>\n",
       "      <td>4</td>\n",
       "      <td>11</td>\n",
       "      <td>2</td>\n",
       "      <td>True</td>\n",
       "    </tr>\n",
       "    <tr>\n",
       "      <th>4</th>\n",
       "      <td>195</td>\n",
       "      <td>2003</td>\n",
       "      <td>78</td>\n",
       "      <td>F</td>\n",
       "      <td>BLACK OR AFRICAN AMERICAN</td>\n",
       "      <td>ICD2 Only</td>\n",
       "      <td>True</td>\n",
       "      <td>True</td>\n",
       "      <td>True</td>\n",
       "      <td>155</td>\n",
       "      <td>93</td>\n",
       "      <td>8</td>\n",
       "      <td>10</td>\n",
       "      <td>True</td>\n",
       "    </tr>\n",
       "    <tr>\n",
       "      <th>...</th>\n",
       "      <td>...</td>\n",
       "      <td>...</td>\n",
       "      <td>...</td>\n",
       "      <td>...</td>\n",
       "      <td>...</td>\n",
       "      <td>...</td>\n",
       "      <td>...</td>\n",
       "      <td>...</td>\n",
       "      <td>...</td>\n",
       "      <td>...</td>\n",
       "      <td>...</td>\n",
       "      <td>...</td>\n",
       "      <td>...</td>\n",
       "      <td>...</td>\n",
       "    </tr>\n",
       "    <tr>\n",
       "      <th>77903</th>\n",
       "      <td>1255981</td>\n",
       "      <td>2013</td>\n",
       "      <td>65</td>\n",
       "      <td>M</td>\n",
       "      <td>UNKNOWN/NOT DOCUMENTED</td>\n",
       "      <td>Meds Only</td>\n",
       "      <td>True</td>\n",
       "      <td>True</td>\n",
       "      <td>True</td>\n",
       "      <td>1</td>\n",
       "      <td>1</td>\n",
       "      <td>1</td>\n",
       "      <td>1</td>\n",
       "      <td>True</td>\n",
       "    </tr>\n",
       "    <tr>\n",
       "      <th>77904</th>\n",
       "      <td>1256010</td>\n",
       "      <td>2008</td>\n",
       "      <td>65</td>\n",
       "      <td>M</td>\n",
       "      <td>UNKNOWN/NOT DOCUMENTED</td>\n",
       "      <td>ICD2 Only</td>\n",
       "      <td>True</td>\n",
       "      <td>True</td>\n",
       "      <td>True</td>\n",
       "      <td>0</td>\n",
       "      <td>1</td>\n",
       "      <td>0</td>\n",
       "      <td>1</td>\n",
       "      <td>True</td>\n",
       "    </tr>\n",
       "    <tr>\n",
       "      <th>77905</th>\n",
       "      <td>1256011</td>\n",
       "      <td>2013</td>\n",
       "      <td>63</td>\n",
       "      <td>F</td>\n",
       "      <td>WHITE</td>\n",
       "      <td>Meds Only</td>\n",
       "      <td>True</td>\n",
       "      <td>True</td>\n",
       "      <td>True</td>\n",
       "      <td>0</td>\n",
       "      <td>2</td>\n",
       "      <td>0</td>\n",
       "      <td>3</td>\n",
       "      <td>True</td>\n",
       "    </tr>\n",
       "    <tr>\n",
       "      <th>77906</th>\n",
       "      <td>1256016</td>\n",
       "      <td>2011</td>\n",
       "      <td>78</td>\n",
       "      <td>M</td>\n",
       "      <td>WHITE</td>\n",
       "      <td>ICD2 Only</td>\n",
       "      <td>True</td>\n",
       "      <td>True</td>\n",
       "      <td>True</td>\n",
       "      <td>1</td>\n",
       "      <td>3</td>\n",
       "      <td>1</td>\n",
       "      <td>5</td>\n",
       "      <td>True</td>\n",
       "    </tr>\n",
       "    <tr>\n",
       "      <th>77907</th>\n",
       "      <td>1256051</td>\n",
       "      <td>2013</td>\n",
       "      <td>45</td>\n",
       "      <td>F</td>\n",
       "      <td>UNKNOWN/NOT DOCUMENTED</td>\n",
       "      <td>ICD2 Only</td>\n",
       "      <td>True</td>\n",
       "      <td>True</td>\n",
       "      <td>True</td>\n",
       "      <td>2</td>\n",
       "      <td>0</td>\n",
       "      <td>1</td>\n",
       "      <td>0</td>\n",
       "      <td>True</td>\n",
       "    </tr>\n",
       "  </tbody>\n",
       "</table>\n",
       "<p>77908 rows × 14 columns</p>\n",
       "</div>"
      ],
      "text/plain": [
       "       STUDYID  INDEX_YEAR  INDEX_AGE GENDER                       RACE  \\\n",
       "0           16        1996         76      F  BLACK OR AFRICAN AMERICAN   \n",
       "1          103        1995         71      M  BLACK OR AFRICAN AMERICAN   \n",
       "2          179        2014         71      M  BLACK OR AFRICAN AMERICAN   \n",
       "3          188        2013         57      M  BLACK OR AFRICAN AMERICAN   \n",
       "4          195        2003         78      F  BLACK OR AFRICAN AMERICAN   \n",
       "...        ...         ...        ...    ...                        ...   \n",
       "77903  1255981        2013         65      M     UNKNOWN/NOT DOCUMENTED   \n",
       "77904  1256010        2008         65      M     UNKNOWN/NOT DOCUMENTED   \n",
       "77905  1256011        2013         63      F                      WHITE   \n",
       "77906  1256016        2011         78      M                      WHITE   \n",
       "77907  1256051        2013         45      F     UNKNOWN/NOT DOCUMENTED   \n",
       "\n",
       "      T2D_STATUS  CARDIOVASCULAR  NEPHROPATHY  LIVER  ENC_12M_BF  ENC_12M_AF  \\\n",
       "0      ICD2 Only            True         True   True           4          24   \n",
       "1       ICD2+A1C            True         True   True           0           1   \n",
       "2      ICD2 Only            True         True   True          93           7   \n",
       "3       A1C Only            True         True   True           4           4   \n",
       "4      ICD2 Only            True         True   True         155          93   \n",
       "...          ...             ...          ...    ...         ...         ...   \n",
       "77903  Meds Only            True         True   True           1           1   \n",
       "77904  ICD2 Only            True         True   True           0           1   \n",
       "77905  Meds Only            True         True   True           0           2   \n",
       "77906  ICD2 Only            True         True   True           1           3   \n",
       "77907  ICD2 Only            True         True   True           2           0   \n",
       "\n",
       "       ENC_YRS_BF  ENC_YRS_AF  BIOBANK  \n",
       "0               1           2     True  \n",
       "1               0           7     True  \n",
       "2              15           2     True  \n",
       "3              11           2     True  \n",
       "4               8          10     True  \n",
       "...           ...         ...      ...  \n",
       "77903           1           1     True  \n",
       "77904           0           1     True  \n",
       "77905           0           3     True  \n",
       "77906           1           5     True  \n",
       "77907           1           0     True  \n",
       "\n",
       "[77908 rows x 14 columns]"
      ]
     },
     "execution_count": 11,
     "metadata": {},
     "output_type": "execute_result"
    }
   ],
   "source": [
    "patients_df = patients_df.astype({'CARDIOVASCULAR': bool, 'NEPHROPATHY': bool, 'LIVER': bool, 'BIOBANK': bool})\n",
    "patients_df"
   ]
  },
  {
   "cell_type": "code",
   "execution_count": 12,
   "id": "5f8ffc52",
   "metadata": {},
   "outputs": [
    {
     "data": {
      "application/vnd.jupyter.widget-view+json": {
       "model_id": "e403c687a7f54328af55511c3b51b443",
       "version_major": 2,
       "version_minor": 0
      },
      "text/plain": [
       "interactive(children=(Dropdown(description='Select a table to view:', options=('patients', 'medication'), styl…"
      ]
     },
     "metadata": {},
     "output_type": "display_data"
    },
    {
     "data": {
      "text/plain": [
       "<function __main__.ret_outl(table, col)>"
      ]
     },
     "execution_count": 12,
     "metadata": {},
     "output_type": "execute_result"
    }
   ],
   "source": [
    "tab = widgets.Dropdown(options=['patients', 'medication'], description='Select a table to view:', disabled=False,style={'description_width': 'max-content'},)\n",
    "col = widgets.Dropdown(options= list((items_2_table_name(tab.value).select_dtypes(exclude=['object', 'bool']).columns))[1:], description='Select a table to view:', disabled=False,style={'description_width': 'max-content'},)\n",
    "\n",
    "\n",
    "def print_col_1_val(change):\n",
    "    col.options=list((items_2_table_name(change.new).select_dtypes(exclude=['object', 'bool']).columns))[1:]   \n",
    "    col\n",
    "    \n",
    "tab.observe(print_col_1_val, names=['value'])\n",
    "\n",
    "def ret_outl(table, col):\n",
    "    df = items_2_table_name(table)\n",
    "    anomalies, upper_limit, lower_limit=find_anomalies(df[col])\n",
    "    print('upper_limit', upper_limit)\n",
    "    print('lower_limit', lower_limit)\n",
    "    print('number of anomalies', len(anomalies))\n",
    "    return df.hvplot.box(col,  width=450, color = '#6BB6BC') + df.hvplot.hist(col,  width=450, color = '#6BB6BC') \n",
    "    #height=300,\n",
    "\n",
    "interact(ret_outl, table=tab, col=col)"
   ]
  },
  {
   "cell_type": "markdown",
   "id": "fee59e12",
   "metadata": {},
   "source": [
    "<h2>Correlation</h2>"
   ]
  },
  {
   "cell_type": "code",
   "execution_count": 13,
   "id": "dc35f9c1",
   "metadata": {},
   "outputs": [
    {
     "data": {
      "text/html": [
       "<div>\n",
       "<style scoped>\n",
       "    .dataframe tbody tr th:only-of-type {\n",
       "        vertical-align: middle;\n",
       "    }\n",
       "\n",
       "    .dataframe tbody tr th {\n",
       "        vertical-align: top;\n",
       "    }\n",
       "\n",
       "    .dataframe thead th {\n",
       "        text-align: right;\n",
       "    }\n",
       "</style>\n",
       "<table border=\"1\" class=\"dataframe\">\n",
       "  <thead>\n",
       "    <tr style=\"text-align: right;\">\n",
       "      <th></th>\n",
       "      <th>STUDYID</th>\n",
       "      <th>DAYS_MED_INDEX</th>\n",
       "      <th>NDC_CODE</th>\n",
       "      <th>STRENGTH</th>\n",
       "      <th>DISPENSE_AMOUNT</th>\n",
       "      <th>NUMBER_OF_DAYS_SUPPLY</th>\n",
       "    </tr>\n",
       "  </thead>\n",
       "  <tbody>\n",
       "    <tr>\n",
       "      <th>STUDYID</th>\n",
       "      <td>1.00</td>\n",
       "      <td>-0.32</td>\n",
       "      <td>0.03</td>\n",
       "      <td>0.02</td>\n",
       "      <td>0.03</td>\n",
       "      <td>-0.07</td>\n",
       "    </tr>\n",
       "    <tr>\n",
       "      <th>DAYS_MED_INDEX</th>\n",
       "      <td>-0.32</td>\n",
       "      <td>1.00</td>\n",
       "      <td>-0.00</td>\n",
       "      <td>-0.11</td>\n",
       "      <td>0.06</td>\n",
       "      <td>0.12</td>\n",
       "    </tr>\n",
       "    <tr>\n",
       "      <th>NDC_CODE</th>\n",
       "      <td>0.03</td>\n",
       "      <td>-0.00</td>\n",
       "      <td>1.00</td>\n",
       "      <td>0.32</td>\n",
       "      <td>0.16</td>\n",
       "      <td>0.05</td>\n",
       "    </tr>\n",
       "    <tr>\n",
       "      <th>STRENGTH</th>\n",
       "      <td>0.02</td>\n",
       "      <td>-0.11</td>\n",
       "      <td>0.32</td>\n",
       "      <td>1.00</td>\n",
       "      <td>0.28</td>\n",
       "      <td>0.01</td>\n",
       "    </tr>\n",
       "    <tr>\n",
       "      <th>DISPENSE_AMOUNT</th>\n",
       "      <td>0.03</td>\n",
       "      <td>0.06</td>\n",
       "      <td>0.16</td>\n",
       "      <td>0.28</td>\n",
       "      <td>1.00</td>\n",
       "      <td>0.58</td>\n",
       "    </tr>\n",
       "    <tr>\n",
       "      <th>NUMBER_OF_DAYS_SUPPLY</th>\n",
       "      <td>-0.07</td>\n",
       "      <td>0.12</td>\n",
       "      <td>0.05</td>\n",
       "      <td>0.01</td>\n",
       "      <td>0.58</td>\n",
       "      <td>1.00</td>\n",
       "    </tr>\n",
       "  </tbody>\n",
       "</table>\n",
       "</div>"
      ],
      "text/plain": [
       "                       STUDYID  DAYS_MED_INDEX  NDC_CODE  STRENGTH  \\\n",
       "STUDYID                   1.00           -0.32      0.03      0.02   \n",
       "DAYS_MED_INDEX           -0.32            1.00     -0.00     -0.11   \n",
       "NDC_CODE                  0.03           -0.00      1.00      0.32   \n",
       "STRENGTH                  0.02           -0.11      0.32      1.00   \n",
       "DISPENSE_AMOUNT           0.03            0.06      0.16      0.28   \n",
       "NUMBER_OF_DAYS_SUPPLY    -0.07            0.12      0.05      0.01   \n",
       "\n",
       "                       DISPENSE_AMOUNT  NUMBER_OF_DAYS_SUPPLY  \n",
       "STUDYID                           0.03                  -0.07  \n",
       "DAYS_MED_INDEX                    0.06                   0.12  \n",
       "NDC_CODE                          0.16                   0.05  \n",
       "STRENGTH                          0.28                   0.01  \n",
       "DISPENSE_AMOUNT                   1.00                   0.58  \n",
       "NUMBER_OF_DAYS_SUPPLY             0.58                   1.00  "
      ]
     },
     "execution_count": 13,
     "metadata": {},
     "output_type": "execute_result"
    }
   ],
   "source": [
    "round(items_2_table_name(w).select_dtypes(exclude=['bool']).corr(),2)"
   ]
  },
  {
   "cell_type": "code",
   "execution_count": 14,
   "id": "1afaa0ca",
   "metadata": {},
   "outputs": [
    {
     "data": {
      "application/vnd.jupyter.widget-view+json": {
       "model_id": "78c5c5cb47b64eb385695368b94416a8",
       "version_major": 2,
       "version_minor": 0
      },
      "text/plain": [
       "interactive(children=(Dropdown(description='Select a table to view:', options=('patients', 'medication', 'diag…"
      ]
     },
     "metadata": {},
     "output_type": "display_data"
    },
    {
     "data": {
      "text/plain": [
       "<function __main__.create_corr_table(w)>"
      ]
     },
     "execution_count": 14,
     "metadata": {},
     "output_type": "execute_result"
    }
   ],
   "source": [
    "w = widgets.Dropdown(options=items, description='Select a table to view:', disabled=False,style={'description_width': 'max-content'},)\n",
    "\n",
    "def create_corr_table(w):    \n",
    "    cormat = round(items_2_table_name(w).select_dtypes(exclude=['bool']).corr(),2)\n",
    "    heatmap =cormat.hvplot.heatmap(height=300, width=800,rot=50, grid=True, line_width=2,cmap='cet_linear_gow_60_85_c27')\n",
    "    with out:\n",
    "        return heatmap * hv.Labels(heatmap)\n",
    "    #return print('!')#display(heatmap * hv.Labels(heatmap))\n",
    "\n",
    "interact(create_corr_table,w=w)"
   ]
  },
  {
   "cell_type": "markdown",
   "id": "27b253af",
   "metadata": {},
   "source": [
    "<h1>Creation of a cohort </h1>\n",
    "<p>\n",
    "The main goal of this section is to create a cohort for identification of outpatient clinic patients who are at higher risk of hospitalisation or ED visit. The following steps should be taken to build the dataset:\n",
    "    \n",
    "<ol>\n",
    "    <li>Analysis of tables that will be used as data sources for creation of the cohort (Figure 1.A.)</li>\n",
    "    <li>Creation of a table with inpatients who were hospitalised with diabeties. This table is based on 'Encounters' (identifies the fact of admission) and 'Diagnosis' (identifies the reason of admission) tables (Figure 1.B.)</li>\n",
    "    <li>Joining 'Patients' table with the table obtained on step 2. (Figure 1.C.)</li>\n",
    "    <li>Joining 'Medication' table with the table obtained on step 3. (Figure 1.C.)</li>\n",
    "</ol>\n",
    "    </p>"
   ]
  },
  {
   "cell_type": "markdown",
   "id": "f09c39ad",
   "metadata": {},
   "source": [
    "<div>\n",
    "<img src=\"Images/dataset_creation.png\" width=\"1000\" >\n",
    "</div>"
   ]
  },
  {
   "cell_type": "code",
   "execution_count": 15,
   "id": "236bc970",
   "metadata": {},
   "outputs": [
    {
     "name": "stdout",
     "output_type": "stream",
     "text": [
      "Obtained dataset has 77908 rows and 15 columns.\n"
     ]
    }
   ],
   "source": [
    "cohort=f_LHS.cohort_creation()"
   ]
  },
  {
   "cell_type": "markdown",
   "id": "4ed5d4ed",
   "metadata": {},
   "source": [
    "<h2>View of the dataset</h2>\n",
    "<p>\n",
    "To have a look at the final cohort use the grid below. <br>\n",
    "This grid allows to <b>filter</b> and <b>sort</b> data by any column. <br>\n",
    "You will be able <b>to get detailed description</b> of each colomn by pointing your mouse on a column name.\n",
    "</p>"
   ]
  },
  {
   "cell_type": "code",
   "execution_count": 278,
   "id": "4e7dcaf1",
   "metadata": {},
   "outputs": [
    {
     "data": {
      "application/vnd.jupyter.widget-view+json": {
       "model_id": "8bfbd340e7a34a9aae604b6d82a5f275",
       "version_major": 2,
       "version_minor": 0
      },
      "text/plain": [
       "QgridWidget(grid_options={'fullWidthRows': True, 'syncColumnCellResize': True, 'forceFitColumns': False, 'defa…"
      ]
     },
     "metadata": {},
     "output_type": "display_data"
    }
   ],
   "source": [
    "f_LHS.cohort_2_qgrid(x=cohort)"
   ]
  },
  {
   "cell_type": "markdown",
   "id": "66df1c52",
   "metadata": {},
   "source": [
    "<h2>Save the dataset</h2>\n",
    "<p>\n",
    "Correspondingly, Pandas library allows to save the dataset to '.csv' file by using <code>dataframe.to_csv()</code> method. It is possible to add the file path and name along with quotation marks in the brackets.\n",
    "</p>\n",
    "<p>\n",
    "    For example, to save the dataframe <b>cohort</b> as <b>cohort_t2d.csv</b> to the local machine, use the syntax below:\n",
    "</p>\n"
   ]
  },
  {
   "cell_type": "code",
   "execution_count": 279,
   "id": "e9fceb53",
   "metadata": {},
   "outputs": [
    {
     "data": {
      "text/plain": [
       "(77908, 15)"
      ]
     },
     "execution_count": 279,
     "metadata": {},
     "output_type": "execute_result"
    }
   ],
   "source": [
    "cohort.shape"
   ]
  },
  {
   "cell_type": "code",
   "execution_count": 280,
   "id": "66457d2c",
   "metadata": {},
   "outputs": [],
   "source": [
    "cohort.to_csv(\"cohort_t2d.csv\", index=False)"
   ]
  },
  {
   "cell_type": "code",
   "execution_count": 281,
   "id": "8b70e18a",
   "metadata": {},
   "outputs": [
    {
     "data": {
      "text/plain": [
       "0"
      ]
     },
     "execution_count": 281,
     "metadata": {},
     "output_type": "execute_result"
    }
   ],
   "source": [
    "cohort_miss=cohort[(cohort['LIVER'].isnull()) & (cohort['NEPHROPATHY'].isnull()) \n",
    "                   & (cohort['COUNT_NDC_CODES'].isnull())  & (cohort['UNIQUE_NDC_CODES'].isnull()) \n",
    "                   & (cohort['METFORMIN_HYDROCHLORIDE'].isnull()) & (cohort['INSULIN_GLARGINE'].isnull())\n",
    "                   & (cohort['CARDIOVASCULAR'].isnull())]\n",
    "len(cohort_miss)\n",
    "#16.8%"
   ]
  },
  {
   "cell_type": "markdown",
   "id": "34e09227",
   "metadata": {},
   "source": [
    "<h1>Exploratory Data Analysis of the cohort</h1>"
   ]
  },
  {
   "cell_type": "code",
   "execution_count": 282,
   "id": "ec31695a",
   "metadata": {},
   "outputs": [],
   "source": [
    "cohort = cohort.astype({'CARDIOVASCULAR': bool, 'NEPHROPATHY': bool, 'LIVER': bool})"
   ]
  },
  {
   "cell_type": "code",
   "execution_count": 283,
   "id": "ecb4cf77",
   "metadata": {},
   "outputs": [
    {
     "data": {},
     "metadata": {},
     "output_type": "display_data"
    },
    {
     "data": {
      "application/vnd.holoviews_exec.v0+json": "",
      "text/html": [
       "<div id='44127'>\n",
       "\n",
       "\n",
       "\n",
       "\n",
       "\n",
       "  <div class=\"bk-root\" id=\"46093f6e-9ad0-4b2f-aa0b-662ff7b6c6fc\" data-root-id=\"44127\"></div>\n",
       "</div>\n",
       "<script type=\"application/javascript\">(function(root) {\n",
       "  function embed_document(root) {\n",
       "    var docs_json = {\"916ae5b1-cb04-49e4-96a4-e9dd97e923c3\":{\"defs\":[{\"extends\":null,\"module\":null,\"name\":\"ReactiveHTML1\",\"overrides\":[],\"properties\":[]},{\"extends\":null,\"module\":null,\"name\":\"FlexBox1\",\"overrides\":[],\"properties\":[{\"default\":\"flex-start\",\"kind\":null,\"name\":\"align_content\"},{\"default\":\"flex-start\",\"kind\":null,\"name\":\"align_items\"},{\"default\":\"row\",\"kind\":null,\"name\":\"flex_direction\"},{\"default\":\"wrap\",\"kind\":null,\"name\":\"flex_wrap\"},{\"default\":\"flex-start\",\"kind\":null,\"name\":\"justify_content\"}]},{\"extends\":null,\"module\":null,\"name\":\"TemplateActions1\",\"overrides\":[],\"properties\":[{\"default\":0,\"kind\":null,\"name\":\"open_modal\"},{\"default\":0,\"kind\":null,\"name\":\"close_modal\"}]},{\"extends\":null,\"module\":null,\"name\":\"MaterialTemplateActions1\",\"overrides\":[],\"properties\":[{\"default\":0,\"kind\":null,\"name\":\"open_modal\"},{\"default\":0,\"kind\":null,\"name\":\"close_modal\"}]}],\"roots\":{\"references\":[{\"attributes\":{\"data\":{\"columns\":[\"INDEX_YEAR\",\"INDEX_YEAR\",\"INDEX_YEAR\",\"INDEX_YEAR\",\"INDEX_YEAR\",\"INDEX_YEAR\",\"INDEX_YEAR\",\"INDEX_YEAR\",\"INDEX_YEAR\",\"INDEX_AGE\",\"INDEX_AGE\",\"INDEX_AGE\",\"INDEX_AGE\",\"INDEX_AGE\",\"INDEX_AGE\",\"INDEX_AGE\",\"INDEX_AGE\",\"INDEX_AGE\",\"ENC_12M_BF\",\"ENC_12M_BF\",\"ENC_12M_BF\",\"ENC_12M_BF\",\"ENC_12M_BF\",\"ENC_12M_BF\",\"ENC_12M_BF\",\"ENC_12M_BF\",\"ENC_12M_BF\",\"LABEL\",\"LABEL\",\"LABEL\",\"LABEL\",\"LABEL\",\"LABEL\",\"LABEL\",\"LABEL\",\"LABEL\",\"MED_PRESCR\",\"MED_PRESCR\",\"MED_PRESCR\",\"MED_PRESCR\",\"MED_PRESCR\",\"MED_PRESCR\",\"MED_PRESCR\",\"MED_PRESCR\",\"MED_PRESCR\",\"COUNT_NDC_CODES\",\"COUNT_NDC_CODES\",\"COUNT_NDC_CODES\",\"COUNT_NDC_CODES\",\"COUNT_NDC_CODES\",\"COUNT_NDC_CODES\",\"COUNT_NDC_CODES\",\"COUNT_NDC_CODES\",\"COUNT_NDC_CODES\",\"UNIQUE_NDC_CODES\",\"UNIQUE_NDC_CODES\",\"UNIQUE_NDC_CODES\",\"UNIQUE_NDC_CODES\",\"UNIQUE_NDC_CODES\",\"UNIQUE_NDC_CODES\",\"UNIQUE_NDC_CODES\",\"UNIQUE_NDC_CODES\",\"UNIQUE_NDC_CODES\",\"METFORMIN_HYDROCHLORIDE\",\"METFORMIN_HYDROCHLORIDE\",\"METFORMIN_HYDROCHLORIDE\",\"METFORMIN_HYDROCHLORIDE\",\"METFORMIN_HYDROCHLORIDE\",\"METFORMIN_HYDROCHLORIDE\",\"METFORMIN_HYDROCHLORIDE\",\"METFORMIN_HYDROCHLORIDE\",\"METFORMIN_HYDROCHLORIDE\",\"INSULIN_GLARGINE\",\"INSULIN_GLARGINE\",\"INSULIN_GLARGINE\",\"INSULIN_GLARGINE\",\"INSULIN_GLARGINE\",\"INSULIN_GLARGINE\",\"INSULIN_GLARGINE\",\"INSULIN_GLARGINE\",\"INSULIN_GLARGINE\"],\"index\":[\"INDEX_YEAR\",\"INDEX_AGE\",\"ENC_12M_BF\",\"LABEL\",\"MED_PRESCR\",\"COUNT_NDC_CODES\",\"UNIQUE_NDC_CODES\",\"METFORMIN_HYDROCHLORIDE\",\"INSULIN_GLARGINE\",\"INDEX_YEAR\",\"INDEX_AGE\",\"ENC_12M_BF\",\"LABEL\",\"MED_PRESCR\",\"COUNT_NDC_CODES\",\"UNIQUE_NDC_CODES\",\"METFORMIN_HYDROCHLORIDE\",\"INSULIN_GLARGINE\",\"INDEX_YEAR\",\"INDEX_AGE\",\"ENC_12M_BF\",\"LABEL\",\"MED_PRESCR\",\"COUNT_NDC_CODES\",\"UNIQUE_NDC_CODES\",\"METFORMIN_HYDROCHLORIDE\",\"INSULIN_GLARGINE\",\"INDEX_YEAR\",\"INDEX_AGE\",\"ENC_12M_BF\",\"LABEL\",\"MED_PRESCR\",\"COUNT_NDC_CODES\",\"UNIQUE_NDC_CODES\",\"METFORMIN_HYDROCHLORIDE\",\"INSULIN_GLARGINE\",\"INDEX_YEAR\",\"INDEX_AGE\",\"ENC_12M_BF\",\"LABEL\",\"MED_PRESCR\",\"COUNT_NDC_CODES\",\"UNIQUE_NDC_CODES\",\"METFORMIN_HYDROCHLORIDE\",\"INSULIN_GLARGINE\",\"INDEX_YEAR\",\"INDEX_AGE\",\"ENC_12M_BF\",\"LABEL\",\"MED_PRESCR\",\"COUNT_NDC_CODES\",\"UNIQUE_NDC_CODES\",\"METFORMIN_HYDROCHLORIDE\",\"INSULIN_GLARGINE\",\"INDEX_YEAR\",\"INDEX_AGE\",\"ENC_12M_BF\",\"LABEL\",\"MED_PRESCR\",\"COUNT_NDC_CODES\",\"UNIQUE_NDC_CODES\",\"METFORMIN_HYDROCHLORIDE\",\"INSULIN_GLARGINE\",\"INDEX_YEAR\",\"INDEX_AGE\",\"ENC_12M_BF\",\"LABEL\",\"MED_PRESCR\",\"COUNT_NDC_CODES\",\"UNIQUE_NDC_CODES\",\"METFORMIN_HYDROCHLORIDE\",\"INSULIN_GLARGINE\",\"INDEX_YEAR\",\"INDEX_AGE\",\"ENC_12M_BF\",\"LABEL\",\"MED_PRESCR\",\"COUNT_NDC_CODES\",\"UNIQUE_NDC_CODES\",\"METFORMIN_HYDROCHLORIDE\",\"INSULIN_GLARGINE\"],\"value\":[\"1\",\"-0\",\"-0\",\"-0.25\",\"0.03\",\"-0.36\",\"-0.36\",\"0.06\",\"-0.05\",\"-0\",\"1\",\"-0.06\",\"0.08\",\"-0.06\",\"0.02\",\"0\",\"-0.1\",\"0.06\",\"-0\",\"-0.06\",\"1\",\"-0.02\",\"-0.06\",\"-0.05\",\"-0.05\",\"0.01\",\"-0.04\",\"-0.25\",\"0.08\",\"-0.02\",\"1\",\"0.13\",\"0.2\",\"0.23\",\"0.01\",\"0.1\",\"0.03\",\"-0.06\",\"-0.06\",\"0.13\",\"1\",\"nan\",\"nan\",\"nan\",\"nan\",\"-0.36\",\"0.02\",\"-0.05\",\"0.2\",\"nan\",\"1\",\"0.72\",\"0.12\",\"0.2\",\"-0.36\",\"0\",\"-0.05\",\"0.23\",\"nan\",\"0.72\",\"1\",\"0.13\",\"0.27\",\"0.06\",\"-0.1\",\"0.01\",\"0.01\",\"nan\",\"0.12\",\"0.13\",\"1\",\"-0.06\",\"-0.05\",\"0.06\",\"-0.04\",\"0.1\",\"nan\",\"0.2\",\"0.27\",\"-0.06\",\"1\"]},\"selected\":{\"id\":\"44180\"},\"selection_policy\":{\"id\":\"44198\"}},\"id\":\"44179\",\"type\":\"ColumnDataSource\"},{\"attributes\":{\"bottom_units\":\"screen\",\"fill_alpha\":0.5,\"fill_color\":\"lightgrey\",\"left_units\":\"screen\",\"level\":\"overlay\",\"line_alpha\":1.0,\"line_color\":\"black\",\"line_dash\":[4,4],\"line_width\":2,\"right_units\":\"screen\",\"syncable\":false,\"top_units\":\"screen\"},\"id\":\"44152\",\"type\":\"BoxAnnotation\"},{\"attributes\":{},\"id\":\"44148\",\"type\":\"PanTool\"},{\"attributes\":{},\"id\":\"44176\",\"type\":\"BasicTicker\"},{\"attributes\":{},\"id\":\"44198\",\"type\":\"UnionRenderers\"},{\"attributes\":{\"bar_line_color\":\"black\",\"color_mapper\":{\"id\":\"44168\"},\"label_standoff\":8,\"location\":[0,0],\"major_label_policy\":{\"id\":\"44188\"},\"major_tick_line_color\":\"black\",\"ticker\":{\"id\":\"44176\"}},\"id\":\"44177\",\"type\":\"ColorBar\"},{\"attributes\":{\"callback\":null,\"renderers\":[{\"id\":\"44174\"}],\"tags\":[\"hv_created\"],\"tooltips\":[[\"columns\",\"@{columns}\"],[\"index\",\"@{index}\"],[\"value\",\"@{value}\"]]},\"id\":\"44131\",\"type\":\"HoverTool\"},{\"attributes\":{\"text\":{\"field\":\"value\"},\"text_align\":{\"value\":\"center\"},\"text_alpha\":{\"value\":0.1},\"text_baseline\":{\"value\":\"middle\"},\"text_color\":{\"value\":\"black\"},\"x\":{\"field\":\"columns\"},\"y\":{\"field\":\"index\"}},\"id\":\"44183\",\"type\":\"Text\"},{\"attributes\":{\"below\":[{\"id\":\"44141\"}],\"center\":[{\"id\":\"44143\"},{\"id\":\"44146\"}],\"height\":400,\"left\":[{\"id\":\"44144\"}],\"margin\":[5,5,5,5],\"min_border_bottom\":10,\"min_border_left\":10,\"min_border_right\":10,\"min_border_top\":10,\"renderers\":[{\"id\":\"44174\"},{\"id\":\"44184\"}],\"right\":[{\"id\":\"44177\"}],\"sizing_mode\":\"fixed\",\"title\":{\"id\":\"44133\"},\"toolbar\":{\"id\":\"44153\"},\"width\":900,\"x_range\":{\"id\":\"44129\"},\"x_scale\":{\"id\":\"44137\"},\"y_range\":{\"id\":\"44130\"},\"y_scale\":{\"id\":\"44139\"}},\"id\":\"44132\",\"subtype\":\"Figure\",\"type\":\"Plot\"},{\"attributes\":{\"source\":{\"id\":\"44169\"}},\"id\":\"44175\",\"type\":\"CDSView\"},{\"attributes\":{\"factors\":[\"INDEX_YEAR\",\"INDEX_AGE\",\"ENC_12M_BF\",\"LABEL\",\"MED_PRESCR\",\"COUNT_NDC_CODES\",\"UNIQUE_NDC_CODES\",\"METFORMIN_HYDROCHLORIDE\",\"INSULIN_GLARGINE\"],\"tags\":[[[\"index\",\"index\",null]]]},\"id\":\"44130\",\"type\":\"FactorRange\"},{\"attributes\":{\"fill_color\":{\"field\":\"zvalues\",\"transform\":{\"id\":\"44168\"}},\"height\":{\"value\":1},\"line_color\":{\"value\":\"white\"},\"line_width\":{\"value\":2},\"width\":{\"value\":1},\"x\":{\"field\":\"columns\"},\"y\":{\"field\":\"index\"}},\"id\":\"44172\",\"type\":\"Rect\"},{\"attributes\":{},\"id\":\"44139\",\"type\":\"CategoricalScale\"},{\"attributes\":{\"axis\":{\"id\":\"44144\"},\"dimension\":1,\"ticker\":{\"id\":\"44145\"}},\"id\":\"44146\",\"type\":\"Grid\"},{\"attributes\":{\"data_source\":{\"id\":\"44169\"},\"glyph\":{\"id\":\"44172\"},\"hover_glyph\":null,\"muted_glyph\":null,\"nonselection_glyph\":{\"id\":\"44173\"},\"selection_glyph\":{\"id\":\"44178\"},\"view\":{\"id\":\"44175\"}},\"id\":\"44174\",\"type\":\"GlyphRenderer\"},{\"attributes\":{},\"id\":\"44188\",\"type\":\"NoOverlap\"},{\"attributes\":{\"factors\":[\"INDEX_YEAR\",\"INDEX_AGE\",\"ENC_12M_BF\",\"LABEL\",\"MED_PRESCR\",\"COUNT_NDC_CODES\",\"UNIQUE_NDC_CODES\",\"METFORMIN_HYDROCHLORIDE\",\"INSULIN_GLARGINE\"],\"tags\":[[[\"columns\",\"columns\",null]]]},\"id\":\"44129\",\"type\":\"FactorRange\"},{\"attributes\":{\"data\":{\"columns\":[\"INDEX_YEAR\",\"INDEX_YEAR\",\"INDEX_YEAR\",\"INDEX_YEAR\",\"INDEX_YEAR\",\"INDEX_YEAR\",\"INDEX_YEAR\",\"INDEX_YEAR\",\"INDEX_YEAR\",\"INDEX_AGE\",\"INDEX_AGE\",\"INDEX_AGE\",\"INDEX_AGE\",\"INDEX_AGE\",\"INDEX_AGE\",\"INDEX_AGE\",\"INDEX_AGE\",\"INDEX_AGE\",\"ENC_12M_BF\",\"ENC_12M_BF\",\"ENC_12M_BF\",\"ENC_12M_BF\",\"ENC_12M_BF\",\"ENC_12M_BF\",\"ENC_12M_BF\",\"ENC_12M_BF\",\"ENC_12M_BF\",\"LABEL\",\"LABEL\",\"LABEL\",\"LABEL\",\"LABEL\",\"LABEL\",\"LABEL\",\"LABEL\",\"LABEL\",\"MED_PRESCR\",\"MED_PRESCR\",\"MED_PRESCR\",\"MED_PRESCR\",\"MED_PRESCR\",\"MED_PRESCR\",\"MED_PRESCR\",\"MED_PRESCR\",\"MED_PRESCR\",\"COUNT_NDC_CODES\",\"COUNT_NDC_CODES\",\"COUNT_NDC_CODES\",\"COUNT_NDC_CODES\",\"COUNT_NDC_CODES\",\"COUNT_NDC_CODES\",\"COUNT_NDC_CODES\",\"COUNT_NDC_CODES\",\"COUNT_NDC_CODES\",\"UNIQUE_NDC_CODES\",\"UNIQUE_NDC_CODES\",\"UNIQUE_NDC_CODES\",\"UNIQUE_NDC_CODES\",\"UNIQUE_NDC_CODES\",\"UNIQUE_NDC_CODES\",\"UNIQUE_NDC_CODES\",\"UNIQUE_NDC_CODES\",\"UNIQUE_NDC_CODES\",\"METFORMIN_HYDROCHLORIDE\",\"METFORMIN_HYDROCHLORIDE\",\"METFORMIN_HYDROCHLORIDE\",\"METFORMIN_HYDROCHLORIDE\",\"METFORMIN_HYDROCHLORIDE\",\"METFORMIN_HYDROCHLORIDE\",\"METFORMIN_HYDROCHLORIDE\",\"METFORMIN_HYDROCHLORIDE\",\"METFORMIN_HYDROCHLORIDE\",\"INSULIN_GLARGINE\",\"INSULIN_GLARGINE\",\"INSULIN_GLARGINE\",\"INSULIN_GLARGINE\",\"INSULIN_GLARGINE\",\"INSULIN_GLARGINE\",\"INSULIN_GLARGINE\",\"INSULIN_GLARGINE\",\"INSULIN_GLARGINE\"],\"index\":[\"INDEX_YEAR\",\"INDEX_AGE\",\"ENC_12M_BF\",\"LABEL\",\"MED_PRESCR\",\"COUNT_NDC_CODES\",\"UNIQUE_NDC_CODES\",\"METFORMIN_HYDROCHLORIDE\",\"INSULIN_GLARGINE\",\"INDEX_YEAR\",\"INDEX_AGE\",\"ENC_12M_BF\",\"LABEL\",\"MED_PRESCR\",\"COUNT_NDC_CODES\",\"UNIQUE_NDC_CODES\",\"METFORMIN_HYDROCHLORIDE\",\"INSULIN_GLARGINE\",\"INDEX_YEAR\",\"INDEX_AGE\",\"ENC_12M_BF\",\"LABEL\",\"MED_PRESCR\",\"COUNT_NDC_CODES\",\"UNIQUE_NDC_CODES\",\"METFORMIN_HYDROCHLORIDE\",\"INSULIN_GLARGINE\",\"INDEX_YEAR\",\"INDEX_AGE\",\"ENC_12M_BF\",\"LABEL\",\"MED_PRESCR\",\"COUNT_NDC_CODES\",\"UNIQUE_NDC_CODES\",\"METFORMIN_HYDROCHLORIDE\",\"INSULIN_GLARGINE\",\"INDEX_YEAR\",\"INDEX_AGE\",\"ENC_12M_BF\",\"LABEL\",\"MED_PRESCR\",\"COUNT_NDC_CODES\",\"UNIQUE_NDC_CODES\",\"METFORMIN_HYDROCHLORIDE\",\"INSULIN_GLARGINE\",\"INDEX_YEAR\",\"INDEX_AGE\",\"ENC_12M_BF\",\"LABEL\",\"MED_PRESCR\",\"COUNT_NDC_CODES\",\"UNIQUE_NDC_CODES\",\"METFORMIN_HYDROCHLORIDE\",\"INSULIN_GLARGINE\",\"INDEX_YEAR\",\"INDEX_AGE\",\"ENC_12M_BF\",\"LABEL\",\"MED_PRESCR\",\"COUNT_NDC_CODES\",\"UNIQUE_NDC_CODES\",\"METFORMIN_HYDROCHLORIDE\",\"INSULIN_GLARGINE\",\"INDEX_YEAR\",\"INDEX_AGE\",\"ENC_12M_BF\",\"LABEL\",\"MED_PRESCR\",\"COUNT_NDC_CODES\",\"UNIQUE_NDC_CODES\",\"METFORMIN_HYDROCHLORIDE\",\"INSULIN_GLARGINE\",\"INDEX_YEAR\",\"INDEX_AGE\",\"ENC_12M_BF\",\"LABEL\",\"MED_PRESCR\",\"COUNT_NDC_CODES\",\"UNIQUE_NDC_CODES\",\"METFORMIN_HYDROCHLORIDE\",\"INSULIN_GLARGINE\"],\"value\":[\"1\",\"-0\",\"-0\",\"-0.25\",\"0.03\",\"-0.36\",\"-0.36\",\"0.06\",\"-0.05\",\"-0\",\"1\",\"-0.06\",\"0.08\",\"-0.06\",\"0.02\",\"0\",\"-0.1\",\"0.06\",\"-0\",\"-0.06\",\"1\",\"-0.02\",\"-0.06\",\"-0.05\",\"-0.05\",\"0.01\",\"-0.04\",\"-0.25\",\"0.08\",\"-0.02\",\"1\",\"0.13\",\"0.2\",\"0.23\",\"0.01\",\"0.1\",\"0.03\",\"-0.06\",\"-0.06\",\"0.13\",\"1\",\"-\",\"-\",\"-\",\"-\",\"-0.36\",\"0.02\",\"-0.05\",\"0.2\",\"-\",\"1\",\"0.72\",\"0.12\",\"0.2\",\"-0.36\",\"0\",\"-0.05\",\"0.23\",\"-\",\"0.72\",\"1\",\"0.13\",\"0.27\",\"0.06\",\"-0.1\",\"0.01\",\"0.01\",\"-\",\"0.12\",\"0.13\",\"1\",\"-0.06\",\"-0.05\",\"0.06\",\"-0.04\",\"0.1\",\"-\",\"0.2\",\"0.27\",\"-0.06\",\"1\"],\"zvalues\":{\"__ndarray__\":\"AAAAAAAA8D8AAAAAAAAAgAAAAAAAAACAAAAAAAAA0L+4HoXrUbiePwrXo3A9Cte/CtejcD0K17+4HoXrUbiuP5qZmZmZmam/AAAAAAAAAIAAAAAAAADwP7gehetRuK6/exSuR+F6tD+4HoXrUbiuv3sUrkfhepQ/AAAAAAAAAACamZmZmZm5v7gehetRuK4/AAAAAAAAAIC4HoXrUbiuvwAAAAAAAPA/exSuR+F6lL+4HoXrUbiuv5qZmZmZmam/mpmZmZmZqb97FK5H4XqEP3sUrkfheqS/AAAAAAAA0L97FK5H4Xq0P3sUrkfhepS/AAAAAAAA8D+kcD0K16PAP5qZmZmZmck/cT0K16NwzT97FK5H4XqEP5qZmZmZmbk/uB6F61G4nj+4HoXrUbiuv7gehetRuK6/pHA9CtejwD8AAAAAAADwPwAAAAAAAPh/AAAAAAAA+H8AAAAAAAD4fwAAAAAAAPh/CtejcD0K1797FK5H4XqUP5qZmZmZmam/mpmZmZmZyT8AAAAAAAD4fwAAAAAAAPA/CtejcD0K5z+4HoXrUbi+P5qZmZmZmck/CtejcD0K178AAAAAAAAAAJqZmZmZmam/cT0K16NwzT8AAAAAAAD4fwrXo3A9Cuc/AAAAAAAA8D+kcD0K16PAP0jhehSuR9E/uB6F61G4rj+amZmZmZm5v3sUrkfheoQ/exSuR+F6hD8AAAAAAAD4f7gehetRuL4/pHA9CtejwD8AAAAAAADwP7gehetRuK6/mpmZmZmZqb+4HoXrUbiuP3sUrkfheqS/mpmZmZmZuT8AAAAAAAD4f5qZmZmZmck/SOF6FK5H0T+4HoXrUbiuvwAAAAAAAPA/\",\"dtype\":\"float64\",\"order\":\"little\",\"shape\":[81]}},\"selected\":{\"id\":\"44170\"},\"selection_policy\":{\"id\":\"44196\"}},\"id\":\"44169\",\"type\":\"ColumnDataSource\"},{\"attributes\":{\"source\":{\"id\":\"44179\"}},\"id\":\"44185\",\"type\":\"CDSView\"},{\"attributes\":{\"axis_label\":\"\",\"formatter\":{\"id\":\"44164\"},\"major_label_policy\":{\"id\":\"44165\"},\"ticker\":{\"id\":\"44145\"}},\"id\":\"44144\",\"type\":\"CategoricalAxis\"},{\"attributes\":{\"angle\":{\"value\":0.0},\"fill_alpha\":{\"value\":1.0},\"fill_color\":{\"field\":\"zvalues\",\"transform\":{\"id\":\"44168\"}},\"hatch_alpha\":{\"value\":1.0},\"hatch_color\":{\"value\":\"black\"},\"hatch_scale\":{\"value\":12.0},\"hatch_weight\":{\"value\":1.0},\"height\":{\"value\":1},\"line_alpha\":{\"value\":1.0},\"line_cap\":{\"value\":\"butt\"},\"line_color\":{\"value\":\"white\"},\"line_dash\":{\"value\":[]},\"line_dash_offset\":{\"value\":0},\"line_join\":{\"value\":\"bevel\"},\"line_width\":{\"value\":2},\"width\":{\"value\":1},\"x\":{\"field\":\"columns\"},\"y\":{\"field\":\"index\"}},\"id\":\"44178\",\"type\":\"Rect\"},{\"attributes\":{\"axis_label\":\"\",\"formatter\":{\"id\":\"44161\"},\"major_label_orientation\":0.8726646259971648,\"major_label_policy\":{\"id\":\"44162\"},\"ticker\":{\"id\":\"44142\"}},\"id\":\"44141\",\"type\":\"CategoricalAxis\"},{\"attributes\":{\"data_source\":{\"id\":\"44179\"},\"glyph\":{\"id\":\"44182\"},\"hover_glyph\":null,\"muted_glyph\":null,\"nonselection_glyph\":{\"id\":\"44183\"},\"selection_glyph\":{\"id\":\"44186\"},\"view\":{\"id\":\"44185\"}},\"id\":\"44184\",\"type\":\"GlyphRenderer\"},{\"attributes\":{},\"id\":\"44137\",\"type\":\"CategoricalScale\"},{\"attributes\":{},\"id\":\"44147\",\"type\":\"SaveTool\"},{\"attributes\":{},\"id\":\"44142\",\"type\":\"CategoricalTicker\"},{\"attributes\":{\"overlay\":{\"id\":\"44152\"}},\"id\":\"44150\",\"type\":\"BoxZoomTool\"},{\"attributes\":{},\"id\":\"44161\",\"type\":\"CategoricalTickFormatter\"},{\"attributes\":{},\"id\":\"44151\",\"type\":\"ResetTool\"},{\"attributes\":{\"active_multi\":null,\"tools\":[{\"id\":\"44131\"},{\"id\":\"44147\"},{\"id\":\"44148\"},{\"id\":\"44149\"},{\"id\":\"44150\"},{\"id\":\"44151\"}]},\"id\":\"44153\",\"type\":\"Toolbar\"},{\"attributes\":{},\"id\":\"44180\",\"type\":\"Selection\"},{\"attributes\":{},\"id\":\"44149\",\"type\":\"WheelZoomTool\"},{\"attributes\":{},\"id\":\"44162\",\"type\":\"AllLabels\"},{\"attributes\":{\"fill_alpha\":{\"value\":0.1},\"fill_color\":{\"field\":\"zvalues\",\"transform\":{\"id\":\"44168\"}},\"height\":{\"value\":1},\"line_alpha\":{\"value\":0.1},\"line_color\":{\"value\":\"white\"},\"line_width\":{\"value\":2},\"width\":{\"value\":1},\"x\":{\"field\":\"columns\"},\"y\":{\"field\":\"index\"}},\"id\":\"44173\",\"type\":\"Rect\"},{\"attributes\":{},\"id\":\"44164\",\"type\":\"CategoricalTickFormatter\"},{\"attributes\":{\"margin\":[5,5,5,5],\"name\":\"HSpacer47047\",\"sizing_mode\":\"stretch_width\"},\"id\":\"44304\",\"type\":\"Spacer\"},{\"attributes\":{},\"id\":\"44165\",\"type\":\"AllLabels\"},{\"attributes\":{\"text\":{\"field\":\"value\"},\"text_align\":{\"value\":\"center\"},\"text_baseline\":{\"value\":\"middle\"},\"text_color\":{\"value\":\"black\"},\"x\":{\"field\":\"columns\"},\"y\":{\"field\":\"index\"}},\"id\":\"44182\",\"type\":\"Text\"},{\"attributes\":{\"margin\":[5,5,5,5],\"name\":\"HSpacer47046\",\"sizing_mode\":\"stretch_width\"},\"id\":\"44128\",\"type\":\"Spacer\"},{\"attributes\":{\"angle\":{\"value\":0},\"text\":{\"field\":\"value\"},\"text_align\":{\"value\":\"center\"},\"text_alpha\":{\"value\":1.0},\"text_baseline\":{\"value\":\"middle\"},\"text_color\":{\"value\":\"black\"},\"text_font_style\":{\"value\":\"normal\"},\"text_line_height\":{\"value\":1.2},\"x\":{\"field\":\"columns\"},\"x_offset\":{\"value\":0},\"y\":{\"field\":\"index\"},\"y_offset\":{\"value\":0}},\"id\":\"44186\",\"type\":\"Text\"},{\"attributes\":{},\"id\":\"44145\",\"type\":\"CategoricalTicker\"},{\"attributes\":{},\"id\":\"44196\",\"type\":\"UnionRenderers\"},{\"attributes\":{},\"id\":\"44170\",\"type\":\"Selection\"},{\"attributes\":{\"text_color\":\"black\",\"text_font_size\":\"12pt\"},\"id\":\"44133\",\"type\":\"Title\"},{\"attributes\":{\"axis\":{\"id\":\"44141\"},\"ticker\":{\"id\":\"44142\"}},\"id\":\"44143\",\"type\":\"Grid\"},{\"attributes\":{\"children\":[{\"id\":\"44128\"},{\"id\":\"44132\"},{\"id\":\"44304\"}],\"margin\":[0,0,0,0],\"name\":\"Row47042\",\"tags\":[\"embedded\"]},\"id\":\"44127\",\"type\":\"Row\"},{\"attributes\":{\"high\":1.0,\"low\":-0.36,\"nan_color\":\"white\",\"palette\":[\"#659a8f\",\"#669a8f\",\"#679b8f\",\"#679b8e\",\"#689b8e\",\"#699b8d\",\"#6a9c8d\",\"#6a9c8c\",\"#6b9c8c\",\"#6c9c8b\",\"#6c9c8b\",\"#6d9d8a\",\"#6e9d8a\",\"#6f9d89\",\"#6f9d89\",\"#709e88\",\"#719e88\",\"#729e88\",\"#729e87\",\"#739f87\",\"#749f86\",\"#759f86\",\"#759f85\",\"#769f85\",\"#77a084\",\"#78a084\",\"#78a084\",\"#79a083\",\"#7aa083\",\"#7ba182\",\"#7ca182\",\"#7ca181\",\"#7da181\",\"#7ea181\",\"#7fa280\",\"#80a280\",\"#81a27f\",\"#81a27f\",\"#82a27e\",\"#83a37e\",\"#84a37e\",\"#85a37d\",\"#86a37d\",\"#87a37c\",\"#87a37c\",\"#88a37c\",\"#89a47b\",\"#8aa47b\",\"#8ba47b\",\"#8ca47a\",\"#8da47a\",\"#8ea479\",\"#8fa479\",\"#90a579\",\"#91a578\",\"#92a578\",\"#93a578\",\"#94a577\",\"#95a577\",\"#96a577\",\"#97a576\",\"#98a576\",\"#99a676\",\"#9aa675\",\"#9ba675\",\"#9da675\",\"#9ea674\",\"#9fa674\",\"#a0a674\",\"#a1a674\",\"#a3a673\",\"#a4a673\",\"#a5a673\",\"#a6a673\",\"#a8a673\",\"#a9a672\",\"#aaa672\",\"#aca672\",\"#ada672\",\"#afa672\",\"#b0a571\",\"#b1a571\",\"#b3a571\",\"#b4a571\",\"#b5a571\",\"#b6a571\",\"#b7a570\",\"#b9a570\",\"#baa570\",\"#bba570\",\"#bca570\",\"#bda56f\",\"#bea56f\",\"#bfa56f\",\"#c0a56f\",\"#c1a56f\",\"#c2a56f\",\"#c3a56e\",\"#c4a66e\",\"#c5a66e\",\"#c5a66e\",\"#c6a66e\",\"#c7a66e\",\"#c8a66d\",\"#c8a66d\",\"#c9a66d\",\"#caa66d\",\"#cba76d\",\"#cba76d\",\"#cca76c\",\"#cca76c\",\"#cda76c\",\"#cea76c\",\"#cea86c\",\"#cfa86c\",\"#cfa86b\",\"#d0a86b\",\"#d0a86b\",\"#d0a96b\",\"#d1a96b\",\"#d1a96a\",\"#d2a96a\",\"#d2aa6a\",\"#d2aa6a\",\"#d3aa6a\",\"#d3aa6a\",\"#d3ab69\",\"#d3ab69\",\"#d3ab69\",\"#d4ac69\",\"#d4ac69\",\"#d4ac69\",\"#d4ad69\",\"#d4ad69\",\"#d5ad69\",\"#d5ae69\",\"#d5ae69\",\"#d5ae69\",\"#d5af69\",\"#d5af69\",\"#d6af69\",\"#d6b069\",\"#d6b069\",\"#d6b069\",\"#d6b06a\",\"#d6b16a\",\"#d6b16a\",\"#d7b16b\",\"#d7b26b\",\"#d7b26b\",\"#d7b26c\",\"#d7b36c\",\"#d7b36c\",\"#d7b36d\",\"#d7b46d\",\"#d7b46e\",\"#d8b46e\",\"#d8b56f\",\"#d8b570\",\"#d8b570\",\"#d8b671\",\"#d8b672\",\"#d8b672\",\"#d8b773\",\"#d8b774\",\"#d8b774\",\"#d8b875\",\"#d8b876\",\"#d8b877\",\"#d8b978\",\"#d8b979\",\"#d8b979\",\"#d8ba7a\",\"#d8ba7b\",\"#d8ba7c\",\"#d8bb7d\",\"#d8bb7e\",\"#d8bb7f\",\"#d8bc81\",\"#d8bc82\",\"#d8bc83\",\"#d8bd84\",\"#d8bd85\",\"#d8bd86\",\"#d8be87\",\"#d8be88\",\"#d8be89\",\"#d8bf8a\",\"#d8bf8b\",\"#d7bf8d\",\"#d7c08e\",\"#d7c08f\",\"#d7c090\",\"#d7c191\",\"#d7c192\",\"#d7c193\",\"#d7c294\",\"#d7c295\",\"#d7c296\",\"#d7c297\",\"#d7c398\",\"#d7c39a\",\"#d7c39b\",\"#d7c49c\",\"#d7c49d\",\"#d7c49e\",\"#d7c59f\",\"#d7c5a0\",\"#d7c5a1\",\"#d7c6a2\",\"#d7c6a3\",\"#d7c6a4\",\"#d7c7a5\",\"#d7c7a6\",\"#d7c7a8\",\"#d7c7a9\",\"#d7c8aa\",\"#d6c8ab\",\"#d6c8ac\",\"#d6c9ad\",\"#d6c9ae\",\"#d6c9af\",\"#d6cab0\",\"#d6cab1\",\"#d6cab2\",\"#d6cbb3\",\"#d6cbb4\",\"#d6cbb6\",\"#d6cbb7\",\"#d6ccb8\",\"#d6ccb9\",\"#d6ccba\",\"#d6cdbb\",\"#d6cdbc\",\"#d6cdbd\",\"#d5cebe\",\"#d5cebf\",\"#d5cec0\",\"#d5cfc1\",\"#d5cfc2\",\"#d5cfc4\",\"#d5cfc5\",\"#d5d0c6\",\"#d5d0c7\",\"#d5d0c8\",\"#d5d1c9\",\"#d5d1ca\",\"#d4d1cb\",\"#d4d2cc\",\"#d4d2cd\",\"#d4d2ce\",\"#d4d3cf\",\"#d4d3d1\",\"#d4d3d2\",\"#d4d3d3\",\"#d4d4d4\"]},\"id\":\"44168\",\"type\":\"LinearColorMapper\"}],\"root_ids\":[\"44127\"]},\"title\":\"Bokeh Application\",\"version\":\"2.3.3\"}};\n",
       "    var render_items = [{\"docid\":\"916ae5b1-cb04-49e4-96a4-e9dd97e923c3\",\"root_ids\":[\"44127\"],\"roots\":{\"44127\":\"46093f6e-9ad0-4b2f-aa0b-662ff7b6c6fc\"}}];\n",
       "    root.Bokeh.embed.embed_items_notebook(docs_json, render_items);\n",
       "  }\n",
       "  if (root.Bokeh !== undefined && root.Bokeh.Panel !== undefined) {\n",
       "    embed_document(root);\n",
       "  } else {\n",
       "    var attempts = 0;\n",
       "    var timer = setInterval(function(root) {\n",
       "      if (root.Bokeh !== undefined && root.Bokeh.Panel !== undefined) {\n",
       "        clearInterval(timer);\n",
       "        embed_document(root);\n",
       "      } else if (document.readyState == \"complete\") {\n",
       "        attempts++;\n",
       "        if (attempts > 200) {\n",
       "          clearInterval(timer);\n",
       "          console.log(\"Bokeh: ERROR: Unable to run BokehJS code because BokehJS library is missing\");\n",
       "        }\n",
       "      }\n",
       "    }, 25, root)\n",
       "  }\n",
       "})(window);</script>"
      ],
      "text/plain": [
       ":Overlay\n",
       "   .HeatMap.I :HeatMap   [columns,index]   (value)\n",
       "   .Labels.I  :Labels   [columns,index]   (value)"
      ]
     },
     "execution_count": 283,
     "metadata": {
      "application/vnd.holoviews_exec.v0+json": {
       "id": "44127"
      }
     },
     "output_type": "execute_result"
    }
   ],
   "source": [
    "cormat = round(cohort.select_dtypes(exclude=['bool']).corr(),2)\n",
    "heatmap =cormat.hvplot.heatmap(height=400, width=900,rot=50, grid=True, line_width=2,cmap='cet_linear_gow_60_85_c27') #cet_CET_L10\n",
    "heatmap * hv.Labels(heatmap)"
   ]
  },
  {
   "cell_type": "code",
   "execution_count": 284,
   "id": "6fef33a5",
   "metadata": {},
   "outputs": [
    {
     "data": {
      "text/html": [
       "<div>\n",
       "<style scoped>\n",
       "    .dataframe tbody tr th:only-of-type {\n",
       "        vertical-align: middle;\n",
       "    }\n",
       "\n",
       "    .dataframe tbody tr th {\n",
       "        vertical-align: top;\n",
       "    }\n",
       "\n",
       "    .dataframe thead th {\n",
       "        text-align: right;\n",
       "    }\n",
       "</style>\n",
       "<table border=\"1\" class=\"dataframe\">\n",
       "  <thead>\n",
       "    <tr style=\"text-align: right;\">\n",
       "      <th></th>\n",
       "      <th>INDEX_YEAR</th>\n",
       "      <th>INDEX_AGE</th>\n",
       "      <th>GENDER</th>\n",
       "      <th>RACE</th>\n",
       "      <th>T2D_STATUS</th>\n",
       "      <th>CARDIOVASCULAR</th>\n",
       "      <th>NEPHROPATHY</th>\n",
       "      <th>LIVER</th>\n",
       "      <th>ENC_12M_BF</th>\n",
       "      <th>LABEL</th>\n",
       "      <th>MED_PRESCR</th>\n",
       "      <th>COUNT_NDC_CODES</th>\n",
       "      <th>UNIQUE_NDC_CODES</th>\n",
       "      <th>METFORMIN_HYDROCHLORIDE</th>\n",
       "      <th>INSULIN_GLARGINE</th>\n",
       "    </tr>\n",
       "  </thead>\n",
       "  <tbody>\n",
       "    <tr>\n",
       "      <th>0</th>\n",
       "      <td>1996</td>\n",
       "      <td>76</td>\n",
       "      <td>F</td>\n",
       "      <td>BLCK</td>\n",
       "      <td>ICD2 Only</td>\n",
       "      <td>True</td>\n",
       "      <td>True</td>\n",
       "      <td>True</td>\n",
       "      <td>4</td>\n",
       "      <td>0</td>\n",
       "      <td>0.0</td>\n",
       "      <td>NaN</td>\n",
       "      <td>NaN</td>\n",
       "      <td>NaN</td>\n",
       "      <td>NaN</td>\n",
       "    </tr>\n",
       "    <tr>\n",
       "      <th>1</th>\n",
       "      <td>1995</td>\n",
       "      <td>71</td>\n",
       "      <td>M</td>\n",
       "      <td>BLCK</td>\n",
       "      <td>ICD2+A1C</td>\n",
       "      <td>True</td>\n",
       "      <td>True</td>\n",
       "      <td>True</td>\n",
       "      <td>0</td>\n",
       "      <td>1</td>\n",
       "      <td>1.0</td>\n",
       "      <td>1.0</td>\n",
       "      <td>1.0</td>\n",
       "      <td>0.0</td>\n",
       "      <td>0.0</td>\n",
       "    </tr>\n",
       "    <tr>\n",
       "      <th>2</th>\n",
       "      <td>2014</td>\n",
       "      <td>71</td>\n",
       "      <td>M</td>\n",
       "      <td>BLCK</td>\n",
       "      <td>ICD2 Only</td>\n",
       "      <td>True</td>\n",
       "      <td>True</td>\n",
       "      <td>True</td>\n",
       "      <td>93</td>\n",
       "      <td>0</td>\n",
       "      <td>0.0</td>\n",
       "      <td>NaN</td>\n",
       "      <td>NaN</td>\n",
       "      <td>NaN</td>\n",
       "      <td>NaN</td>\n",
       "    </tr>\n",
       "    <tr>\n",
       "      <th>3</th>\n",
       "      <td>2013</td>\n",
       "      <td>57</td>\n",
       "      <td>M</td>\n",
       "      <td>BLCK</td>\n",
       "      <td>A1C Only</td>\n",
       "      <td>True</td>\n",
       "      <td>True</td>\n",
       "      <td>True</td>\n",
       "      <td>4</td>\n",
       "      <td>0</td>\n",
       "      <td>0.0</td>\n",
       "      <td>NaN</td>\n",
       "      <td>NaN</td>\n",
       "      <td>NaN</td>\n",
       "      <td>NaN</td>\n",
       "    </tr>\n",
       "    <tr>\n",
       "      <th>4</th>\n",
       "      <td>2003</td>\n",
       "      <td>78</td>\n",
       "      <td>F</td>\n",
       "      <td>BLCK</td>\n",
       "      <td>ICD2 Only</td>\n",
       "      <td>True</td>\n",
       "      <td>True</td>\n",
       "      <td>True</td>\n",
       "      <td>155</td>\n",
       "      <td>1</td>\n",
       "      <td>0.0</td>\n",
       "      <td>NaN</td>\n",
       "      <td>NaN</td>\n",
       "      <td>NaN</td>\n",
       "      <td>NaN</td>\n",
       "    </tr>\n",
       "    <tr>\n",
       "      <th>...</th>\n",
       "      <td>...</td>\n",
       "      <td>...</td>\n",
       "      <td>...</td>\n",
       "      <td>...</td>\n",
       "      <td>...</td>\n",
       "      <td>...</td>\n",
       "      <td>...</td>\n",
       "      <td>...</td>\n",
       "      <td>...</td>\n",
       "      <td>...</td>\n",
       "      <td>...</td>\n",
       "      <td>...</td>\n",
       "      <td>...</td>\n",
       "      <td>...</td>\n",
       "      <td>...</td>\n",
       "    </tr>\n",
       "    <tr>\n",
       "      <th>77903</th>\n",
       "      <td>2013</td>\n",
       "      <td>65</td>\n",
       "      <td>M</td>\n",
       "      <td>UN</td>\n",
       "      <td>Meds Only</td>\n",
       "      <td>True</td>\n",
       "      <td>True</td>\n",
       "      <td>True</td>\n",
       "      <td>1</td>\n",
       "      <td>0</td>\n",
       "      <td>1.0</td>\n",
       "      <td>5.0</td>\n",
       "      <td>1.0</td>\n",
       "      <td>0.0</td>\n",
       "      <td>0.0</td>\n",
       "    </tr>\n",
       "    <tr>\n",
       "      <th>77904</th>\n",
       "      <td>2008</td>\n",
       "      <td>65</td>\n",
       "      <td>M</td>\n",
       "      <td>UN</td>\n",
       "      <td>ICD2 Only</td>\n",
       "      <td>True</td>\n",
       "      <td>True</td>\n",
       "      <td>True</td>\n",
       "      <td>0</td>\n",
       "      <td>1</td>\n",
       "      <td>0.0</td>\n",
       "      <td>NaN</td>\n",
       "      <td>NaN</td>\n",
       "      <td>NaN</td>\n",
       "      <td>NaN</td>\n",
       "    </tr>\n",
       "    <tr>\n",
       "      <th>77905</th>\n",
       "      <td>2013</td>\n",
       "      <td>63</td>\n",
       "      <td>F</td>\n",
       "      <td>WHITE</td>\n",
       "      <td>Meds Only</td>\n",
       "      <td>True</td>\n",
       "      <td>True</td>\n",
       "      <td>True</td>\n",
       "      <td>0</td>\n",
       "      <td>0</td>\n",
       "      <td>1.0</td>\n",
       "      <td>24.0</td>\n",
       "      <td>4.0</td>\n",
       "      <td>1.0</td>\n",
       "      <td>1.0</td>\n",
       "    </tr>\n",
       "    <tr>\n",
       "      <th>77906</th>\n",
       "      <td>2011</td>\n",
       "      <td>78</td>\n",
       "      <td>M</td>\n",
       "      <td>WHITE</td>\n",
       "      <td>ICD2 Only</td>\n",
       "      <td>True</td>\n",
       "      <td>True</td>\n",
       "      <td>True</td>\n",
       "      <td>1</td>\n",
       "      <td>0</td>\n",
       "      <td>0.0</td>\n",
       "      <td>NaN</td>\n",
       "      <td>NaN</td>\n",
       "      <td>NaN</td>\n",
       "      <td>NaN</td>\n",
       "    </tr>\n",
       "    <tr>\n",
       "      <th>77907</th>\n",
       "      <td>2013</td>\n",
       "      <td>45</td>\n",
       "      <td>F</td>\n",
       "      <td>UN</td>\n",
       "      <td>ICD2 Only</td>\n",
       "      <td>True</td>\n",
       "      <td>True</td>\n",
       "      <td>True</td>\n",
       "      <td>2</td>\n",
       "      <td>0</td>\n",
       "      <td>0.0</td>\n",
       "      <td>NaN</td>\n",
       "      <td>NaN</td>\n",
       "      <td>NaN</td>\n",
       "      <td>NaN</td>\n",
       "    </tr>\n",
       "  </tbody>\n",
       "</table>\n",
       "<p>77908 rows × 15 columns</p>\n",
       "</div>"
      ],
      "text/plain": [
       "       INDEX_YEAR  INDEX_AGE GENDER   RACE T2D_STATUS  CARDIOVASCULAR  \\\n",
       "0            1996         76      F   BLCK  ICD2 Only            True   \n",
       "1            1995         71      M   BLCK   ICD2+A1C            True   \n",
       "2            2014         71      M   BLCK  ICD2 Only            True   \n",
       "3            2013         57      M   BLCK   A1C Only            True   \n",
       "4            2003         78      F   BLCK  ICD2 Only            True   \n",
       "...           ...        ...    ...    ...        ...             ...   \n",
       "77903        2013         65      M     UN  Meds Only            True   \n",
       "77904        2008         65      M     UN  ICD2 Only            True   \n",
       "77905        2013         63      F  WHITE  Meds Only            True   \n",
       "77906        2011         78      M  WHITE  ICD2 Only            True   \n",
       "77907        2013         45      F     UN  ICD2 Only            True   \n",
       "\n",
       "       NEPHROPATHY  LIVER  ENC_12M_BF  LABEL  MED_PRESCR  COUNT_NDC_CODES  \\\n",
       "0             True   True           4      0         0.0              NaN   \n",
       "1             True   True           0      1         1.0              1.0   \n",
       "2             True   True          93      0         0.0              NaN   \n",
       "3             True   True           4      0         0.0              NaN   \n",
       "4             True   True         155      1         0.0              NaN   \n",
       "...            ...    ...         ...    ...         ...              ...   \n",
       "77903         True   True           1      0         1.0              5.0   \n",
       "77904         True   True           0      1         0.0              NaN   \n",
       "77905         True   True           0      0         1.0             24.0   \n",
       "77906         True   True           1      0         0.0              NaN   \n",
       "77907         True   True           2      0         0.0              NaN   \n",
       "\n",
       "       UNIQUE_NDC_CODES  METFORMIN_HYDROCHLORIDE  INSULIN_GLARGINE  \n",
       "0                   NaN                      NaN               NaN  \n",
       "1                   1.0                      0.0               0.0  \n",
       "2                   NaN                      NaN               NaN  \n",
       "3                   NaN                      NaN               NaN  \n",
       "4                   NaN                      NaN               NaN  \n",
       "...                 ...                      ...               ...  \n",
       "77903               1.0                      0.0               0.0  \n",
       "77904               NaN                      NaN               NaN  \n",
       "77905               4.0                      1.0               1.0  \n",
       "77906               NaN                      NaN               NaN  \n",
       "77907               NaN                      NaN               NaN  \n",
       "\n",
       "[77908 rows x 15 columns]"
      ]
     },
     "execution_count": 284,
     "metadata": {},
     "output_type": "execute_result"
    }
   ],
   "source": [
    "cohort"
   ]
  },
  {
   "cell_type": "markdown",
   "id": "6091a3e7",
   "metadata": {},
   "source": [
    "<h2>Comparing  subsets of Inpatients and Outpatients side-by-side</h2>\n",
    "\n",
    "Another way to get insights from the data is to use the comparison functionality to split final cohort into 2 sub-populations."
   ]
  },
  {
   "cell_type": "code",
   "execution_count": 228,
   "id": "fb57127f",
   "metadata": {},
   "outputs": [],
   "source": [
    "#Another way to get great insights is to use the comparison functionality to split your dataset into 2 sub-populations.\n",
    "#my_report = sv.compare_intra(cohort, cohort[\"LABEL\"] == 1, [\"Inpatients due to diabetes\", \"Outpatients\"])\n",
    "#my_report.show_notebook()"
   ]
  },
  {
   "cell_type": "markdown",
   "id": "2a644471",
   "metadata": {},
   "source": [
    "<h3>Numerical variables</h3>"
   ]
  },
  {
   "cell_type": "code",
   "execution_count": 229,
   "id": "3f4a102f",
   "metadata": {},
   "outputs": [
    {
     "data": {},
     "metadata": {},
     "output_type": "display_data"
    },
    {
     "data": {
      "application/vnd.holoviews_exec.v0+json": "",
      "text/html": [
       "<div id='26741'>\n",
       "\n",
       "\n",
       "\n",
       "\n",
       "\n",
       "  <div class=\"bk-root\" id=\"08959c57-b7b0-4c12-b34a-c6e8413657bf\" data-root-id=\"26741\"></div>\n",
       "</div>\n",
       "<script type=\"application/javascript\">(function(root) {\n",
       "  function embed_document(root) {\n",
       "    var docs_json = {\"fe404fb6-20d6-4e5e-a208-de76a9e7a223\":{\"defs\":[{\"extends\":null,\"module\":null,\"name\":\"ReactiveHTML1\",\"overrides\":[],\"properties\":[]},{\"extends\":null,\"module\":null,\"name\":\"FlexBox1\",\"overrides\":[],\"properties\":[{\"default\":\"flex-start\",\"kind\":null,\"name\":\"align_content\"},{\"default\":\"flex-start\",\"kind\":null,\"name\":\"align_items\"},{\"default\":\"row\",\"kind\":null,\"name\":\"flex_direction\"},{\"default\":\"wrap\",\"kind\":null,\"name\":\"flex_wrap\"},{\"default\":\"flex-start\",\"kind\":null,\"name\":\"justify_content\"}]},{\"extends\":null,\"module\":null,\"name\":\"TemplateActions1\",\"overrides\":[],\"properties\":[{\"default\":0,\"kind\":null,\"name\":\"open_modal\"},{\"default\":0,\"kind\":null,\"name\":\"close_modal\"}]},{\"extends\":null,\"module\":null,\"name\":\"MaterialTemplateActions1\",\"overrides\":[],\"properties\":[{\"default\":0,\"kind\":null,\"name\":\"open_modal\"},{\"default\":0,\"kind\":null,\"name\":\"close_modal\"}]}],\"roots\":{\"references\":[{\"attributes\":{\"data\":{\"x0\":[\"0\",\"1\"],\"x1\":[\"0\",\"1\"],\"y0\":[2015,2015],\"y1\":{\"__ndarray__\":\"AAAAAABwn0AAAAAAAGSfQA==\",\"dtype\":\"float64\",\"order\":\"little\",\"shape\":[2]}},\"selected\":{\"id\":\"26825\"},\"selection_policy\":{\"id\":\"26824\"}},\"id\":\"26780\",\"type\":\"ColumnDataSource\"},{\"attributes\":{},\"id\":\"26826\",\"type\":\"UnionRenderers\"},{\"attributes\":{\"active_multi\":null,\"tools\":[{\"id\":\"26761\"},{\"id\":\"26762\"},{\"id\":\"26763\"},{\"id\":\"26764\"},{\"id\":\"26765\"}]},\"id\":\"26767\",\"type\":\"Toolbar\"},{\"attributes\":{},\"id\":\"26827\",\"type\":\"Selection\"},{\"attributes\":{\"bottom_units\":\"screen\",\"fill_alpha\":0.5,\"fill_color\":\"lightgrey\",\"left_units\":\"screen\",\"level\":\"overlay\",\"line_alpha\":1.0,\"line_color\":\"black\",\"line_dash\":[4,4],\"line_width\":2,\"right_units\":\"screen\",\"syncable\":false,\"top_units\":\"screen\"},\"id\":\"26875\",\"type\":\"BoxAnnotation\"},{\"attributes\":{\"children\":[[{\"id\":\"26745\"},0,0],[{\"id\":\"26853\"},0,1],[{\"id\":\"27018\"},1,0],[{\"id\":\"27126\"},1,1],[{\"id\":\"27291\"},2,0],[{\"id\":\"27399\"},2,1]]},\"id\":\"27670\",\"type\":\"GridBox\"},{\"attributes\":{\"bottom\":{\"value\":0},\"fill_alpha\":{\"value\":1.0},\"fill_color\":{\"value\":\"#6BB6BC\"},\"hatch_alpha\":{\"value\":1.0},\"hatch_color\":{\"value\":\"black\"},\"hatch_scale\":{\"value\":12.0},\"hatch_weight\":{\"value\":1.0},\"left\":{\"field\":\"left\"},\"line_alpha\":{\"value\":1.0},\"line_cap\":{\"value\":\"butt\"},\"line_color\":{\"value\":\"black\"},\"line_dash\":{\"value\":[]},\"line_dash_offset\":{\"value\":0},\"line_join\":{\"value\":\"bevel\"},\"line_width\":{\"value\":1},\"right\":{\"field\":\"right\"},\"top\":{\"field\":\"top\"}},\"id\":\"27477\",\"type\":\"Quad\"},{\"attributes\":{\"source\":{\"id\":\"26910\"}},\"id\":\"26917\",\"type\":\"CDSView\"},{\"attributes\":{\"data\":{\"x0\":[[\"0\",-0.2],[\"1\",-0.2]],\"x1\":[[\"0\",0.2],[\"1\",0.2]],\"y0\":[85,85],\"y1\":[85,85]},\"selected\":{\"id\":\"27104\"},\"selection_policy\":{\"id\":\"27103\"}},\"id\":\"27074\",\"type\":\"ColumnDataSource\"},{\"attributes\":{\"bottom\":{\"value\":0},\"fill_alpha\":{\"value\":0.2},\"fill_color\":{\"value\":\"#6BB6BC\"},\"left\":{\"field\":\"left\"},\"line_alpha\":{\"value\":0.2},\"right\":{\"field\":\"right\"},\"top\":{\"field\":\"top\"}},\"id\":\"26915\",\"type\":\"Quad\"},{\"attributes\":{\"data\":{\"bottom\":{\"__ndarray__\":\"AAAAAABwn0AAAAAAAGSfQA==\",\"dtype\":\"float64\",\"order\":\"little\",\"shape\":[2]},\"index\":[\"0\",\"1\"],\"top\":{\"__ndarray__\":\"AAAAAABkn0AAAAAAAFyfQA==\",\"dtype\":\"float64\",\"order\":\"little\",\"shape\":[2]}},\"selected\":{\"id\":\"26833\"},\"selection_policy\":{\"id\":\"26832\"}},\"id\":\"26808\",\"type\":\"ColumnDataSource\"},{\"attributes\":{\"label\":{\"value\":\"1\"},\"renderers\":[{\"id\":\"26916\"}]},\"id\":\"26930\",\"type\":\"LegendItem\"},{\"attributes\":{\"data\":{\"bottom\":{\"__ndarray__\":\"AAAAAABkn0AAAAAAAFyfQA==\",\"dtype\":\"float64\",\"order\":\"little\",\"shape\":[2]},\"index\":[\"0\",\"1\"],\"top\":{\"__ndarray__\":\"AAAAAABcn0AAAAAAAFCfQA==\",\"dtype\":\"float64\",\"order\":\"little\",\"shape\":[2]}},\"selected\":{\"id\":\"27583\"},\"selection_policy\":{\"id\":\"27582\"}},\"id\":\"26837\",\"type\":\"ColumnDataSource\"},{\"attributes\":{},\"id\":\"26828\",\"type\":\"UnionRenderers\"},{\"attributes\":{\"angle\":{\"value\":0.0},\"fill_alpha\":{\"value\":1.0},\"fill_color\":{\"value\":\"black\"},\"hatch_alpha\":{\"value\":1.0},\"hatch_color\":{\"value\":\"black\"},\"hatch_scale\":{\"value\":12.0},\"hatch_weight\":{\"value\":1.0},\"line_alpha\":{\"value\":1.0},\"line_cap\":{\"value\":\"butt\"},\"line_color\":{\"value\":\"black\"},\"line_dash\":{\"value\":[]},\"line_dash_offset\":{\"value\":0},\"line_join\":{\"value\":\"bevel\"},\"line_width\":{\"value\":1},\"size\":{\"value\":4},\"x\":{\"field\":\"index\"},\"y\":{\"field\":\"INDEX_YEAR\"}},\"id\":\"26779\",\"type\":\"Circle\"},{\"attributes\":{\"bottom\":{\"value\":0},\"fill_alpha\":{\"value\":0.1},\"fill_color\":{\"value\":\"#6BB6BC\"},\"left\":{\"field\":\"left\"},\"line_alpha\":{\"value\":0.1},\"right\":{\"field\":\"right\"},\"top\":{\"field\":\"top\"}},\"id\":\"26914\",\"type\":\"Quad\"},{\"attributes\":{\"data_source\":{\"id\":\"26910\"},\"glyph\":{\"id\":\"26913\"},\"hover_glyph\":null,\"muted_glyph\":{\"id\":\"26915\"},\"nonselection_glyph\":{\"id\":\"26914\"},\"selection_glyph\":{\"id\":\"26931\"},\"view\":{\"id\":\"26917\"}},\"id\":\"26916\",\"type\":\"GlyphRenderer\"},{\"attributes\":{},\"id\":\"26829\",\"type\":\"Selection\"},{\"attributes\":{\"source\":{\"id\":\"26773\"}},\"id\":\"26778\",\"type\":\"CDSView\"},{\"attributes\":{\"bottom\":{\"field\":\"bottom\"},\"fill_alpha\":{\"value\":1.0},\"fill_color\":{\"value\":\"#6BB6BC\"},\"hatch_alpha\":{\"value\":1.0},\"hatch_color\":{\"value\":\"black\"},\"hatch_scale\":{\"value\":12.0},\"hatch_weight\":{\"value\":1.0},\"line_alpha\":{\"value\":1.0},\"line_cap\":{\"value\":\"butt\"},\"line_color\":{\"value\":\"black\"},\"line_dash\":{\"value\":[]},\"line_dash_offset\":{\"value\":0},\"line_join\":{\"value\":\"bevel\"},\"line_width\":{\"value\":1},\"top\":{\"field\":\"top\"},\"width\":{\"value\":0.7},\"x\":{\"field\":\"index\"}},\"id\":\"27109\",\"type\":\"VBar\"},{\"attributes\":{\"source\":{\"id\":\"27110\"}},\"id\":\"27115\",\"type\":\"CDSView\"},{\"attributes\":{\"bottom\":{\"field\":\"bottom\"},\"fill_alpha\":{\"value\":0.1},\"fill_color\":{\"value\":\"#6BB6BC\"},\"line_alpha\":{\"value\":0.1},\"top\":{\"field\":\"top\"},\"width\":{\"value\":0.7},\"x\":{\"field\":\"index\"}},\"id\":\"26811\",\"type\":\"VBar\"},{\"attributes\":{\"fill_color\":{\"value\":\"black\"},\"x\":{\"field\":\"index\"},\"y\":{\"field\":\"INDEX_YEAR\"}},\"id\":\"26775\",\"type\":\"Circle\"},{\"attributes\":{},\"id\":\"26830\",\"type\":\"UnionRenderers\"},{\"attributes\":{\"line_alpha\":{\"value\":1.0},\"line_cap\":{\"value\":\"butt\"},\"line_color\":{\"value\":\"black\"},\"line_dash\":{\"value\":[]},\"line_dash_offset\":{\"value\":0},\"line_join\":{\"value\":\"bevel\"},\"line_width\":{\"value\":1},\"x0\":{\"field\":\"x0\"},\"x1\":{\"field\":\"x1\"},\"y0\":{\"field\":\"y0\"},\"y1\":{\"field\":\"y1\"}},\"id\":\"26807\",\"type\":\"Segment\"},{\"attributes\":{\"data_source\":{\"id\":\"26773\"},\"glyph\":{\"id\":\"26775\"},\"hover_glyph\":null,\"muted_glyph\":null,\"nonselection_glyph\":{\"id\":\"26776\"},\"selection_glyph\":{\"id\":\"26779\"},\"view\":{\"id\":\"26778\"}},\"id\":\"26777\",\"type\":\"GlyphRenderer\"},{\"attributes\":{\"bottom\":{\"field\":\"bottom\"},\"fill_color\":{\"value\":\"#6BB6BC\"},\"top\":{\"field\":\"top\"},\"width\":{\"value\":0.7},\"x\":{\"field\":\"index\"}},\"id\":\"27112\",\"type\":\"VBar\"},{\"attributes\":{},\"id\":\"26831\",\"type\":\"Selection\"},{\"attributes\":{\"axis\":{\"id\":\"27139\"},\"dimension\":1,\"grid_line_color\":null,\"ticker\":null},\"id\":\"27142\",\"type\":\"Grid\"},{\"attributes\":{},\"id\":\"27582\",\"type\":\"UnionRenderers\"},{\"attributes\":{\"data\":{\"x0\":[[\"0\",-0.2],[\"1\",-0.2]],\"x1\":[[\"0\",0.2],[\"1\",0.2]],\"y0\":[2015,2015],\"y1\":[2015,2015]},\"selected\":{\"id\":\"26831\"},\"selection_policy\":{\"id\":\"26830\"}},\"id\":\"26801\",\"type\":\"ColumnDataSource\"},{\"attributes\":{\"active_multi\":null,\"tools\":[{\"id\":\"27124\"},{\"id\":\"27143\"},{\"id\":\"27144\"},{\"id\":\"27145\"},{\"id\":\"27146\"},{\"id\":\"27147\"}]},\"id\":\"27149\",\"type\":\"Toolbar\"},{\"attributes\":{},\"id\":\"26825\",\"type\":\"Selection\"},{\"attributes\":{\"line_alpha\":{\"value\":1.0},\"line_cap\":{\"value\":\"butt\"},\"line_color\":{\"value\":\"black\"},\"line_dash\":{\"value\":[]},\"line_dash_offset\":{\"value\":0},\"line_join\":{\"value\":\"bevel\"},\"line_width\":{\"value\":1},\"x0\":{\"field\":\"x0\"},\"x1\":{\"field\":\"x1\"},\"y0\":{\"field\":\"y0\"},\"y1\":{\"field\":\"y1\"}},\"id\":\"26793\",\"type\":\"Segment\"},{\"attributes\":{},\"id\":\"27583\",\"type\":\"Selection\"},{\"attributes\":{},\"id\":\"26883\",\"type\":\"BasicTickFormatter\"},{\"attributes\":{\"source\":{\"id\":\"26787\"}},\"id\":\"26792\",\"type\":\"CDSView\"},{\"attributes\":{},\"id\":\"26885\",\"type\":\"AllLabels\"},{\"attributes\":{\"line_alpha\":{\"value\":1.0},\"line_cap\":{\"value\":\"butt\"},\"line_color\":{\"value\":\"black\"},\"line_dash\":{\"value\":[]},\"line_dash_offset\":{\"value\":0},\"line_join\":{\"value\":\"bevel\"},\"line_width\":{\"value\":1},\"x0\":{\"field\":\"x0\"},\"x1\":{\"field\":\"x1\"},\"y0\":{\"field\":\"y0\"},\"y1\":{\"field\":\"y1\"}},\"id\":\"26800\",\"type\":\"Segment\"},{\"attributes\":{\"data\":{\"INDEX_AGE\":{\"__ndarray__\":\"zczMzMysM0BmZmZmZgY3QAAAAAAAYDpAmpmZmZm5PUCamZmZmYlAQGZmZmZmNkJANDMzMzPjQ0AAAAAAAJBFQM3MzMzMPEdAmpmZmZnpSEBmZmZmZpZKQDQzMzMzQ0xAAAAAAADwTUDOzMzMzJxPQM3MzMzMpFBAMzMzMzN7UUCamZmZmVFSQAAAAAAAKFNAZ2ZmZmb+U0DNzMzMzNRUQA==\",\"dtype\":\"float64\",\"order\":\"little\",\"shape\":[20]},\"INDEX_AGE_count\":[44,50,121,129,180,339,351,379,685,678,805,1194,941,837,1031,654,593,682,400,389],\"LABEL\":[1,1,1,1,1,1,1,1,1,1,1,1,1,1,1,1,1,1,1,1],\"left\":{\"__ndarray__\":\"AAAAAAAAMkCamZmZmVk1QDMzMzMzszhAzczMzMwMPEBmZmZmZmY/QAAAAAAAYEFAzczMzMwMQ0CamZmZmblEQGZmZmZmZkZANDMzMzMTSEAAAAAAAMBJQM3MzMzMbEtAmpmZmZkZTUBnZmZmZsZOQJqZmZmZOVBAAAAAAAAQUUBmZmZmZuZRQM3MzMzMvFJANDMzMzOTU0CamZmZmWlUQA==\",\"dtype\":\"float64\",\"order\":\"little\",\"shape\":[20]},\"right\":{\"__ndarray__\":\"mpmZmZlZNUAzMzMzM7M4QM3MzMzMDDxAZmZmZmZmP0AAAAAAAGBBQM3MzMzMDENAmpmZmZm5REBmZmZmZmZGQDQzMzMzE0hAAAAAAADASUDNzMzMzGxLQJqZmZmZGU1AZ2ZmZmbGTkCamZmZmTlQQAAAAAAAEFFAZmZmZmbmUUDNzMzMzLxSQDQzMzMzk1NAmpmZmZlpVEAAAAAAAEBVQA==\",\"dtype\":\"float64\",\"order\":\"little\",\"shape\":[20]},\"top\":[44,50,121,129,180,339,351,379,685,678,805,1194,941,837,1031,654,593,682,400,389]},\"selected\":{\"id\":\"27184\"},\"selection_policy\":{\"id\":\"27201\"}},\"id\":\"27183\",\"type\":\"ColumnDataSource\"},{\"attributes\":{},\"id\":\"26832\",\"type\":\"UnionRenderers\"},{\"attributes\":{\"data_source\":{\"id\":\"26801\"},\"glyph\":{\"id\":\"26803\"},\"hover_glyph\":null,\"muted_glyph\":null,\"nonselection_glyph\":{\"id\":\"26804\"},\"selection_glyph\":{\"id\":\"26807\"},\"view\":{\"id\":\"26806\"}},\"id\":\"26805\",\"type\":\"GlyphRenderer\"},{\"attributes\":{},\"id\":\"27131\",\"type\":\"LinearScale\"},{\"attributes\":{},\"id\":\"26890\",\"type\":\"Selection\"},{\"attributes\":{\"axis_label\":\"INDEX_AGE\",\"formatter\":{\"id\":\"27156\"},\"major_label_policy\":{\"id\":\"27158\"},\"ticker\":{\"id\":\"27136\"}},\"id\":\"27135\",\"type\":\"LinearAxis\"},{\"attributes\":{},\"id\":\"26833\",\"type\":\"Selection\"},{\"attributes\":{},\"id\":\"27143\",\"type\":\"SaveTool\"},{\"attributes\":{},\"id\":\"27145\",\"type\":\"WheelZoomTool\"},{\"attributes\":{\"toolbar\":{\"id\":\"27671\"},\"toolbar_location\":\"above\"},\"id\":\"27672\",\"type\":\"ToolbarBox\"},{\"attributes\":{\"bottom\":{\"value\":0},\"fill_color\":{\"value\":\"#DB9885\"},\"left\":{\"field\":\"left\"},\"right\":{\"field\":\"right\"},\"top\":{\"field\":\"top\"}},\"id\":\"26892\",\"type\":\"Quad\"},{\"attributes\":{\"overlay\":{\"id\":\"27148\"}},\"id\":\"27146\",\"type\":\"BoxZoomTool\"},{\"attributes\":{\"x0\":{\"field\":\"x0\"},\"x1\":{\"field\":\"x1\"},\"y0\":{\"field\":\"y0\"},\"y1\":{\"field\":\"y1\"}},\"id\":\"26803\",\"type\":\"Segment\"},{\"attributes\":{\"axis_label\":\"\",\"formatter\":{\"id\":\"27159\"},\"major_label_policy\":{\"id\":\"27161\"},\"ticker\":{\"id\":\"27140\"}},\"id\":\"27139\",\"type\":\"LinearAxis\"},{\"attributes\":{\"bottom\":{\"value\":0},\"fill_alpha\":{\"value\":0.1},\"fill_color\":{\"value\":\"#DB9885\"},\"left\":{\"field\":\"left\"},\"line_alpha\":{\"value\":0.1},\"right\":{\"field\":\"right\"},\"top\":{\"field\":\"top\"}},\"id\":\"27439\",\"type\":\"Quad\"},{\"attributes\":{},\"id\":\"26886\",\"type\":\"BasicTickFormatter\"},{\"attributes\":{\"bottom\":{\"field\":\"bottom\"},\"fill_alpha\":{\"value\":1.0},\"fill_color\":{\"value\":\"#6BB6BC\"},\"hatch_alpha\":{\"value\":1.0},\"hatch_color\":{\"value\":\"black\"},\"hatch_scale\":{\"value\":12.0},\"hatch_weight\":{\"value\":1.0},\"line_alpha\":{\"value\":1.0},\"line_cap\":{\"value\":\"butt\"},\"line_color\":{\"value\":\"black\"},\"line_dash\":{\"value\":[]},\"line_dash_offset\":{\"value\":0},\"line_join\":{\"value\":\"bevel\"},\"line_width\":{\"value\":1},\"top\":{\"field\":\"top\"},\"width\":{\"value\":0.7},\"x\":{\"field\":\"index\"}},\"id\":\"27116\",\"type\":\"VBar\"},{\"attributes\":{\"data_source\":{\"id\":\"27110\"},\"glyph\":{\"id\":\"27112\"},\"hover_glyph\":null,\"muted_glyph\":null,\"nonselection_glyph\":{\"id\":\"27113\"},\"selection_glyph\":{\"id\":\"27116\"},\"view\":{\"id\":\"27115\"}},\"id\":\"27114\",\"type\":\"GlyphRenderer\"},{\"attributes\":{},\"id\":\"26888\",\"type\":\"AllLabels\"},{\"attributes\":{\"text_color\":\"black\",\"text_font_size\":\"12pt\"},\"id\":\"27127\",\"type\":\"Title\"},{\"attributes\":{\"data\":{\"x0\":[[\"0\",-0.2],[\"1\",-0.2]],\"x1\":[[\"0\",0.2],[\"1\",0.2]],\"y0\":[18,22],\"y1\":[18,22]},\"selected\":{\"id\":\"27102\"},\"selection_policy\":{\"id\":\"27101\"}},\"id\":\"27067\",\"type\":\"ColumnDataSource\"},{\"attributes\":{\"click_policy\":\"mute\",\"items\":[{\"id\":\"26908\"},{\"id\":\"26930\"}],\"location\":[0,0],\"title\":\"LABEL\"},\"id\":\"26907\",\"type\":\"Legend\"},{\"attributes\":{\"source\":{\"id\":\"26801\"}},\"id\":\"26806\",\"type\":\"CDSView\"},{\"attributes\":{\"data\":{\"x0\":[\"0\",\"1\"],\"x1\":[\"0\",\"1\"],\"y0\":[18,22],\"y1\":{\"__ndarray__\":\"AAAAAAAAR0AAAAAAAABJQA==\",\"dtype\":\"float64\",\"order\":\"little\",\"shape\":[2]}},\"selected\":{\"id\":\"27100\"},\"selection_policy\":{\"id\":\"27099\"}},\"id\":\"27060\",\"type\":\"ColumnDataSource\"},{\"attributes\":{\"bottom\":{\"value\":0},\"fill_alpha\":{\"value\":0.1},\"fill_color\":{\"value\":\"#DB9885\"},\"left\":{\"field\":\"left\"},\"line_alpha\":{\"value\":0.1},\"right\":{\"field\":\"right\"},\"top\":{\"field\":\"top\"}},\"id\":\"26893\",\"type\":\"Quad\"},{\"attributes\":{},\"id\":\"27618\",\"type\":\"UnionRenderers\"},{\"attributes\":{\"label\":{\"value\":\"0\"},\"renderers\":[{\"id\":\"26895\"}]},\"id\":\"26908\",\"type\":\"LegendItem\"},{\"attributes\":{},\"id\":\"27133\",\"type\":\"LinearScale\"},{\"attributes\":{\"data_source\":{\"id\":\"26889\"},\"glyph\":{\"id\":\"26892\"},\"hover_glyph\":null,\"muted_glyph\":{\"id\":\"26894\"},\"nonselection_glyph\":{\"id\":\"26893\"},\"selection_glyph\":{\"id\":\"26909\"},\"view\":{\"id\":\"26896\"}},\"id\":\"26895\",\"type\":\"GlyphRenderer\"},{\"attributes\":{\"callback\":null,\"renderers\":[{\"id\":\"27168\"},{\"id\":\"27189\"}],\"tags\":[\"hv_created\"],\"tooltips\":[[\"LABEL\",\"@{LABEL}\"],[\"INDEX_AGE\",\"@{INDEX_AGE}\"],[\"Count\",\"@{INDEX_AGE_count}\"]]},\"id\":\"27124\",\"type\":\"HoverTool\"},{\"attributes\":{\"end\":8276.4,\"reset_end\":8276.4,\"reset_start\":0.0,\"tags\":[[[\"INDEX_AGE_count\",\"Count\",null]]]},\"id\":\"27123\",\"type\":\"Range1d\"},{\"attributes\":{},\"id\":\"27619\",\"type\":\"Selection\"},{\"attributes\":{\"fill_alpha\":{\"value\":0.1},\"fill_color\":{\"value\":\"black\"},\"line_alpha\":{\"value\":0.1},\"x\":{\"field\":\"index\"},\"y\":{\"field\":\"INDEX_YEAR\"}},\"id\":\"26776\",\"type\":\"Circle\"},{\"attributes\":{\"data_source\":{\"id\":\"26794\"},\"glyph\":{\"id\":\"26796\"},\"hover_glyph\":null,\"muted_glyph\":null,\"nonselection_glyph\":{\"id\":\"26797\"},\"selection_glyph\":{\"id\":\"26800\"},\"view\":{\"id\":\"26799\"}},\"id\":\"26798\",\"type\":\"GlyphRenderer\"},{\"attributes\":{\"bottom\":{\"value\":0},\"fill_alpha\":{\"value\":0.2},\"fill_color\":{\"value\":\"#DB9885\"},\"left\":{\"field\":\"left\"},\"line_alpha\":{\"value\":0.2},\"right\":{\"field\":\"right\"},\"top\":{\"field\":\"top\"}},\"id\":\"26894\",\"type\":\"Quad\"},{\"attributes\":{\"source\":{\"id\":\"26808\"}},\"id\":\"26813\",\"type\":\"CDSView\"},{\"attributes\":{\"fill_color\":{\"value\":\"black\"},\"x\":{\"field\":\"index\"},\"y\":{\"field\":\"INDEX_AGE\"}},\"id\":\"27048\",\"type\":\"Circle\"},{\"attributes\":{\"line_alpha\":{\"value\":0.1},\"x0\":{\"field\":\"x0\"},\"x1\":{\"field\":\"x1\"},\"y0\":{\"field\":\"y0\"},\"y1\":{\"field\":\"y1\"}},\"id\":\"26804\",\"type\":\"Segment\"},{\"attributes\":{},\"id\":\"27140\",\"type\":\"BasicTicker\"},{\"attributes\":{\"data_source\":{\"id\":\"26787\"},\"glyph\":{\"id\":\"26789\"},\"hover_glyph\":null,\"muted_glyph\":null,\"nonselection_glyph\":{\"id\":\"26790\"},\"selection_glyph\":{\"id\":\"26793\"},\"view\":{\"id\":\"26792\"}},\"id\":\"26791\",\"type\":\"GlyphRenderer\"},{\"attributes\":{},\"id\":\"27136\",\"type\":\"BasicTicker\"},{\"attributes\":{\"x0\":{\"field\":\"x0\"},\"x1\":{\"field\":\"x1\"},\"y0\":{\"field\":\"y0\"},\"y1\":{\"field\":\"y1\"}},\"id\":\"26796\",\"type\":\"Segment\"},{\"attributes\":{\"bottom\":{\"field\":\"bottom\"},\"fill_alpha\":{\"value\":0.1},\"fill_color\":{\"value\":\"#6BB6BC\"},\"line_alpha\":{\"value\":0.1},\"top\":{\"field\":\"top\"},\"width\":{\"value\":0.7},\"x\":{\"field\":\"index\"}},\"id\":\"27113\",\"type\":\"VBar\"},{\"attributes\":{\"bottom\":{\"field\":\"bottom\"},\"fill_color\":{\"value\":\"#6BB6BC\"},\"top\":{\"field\":\"top\"},\"width\":{\"value\":0.7},\"x\":{\"field\":\"index\"}},\"id\":\"26810\",\"type\":\"VBar\"},{\"attributes\":{\"source\":{\"id\":\"26889\"}},\"id\":\"26896\",\"type\":\"CDSView\"},{\"attributes\":{\"x0\":{\"field\":\"x0\"},\"x1\":{\"field\":\"x1\"},\"y0\":{\"field\":\"y0\"},\"y1\":{\"field\":\"y1\"}},\"id\":\"26789\",\"type\":\"Segment\"},{\"attributes\":{},\"id\":\"27147\",\"type\":\"ResetTool\"},{\"attributes\":{\"line_alpha\":{\"value\":0.1},\"x0\":{\"field\":\"x0\"},\"x1\":{\"field\":\"x1\"},\"y0\":{\"field\":\"y0\"},\"y1\":{\"field\":\"y1\"}},\"id\":\"26790\",\"type\":\"Segment\"},{\"attributes\":{},\"id\":\"27144\",\"type\":\"PanTool\"},{\"attributes\":{\"axis\":{\"id\":\"27135\"},\"grid_line_color\":null,\"ticker\":null},\"id\":\"27138\",\"type\":\"Grid\"},{\"attributes\":{\"source\":{\"id\":\"26794\"}},\"id\":\"26799\",\"type\":\"CDSView\"},{\"attributes\":{\"data\":{\"INDEX_AGE\":{\"__ndarray__\":\"zczMzMysM0BmZmZmZgY3QAAAAAAAYDpAmpmZmZm5PUCamZmZmYlAQGZmZmZmNkJANDMzMzPjQ0AAAAAAAJBFQM3MzMzMPEdAmpmZmZnpSEBmZmZmZpZKQDQzMzMzQ0xAAAAAAADwTUDOzMzMzJxPQM3MzMzMpFBAMzMzMzN7UUCamZmZmVFSQAAAAAAAKFNAZ2ZmZmb+U0DNzMzMzNRUQA==\",\"dtype\":\"float64\",\"order\":\"little\",\"shape\":[20]},\"INDEX_AGE_count\":[962,858,1542,1508,1732,2774,2560,3093,5110,4644,5401,7528,5707,5212,5329,3132,2808,3310,2066,2150],\"LABEL\":[0,0,0,0,0,0,0,0,0,0,0,0,0,0,0,0,0,0,0,0],\"left\":{\"__ndarray__\":\"AAAAAAAAMkCamZmZmVk1QDMzMzMzszhAzczMzMwMPEBmZmZmZmY/QAAAAAAAYEFAzczMzMwMQ0CamZmZmblEQGZmZmZmZkZANDMzMzMTSEAAAAAAAMBJQM3MzMzMbEtAmpmZmZkZTUBnZmZmZsZOQJqZmZmZOVBAAAAAAAAQUUBmZmZmZuZRQM3MzMzMvFJANDMzMzOTU0CamZmZmWlUQA==\",\"dtype\":\"float64\",\"order\":\"little\",\"shape\":[20]},\"right\":{\"__ndarray__\":\"mpmZmZlZNUAzMzMzM7M4QM3MzMzMDDxAZmZmZmZmP0AAAAAAAGBBQM3MzMzMDENAmpmZmZm5REBmZmZmZmZGQDQzMzMzE0hAAAAAAADASUDNzMzMzGxLQJqZmZmZGU1AZ2ZmZmbGTkCamZmZmTlQQAAAAAAAEFFAZmZmZmbmUUDNzMzMzLxSQDQzMzMzk1NAmpmZmZlpVEAAAAAAAEBVQA==\",\"dtype\":\"float64\",\"order\":\"little\",\"shape\":[20]},\"top\":[962,858,1542,1508,1732,2774,2560,3093,5110,4644,5401,7528,5707,5212,5329,3132,2808,3310,2066,2150]},\"selected\":{\"id\":\"27163\"},\"selection_policy\":{\"id\":\"27178\"}},\"id\":\"27162\",\"type\":\"ColumnDataSource\"},{\"attributes\":{\"line_alpha\":{\"value\":0.1},\"x0\":{\"field\":\"x0\"},\"x1\":{\"field\":\"x1\"},\"y0\":{\"field\":\"y0\"},\"y1\":{\"field\":\"y1\"}},\"id\":\"26797\",\"type\":\"Segment\"},{\"attributes\":{},\"id\":\"27654\",\"type\":\"UnionRenderers\"},{\"attributes\":{},\"id\":\"27655\",\"type\":\"Selection\"},{\"attributes\":{\"data_source\":{\"id\":\"26808\"},\"glyph\":{\"id\":\"26810\"},\"hover_glyph\":null,\"muted_glyph\":null,\"nonselection_glyph\":{\"id\":\"26811\"},\"selection_glyph\":{\"id\":\"26836\"},\"view\":{\"id\":\"26813\"}},\"id\":\"26812\",\"type\":\"GlyphRenderer\"},{\"attributes\":{\"data\":{\"INDEX_AGE\":[19,19,20,18,19,21,20,18,21,20,19,19,20,18,19,21,19,21,21,21,18,18,19,18,21,18,18,20,19,21,18,20,21,19,18,19,18,19,18,19,19,19,18,18],\"index\":[\"1\",\"1\",\"1\",\"1\",\"1\",\"1\",\"1\",\"1\",\"1\",\"1\",\"1\",\"1\",\"1\",\"1\",\"1\",\"1\",\"1\",\"1\",\"1\",\"1\",\"1\",\"1\",\"1\",\"1\",\"1\",\"1\",\"1\",\"1\",\"1\",\"1\",\"1\",\"1\",\"1\",\"1\",\"1\",\"1\",\"1\",\"1\",\"1\",\"1\",\"1\",\"1\",\"1\",\"1\"]},\"selected\":{\"id\":\"27096\"},\"selection_policy\":{\"id\":\"27095\"}},\"id\":\"27046\",\"type\":\"ColumnDataSource\"},{\"attributes\":{\"bottom_units\":\"screen\",\"fill_alpha\":0.5,\"fill_color\":\"lightgrey\",\"left_units\":\"screen\",\"level\":\"overlay\",\"line_alpha\":1.0,\"line_color\":\"black\",\"line_dash\":[4,4],\"line_width\":2,\"right_units\":\"screen\",\"syncable\":false,\"top_units\":\"screen\"},\"id\":\"27421\",\"type\":\"BoxAnnotation\"},{\"attributes\":{},\"id\":\"27101\",\"type\":\"UnionRenderers\"},{\"attributes\":{\"bottom_units\":\"screen\",\"fill_alpha\":0.5,\"fill_color\":\"lightgrey\",\"left_units\":\"screen\",\"level\":\"overlay\",\"line_alpha\":1.0,\"line_color\":\"black\",\"line_dash\":[4,4],\"line_width\":2,\"right_units\":\"screen\",\"syncable\":false,\"top_units\":\"screen\"},\"id\":\"27148\",\"type\":\"BoxAnnotation\"},{\"attributes\":{\"children\":[{\"id\":\"27672\"},{\"id\":\"27670\"}]},\"id\":\"27673\",\"type\":\"Column\"},{\"attributes\":{},\"id\":\"27102\",\"type\":\"Selection\"},{\"attributes\":{\"margin\":[5,5,5,5],\"name\":\"HSpacer29956\",\"sizing_mode\":\"stretch_width\"},\"id\":\"28592\",\"type\":\"Spacer\"},{\"attributes\":{\"data\":{\"INDEX_YEAR\":{\"__ndarray__\":\"AAAAAAAun0AAAAAAADKfQAAAAAAANp9AAAAAAAA6n0AAAAAAAD6fQAAAAAAAQp9AAAAAAABGn0AAAAAAAEqfQAAAAAAATp9AAAAAAABSn0AAAAAAAFafQAAAAAAAWp9AAAAAAABen0AAAAAAAGKfQAAAAAAAZp9AAAAAAABqn0AAAAAAAG6fQAAAAAAAcp9AAAAAAAB2n0AAAAAAAHqfQA==\",\"dtype\":\"float64\",\"order\":\"little\",\"shape\":[20]},\"INDEX_YEAR_count\":[117,258,275,314,250,454,1171,1140,1484,1477,5256,3716,5434,8035,6375,6307,5419,5050,6791,8103],\"LABEL\":[0,0,0,0,0,0,0,0,0,0,0,0,0,0,0,0,0,0,0,0],\"left\":{\"__ndarray__\":\"AAAAAAAsn0AAAAAAADCfQAAAAAAANJ9AAAAAAAA4n0AAAAAAADyfQAAAAAAAQJ9AAAAAAABEn0AAAAAAAEifQAAAAAAATJ9AAAAAAABQn0AAAAAAAFSfQAAAAAAAWJ9AAAAAAABcn0AAAAAAAGCfQAAAAAAAZJ9AAAAAAABon0AAAAAAAGyfQAAAAAAAcJ9AAAAAAAB0n0AAAAAAAHifQA==\",\"dtype\":\"float64\",\"order\":\"little\",\"shape\":[20]},\"right\":{\"__ndarray__\":\"AAAAAAAwn0AAAAAAADSfQAAAAAAAOJ9AAAAAAAA8n0AAAAAAAECfQAAAAAAARJ9AAAAAAABIn0AAAAAAAEyfQAAAAAAAUJ9AAAAAAABUn0AAAAAAAFifQAAAAAAAXJ9AAAAAAABgn0AAAAAAAGSfQAAAAAAAaJ9AAAAAAABsn0AAAAAAAHCfQAAAAAAAdJ9AAAAAAAB4n0AAAAAAAHyfQA==\",\"dtype\":\"float64\",\"order\":\"little\",\"shape\":[20]},\"top\":[117,258,275,314,250,454,1171,1140,1484,1477,5256,3716,5434,8035,6375,6307,5419,5050,6791,8103]},\"selected\":{\"id\":\"26890\"},\"selection_policy\":{\"id\":\"26905\"}},\"id\":\"26889\",\"type\":\"ColumnDataSource\"},{\"attributes\":{\"bottom\":{\"field\":\"bottom\"},\"fill_alpha\":{\"value\":1.0},\"fill_color\":{\"value\":\"#6BB6BC\"},\"hatch_alpha\":{\"value\":1.0},\"hatch_color\":{\"value\":\"black\"},\"hatch_scale\":{\"value\":12.0},\"hatch_weight\":{\"value\":1.0},\"line_alpha\":{\"value\":1.0},\"line_cap\":{\"value\":\"butt\"},\"line_color\":{\"value\":\"black\"},\"line_dash\":{\"value\":[]},\"line_dash_offset\":{\"value\":0},\"line_join\":{\"value\":\"bevel\"},\"line_width\":{\"value\":1},\"top\":{\"field\":\"top\"},\"width\":{\"value\":0.7},\"x\":{\"field\":\"index\"}},\"id\":\"27382\",\"type\":\"VBar\"},{\"attributes\":{},\"id\":\"27103\",\"type\":\"UnionRenderers\"},{\"attributes\":{\"source\":{\"id\":\"27383\"}},\"id\":\"27388\",\"type\":\"CDSView\"},{\"attributes\":{},\"id\":\"27104\",\"type\":\"Selection\"},{\"attributes\":{\"axis_label\":\"\",\"formatter\":{\"id\":\"26886\"},\"major_label_policy\":{\"id\":\"26888\"},\"ticker\":{\"id\":\"26867\"}},\"id\":\"26866\",\"type\":\"LinearAxis\"},{\"attributes\":{\"data\":{\"x0\":[\"0\",\"1\"],\"x1\":[\"0\",\"1\"],\"y0\":[2000,1997],\"y1\":{\"__ndarray__\":\"AAAAAABcn0AAAAAAAFCfQA==\",\"dtype\":\"float64\",\"order\":\"little\",\"shape\":[2]}},\"selected\":{\"id\":\"26827\"},\"selection_policy\":{\"id\":\"26826\"}},\"id\":\"26787\",\"type\":\"ColumnDataSource\"},{\"attributes\":{\"margin\":[5,5,5,5],\"name\":\"HSpacer29955\",\"sizing_mode\":\"stretch_width\"},\"id\":\"26742\",\"type\":\"Spacer\"},{\"attributes\":{},\"id\":\"27416\",\"type\":\"SaveTool\"},{\"attributes\":{},\"id\":\"27420\",\"type\":\"ResetTool\"},{\"attributes\":{\"items\":[]},\"id\":\"26834\",\"type\":\"Legend\"},{\"attributes\":{},\"id\":\"27429\",\"type\":\"BasicTickFormatter\"},{\"attributes\":{\"bottom\":{\"field\":\"bottom\"},\"fill_alpha\":{\"value\":1.0},\"fill_color\":{\"value\":\"#6BB6BC\"},\"hatch_alpha\":{\"value\":1.0},\"hatch_color\":{\"value\":\"black\"},\"hatch_scale\":{\"value\":12.0},\"hatch_weight\":{\"value\":1.0},\"line_alpha\":{\"value\":1.0},\"line_cap\":{\"value\":\"butt\"},\"line_color\":{\"value\":\"black\"},\"line_dash\":{\"value\":[]},\"line_dash_offset\":{\"value\":0},\"line_join\":{\"value\":\"bevel\"},\"line_width\":{\"value\":1},\"top\":{\"field\":\"top\"},\"width\":{\"value\":0.7},\"x\":{\"field\":\"index\"}},\"id\":\"26836\",\"type\":\"VBar\"},{\"attributes\":{\"bottom\":{\"field\":\"bottom\"},\"fill_color\":{\"value\":\"#6BB6BC\"},\"top\":{\"field\":\"top\"},\"width\":{\"value\":0.7},\"x\":{\"field\":\"index\"}},\"id\":\"27385\",\"type\":\"VBar\"},{\"attributes\":{\"source\":{\"id\":\"26837\"}},\"id\":\"26842\",\"type\":\"CDSView\"},{\"attributes\":{},\"id\":\"27431\",\"type\":\"AllLabels\"},{\"attributes\":{},\"id\":\"27156\",\"type\":\"BasicTickFormatter\"},{\"attributes\":{},\"id\":\"27404\",\"type\":\"LinearScale\"},{\"attributes\":{\"bottom\":{\"field\":\"bottom\"},\"fill_color\":{\"value\":\"#6BB6BC\"},\"top\":{\"field\":\"top\"},\"width\":{\"value\":0.7},\"x\":{\"field\":\"index\"}},\"id\":\"26839\",\"type\":\"VBar\"},{\"attributes\":{},\"id\":\"27105\",\"type\":\"UnionRenderers\"},{\"attributes\":{},\"id\":\"27158\",\"type\":\"AllLabels\"},{\"attributes\":{},\"id\":\"27436\",\"type\":\"Selection\"},{\"attributes\":{},\"id\":\"26872\",\"type\":\"WheelZoomTool\"},{\"attributes\":{},\"id\":\"27418\",\"type\":\"WheelZoomTool\"},{\"attributes\":{},\"id\":\"27106\",\"type\":\"Selection\"},{\"attributes\":{\"bottom\":{\"value\":0},\"fill_color\":{\"value\":\"#DB9885\"},\"left\":{\"field\":\"left\"},\"right\":{\"field\":\"right\"},\"top\":{\"field\":\"top\"}},\"id\":\"27438\",\"type\":\"Quad\"},{\"attributes\":{},\"id\":\"27163\",\"type\":\"Selection\"},{\"attributes\":{},\"id\":\"26858\",\"type\":\"LinearScale\"},{\"attributes\":{\"axis\":{\"id\":\"26862\"},\"grid_line_color\":null,\"ticker\":null},\"id\":\"26865\",\"type\":\"Grid\"},{\"attributes\":{\"axis\":{\"id\":\"27412\"},\"dimension\":1,\"grid_line_color\":null,\"ticker\":null},\"id\":\"27415\",\"type\":\"Grid\"},{\"attributes\":{\"bottom\":{\"value\":0},\"fill_color\":{\"value\":\"#DB9885\"},\"left\":{\"field\":\"left\"},\"right\":{\"field\":\"right\"},\"top\":{\"field\":\"top\"}},\"id\":\"27165\",\"type\":\"Quad\"},{\"attributes\":{\"bottom\":{\"field\":\"bottom\"},\"fill_alpha\":{\"value\":1.0},\"fill_color\":{\"value\":\"#6BB6BC\"},\"hatch_alpha\":{\"value\":1.0},\"hatch_color\":{\"value\":\"black\"},\"hatch_scale\":{\"value\":12.0},\"hatch_weight\":{\"value\":1.0},\"line_alpha\":{\"value\":1.0},\"line_cap\":{\"value\":\"butt\"},\"line_color\":{\"value\":\"black\"},\"line_dash\":{\"value\":[]},\"line_dash_offset\":{\"value\":0},\"line_join\":{\"value\":\"bevel\"},\"line_width\":{\"value\":1},\"top\":{\"field\":\"top\"},\"width\":{\"value\":0.7},\"x\":{\"field\":\"index\"}},\"id\":\"27389\",\"type\":\"VBar\"},{\"attributes\":{},\"id\":\"27432\",\"type\":\"BasicTickFormatter\"},{\"attributes\":{\"data_source\":{\"id\":\"27383\"},\"glyph\":{\"id\":\"27385\"},\"hover_glyph\":null,\"muted_glyph\":null,\"nonselection_glyph\":{\"id\":\"27386\"},\"selection_glyph\":{\"id\":\"27389\"},\"view\":{\"id\":\"27388\"}},\"id\":\"27387\",\"type\":\"GlyphRenderer\"},{\"attributes\":{},\"id\":\"27184\",\"type\":\"Selection\"},{\"attributes\":{},\"id\":\"27434\",\"type\":\"AllLabels\"},{\"attributes\":{},\"id\":\"27409\",\"type\":\"BasicTicker\"},{\"attributes\":{},\"id\":\"27159\",\"type\":\"BasicTickFormatter\"},{\"attributes\":{},\"id\":\"26911\",\"type\":\"Selection\"},{\"attributes\":{},\"id\":\"27161\",\"type\":\"AllLabels\"},{\"attributes\":{},\"id\":\"26860\",\"type\":\"LinearScale\"},{\"attributes\":{\"axis_label\":\"\",\"formatter\":{\"id\":\"27432\"},\"major_label_policy\":{\"id\":\"27434\"},\"ticker\":{\"id\":\"27413\"}},\"id\":\"27412\",\"type\":\"LinearAxis\"},{\"attributes\":{},\"id\":\"26863\",\"type\":\"BasicTicker\"},{\"attributes\":{\"bottom\":{\"value\":0},\"fill_color\":{\"value\":\"#6BB6BC\"},\"left\":{\"field\":\"left\"},\"right\":{\"field\":\"right\"},\"top\":{\"field\":\"top\"}},\"id\":\"26913\",\"type\":\"Quad\"},{\"attributes\":{},\"id\":\"26815\",\"type\":\"AllLabels\"},{\"attributes\":{},\"id\":\"26874\",\"type\":\"ResetTool\"},{\"attributes\":{\"below\":[{\"id\":\"27408\"}],\"center\":[{\"id\":\"27411\"},{\"id\":\"27415\"}],\"height\":300,\"left\":[{\"id\":\"27412\"}],\"margin\":null,\"min_border_bottom\":10,\"min_border_left\":10,\"min_border_right\":10,\"min_border_top\":10,\"renderers\":[{\"id\":\"27441\"},{\"id\":\"27462\"}],\"right\":[{\"id\":\"27453\"}],\"sizing_mode\":\"fixed\",\"title\":{\"id\":\"27400\"},\"toolbar\":{\"id\":\"27422\"},\"toolbar_location\":null,\"width\":450,\"x_range\":{\"id\":\"27290\"},\"x_scale\":{\"id\":\"27404\"},\"y_range\":{\"id\":\"27396\"},\"y_scale\":{\"id\":\"27406\"}},\"id\":\"27399\",\"subtype\":\"Figure\",\"type\":\"Plot\"},{\"attributes\":{\"bottom\":{\"value\":0},\"fill_alpha\":{\"value\":0.1},\"fill_color\":{\"value\":\"#DB9885\"},\"left\":{\"field\":\"left\"},\"line_alpha\":{\"value\":0.1},\"right\":{\"field\":\"right\"},\"top\":{\"field\":\"top\"}},\"id\":\"27166\",\"type\":\"Quad\"},{\"attributes\":{\"overlay\":{\"id\":\"26875\"}},\"id\":\"26873\",\"type\":\"BoxZoomTool\"},{\"attributes\":{\"end\":2017.0,\"reset_end\":2017.0,\"reset_start\":1993.0,\"start\":1993.0,\"tags\":[[[\"INDEX_YEAR\",\"INDEX_YEAR\",null]]]},\"id\":\"26744\",\"type\":\"Range1d\"},{\"attributes\":{\"axis_label\":\"ENC_12M_BF\",\"formatter\":{\"id\":\"27429\"},\"major_label_policy\":{\"id\":\"27431\"},\"ticker\":{\"id\":\"27409\"}},\"id\":\"27408\",\"type\":\"LinearAxis\"},{\"attributes\":{},\"id\":\"26817\",\"type\":\"CategoricalTickFormatter\"},{\"attributes\":{\"data_source\":{\"id\":\"27162\"},\"glyph\":{\"id\":\"27165\"},\"hover_glyph\":null,\"muted_glyph\":{\"id\":\"27167\"},\"nonselection_glyph\":{\"id\":\"27166\"},\"selection_glyph\":{\"id\":\"27182\"},\"view\":{\"id\":\"27169\"}},\"id\":\"27168\",\"type\":\"GlyphRenderer\"},{\"attributes\":{\"bottom\":{\"field\":\"bottom\"},\"fill_alpha\":{\"value\":1.0},\"fill_color\":{\"value\":\"#6BB6BC\"},\"hatch_alpha\":{\"value\":1.0},\"hatch_color\":{\"value\":\"black\"},\"hatch_scale\":{\"value\":12.0},\"hatch_weight\":{\"value\":1.0},\"line_alpha\":{\"value\":1.0},\"line_cap\":{\"value\":\"butt\"},\"line_color\":{\"value\":\"black\"},\"line_dash\":{\"value\":[]},\"line_dash_offset\":{\"value\":0},\"line_join\":{\"value\":\"bevel\"},\"line_width\":{\"value\":1},\"top\":{\"field\":\"top\"},\"width\":{\"value\":0.7},\"x\":{\"field\":\"index\"}},\"id\":\"26843\",\"type\":\"VBar\"},{\"attributes\":{\"data_source\":{\"id\":\"26837\"},\"glyph\":{\"id\":\"26839\"},\"hover_glyph\":null,\"muted_glyph\":null,\"nonselection_glyph\":{\"id\":\"26840\"},\"selection_glyph\":{\"id\":\"26843\"},\"view\":{\"id\":\"26842\"}},\"id\":\"26841\",\"type\":\"GlyphRenderer\"},{\"attributes\":{\"text_color\":\"black\",\"text_font_size\":\"12pt\"},\"id\":\"26854\",\"type\":\"Title\"},{\"attributes\":{},\"id\":\"26818\",\"type\":\"AllLabels\"},{\"attributes\":{\"bottom\":{\"value\":0},\"fill_alpha\":{\"value\":0.2},\"fill_color\":{\"value\":\"#DB9885\"},\"left\":{\"field\":\"left\"},\"line_alpha\":{\"value\":0.2},\"right\":{\"field\":\"right\"},\"top\":{\"field\":\"top\"}},\"id\":\"27167\",\"type\":\"Quad\"},{\"attributes\":{},\"id\":\"27406\",\"type\":\"LinearScale\"},{\"attributes\":{\"label\":{\"value\":\"0\"},\"renderers\":[{\"id\":\"27168\"}]},\"id\":\"27181\",\"type\":\"LegendItem\"},{\"attributes\":{},\"id\":\"27417\",\"type\":\"PanTool\"},{\"attributes\":{},\"id\":\"26820\",\"type\":\"BasicTickFormatter\"},{\"attributes\":{},\"id\":\"26871\",\"type\":\"PanTool\"},{\"attributes\":{\"bottom\":{\"field\":\"bottom\"},\"fill_alpha\":{\"value\":0.1},\"fill_color\":{\"value\":\"#6BB6BC\"},\"line_alpha\":{\"value\":0.1},\"top\":{\"field\":\"top\"},\"width\":{\"value\":0.7},\"x\":{\"field\":\"index\"}},\"id\":\"27386\",\"type\":\"VBar\"},{\"attributes\":{\"factors\":[\"0\",\"1\"],\"tags\":[[[\"LABEL\",\"LABEL\",null]]]},\"id\":\"26743\",\"type\":\"FactorRange\"},{\"attributes\":{\"callback\":null,\"renderers\":[{\"id\":\"26895\"},{\"id\":\"26916\"}],\"tags\":[\"hv_created\"],\"tooltips\":[[\"LABEL\",\"@{LABEL}\"],[\"INDEX_YEAR\",\"@{INDEX_YEAR}\"],[\"Count\",\"@{INDEX_YEAR_count}\"]]},\"id\":\"26851\",\"type\":\"HoverTool\"},{\"attributes\":{\"text_color\":\"black\",\"text_font_size\":\"12pt\"},\"id\":\"27400\",\"type\":\"Title\"},{\"attributes\":{\"data\":{\"x0\":[\"0\",\"1\"],\"x1\":[\"0\",\"1\"],\"y0\":[85,85],\"y1\":{\"__ndarray__\":\"AAAAAACAUEAAAAAAAEBRQA==\",\"dtype\":\"float64\",\"order\":\"little\",\"shape\":[2]}},\"selected\":{\"id\":\"27098\"},\"selection_policy\":{\"id\":\"27097\"}},\"id\":\"27053\",\"type\":\"ColumnDataSource\"},{\"attributes\":{},\"id\":\"27178\",\"type\":\"UnionRenderers\"},{\"attributes\":{\"source\":{\"id\":\"27162\"}},\"id\":\"27169\",\"type\":\"CDSView\"},{\"attributes\":{\"overlay\":{\"id\":\"27421\"}},\"id\":\"27419\",\"type\":\"BoxZoomTool\"},{\"attributes\":{},\"id\":\"27413\",\"type\":\"BasicTicker\"},{\"attributes\":{\"axis\":{\"id\":\"26866\"},\"dimension\":1,\"grid_line_color\":null,\"ticker\":null},\"id\":\"26869\",\"type\":\"Grid\"},{\"attributes\":{},\"id\":\"26870\",\"type\":\"SaveTool\"},{\"attributes\":{},\"id\":\"26822\",\"type\":\"UnionRenderers\"},{\"attributes\":{\"active_multi\":null,\"tools\":[{\"id\":\"27397\"},{\"id\":\"27416\"},{\"id\":\"27417\"},{\"id\":\"27418\"},{\"id\":\"27419\"},{\"id\":\"27420\"}]},\"id\":\"27422\",\"type\":\"Toolbar\"},{\"attributes\":{\"bottom\":{\"field\":\"bottom\"},\"fill_alpha\":{\"value\":0.1},\"fill_color\":{\"value\":\"#6BB6BC\"},\"line_alpha\":{\"value\":0.1},\"top\":{\"field\":\"top\"},\"width\":{\"value\":0.7},\"x\":{\"field\":\"index\"}},\"id\":\"26840\",\"type\":\"VBar\"},{\"attributes\":{\"data_source\":{\"id\":\"27435\"},\"glyph\":{\"id\":\"27438\"},\"hover_glyph\":null,\"muted_glyph\":{\"id\":\"27440\"},\"nonselection_glyph\":{\"id\":\"27439\"},\"selection_glyph\":{\"id\":\"27455\"},\"view\":{\"id\":\"27442\"}},\"id\":\"27441\",\"type\":\"GlyphRenderer\"},{\"attributes\":{},\"id\":\"26823\",\"type\":\"Selection\"},{\"attributes\":{\"axis\":{\"id\":\"27408\"},\"grid_line_color\":null,\"ticker\":null},\"id\":\"27411\",\"type\":\"Grid\"},{\"attributes\":{\"active_multi\":null,\"tools\":[{\"id\":\"26851\"},{\"id\":\"26870\"},{\"id\":\"26871\"},{\"id\":\"26872\"},{\"id\":\"26873\"},{\"id\":\"26874\"}]},\"id\":\"26876\",\"type\":\"Toolbar\"},{\"attributes\":{\"end\":8903.7,\"reset_end\":8903.7,\"reset_start\":0.0,\"tags\":[[[\"INDEX_YEAR_count\",\"Count\",null]]]},\"id\":\"26850\",\"type\":\"Range1d\"},{\"attributes\":{},\"id\":\"26867\",\"type\":\"BasicTicker\"},{\"attributes\":{\"label\":{\"value\":\"0\"},\"renderers\":[{\"id\":\"27441\"}]},\"id\":\"27454\",\"type\":\"LegendItem\"},{\"attributes\":{\"callback\":null,\"renderers\":[{\"id\":\"27441\"},{\"id\":\"27462\"}],\"tags\":[\"hv_created\"],\"tooltips\":[[\"LABEL\",\"@{LABEL}\"],[\"ENC_12M_BF\",\"@{ENC_12M_BF}\"],[\"Count\",\"@{ENC_12M_BF_count}\"]]},\"id\":\"27397\",\"type\":\"HoverTool\"},{\"attributes\":{\"axis_label\":\"INDEX_YEAR\",\"formatter\":{\"id\":\"26883\"},\"major_label_policy\":{\"id\":\"26885\"},\"ticker\":{\"id\":\"26863\"}},\"id\":\"26862\",\"type\":\"LinearAxis\"},{\"attributes\":{},\"id\":\"27451\",\"type\":\"UnionRenderers\"},{\"attributes\":{\"click_policy\":\"mute\",\"items\":[{\"id\":\"27454\"},{\"id\":\"27476\"}],\"location\":[0,0],\"title\":\"LABEL\"},\"id\":\"27453\",\"type\":\"Legend\"},{\"attributes\":{\"children\":[{\"id\":\"26742\"},{\"id\":\"27673\"},{\"id\":\"28592\"}],\"margin\":[0,0,0,0],\"name\":\"Row29951\",\"tags\":[\"embedded\"]},\"id\":\"26741\",\"type\":\"Row\"},{\"attributes\":{},\"id\":\"26824\",\"type\":\"UnionRenderers\"},{\"attributes\":{\"bottom\":{\"value\":0},\"fill_alpha\":{\"value\":1.0},\"fill_color\":{\"value\":\"#DB9885\"},\"hatch_alpha\":{\"value\":1.0},\"hatch_color\":{\"value\":\"black\"},\"hatch_scale\":{\"value\":12.0},\"hatch_weight\":{\"value\":1.0},\"left\":{\"field\":\"left\"},\"line_alpha\":{\"value\":1.0},\"line_cap\":{\"value\":\"butt\"},\"line_color\":{\"value\":\"black\"},\"line_dash\":{\"value\":[]},\"line_dash_offset\":{\"value\":0},\"line_join\":{\"value\":\"bevel\"},\"line_width\":{\"value\":1},\"right\":{\"field\":\"right\"},\"top\":{\"field\":\"top\"}},\"id\":\"26909\",\"type\":\"Quad\"},{\"attributes\":{\"source\":{\"id\":\"27435\"}},\"id\":\"27442\",\"type\":\"CDSView\"},{\"attributes\":{},\"id\":\"27368\",\"type\":\"UnionRenderers\"},{\"attributes\":{},\"id\":\"27366\",\"type\":\"BasicTickFormatter\"},{\"attributes\":{},\"id\":\"27363\",\"type\":\"CategoricalTickFormatter\"},{\"attributes\":{},\"id\":\"27364\",\"type\":\"AllLabels\"},{\"attributes\":{},\"id\":\"27361\",\"type\":\"AllLabels\"},{\"attributes\":{\"source\":{\"id\":\"27354\"}},\"id\":\"27359\",\"type\":\"CDSView\"},{\"attributes\":{},\"id\":\"26905\",\"type\":\"UnionRenderers\"},{\"attributes\":{\"data_source\":{\"id\":\"27456\"},\"glyph\":{\"id\":\"27459\"},\"hover_glyph\":null,\"muted_glyph\":{\"id\":\"27461\"},\"nonselection_glyph\":{\"id\":\"27460\"},\"selection_glyph\":{\"id\":\"27477\"},\"view\":{\"id\":\"27463\"}},\"id\":\"27462\",\"type\":\"GlyphRenderer\"},{\"attributes\":{\"bottom\":{\"value\":0},\"fill_alpha\":{\"value\":1.0},\"fill_color\":{\"value\":\"#DB9885\"},\"hatch_alpha\":{\"value\":1.0},\"hatch_color\":{\"value\":\"black\"},\"hatch_scale\":{\"value\":12.0},\"hatch_weight\":{\"value\":1.0},\"left\":{\"field\":\"left\"},\"line_alpha\":{\"value\":1.0},\"line_cap\":{\"value\":\"butt\"},\"line_color\":{\"value\":\"black\"},\"line_dash\":{\"value\":[]},\"line_dash_offset\":{\"value\":0},\"line_join\":{\"value\":\"bevel\"},\"line_width\":{\"value\":1},\"right\":{\"field\":\"right\"},\"top\":{\"field\":\"top\"}},\"id\":\"27455\",\"type\":\"Quad\"},{\"attributes\":{\"data_source\":{\"id\":\"27354\"},\"glyph\":{\"id\":\"27356\"},\"hover_glyph\":null,\"muted_glyph\":null,\"nonselection_glyph\":{\"id\":\"27357\"},\"selection_glyph\":{\"id\":\"27382\"},\"view\":{\"id\":\"27359\"}},\"id\":\"27358\",\"type\":\"GlyphRenderer\"},{\"attributes\":{\"bottom\":{\"value\":0},\"fill_alpha\":{\"value\":1.0},\"fill_color\":{\"value\":\"#DB9885\"},\"hatch_alpha\":{\"value\":1.0},\"hatch_color\":{\"value\":\"black\"},\"hatch_scale\":{\"value\":12.0},\"hatch_weight\":{\"value\":1.0},\"left\":{\"field\":\"left\"},\"line_alpha\":{\"value\":1.0},\"line_cap\":{\"value\":\"butt\"},\"line_color\":{\"value\":\"black\"},\"line_dash\":{\"value\":[]},\"line_dash_offset\":{\"value\":0},\"line_join\":{\"value\":\"bevel\"},\"line_width\":{\"value\":1},\"right\":{\"field\":\"right\"},\"top\":{\"field\":\"top\"}},\"id\":\"27182\",\"type\":\"Quad\"},{\"attributes\":{\"data_source\":{\"id\":\"27183\"},\"glyph\":{\"id\":\"27186\"},\"hover_glyph\":null,\"muted_glyph\":{\"id\":\"27188\"},\"nonselection_glyph\":{\"id\":\"27187\"},\"selection_glyph\":{\"id\":\"27204\"},\"view\":{\"id\":\"27190\"}},\"id\":\"27189\",\"type\":\"GlyphRenderer\"},{\"attributes\":{},\"id\":\"27369\",\"type\":\"Selection\"},{\"attributes\":{\"data\":{\"x0\":[[\"0\",-0.2],[\"1\",-0.2]],\"x1\":[[\"0\",0.2],[\"1\",0.2]],\"y0\":[0,0],\"y1\":[0,0]},\"selected\":{\"id\":\"27375\"},\"selection_policy\":{\"id\":\"27374\"}},\"id\":\"27340\",\"type\":\"ColumnDataSource\"},{\"attributes\":{\"source\":{\"id\":\"27456\"}},\"id\":\"27463\",\"type\":\"CDSView\"},{\"attributes\":{\"toolbars\":[{\"id\":\"26767\"},{\"id\":\"26876\"},{\"id\":\"27040\"},{\"id\":\"27149\"},{\"id\":\"27313\"},{\"id\":\"27422\"}],\"tools\":[{\"id\":\"26761\"},{\"id\":\"26762\"},{\"id\":\"26763\"},{\"id\":\"26764\"},{\"id\":\"26765\"},{\"id\":\"26851\"},{\"id\":\"26870\"},{\"id\":\"26871\"},{\"id\":\"26872\"},{\"id\":\"26873\"},{\"id\":\"26874\"},{\"id\":\"27034\"},{\"id\":\"27035\"},{\"id\":\"27036\"},{\"id\":\"27037\"},{\"id\":\"27038\"},{\"id\":\"27124\"},{\"id\":\"27143\"},{\"id\":\"27144\"},{\"id\":\"27145\"},{\"id\":\"27146\"},{\"id\":\"27147\"},{\"id\":\"27307\"},{\"id\":\"27308\"},{\"id\":\"27309\"},{\"id\":\"27310\"},{\"id\":\"27311\"},{\"id\":\"27397\"},{\"id\":\"27416\"},{\"id\":\"27417\"},{\"id\":\"27418\"},{\"id\":\"27419\"},{\"id\":\"27420\"}]},\"id\":\"27671\",\"type\":\"ProxyToolbar\"},{\"attributes\":{\"bottom\":{\"value\":0},\"fill_alpha\":{\"value\":0.1},\"fill_color\":{\"value\":\"#6BB6BC\"},\"left\":{\"field\":\"left\"},\"line_alpha\":{\"value\":0.1},\"right\":{\"field\":\"right\"},\"top\":{\"field\":\"top\"}},\"id\":\"27460\",\"type\":\"Quad\"},{\"attributes\":{\"source\":{\"id\":\"27183\"}},\"id\":\"27190\",\"type\":\"CDSView\"},{\"attributes\":{\"bottom\":{\"value\":0},\"fill_color\":{\"value\":\"#6BB6BC\"},\"left\":{\"field\":\"left\"},\"right\":{\"field\":\"right\"},\"top\":{\"field\":\"top\"}},\"id\":\"27459\",\"type\":\"Quad\"},{\"attributes\":{\"label\":{\"value\":\"1\"},\"renderers\":[{\"id\":\"27462\"}]},\"id\":\"27476\",\"type\":\"LegendItem\"},{\"attributes\":{\"bottom\":{\"field\":\"bottom\"},\"fill_alpha\":{\"value\":0.1},\"fill_color\":{\"value\":\"#6BB6BC\"},\"line_alpha\":{\"value\":0.1},\"top\":{\"field\":\"top\"},\"width\":{\"value\":0.7},\"x\":{\"field\":\"index\"}},\"id\":\"27357\",\"type\":\"VBar\"},{\"attributes\":{\"bottom\":{\"value\":0},\"fill_alpha\":{\"value\":0.2},\"fill_color\":{\"value\":\"#6BB6BC\"},\"left\":{\"field\":\"left\"},\"line_alpha\":{\"value\":0.2},\"right\":{\"field\":\"right\"},\"top\":{\"field\":\"top\"}},\"id\":\"27461\",\"type\":\"Quad\"},{\"attributes\":{\"bottom\":{\"value\":0},\"fill_alpha\":{\"value\":0.1},\"fill_color\":{\"value\":\"#6BB6BC\"},\"left\":{\"field\":\"left\"},\"line_alpha\":{\"value\":0.1},\"right\":{\"field\":\"right\"},\"top\":{\"field\":\"top\"}},\"id\":\"27187\",\"type\":\"Quad\"},{\"attributes\":{\"bottom\":{\"value\":0},\"fill_color\":{\"value\":\"#6BB6BC\"},\"left\":{\"field\":\"left\"},\"right\":{\"field\":\"right\"},\"top\":{\"field\":\"top\"}},\"id\":\"27186\",\"type\":\"Quad\"},{\"attributes\":{\"label\":{\"value\":\"1\"},\"renderers\":[{\"id\":\"27189\"}]},\"id\":\"27203\",\"type\":\"LegendItem\"},{\"attributes\":{\"bottom\":{\"value\":0},\"fill_alpha\":{\"value\":0.2},\"fill_color\":{\"value\":\"#6BB6BC\"},\"left\":{\"field\":\"left\"},\"line_alpha\":{\"value\":0.2},\"right\":{\"field\":\"right\"},\"top\":{\"field\":\"top\"}},\"id\":\"27188\",\"type\":\"Quad\"},{\"attributes\":{},\"id\":\"27370\",\"type\":\"UnionRenderers\"},{\"attributes\":{},\"id\":\"27371\",\"type\":\"Selection\"},{\"attributes\":{},\"id\":\"27474\",\"type\":\"UnionRenderers\"},{\"attributes\":{},\"id\":\"27372\",\"type\":\"UnionRenderers\"},{\"attributes\":{},\"id\":\"27201\",\"type\":\"UnionRenderers\"},{\"attributes\":{},\"id\":\"27373\",\"type\":\"Selection\"},{\"attributes\":{},\"id\":\"26928\",\"type\":\"UnionRenderers\"},{\"attributes\":{},\"id\":\"27090\",\"type\":\"CategoricalTickFormatter\"},{\"attributes\":{\"axis\":{\"id\":\"26757\"},\"dimension\":1,\"grid_line_color\":null,\"ticker\":null},\"id\":\"26760\",\"type\":\"Grid\"},{\"attributes\":{\"bottom\":{\"field\":\"bottom\"},\"fill_color\":{\"value\":\"#6BB6BC\"},\"top\":{\"field\":\"top\"},\"width\":{\"value\":0.7},\"x\":{\"field\":\"index\"}},\"id\":\"27356\",\"type\":\"VBar\"},{\"attributes\":{\"data_source\":{\"id\":\"27347\"},\"glyph\":{\"id\":\"27349\"},\"hover_glyph\":null,\"muted_glyph\":null,\"nonselection_glyph\":{\"id\":\"27350\"},\"selection_glyph\":{\"id\":\"27353\"},\"view\":{\"id\":\"27352\"}},\"id\":\"27351\",\"type\":\"GlyphRenderer\"},{\"attributes\":{},\"id\":\"27374\",\"type\":\"UnionRenderers\"},{\"attributes\":{\"data_source\":{\"id\":\"27326\"},\"glyph\":{\"id\":\"27328\"},\"hover_glyph\":null,\"muted_glyph\":null,\"nonselection_glyph\":{\"id\":\"27329\"},\"selection_glyph\":{\"id\":\"27332\"},\"view\":{\"id\":\"27331\"}},\"id\":\"27330\",\"type\":\"GlyphRenderer\"},{\"attributes\":{},\"id\":\"27375\",\"type\":\"Selection\"},{\"attributes\":{\"bottom\":{\"value\":0},\"fill_alpha\":{\"value\":0.2},\"fill_color\":{\"value\":\"#DB9885\"},\"left\":{\"field\":\"left\"},\"line_alpha\":{\"value\":0.2},\"right\":{\"field\":\"right\"},\"top\":{\"field\":\"top\"}},\"id\":\"27440\",\"type\":\"Quad\"},{\"attributes\":{\"data_source\":{\"id\":\"27319\"},\"glyph\":{\"id\":\"27321\"},\"hover_glyph\":null,\"muted_glyph\":null,\"nonselection_glyph\":{\"id\":\"27322\"},\"selection_glyph\":{\"id\":\"27325\"},\"view\":{\"id\":\"27324\"}},\"id\":\"27323\",\"type\":\"GlyphRenderer\"},{\"attributes\":{\"bottom\":{\"value\":0},\"fill_alpha\":{\"value\":1.0},\"fill_color\":{\"value\":\"#6BB6BC\"},\"hatch_alpha\":{\"value\":1.0},\"hatch_color\":{\"value\":\"black\"},\"hatch_scale\":{\"value\":12.0},\"hatch_weight\":{\"value\":1.0},\"left\":{\"field\":\"left\"},\"line_alpha\":{\"value\":1.0},\"line_cap\":{\"value\":\"butt\"},\"line_color\":{\"value\":\"black\"},\"line_dash\":{\"value\":[]},\"line_dash_offset\":{\"value\":0},\"line_join\":{\"value\":\"bevel\"},\"line_width\":{\"value\":1},\"right\":{\"field\":\"right\"},\"top\":{\"field\":\"top\"}},\"id\":\"27204\",\"type\":\"Quad\"},{\"attributes\":{\"line_alpha\":{\"value\":0.1},\"x0\":{\"field\":\"x0\"},\"x1\":{\"field\":\"x1\"},\"y0\":{\"field\":\"y0\"},\"y1\":{\"field\":\"y1\"}},\"id\":\"27343\",\"type\":\"Segment\"},{\"attributes\":{},\"id\":\"27301\",\"type\":\"CategoricalTicker\"},{\"attributes\":{\"data_source\":{\"id\":\"27067\"},\"glyph\":{\"id\":\"27069\"},\"hover_glyph\":null,\"muted_glyph\":null,\"nonselection_glyph\":{\"id\":\"27070\"},\"selection_glyph\":{\"id\":\"27073\"},\"view\":{\"id\":\"27072\"}},\"id\":\"27071\",\"type\":\"GlyphRenderer\"},{\"attributes\":{\"data_source\":{\"id\":\"27060\"},\"glyph\":{\"id\":\"27062\"},\"hover_glyph\":null,\"muted_glyph\":null,\"nonselection_glyph\":{\"id\":\"27063\"},\"selection_glyph\":{\"id\":\"27066\"},\"view\":{\"id\":\"27065\"}},\"id\":\"27064\",\"type\":\"GlyphRenderer\"},{\"attributes\":{\"bottom\":{\"value\":0},\"fill_alpha\":{\"value\":1.0},\"fill_color\":{\"value\":\"#6BB6BC\"},\"hatch_alpha\":{\"value\":1.0},\"hatch_color\":{\"value\":\"black\"},\"hatch_scale\":{\"value\":12.0},\"hatch_weight\":{\"value\":1.0},\"left\":{\"field\":\"left\"},\"line_alpha\":{\"value\":1.0},\"line_cap\":{\"value\":\"butt\"},\"line_color\":{\"value\":\"black\"},\"line_dash\":{\"value\":[]},\"line_dash_offset\":{\"value\":0},\"line_join\":{\"value\":\"bevel\"},\"line_width\":{\"value\":1},\"right\":{\"field\":\"right\"},\"top\":{\"field\":\"top\"}},\"id\":\"26931\",\"type\":\"Quad\"},{\"attributes\":{\"items\":[]},\"id\":\"27380\",\"type\":\"Legend\"},{\"attributes\":{},\"id\":\"26755\",\"type\":\"CategoricalTicker\"},{\"attributes\":{},\"id\":\"27028\",\"type\":\"CategoricalTicker\"},{\"attributes\":{},\"id\":\"27376\",\"type\":\"UnionRenderers\"},{\"attributes\":{\"source\":{\"id\":\"27053\"}},\"id\":\"27058\",\"type\":\"CDSView\"},{\"attributes\":{},\"id\":\"26750\",\"type\":\"CategoricalScale\"},{\"attributes\":{\"data\":{\"bottom\":{\"__ndarray__\":\"AAAAAAAAAEAAAAAAAAAAQA==\",\"dtype\":\"float64\",\"order\":\"little\",\"shape\":[2]},\"index\":[\"0\",\"1\"],\"top\":{\"__ndarray__\":\"AAAAAAAAAAAAAAAAAAAAAA==\",\"dtype\":\"float64\",\"order\":\"little\",\"shape\":[2]}},\"selected\":{\"id\":\"27655\"},\"selection_policy\":{\"id\":\"27654\"}},\"id\":\"27383\",\"type\":\"ColumnDataSource\"},{\"attributes\":{\"x0\":{\"field\":\"x0\"},\"x1\":{\"field\":\"x1\"},\"y0\":{\"field\":\"y0\"},\"y1\":{\"field\":\"y1\"}},\"id\":\"27076\",\"type\":\"Segment\"},{\"attributes\":{},\"id\":\"27377\",\"type\":\"Selection\"},{\"attributes\":{\"text_color\":\"black\",\"text_font_size\":\"12pt\"},\"id\":\"27292\",\"type\":\"Title\"},{\"attributes\":{\"line_alpha\":{\"value\":1.0},\"line_cap\":{\"value\":\"butt\"},\"line_color\":{\"value\":\"black\"},\"line_dash\":{\"value\":[]},\"line_dash_offset\":{\"value\":0},\"line_join\":{\"value\":\"bevel\"},\"line_width\":{\"value\":1},\"x0\":{\"field\":\"x0\"},\"x1\":{\"field\":\"x1\"},\"y0\":{\"field\":\"y0\"},\"y1\":{\"field\":\"y1\"}},\"id\":\"27059\",\"type\":\"Segment\"},{\"attributes\":{\"x0\":{\"field\":\"x0\"},\"x1\":{\"field\":\"x1\"},\"y0\":{\"field\":\"y0\"},\"y1\":{\"field\":\"y1\"}},\"id\":\"27342\",\"type\":\"Segment\"},{\"attributes\":{\"below\":[{\"id\":\"27300\"}],\"center\":[{\"id\":\"27302\"},{\"id\":\"27306\"},{\"id\":\"27380\"}],\"height\":300,\"left\":[{\"id\":\"27303\"}],\"margin\":null,\"min_border_bottom\":10,\"min_border_left\":10,\"min_border_right\":10,\"min_border_top\":10,\"renderers\":[{\"id\":\"27323\"},{\"id\":\"27330\"},{\"id\":\"27337\"},{\"id\":\"27344\"},{\"id\":\"27351\"},{\"id\":\"27358\"},{\"id\":\"27387\"}],\"sizing_mode\":\"fixed\",\"title\":{\"id\":\"27292\"},\"toolbar\":{\"id\":\"27313\"},\"toolbar_location\":null,\"width\":450,\"x_range\":{\"id\":\"26743\"},\"x_scale\":{\"id\":\"27296\"},\"y_range\":{\"id\":\"27290\"},\"y_scale\":{\"id\":\"27298\"}},\"id\":\"27291\",\"subtype\":\"Figure\",\"type\":\"Plot\"},{\"attributes\":{\"data\":{\"bottom\":{\"__ndarray__\":\"AAAAAAAATEAAAAAAAIBNQA==\",\"dtype\":\"float64\",\"order\":\"little\",\"shape\":[2]},\"index\":[\"0\",\"1\"],\"top\":{\"__ndarray__\":\"AAAAAAAAR0AAAAAAAABJQA==\",\"dtype\":\"float64\",\"order\":\"little\",\"shape\":[2]}},\"selected\":{\"id\":\"27619\"},\"selection_policy\":{\"id\":\"27618\"}},\"id\":\"27110\",\"type\":\"ColumnDataSource\"},{\"attributes\":{\"data\":{\"x0\":[[\"0\",-0.2],[\"1\",-0.2]],\"x1\":[[\"0\",0.2],[\"1\",0.2]],\"y0\":[17,15],\"y1\":[17,15]},\"selected\":{\"id\":\"27377\"},\"selection_policy\":{\"id\":\"27376\"}},\"id\":\"27347\",\"type\":\"ColumnDataSource\"},{\"attributes\":{\"text_color\":\"black\",\"text_font_size\":\"12pt\"},\"id\":\"27019\",\"type\":\"Title\"},{\"attributes\":{\"data_source\":{\"id\":\"27333\"},\"glyph\":{\"id\":\"27335\"},\"hover_glyph\":null,\"muted_glyph\":null,\"nonselection_glyph\":{\"id\":\"27336\"},\"selection_glyph\":{\"id\":\"27339\"},\"view\":{\"id\":\"27338\"}},\"id\":\"27337\",\"type\":\"GlyphRenderer\"},{\"attributes\":{},\"id\":\"27296\",\"type\":\"CategoricalScale\"},{\"attributes\":{\"data\":{\"ENC_12M_BF\":{\"__ndarray__\":\"ZmZmZmYmIkCZmZmZmTk7QAAAAAAAsEZAMjMzMzPDT0AzMzMzM2tUQMzMzMzM9FhAZmZmZmZ+XUAAAAAAAARhQMzMzMzMSGNAmpmZmZmNZUBmZmZmZtJnQDIzMzMzF2pAAAAAAABcbEDMzMzMzKBuQMzMzMzMcnBAMzMzMzOVcUCZmZmZmbdyQAAAAAAA2nNAZmZmZmb8dEDMzMzMzB52QA==\",\"dtype\":\"float64\",\"order\":\"little\",\"shape\":[20]},\"ENC_12M_BF_count\":[59317,4238,1656,886,518,324,209,107,71,36,24,12,10,4,4,1,0,2,4,3],\"LABEL\":[0,0,0,0,0,0,0,0,0,0,0,0,0,0,0,0,0,0,0,0],\"left\":{\"__ndarray__\":\"AAAAAAAAAABmZmZmZiYyQGZmZmZmJkJAmZmZmZk5S0BmZmZmZiZSQAAAAAAAsFZAmZmZmZk5W0AyMzMzM8NfQGZmZmZmJmJAMzMzMzNrZEAAAAAAALBmQMzMzMzM9GhAmZmZmZk5a0BmZmZmZn5tQDIzMzMzw29AAAAAAAAEcUBmZmZmZiZyQMzMzMzMSHNAMzMzMzNrdECZmZmZmY11QA==\",\"dtype\":\"float64\",\"order\":\"little\",\"shape\":[20]},\"right\":{\"__ndarray__\":\"ZmZmZmYmMkBmZmZmZiZCQJmZmZmZOUtAZmZmZmYmUkAAAAAAALBWQJmZmZmZOVtAMjMzMzPDX0BmZmZmZiZiQDMzMzMza2RAAAAAAACwZkDMzMzMzPRoQJmZmZmZOWtAZmZmZmZ+bUAyMzMzM8NvQAAAAAAABHFAZmZmZmYmckDMzMzMzEhzQDMzMzMza3RAmZmZmZmNdUAAAAAAALB2QA==\",\"dtype\":\"float64\",\"order\":\"little\",\"shape\":[20]},\"top\":[59317,4238,1656,886,518,324,209,107,71,36,24,12,10,4,4,1,0,2,4,3]},\"selected\":{\"id\":\"27436\"},\"selection_policy\":{\"id\":\"27451\"}},\"id\":\"27435\",\"type\":\"ColumnDataSource\"},{\"attributes\":{\"data_source\":{\"id\":\"27053\"},\"glyph\":{\"id\":\"27055\"},\"hover_glyph\":null,\"muted_glyph\":null,\"nonselection_glyph\":{\"id\":\"27056\"},\"selection_glyph\":{\"id\":\"27059\"},\"view\":{\"id\":\"27058\"}},\"id\":\"27057\",\"type\":\"GlyphRenderer\"},{\"attributes\":{\"below\":[{\"id\":\"26754\"}],\"center\":[{\"id\":\"26756\"},{\"id\":\"26760\"},{\"id\":\"26834\"}],\"height\":300,\"left\":[{\"id\":\"26757\"}],\"margin\":null,\"min_border_bottom\":10,\"min_border_left\":10,\"min_border_right\":10,\"min_border_top\":10,\"renderers\":[{\"id\":\"26777\"},{\"id\":\"26784\"},{\"id\":\"26791\"},{\"id\":\"26798\"},{\"id\":\"26805\"},{\"id\":\"26812\"},{\"id\":\"26841\"}],\"sizing_mode\":\"fixed\",\"title\":{\"id\":\"26746\"},\"toolbar\":{\"id\":\"26767\"},\"toolbar_location\":null,\"width\":450,\"x_range\":{\"id\":\"26743\"},\"x_scale\":{\"id\":\"26750\"},\"y_range\":{\"id\":\"26744\"},\"y_scale\":{\"id\":\"26752\"}},\"id\":\"26745\",\"subtype\":\"Figure\",\"type\":\"Plot\"},{\"attributes\":{},\"id\":\"27378\",\"type\":\"UnionRenderers\"},{\"attributes\":{\"end\":399.3,\"reset_end\":399.3,\"reset_start\":-36.300000000000004,\"start\":-36.300000000000004,\"tags\":[[[\"ENC_12M_BF\",\"ENC_12M_BF\",null]]]},\"id\":\"27290\",\"type\":\"Range1d\"},{\"attributes\":{\"data\":{\"ENC_12M_BF\":{\"__ndarray__\":\"ZmZmZmYmIkCZmZmZmTk7QAAAAAAAsEZAMjMzMzPDT0AzMzMzM2tUQMzMzMzM9FhAZmZmZmZ+XUAAAAAAAARhQMzMzMzMSGNAmpmZmZmNZUBmZmZmZtJnQDIzMzMzF2pAAAAAAABcbEDMzMzMzKBuQMzMzMzMcnBAMzMzMzOVcUCZmZmZmbdyQAAAAAAA2nNAZmZmZmb8dEDMzMzMzB52QA==\",\"dtype\":\"float64\",\"order\":\"little\",\"shape\":[20]},\"ENC_12M_BF_count\":[9402,594,239,114,55,27,19,10,8,5,2,1,1,0,1,1,2,0,0,1],\"LABEL\":[1,1,1,1,1,1,1,1,1,1,1,1,1,1,1,1,1,1,1,1],\"left\":{\"__ndarray__\":\"AAAAAAAAAABmZmZmZiYyQGZmZmZmJkJAmZmZmZk5S0BmZmZmZiZSQAAAAAAAsFZAmZmZmZk5W0AyMzMzM8NfQGZmZmZmJmJAMzMzMzNrZEAAAAAAALBmQMzMzMzM9GhAmZmZmZk5a0BmZmZmZn5tQDIzMzMzw29AAAAAAAAEcUBmZmZmZiZyQMzMzMzMSHNAMzMzMzNrdECZmZmZmY11QA==\",\"dtype\":\"float64\",\"order\":\"little\",\"shape\":[20]},\"right\":{\"__ndarray__\":\"ZmZmZmYmMkBmZmZmZiZCQJmZmZmZOUtAZmZmZmYmUkAAAAAAALBWQJmZmZmZOVtAMjMzMzPDX0BmZmZmZiZiQDMzMzMza2RAAAAAAACwZkDMzMzMzPRoQJmZmZmZOWtAZmZmZmZ+bUAyMzMzM8NvQAAAAAAABHFAZmZmZmYmckDMzMzMzEhzQDMzMzMza3RAmZmZmZmNdUAAAAAAALB2QA==\",\"dtype\":\"float64\",\"order\":\"little\",\"shape\":[20]},\"top\":[9402,594,239,114,55,27,19,10,8,5,2,1,1,0,1,1,2,0,0,1]},\"selected\":{\"id\":\"27457\"},\"selection_policy\":{\"id\":\"27474\"}},\"id\":\"27456\",\"type\":\"ColumnDataSource\"},{\"attributes\":{\"below\":[{\"id\":\"27027\"}],\"center\":[{\"id\":\"27029\"},{\"id\":\"27033\"},{\"id\":\"27107\"}],\"height\":300,\"left\":[{\"id\":\"27030\"}],\"margin\":null,\"min_border_bottom\":10,\"min_border_left\":10,\"min_border_right\":10,\"min_border_top\":10,\"renderers\":[{\"id\":\"27050\"},{\"id\":\"27057\"},{\"id\":\"27064\"},{\"id\":\"27071\"},{\"id\":\"27078\"},{\"id\":\"27085\"},{\"id\":\"27114\"}],\"sizing_mode\":\"fixed\",\"title\":{\"id\":\"27019\"},\"toolbar\":{\"id\":\"27040\"},\"toolbar_location\":null,\"width\":450,\"x_range\":{\"id\":\"26743\"},\"x_scale\":{\"id\":\"27023\"},\"y_range\":{\"id\":\"27017\"},\"y_scale\":{\"id\":\"27025\"}},\"id\":\"27018\",\"subtype\":\"Figure\",\"type\":\"Plot\"},{\"attributes\":{},\"id\":\"26763\",\"type\":\"WheelZoomTool\"},{\"attributes\":{\"data\":{\"bottom\":{\"__ndarray__\":\"AAAAAAAAHEAAAAAAAAAYQA==\",\"dtype\":\"float64\",\"order\":\"little\",\"shape\":[2]},\"index\":[\"0\",\"1\"],\"top\":{\"__ndarray__\":\"AAAAAAAAAEAAAAAAAAAAQA==\",\"dtype\":\"float64\",\"order\":\"little\",\"shape\":[2]}},\"selected\":{\"id\":\"27379\"},\"selection_policy\":{\"id\":\"27378\"}},\"id\":\"27354\",\"type\":\"ColumnDataSource\"},{\"attributes\":{\"data\":{\"x0\":[\"0\",\"1\"],\"x1\":[\"0\",\"1\"],\"y0\":[0,0],\"y1\":{\"__ndarray__\":\"AAAAAAAAAAAAAAAAAAAAAA==\",\"dtype\":\"float64\",\"order\":\"little\",\"shape\":[2]}},\"selected\":{\"id\":\"27373\"},\"selection_policy\":{\"id\":\"27372\"}},\"id\":\"27333\",\"type\":\"ColumnDataSource\"},{\"attributes\":{\"source\":{\"id\":\"27074\"}},\"id\":\"27079\",\"type\":\"CDSView\"},{\"attributes\":{},\"id\":\"27023\",\"type\":\"CategoricalScale\"},{\"attributes\":{},\"id\":\"27308\",\"type\":\"PanTool\"},{\"attributes\":{},\"id\":\"27379\",\"type\":\"Selection\"},{\"attributes\":{\"data\":{\"INDEX_YEAR\":{\"__ndarray__\":\"AAAAAAAun0AAAAAAADKfQAAAAAAANp9AAAAAAAA6n0AAAAAAAD6fQAAAAAAAQp9AAAAAAABGn0AAAAAAAEqfQAAAAAAATp9AAAAAAABSn0AAAAAAAFafQAAAAAAAWp9AAAAAAABen0AAAAAAAGKfQAAAAAAAZp9AAAAAAABqn0AAAAAAAG6fQAAAAAAAcp9AAAAAAAB2n0AAAAAAAHqfQA==\",\"dtype\":\"float64\",\"order\":\"little\",\"shape\":[20]},\"INDEX_YEAR_count\":[105,115,127,116,127,254,437,459,545,551,1359,884,1259,1348,951,740,500,327,182,96],\"LABEL\":[1,1,1,1,1,1,1,1,1,1,1,1,1,1,1,1,1,1,1,1],\"left\":{\"__ndarray__\":\"AAAAAAAsn0AAAAAAADCfQAAAAAAANJ9AAAAAAAA4n0AAAAAAADyfQAAAAAAAQJ9AAAAAAABEn0AAAAAAAEifQAAAAAAATJ9AAAAAAABQn0AAAAAAAFSfQAAAAAAAWJ9AAAAAAABcn0AAAAAAAGCfQAAAAAAAZJ9AAAAAAABon0AAAAAAAGyfQAAAAAAAcJ9AAAAAAAB0n0AAAAAAAHifQA==\",\"dtype\":\"float64\",\"order\":\"little\",\"shape\":[20]},\"right\":{\"__ndarray__\":\"AAAAAAAwn0AAAAAAADSfQAAAAAAAOJ9AAAAAAAA8n0AAAAAAAECfQAAAAAAARJ9AAAAAAABIn0AAAAAAAEyfQAAAAAAAUJ9AAAAAAABUn0AAAAAAAFifQAAAAAAAXJ9AAAAAAABgn0AAAAAAAGSfQAAAAAAAaJ9AAAAAAABsn0AAAAAAAHCfQAAAAAAAdJ9AAAAAAAB4n0AAAAAAAHyfQA==\",\"dtype\":\"float64\",\"order\":\"little\",\"shape\":[20]},\"top\":[105,115,127,116,127,254,437,459,545,551,1359,884,1259,1348,951,740,500,327,182,96]},\"selected\":{\"id\":\"26911\"},\"selection_policy\":{\"id\":\"26928\"}},\"id\":\"26910\",\"type\":\"ColumnDataSource\"},{\"attributes\":{},\"id\":\"27298\",\"type\":\"LinearScale\"},{\"attributes\":{\"bottom\":{\"field\":\"bottom\"},\"fill_alpha\":{\"value\":0.1},\"fill_color\":{\"value\":\"#6BB6BC\"},\"line_alpha\":{\"value\":0.1},\"top\":{\"field\":\"top\"},\"width\":{\"value\":0.7},\"x\":{\"field\":\"index\"}},\"id\":\"27084\",\"type\":\"VBar\"},{\"attributes\":{\"end\":91.7,\"reset_end\":91.7,\"reset_start\":11.3,\"start\":11.3,\"tags\":[[[\"INDEX_AGE\",\"INDEX_AGE\",null]]]},\"id\":\"27017\",\"type\":\"Range1d\"},{\"attributes\":{\"axis_label\":\"LABEL\",\"formatter\":{\"id\":\"27363\"},\"major_label_policy\":{\"id\":\"27361\"},\"ticker\":{\"id\":\"27301\"}},\"id\":\"27300\",\"type\":\"CategoricalAxis\"},{\"attributes\":{},\"id\":\"26758\",\"type\":\"BasicTicker\"},{\"attributes\":{\"axis_label\":\"ENC_12M_BF\",\"formatter\":{\"id\":\"27366\"},\"major_label_policy\":{\"id\":\"27364\"},\"ticker\":{\"id\":\"27304\"}},\"id\":\"27303\",\"type\":\"LinearAxis\"},{\"attributes\":{\"x0\":{\"field\":\"x0\"},\"x1\":{\"field\":\"x1\"},\"y0\":{\"field\":\"y0\"},\"y1\":{\"field\":\"y1\"}},\"id\":\"27055\",\"type\":\"Segment\"},{\"attributes\":{\"line_alpha\":{\"value\":1.0},\"line_cap\":{\"value\":\"butt\"},\"line_color\":{\"value\":\"black\"},\"line_dash\":{\"value\":[]},\"line_dash_offset\":{\"value\":0},\"line_join\":{\"value\":\"bevel\"},\"line_width\":{\"value\":1},\"x0\":{\"field\":\"x0\"},\"x1\":{\"field\":\"x1\"},\"y0\":{\"field\":\"y0\"},\"y1\":{\"field\":\"y1\"}},\"id\":\"27353\",\"type\":\"Segment\"},{\"attributes\":{\"axis\":{\"id\":\"27303\"},\"dimension\":1,\"grid_line_color\":null,\"ticker\":null},\"id\":\"27306\",\"type\":\"Grid\"},{\"attributes\":{\"angle\":{\"value\":0.0},\"fill_alpha\":{\"value\":1.0},\"fill_color\":{\"value\":\"black\"},\"hatch_alpha\":{\"value\":1.0},\"hatch_color\":{\"value\":\"black\"},\"hatch_scale\":{\"value\":12.0},\"hatch_weight\":{\"value\":1.0},\"line_alpha\":{\"value\":1.0},\"line_cap\":{\"value\":\"butt\"},\"line_color\":{\"value\":\"black\"},\"line_dash\":{\"value\":[]},\"line_dash_offset\":{\"value\":0},\"line_join\":{\"value\":\"bevel\"},\"line_width\":{\"value\":1},\"size\":{\"value\":4},\"x\":{\"field\":\"index\"},\"y\":{\"field\":\"ENC_12M_BF\"}},\"id\":\"27325\",\"type\":\"Circle\"},{\"attributes\":{},\"id\":\"27035\",\"type\":\"PanTool\"},{\"attributes\":{\"axis\":{\"id\":\"27300\"},\"grid_line_color\":null,\"ticker\":null},\"id\":\"27302\",\"type\":\"Grid\"},{\"attributes\":{},\"id\":\"27025\",\"type\":\"LinearScale\"},{\"attributes\":{\"data\":{\"ENC_12M_BF\":[93,48,29,23,84,36,35,51,28,20,24,67,20,30,49,80,102,100,51,82,110,104,28,25,25,78,26,110,21,36,83,18,117,54,40,67,27,255,47,42,30,58,21,52,27,19,24,44,42,46,46,84,21,28,27,18,25,26,80,44,231,84,35,18,23,52,25,22,34,59,20,45,51,18,19,21,162,24,20,20,32,73,38,34,57,49,81,18,24,29,27,27,21,24,139,88,64,59,62,52,190,54,21,36,106,49,67,36,59,105,20,22,153,21,35,92,33,23,28,21,58,61,23,40,40,69,18,40,30,31,41,18,161,25,53,31,42,21,33,133,52,132,40,20,87,29,67,28,138,47,29,23,20,55,26,19,65,30,39,108,51,67,25,54,142,20,20,27,33,113,20,37,62,38,58,28,25,212,77,77,99,55,25,35,171,34,39,111,19,67,37,38,19,24,77,56,92,42,18,19,65,113,30,67,24,94,74,37,28,20,78,92,35,19,175,51,20,73,23,19,21,24,89,21,49,28,30,78,34,50,37,153,48,25,53,41,49,18,24,21,154,30,69,31,34,68,24,117,80,187,42,47,29,50,53,32,32,19,83,58,26,31,47,18,26,19,171,61,104,92,77,88,35,31,58,89,19,34,21,47,27,83,78,94,37,84,39,62,42,55,40,112,31,30,87,30,84,60,20,51,47,71,34,28,74,56,139,50,220,62,24,23,36,67,65,20,20,27,53,33,54,108,48,46,28,38,31,55,32,35,32,25,124,23,32,18,24,30,21,81,67,65,40,74,78,29,41,170,24,37,22,72,57,21,22,39,29,33,39,29,43,66,37,33,67,54,36,198,35,28,40,133,45,24,19,47,22,23,38,56,55,63,39,20,31,20,36,23,26,29,24,88,20,22,22,27,132,78,66,19,22,141,95,22,129,91,18,52,38,218,45,21,58,80,73,22,97,19,47,35,25,21,22,30,25,29,25,29,74,110,33,41,23,18,19,34,23,79,44,28,19,68,87,22,65,27,32,52,95,38,21,42,38,29,26,23,18,31,19,48,27,43,19,29,36,24,49,18,33,122,65,18,27,19,38,101,94,30,24,37,18,41,49,19,40,21,24,22,27,32,57,75,54,30,28,22,24,22,56,56,107,25,94,118,21,31,23,59,49,20,120,51,33,50,74,22,24,57,18,19,20,38,36,20,21,27,43,29,48,51,52,182,64,18,19,27,112,80,41,28,62,340,82,41,34,65,46,28,87,80,65,18,34,22,34,39,111,22,26,22,37,24,40,99,20,104,25,18,61,19,87,39,33,23,29,64,58,25,19,36,22,59,94,23,26,31,45,24,27,29,21,18,32,18,18,30,62,37,22,89,30,46,26,18,33,54,55,23,24,114,30,70,38,91,26,76,41,52,22,26,44,37,29,26,41,50,28,48,18,39,32,20,20,29,27,43,31,69,38,18,107,82,19,20,25,32,30,26,22,60,34,20,22,24,24,18,62,30,75,19,253,40,33,38,62,45,69,25,22,76,21,18,23,56,22,19,52,28,21,64,26,72,32,27,72,19,26,24,89,46,47,59,23,18,36,52,64,76,22,32,71,46,30,24,86,74,27,41,31,133,39,20,55,25,23,31,85,35,26,21,30,32,66,104,30,46,18,43,55,40,18,35,61,34,30,19,28,153,21,22,39,24,28,18,64,20,67,29,47,22,69,42,27,40,34,87,53,19,50,24,70,39,54,75,32,39,20,22,28,127,45,103,22,37,42,35,121,70,49,58,18,32,32,78,21,33,66,52,22,22,62,54,36,54,31,221,38,25,45,48,47,28,78,67,23,26,31,19,117,164,27,25,151,20,74,107,35,34,69,31,60,34,31,49,28,18,77,64,41,29,70,41,66,30,33,62,135,35,63,19,19,50,66,33,34,53,24,36,28,32,20,18,159,29,24,31,22,27,43,29,194,75,35,34,30,62,22,20,57,25,35,74,26,26,18,129,22,30,48,62,35,23,44,41,18,35,88,19,70,23,46,21,117,28,24,33,42,78,28,122,36,29,41,18,47,37,42,21,21,30,53,19,25,106,132,38,67,78,56,147,23,42,47,26,30,45,78,31,25,32,39,38,19,40,20,24,27,23,143,48,22,19,40,19,48,43,21,49,50,57,44,53,22,95,108,53,77,19,21,35,28,24,19,26,21,19,22,30,113,34,29,45,32,22,30,23,38,18,148,22,58,154,20,84,72,39,24,69,30,70,121,27,25,22,21,20,25,74,111,18,31,61,65,32,32,110,44,52,20,19,20,18,28,31,35,20,39,18,94,66,41,19,19,50,33,21,36,27,22,84,23,83,19,123,29,32,33,137,62,20,23,50,19,114,22,99,50,106,110,53,31,19,21,124,64,22,25,21,44,59,30,20,18,19,124,28,99,19,137,45,22,97,41,68,154,48,20,24,31,103,32,18,46,18,104,20,39,102,21,114,33,32,19,23,19,19,55,21,59,42,67,44,24,22,121,102,20,20,88,44,37,20,59,52,41,89,62,89,70,54,31,27,74,41,86,39,21,29,73,27,21,88,31,24,78,50,87,22,20,34,20,20,105,153,86,104,157,89,23,21,19,49,70,32,109,28,18,68,35,147,23,37,74,63,89,60,50,36,63,32,74,29,81,36,20,91,34,21,21,52,57,20,56,27,98,19,101,94,82,46,23,58,53,42,35,35,35,41,42,80,28,47,94,38,34,59,33,28,48,101,46,49,91,88,29,24,30,33,32,92,40,34,44,70,30,19,39,24,26,183,54,31,111,22,42,123,58,42,118,101,28,138,19,24,19,26,19,20,74,21,35,41,22,20,21,19,22,90,69,51,21,94,52,62,18,37,19,114,25,70,20,54,92,67,64,20,32,19,40,41,34,22,19,48,36,38,125,26,31,21,50,70,98,94,67,79,19,76,39,26,65,27,18,45,25,46,64,73,71,18,33,86,28,76,98,34,18,22,29,37,52,79,26,45,19,22,22,40,48,22,26,74,21,19,46,38,20,42,33,26,96,27,21,39,88,51,51,40,42,19,28,26,22,74,106,25,28,85,42,18,28,20,22,30,40,43,93,19,58,48,47,38,29,134,146,22,258,20,24,45,52,39,74,51,71,20,19,20,19,124,87,86,92,23,21,40,54,26,39,73,60,58,167,53,26,18,46,40,23,42,18,45,20,18,33,114,23,44,25,25,54,33,27,30,60,31,24,28,19,22,21,29,23,21,29,28,22,71,26,25,19,18,23,19,22,31,113,18,71,44,22,29,101,40,47,37,25,20,65,78,28,24,46,20,33,24,27,22,37,28,48,23,18,47,18,99,29,136,82,34,28,24,32,18,35,23,47,18,63,86,46,56,20,62,48,46,30,51,19,100,34,26,37,20,60,56,44,25,40,37,27,48,94,52,37,40,34,21,155,42,29,33,56,105,23,124,32,21,18,23,28,56,28,22,25,48,21,52,20,27,51,39,117,24,22,62,19,18,61,47,23,20,28,37,20,20,45,119,58,23,50,27,56,40,25,20,25,109,32,19,73,38,21,47,22,116,34,160,78,22,50,62,47,43,18,31,32,29,21,45,20,19,30,33,38,32,20,38,141,23,34,27,27,22,101,30,19,21,70,26,39,24,45,81,22,33,34,21,27,29,39,21,27,45,150,20,38,79,59,30,18,24,53,31,21,119,29,21,27,68,33,22,79,28,39,45,101,20,142,141,26,33,76,67,22,27,65,54,36,64,30,153,121,23,52,80,25,26,18,32,82,43,21,70,37,41,77,58,51,23,19,75,166,37,32,41,27,18,30,36,22,76,41,22,20,87,27,29,30,18,20,23,39,20,19,35,46,31,19,35,19,23,57,51,27,29,55,25,87,28,103,157,75,59,32,19,20,40,30,19,68,35,50,18,51,53,25,31,175,28,23,43,107,39,41,21,58,47,52,130,32,31,28,132,28,38,54,29,39,61,24,47,21,62,32,50,93,41,28,51,21,23,23,63,39,68,19,67,21,53,85,29,41,24,36,29,31,48,20,113,18,33,58,23,110,51,21,18,18,24,24,91,50,39,97,48,45,45,44,77,67,24,49,23,65,27,35,21,28,43,182,53,85,26,19,29,96,23,32,98,19,23,63,23,40,19,43,51,20,40,94,18,19,29,32,49,30,62,26,36,50,62,109,31,31,25,119,136,83,18,71,41,31,61,34,52,24,19,30,67,22,44,41,73,40,41,27,56,34,18,19,24,124,49,36,18,37,24,66,22,32,175,32,24,43,66,53,23,64,36,56,19,41,29,81,170,22,82,97,19,25,21,18,26,27,118,78,32,78,33,34,23,23,35,43,54,58,41,145,96,43,182,30,18,53,23,36,29,115,23,45,112,66,19,21,72,66,39,71,72,34,69,69,26,44,24,56,22,35,43,23,29,18,92,91,21,79,24,18,24,22,52,18,73,41,29,53,21,24,24,20,59,79,82,26,39,37,46,23,29,37,30,20,58,33,68,25,55,37,61,26,26,20,33,23,159,49,29,37,23,52,34,18,35,18,26,50,52,159,184,35,51,76,20,30,93,20,102,87,42,19,24,45,35,35,50,77,37,27,18,33,100,31,22,18,23,31,24,111,66,18,88,19,56,79,61,54,31,37,26,102,19,53,18,36,40,61,55,18,36,58,47,19,25,26,18,200,28,35,32,31,33,34,25,22,198,20,24,147,102,81,20,142,18,19,95,22,46,24,22,41,69,31,42,20,48,40,55,18,23,114,39,27,67,120,72,50,55,49,28,77,24,21,21,26,21,24,35,53,32,32,53,97,32,52,98,37,81,49,39,28,70,20,49,50,41,29,19,66,42,124,22,28,32,44,114,37,27,40,19,63,64,21,62,56,21,19,36,19,23,67,28,96,102,19,23,43,58,18,26,29,50,29,73,32,37,26,101,20,33,21,30,20,24,19,24,37,24,18,29,111,32,42,123,46,47,62,39,25,158,19,64,21,60,41,98,19,28,29,55,40,26,89,20,103,21,18,24,136,25,56,31,22,36,44,47,20,140,42,44,28,22,38,101,25,121,42,101,28,123,31,95,23,27,54,23,178,47,54,19,20,85,89,19,50,60,37,22,24,30,159,59,51,106,68,26,26,60,28,23,43,34,21,18,19,37,39,28,18,37,21,34,20,109,43,40,45,36,21,101,45,48,90,70,160,34,21,56,18,25,19,35,18,83,38,27,30,25,27,90,32,76,68,38,52,19,55,32,20,25,103,24,62,43,60,24,100,21,22,21,19,18,22,24,18,98,154,44,165,28,26,28,18,22,26,19,23,20,68,18,31,37,54,34,22,102,27,20,78,37,20,95,47,18,57,21,122,29,45,31,114,33,53,18,226,27,133,29,24,153,28,39,84,110,20,18,24,46,35,27,25,26,22,25,21,18,42,33,19,56,30,20,22,36,89,20,28,22,29,21,48,19,129,58,36,113,41,35,18,38,22,30,67,21,21,18,21,19,19,30,48,79,87,37,27,25,30,24,74,75,32,96,23,34,18,58,67,66,95,112,35,52,26,27,31,68,27,28,22,39,43,22,23,20,86,37,80,18,24,80,26,45,19,113,32,26,44,62,44,28,39,20,40,20,44,22,19,30,19,37,29,22,23,19,24,19,29,28,159,89,21,26,22,19,59,25,28,26,27,20,45,23,52,46,18,22,142,26,34,88,79,50,35,63,38,34,25,40,83,20,63,20,46,101,66,19,81,18,91,31,59,57,40,22,75,22,72,34,113,84,99,26,24,21,21,32,21,24,23,19,96,19,43,28,99,29,35,68,58,55,18,21,28,68,86,31,36,39,26,22,28,21,25,26,51,22,35,19,88,41,152,27,32,85,35,18,55,19,62,82,27,55,18,21,20,36,23,54,42,24,21,26,18,24,28,27,50,44,48,18,38,21,23,60,92,25,28,38,57,20,21,35,25,20,21,32,20,23,96,61,41,28,21,28,49,25,46,30,20,19,40,20,18,20,31,136,42,21,27,22,22,71,30,43,35,149,26,26,22,28,28,29,71,66,19,39,22,19,30,45,54,25,20,44,20,43,27,60,18,20,23,28,21,32,38,36,32,37,22,50,20,23,18,39,82,18,22,67,93,19,59,65,20,33,131,41,44,22,27,28,146,105,26,42,47,25,21,22,46,18,32,83,27,32,76,22,33,36,47,22,91,23,98,22,27,98,22,31,18,37,44,21,72,23,23,22,56,188,32,46,21,27,26,112,121,36,31,19,21,44,60,74,49,35,26,49,20,88,36,20,96,28,24,41,84,31,51,22,19,18,27,70,20,92,21,39,27,36,21,28,19,82,48,23,49,27,74,49,24,23,74,58,44,25,26,26,68,33,35,35,29,41,30,31,26,18,22,21,20,35,55,19,22,19,19,25,24,45,24,22,24,54,37,22,18,22,61,29,41,24,27,52,76,32,59,64,54,24,42,87,22,31,58,82,30,25,28,18,51,38,35,79,20,20,97,21,39,59,28,41,58,29,37,101,122,22,31,95,19,43,26,31,19,45,161,18,46,23,34,40,58,29,30,37,199,28,41,33,18,33,32,27,195,22,35,35,28,62,40,76,71,96,171,145,28,32,24,50,29,23,19,38,18,21,23,28,83,27,113,23,24,56,58,74,18,39,78,30,51,31,29,69,109,45,70,37,47,52,20,22,47,33,29,21,28,31,29,19,33,37,27,43,71,20,42,43,79,47,29,27,24,29,25,42,22,74,74,43,60,22,97,35,38,36,18,107,20,21,33,36,52,117,37,153,25,18,23,82,43,26,118,52,28,38,48,105,20,30,61,41,18,29,33,19,105,20,20,59,18,18,23,25,76,46,25,20,20,103,45,39,20,21,24,21,66,25,28,23,22,90,18,19,20,29,23,35,71,30,59,28,88,69,26,40,93,60,25,56,59,19,57,31,89,22,19,21,70,43,93,20,19,73,28,32,27,76,29,18,26,41,32,32,39,20,19,26,25,35,24,19,21,22,22,36,66,32,23,21,26,21,19,26,18,67,28,18,58,25,41,19,31,25,18,26,57,142,29,48,35,44,116,30,41,65,123,18,40,67,58,21,43,34,27,147,45,27,52,40,20,18,22,24,20,174,47,19,40,34,23,28,18,20,22,71,66,41,22,50,62,67,31,30,18,21,21,67,53,25,23,28,22,43,20,51,46,31,32,18,53,61,19,21,42,26,23,26,30,33,18,43,47,50,61,21,19,44,59,136,36,42,37,107,22,53,90,35,66,87,20,48,109,54,21,22,108,32,21,22,70,22,77,54,50,75,18,352,37,56,50,26,18,28,19,26,54,34,20,143,34,24,25,80,70,59,127,101,40,38,18,24,24,50,44,129,23,158,21,26,40,255,37,66,42,140,42,43,33,24,29,53,20,19,49,60,168,19,33,21,36,116,71,103,36,20,50,119,25,26,121,25,44,46,59,101,60,22,115,38,41,28,21,20,20,79,21,24,98,20,30,43,24,36,46,85,55,21,32,19,22,86,20,19,79,96,64,154,25,40,96,46,31,33,22,18,22,24,28,80,19,20,52,26,44,30,24,36,32,65,32,45,68,53,18,30,18,48,24,27,23,36,41,32,68,107,81,30,42,85,186,20,30,109,46,18,23,46,51,98,24,41,35,125,78,68,22,19,69,44,131,140,33,50,55,39,79,86,61,20,55,76,33,27,33,72,37,30,20,49,32,18,29,44,34,42,37,22,66,63,18,68,127,74,122,18,201,28,69,67,105,20,58,127,68,21,24,180,88,21,177,22,19,22,75,192,45,51,29,36,52,31,117,137,97,82,81,19,79,107,31,55,84,28,41,34,33,50,33,38,152,38,102,42,21,23,88,89,52,20,28,22,39,25,33,19,60,103,18,51,221,29,87,47,26,34,27,42,35,68,88,22,19,143,116,19,60,59,28,42,31,55,21,35,37,48,30,52,65,38,66,51,24,159,105,50,43,91,106,90,28,18,56,71,171,51,30,24,83,32,38,78,77,46,51,43,48,38,37,50,69,47,69,105,57,60,45,82,19,75,34,92,46,56,22,99,56,64,34,50,78,18,72,58,28,204,168,28,19,93,20,32,25,18,25,94,137,19,83,28,174,20,64,84,88,55,70,131,148,31,91,57,196,129,99,70,50,33,28,68,70,76,30,34,38,28,29,26,35,45,43,27,64,18,21,36,51,22,23,57,74,19,83,26,36,70,31,49,29,53,22,89,58,46,48,58,66,20,204,45,39,65,34,50,62,93,47,115,42,100,66,86,76,22,29,44,116,41,40,332,41,31,89,25,36,37,96,39,136,25,22,62,53,28,18,29,66,85,147,18,60,117,22,23,79,62,38,40,42,27,45,43,23,125,35,119,53,33,44,28,68,77,24,20,46,28,50,185,24,47,20,37,37,87,23,107,64,35,25,20,33,60,78,69,43,138,63,26,24,26,19,33,66,49,71,81,42,80,66,67,144,20,51,129,68,22,18,29,41,82,92,124,78,43,31,30,25,155,68,27,125,55,33,102,33,80,47,19,52,27,98,64,111,114,27,50,57,22,89,48,142,40,105,30,69,19,47,34,92,237,53,39,180,44,77,42,25,89,63,130,29,47,24,42,32,121,106,19,54,40,33,134,98,78,96,39,40,104,162,88,29,94,65,75,104,76,195,120,70,31,112,51,24,91,44,27,39,45,18,108,25,47,58,30,102,47,56,57,30,43,24,56,44,19,37,22,31,48,34,118,66,94,34,54,50,50,46,28,32,27,61,57,42,114,63,66,46,72,43,86,67,47,50,26,55,71,18,18,22,29,22,26,92,31,51,21,25,28,46,68,40,47,41,41,23,30,23,42,71,117,50,50,37,31,74,36,45,273,78,32,22,34,21,31,60,25,125,72,29,25,27,29,104,56,29,109,29,55,23,27,39,30,21,62,27,77,28,116,174,93,85,23,94,35,58,69,68,105,65,68,149,18,26,128,38,21,91,30,35,59,78,78,54,27,26,56,68,74,18,23,31,23,77,57,33,77,27,18,111,18,32,151,160,58,91,35,33,19,35,25,67,36,142,83,25,38,24,44,159,25,21,53,37,44,27,28,20,72,20,33,58,44,21,99,27,49,43,42,328,149,70,24,72,77,34,93,83,43,18,21,25,58,46,64,44,116,18,39,43,58,48,43,76,48,18,18,71,62,59,29,36,25,53,47,38,122,30,85,80,23,131,46,18,28,20,115,101,113,62,50,33,26,96,52,55,36,69,123,29,103,82,30,109,25,97,18,94,61,55,35,43,31,66,61,132,41,40,36,30,40,25,24,104,181,58,23,18,48,107,53,22,121,27,79,38,56,19,65,110,108,31,119,70,94,19,20,72,97,103,21,23,58,79,29,25,86,67,101,52,74,84,55,25,55,68,31,19,57,140,52,24,20,26,60,166,25,39,25,37,81,60,22,53,79,70,29,117,31,29,52,30,38,54,29,31,27,22,27,26,66,48,30,26,22,77,35,85,29,37,47,22,74,64,66,28,120,48,25,39,20,60,90,26,79,75,23,30,21,27,24,101,27,24,34,53,259,20,30,60,105,19,18,83,59,21,128,26,45,28,20,22,26,51,24,34,78,38,56,117,97,32,38,31,38,75,59,43,45,40,92,59,45,27,44,41,63,54,20,65,29,20,26,18,27,29,64,66,52,30,25,43,19,22,28,24,45,36,25,70,40,31,115,18,38,62,23,42,156,33,101,56,28,35,38,73,32,73,23,50,75,56,22,70,152,36,27,111,34,23,20,34,21,73,49,38,59,165,33,68,64,36,27,111,91,22,63,29,34,28,21,30,24,41,31,48,42,27,28,28,48,21,29,88,71,66,21,78,110,24,47,36,100,21,75,28,25,111,34,18,54,41,37,68,43,24,34,29,31,62,40,57,39,60,75,78,36,35,82,38,70,47,18,160,75,27,37,31,44,24,66,35,20,26,50,19,39,26,43,21,27,21,30,29,32,35,31,62,56,24,34,178,121,55,82,33,36,48,37,60,28,18,100,41,33,36,24,23,40,30,29,20,23,38,19,150,122,33,137,50,122,24,189,34,58,21,51,39,60,43,24,35,35,20,36,47,89,67,28,20,38,128,71,19,131,208,21,53,34,131,42,45,71,52,112,48,59,25,116,25,75,18,38,38,34,146,19,23,44,64,79,31,36,54,122,65,77,83,43,53,54,38,220,28,125,24,26,123,20,76,47,20,47,91,36,28,36,40,58,24,35,52,22,21,61,41,75,81,55,176,56,19,25,172,61,22,41,24,173,54,56,37,118,110,66,121,82,98,43,26,33,66,19,44,25,31,27,18,26,72,44,23,24,24,41,43,132,28,18,34,28,42,19,56,27,28,53,95,74,20,77,82,20,86,25,75,29,21,37,29,23,24,45,31,66,29,34,34,26,28,75,88,104,20,81,72,117,93,104,54,58,75,91,43,34,75,95,61,26,18,19,36,46,37,18,42,30,64,32,18,79,58,79,22,46,63,70,72,51,30,57,41,36,108,33,24,114,44,41,62,18,25,57,25,40,18,47,50,86,55,116,27,25,125,51,29,92,33,32,24,24,96,70,33,39,52,31,56,64,31,57,44,69,42,37,38,60,75,28,25,35,76,47,57,50,24,46,69,34,114,93,124,74,32,22,20,73,316,35,34,32,41,35,44,55,131,31,21,24,32,59,180,21,32,28,47,107,38,43,105,93,37,72,22,96,86,82,27,140,79,18,27,97,72,38,40,28,27,48,205,29,25,73,37,125,116,39,37,22,78,69,141,36,114,55,75,27,83,36,80,70,49,25,66,27,70,129,19,118,115,50,107,92,43,22,75,47,57,18,56,29,46,43,54,112,76,122,65,51,229,32,22,41,29,50,84,24,26,38,64,113,37,57,51,91,23,110,40,116,28,69,43,136,34,19,363,95,21,51,47,25,45,56,19,44,43,55,35,23,78,72,33,26,28,76,23,66,67,73,67,24,90,34,44,29,64,155,40,63,49,35,110,31,42,39,69,31,21,84,29,203,31,33,25,31,37,42,129,47,80,20,122,25,26,32,56,53,40,51,24,27,21,25,22,30,94,78,34,80,52,213,110,36,58,41,36,26,94,44,27,24,184,23,40,23,44,36,45,87,88,18,44,87,35,157,56,53,65,24,44,23,40,19,36,48,28,19,48,79,79,94,46,21,33,36,51,30,34,22,25,18,18,29,152,18,53,58,19,23,23,51,65,28,23,55,23,43,21,50,44,48,21,23,85,40,54,168,21,115,36,35,213,47,30,43,40,62,25,70,62,21,134,38,69,36,99,30,76,49,26,23,35,43,31,49,28,29,82,26,26,32,31,24,64,27,19,158,25,55,32,88,28,26,20,49,52,103,192,108,22,71,26,83,18,84,38,36,20,102,35,31,41,21,27,48,57,43,53,36,57,34,18,53,124,32,83,99,27,59,36,41,89,116,126,24,19,40,19,18,68,22,46,76,19,74,81,20,129,30,32,120,153,35,18,23,28,23,59,68,27,211,66,43,64,79,27,151,24,45,80,45,28,44,112,50,62,26,24,61,26,26,28,39,33,40,101,36,158,38,52,47,66,125,21,36,52,50,55,29,19,100,31,30,25,38,88,36,20,30,35,126,108,34,41,86,54,69,42,55,24,21,55,30,19,52,21,131,23,19,50,34,43,37,49,28,89,67,69,27,38,21,57,32,20,25,42,35,55,19,42,65,40,47,97,34,22,33,62,58,98,96,19,18,91,56,38,41,47,36,140,25,45,330,30,46,50,23,23,70,44,33,143,23,84,24,34,29,93,98,48,110,52,79,73,102,24,37,33,30,37,25,51,58,129,38,19,49,36,34,71,81,31,52,70,77,55,19,42,21,64,28,61,68,109,78,31,21,89,107,38,55,36,133,30,28,50,35,134,138,20,100,51,62,75,44,21,48,22,43,19,70,121,75,168,72,76,72,25,22,51,29,79,34,44,81,43,51,81,133,79,22,30,26,130,84,21,31,26,51,22,18,34,169,26,97,19,27,32,22,37,44,19,45,19,23,96,37,105,58,35,97,35,52,23,32,173,23,28,50,91,33,29,41,22,22,36,32,38,60,25,42,22,108,41,64,30,67,64,33,99,35,56,18,144,90,48,242,26,26,27,36,24,24,40,40,48,76,27,74,24,33,44,26,18,21,111,21,37,27,107,43,21,22,57,24,22,61,27,41,36,18,21,27,22,56,21,91,40,39,83,28,128,97,95,91,32,65,45,26,31,24,80,146,46,52,23,25,18,18,24,62,56,90,44,37,39,19,54,20,44,19,80,25,27,49,34,21,26,26,60,136,34,23,39,59,21,31,18,18,85,38,92,49,32,31,62,22,80,22,52,52,85,80,39,38,152,33,25,29,44,54,33,95,94,42,18,84,69,36,30,62,61,68,28,22,115,78,61,27,39,111,19,79,64,28,147,37,27,64,35,88,37,38,104,48,66,20,41,22,37,86,56,40,25,42,57,77,24,28,53,39,99,73,35,134,19,86,35,29,35,51,70,23,20,132,48,49,38,30,19,56,29,34,103,35,19,67,56,55,20,29,45,66,48,33,22,47,38,47,24,34,111,39,25,60,42,153,36,38,35,39,166,69,24,64,38,138,18,129,66,41,30,18,20,75,22,64,65,25,40,41,22,20,120,58,19,90,19,24,33,22,34,232,69,21,19,78,42,33,94,50,73,86,19,114,101,24,51,20,73,39,67,62,19,103,86,161,363,48,41,23,39,86,45,99,21,29,30,35,124,73,28,63,31,38,42,31,33,46,29,79,35,23,111,45,51,83,23,49,23,24,55,18,57,72,44,25,48,42,19,32,36,19,114,83,22,35,41,33,39,23,18,44,50,80,79,23,125,26,20,60,43,18,18,25,32,78,37,98,21,21,46,73,61,64,27,62,44,20,100,22,33,83,49,30,74,21,106,27,27,25,97,25,52,20,33,232,61,54,20,72,31,33,33,48,56,30,25,26,58,31,28,31,30,23,38,84,35,32,87,72,26,43,22,30,18,40,28,31,19,68,24,20,58,88,71,54,26,52,90,64,22,19,83,40,43,52,19,49,23,29,51,43,31,48,88,19,72,21,21,63,93,31,24,44,30,84,49,19,33,21,49,25,101,58,21,65,35,20,33,112,78,29,25,56,66,22,18,29,62,67,30,47,31,109,40,21,79,29,54,22,26,32,20,19,48,60,72,35,77,37,27,153,23,24,117,87,31,20,68,138,77,83,19,26,26,28,19,19,32,27,71,27,24,95,18,36,63,25,41,57,30,47,309,20,23,36,22,32,28,23,88,101,23,27,37,38,31,35,46,50,57,39,24,55,32,52,108,53,57,184,81,49,36,36,18,28,66,72,82,84,27,46,42,22,26,33,55,22,55,20,24,30,125,49,38,80,27,23,101,66,48,33,40,82,79,100,33,49,44,68,32,69,43,98,107,28,20,140,45,32,23,41,36,46,19,20,27,31,38,31,26,27,68,19,55,33,38,20,42,50,24,32,18,18,28,42,24,22,18,20,19,34,19,26,43,26,29,24,28,19,18,23,51,25,25,67,77,27,50,27,32,24,31,19,20,28,18,84,18,20,38,67,27,19,82,31,22,52,53,65,42,35,19,23,28,32,32,31,27,45,53,30,24,110,25,39,29,161,78,23,43,27,18,34,34,55,23,24,23,24,28,22,37,31,20,22,24,18,19,18,34,34,25,50,19,37,32,18,19,21,18,29,27,22,23,22,27,21,63,30,31,35,21,37,22,30,42,20,63,34,45,60,18,18,34,76,71,27,27,46,21,22,24,19,53,58,64,24,32,84,24,21,24,37,21,22,18,95,44,81,43,23,104,21,31,42,55,22,80,27,23,21,19,23,95,23,18,29,44,20,20,44,26,28,44,23,52,19,31,67,30,18,53,33,63,40,31,44,19,94,24,23,22,27,33,29,26,19,29,30,21,50,26,21,39,24,18,54,33,25,140,37,44,71,49,32,37,47,18,45,51,25,27,55,20,24,44,31,21,22,40,21,18,28,18,32,23,32,27,31,34,18,40,29,24,22,21,38,36,22,31,47,21,26,49,23,18,21,23,20,25,21,34,32,29,21,28,22,38,19,36,25,21,31,37,54,32,24,26,51,19,30,24,21,27,18,25,20,24,20,18,23,18,18,19,21,21,22,27,19,19,24,37,28,41,23,55,36,63,31,19,18,29,18,54,26,21,37,36,18,55,21,26,22,20,28,25,20,26,21,22,18,32,23,28,18,18,51,35,18,20,21,20,19,31,18,18,25,39,24,24,19,32,18,21,31,61,28,21,36,21,50,23,21,23,37,20,44,46,30,18,21,26,18,61,28,25,75,37,21,18,35,30,22,31,22,22,61,28,38,19,31,25,42,47,19,21,29,18,27,21,20,46,21,20,21,22,26,45,18,47,19,19,37,32,19,46,27,28,21,27,35,20,37,21,30,18,26,31,24,42,19,25,31,20,18,28,67,39,47,26,46,18,21,28,31,19,25,24,26,21,21,22,19,53,21,24,28,61,25,20,56,24,29,24,19,21,26,43,44,24,36,21,18,39,19,36,47,29,56,28,36,29,22,24,18,18,41,20,28,48,21,43,18,22,22,22,33,22,25,86,26,42,23,21,95,34,89,43,98,25,30,20,22,41,18,28,129,28,34,26,34,18,46,24,34,32,35,27,24,37,18,19,41,19,29,45,24,21,24,22,20,27,40,29,30,23,22,31,28,54,35,27,30,18,22,21,19,53,42,26,31,24,23,24,27,28,19,32,20,21,22,26,30,38,18,110,20,18,29,22,18,29,47,36,20,23,22,29,24,26,33,24,27,33,29,30,23,37,22,23,20,25,21,23,24,25,31,57,45,98,32,18,23,19,19,19,25,53,19,29,26,34,31,21,18,38,45,34,28,44,18,25,18,39,24,38,21,31,45,23,50,63,25,52,22,24,20,36,29,42,31,18,20,18,42,25,22,35,30,20,18,39,44,29,29,29,133,34,34,25,36,18,27,22,23,18,22,53,35,44,70,96,21,21,23,18,23,21,18,72,24,49,18,50,42,22,34,28,25,24,37,23,22,19,18,34,21,18,94,21,51,52,56,58,35,41,21,24,19,18,49,24,48,63,76,25,26,19,20,34,21,21,24,52,18,32,42,20,32,21,26,26,21,25,39,26,36,20,24,26,20,39,19,39,36,33,28,65,29,40,44,43,92,22,28,18,81,21,18,21,29,19,20,39,22,31,43,50,28,70,20,19,28,24,27,31,21,38,20,71,18,30,22,44,21,35,29,28,41,23,37,19,23,33,23,20,22,18,47,19,76,18,18,26,18,24,31,21,41,27,38,52,29,30,39,24,36,28,27,34,24,97,32,32,20,32,24,22,21,51,24,22,24,22,25,22,21,21,28,20,31,44,40,31,42,19,18,38,18,22,39,18,79,19,22,32,21,45,32,21,25,58,29,32,58,18,44,18,18,26,35,18,21,23,25,36,19,32,20,20,19,30,44,23,22,20,31,35,25,24,18,19,44,50,25,18,20,19,28,25,43,27,28,68,43,37,25,66,20,23,37,80,19,22,45,25,40,66,34,26,21,29,23,19,37,39,19,18,24,20,22,23,31,64,44,20,19,21,30,34,29,59,22,29,36,33,26,26,23,36,65,43,19,27,21,19,29,18,20,18,19,28,27,26,22,27,20,32,33,21,18,26,20,22,25,27,25,25,18,49,67,31,38,43,91,28,31,24,22,37,20,35,36,18,42,18,34,47,20,26,22,24,38,56,42,25,33,18,48,19,30,21,26,48,40,18,30,31,21,27,26,36,26,27,30,56,28,27,19,24,21,18,23,21,50,19,21,19,35,116,18,22,49,18,24,58,18,23,26,30,25,18,70,60,26,52,42,131,65,27,119,19,38,69,23,86,53,25,18,70,18,36,25,71,23,18,46,19,29,30,31,140,25,53,18,25,37,27,104,20,61,21,21,22,21,45,19,31,24,34,21,22,33,22,32,20,20,49,27,31,30,63,19,72,38,42,37,20,27,36,29,29,24,25,28,26,18,59,35,21,44,18,44,27,23,46,47,28,24,38,22,42,26,28,22,21,29,18,52,21,32,31,21,27,39,31,18,19,61,35,25,22,19,34,22,18,26,22,24,30,20,46,20,60,37,39,48,26,84,57,75,50,89,106,60,27,21,27,25,37,85,19,88,20,25,241,25,30,26,25,36,83,28,19,37,21,28,42,20,18,25,34,19,19,27,23,27,27,21,18,18,50,19,22,25,25,44,32,37,20,34,19,24,26,21,33,69,44,27,37,45,29,26,21,34,47,36,59,23,25,20,49,20,19,32,133,52,53,40,25,42,22,35,45,36,81,56,45,22,26,33,20,28,25,23,34,52,54,20,43,20,108,22,25,72,95,63,64,29,103,23,46,33,19,22,52,46,43,18,24,55,27,30,23,27,57,29,19,28,29,26,18,19,21,24,21,18,19,18,20,19,70,22,29,23,24,23,37,29,53,28,46,22,28,20,51,23,27,25,42,27,32,20,21,52,31,21,32,26,20,26,29,24,18,19,22,27,21,35,23,21,32,42,24,67,34,19,82,45,51,18,34,31,54,23,30,22,41,28,18,31,18,18,36,42,41,32,91,29,22,33,22,48,42,20,26,23,19,48,28,39,47,23,25,28,26,20,51,34,19,25,30,20,22,18,30,23,30,32,23,20,23,18,22,18,41,20,27,28,24,20,43,19,21,62,19,116,25,20,36,36,30,45,26,35,67,27,20,31,31,44,124,30,59,32,18,19,21,198,67,22,139,18,36,20,26,31,41,26,24,19,31,19,29,24,34,24,39,44,19,19,24,28,34,18,35,31,20,24,19,21,18,61,19,26,19,18,21,20,28,23,21,18,28,22,19,18,18,25,29,21,41,34,27,69,68,21,59,18,31,27,48,19,24,20,53,25,49,117,39,18,18,18,60,29,26,52,52,43,30,30,70,20,26,35,21,89,71,22,24,56,68,50,18,26,20,18,33,21,20,32,106,34,20,19,46,22,33,95,63,24,31,63,44,31,18,20,27,51,104,45,23,29,19,45,28,21,45,40,60,32,41,24,18,65,19,45,20,20,19,23,32,97,20,19,20,29,38,33,20,21,19,44,25,23,25,20,24,26,58,26,38,60,23,22,35,48,24,25,26,46,18,20,35,29,81,22,32,21,57,40,23,18,111,50,18,27,26,23,23,23,22,53,19,33,57,29,39,26,36,30,19,20,86,23,26,31,56,30,35,25,20,18,25,19,64,22,48,44,31,47,72,20,41,27,23,78,42,21,19,25,20,76,76,141,56,26,64,20,60,62,22,55,40,20,40,26,35,18,22,63,46,44,40,41,67,23,101,25,31,35,33,18,43,33,32,176,45,19,24,80,51,21,25,52,35,81,22,64,35,30,27,38,46,93,41,49,20,33,51,21,25,49,34,24,34,64,34,27,85,41,37,23,25,18,25,23,26,24,59,46,34,18,34,49,62,33,20,50,34,30,22,24,31,19,64,101,40,23,30,48,18,26,20,66,18,25,68,145,18,18,55,34,22,18,145,78,32,23,46,19,18,52,31,30,158,57,30,34,32,98,32,53,20,54,64,140,21,20,30,26,45,25,37,44,84,27,27,59,18,76,123,22,62,62,51,20,21,47,20,30,67,24,41,52,20,42,111,19,19,22,27,26,29,79,36,33,35,130,49,67,51,38,21,38,53,99,74,117,95,33,39,49,52,21,24,27,43,18,26,30,27,37,32,22,30,19,22,23,29,83,34,64,30,52,18,29,21,18,31,21,24,26,31,42,49,23,21,18,55,37,60,23,25,20,159,27,54,72,95,52,69,57,71,116,118,49,18,19,88,18,52,84,23,20,56,23,49,29,76,45,63,62,38,60,68,18,40,44,23,67,21,29,57,97,54,31,22,62,35,30,18,41,19,36,74,22,41,99,40,27,71,96,29,26,27,59,19,49,47,18,53,46,47,38,57,66,30,98,58,40,24,25,41,21,63,34,27,25,21,18,38,20,141,23,79,29,18,44,95,62,23,24,19,31,24,87,44,77,52,31,76,46,19,34,23,68,30,22,26,24,20,108,20,30,46,58,30,18,53,114,19,25,24,18,24,25,25,24,45,28,38,31,36,44,33,19,34,44,37,19,22,45,20,22,18,20,18,21,22,24,22,27,19,37,31,26,23,26,66,25,28,19,32,30,21,117,21,23,123,25,43,20,83,24,21,141,35,18,18,83,34,45,23,26,29,47,54,35,23,33,36,23,26,18,18,26,57,26,27,29,24,30,18,19,34,55,21,33,55,20,31,18,22,22,89,28,21,30,18,106,31,46,21,19,20,22,21,18,123,23,67,30,37,18,28,53,71,26,56,26,19,19,26,28,74,23,29,60,81,69,47,23,25,23,68,99,24,32,31,60,28,27,30,18,22,47,19,20,21,23,19,21,55,22,18,27,23,42,33,24,18,42,24,80,26,45,24,22,18,46,73,23,19,23,107,55,19,31,19,49,36,57,37,20,43,21,38,74,20,32,27,38,19,25,24,34,22,37,27,36,27,27,20,23,27,18,42,46,39,29,19,28,20,35,26,38,87,30,21,26,98,27,30,58,59,19,20,21,97,22,34,34,30,26,18,33,28,32,73,95,70,27,72,35,62,50,44,52,20,26,18,20,19,40,25,32,18,64,63,25,30,31,31,18,36,61,18,42,20,77,21,22,64,28,63,44,19,62,114,71,122,68,49,26,29,34,78,19,39,71,21,19,20,33,27,19,18,44,24,73,24,30,21,51,61,19,28,97,35,28,37,144,22,30,26,89,29,20,37,20,48,31,39,18,40,24,19,55,18,68,31,61,69,25,22,18,25,36,110,79,32,43,19,24,19,62,79,23,57,52,79,40,27,23,26,112,48,39,30,147,19,60,28,90,26,50,26,35,23,35,44,28,204,84,114,35,29,30,25,39,30,23,20,31,28,47,76,28,38,29,110,50,21,52,46,25,32,36,37,52,32,21,32,62,43,30,199,28,27,52,90,49,28,24,78,23,21,25,35,29,22,19,24,21,23,36,24,20,55,25,32,24,31,44,30,80,36,21,18,59,26,18,18,19,23,19,33,19,40,155,24,21,37,21,31,37,43,22,30,19,21,63,37,20,30,23,92,18,40,19,56,177,58,49,16,294,46,18,30,54,32,23,17,19,20,22,30,67,91,32,16,22,46,21,45,26,46,48,29,73,37,281,29,52,25,42,47,53,29,191,108,49,38,44,26,85,19,16,18,26,23,21,34,17,38,24,44,35,17,74,20,40,122,18,24,117,18,81,30,49,68,21,20,87,23,36,38,43,18,39,24,23,21,21,84,75,20,163,34,65,39,87,173,49,86,16,47,17,56,34,32,45,32,46,39,34,63,55,24,120,50,63,17,29,21,26,19,27,16,22,37,24,38,16,36,30,22,78,18,17,34,22,23,63,41,74,66,22,16,35,32,25,21,19,46,27,23,50,23,19,28,34,20,19,72,21,32,72,23,19,19,60,46,27,21,44,24,45,97,16,18,23,25,16,26,33,20,17,17,49,88,47,19,20,18,44,89,30,27,39,20,39,51,76,109,34,31,41,30,59,51,17,20,16,34,29,66,28,46,20,24,62,229,25,46,19,39,57,18,19,82,25,77,41,56,44,39,44,21,31,59,24,48,25,16,64,55,19,27,42,31,33,35,22,20,18,44,40,19,17,47,27,16,36,20,22,53,41,34,46,21,50,81,93,146,17,28,29,18,16,40,154,72,97,29,91,48,16,18,21,36,43,20,38,37,21,20,25,80,34,22,77,136,24,73,26,21,16,19,16,17,43,41,81,24,79,37,39,16,19,25,22,75,37,121,61,22,39,35,42,20,19,20,62,33,17,21,18,16,33,40,34,18,61,68,130,19,31,95,28,43,20,29,303,16,19,60,25,19,17,79,93,42,64,68,30,30,21,64,87,136,29,98,40,26,31,23,32,35,136,41,24,53,26,146,18,27,21,100,26,16,29,25,24,94,26,17,20,41,22,29,20,35,24,19,21,34,33,33,29,47,17,16,39,19,39,29,137,65,28,31,108,39,122,40,17,115,17,21,16,52,46,25,88,29,24,31,31,40,64,24,31,20,18,21,16,16,21,20,52,28,17,42,40,26,61,32,59,53,17,95,17,22,20,33,34,23,131,16,39,22,28,46,34,24,19,16,25,27,17,17,17,20,18,17,47,18,26,18,31,21,17,21,352,23,53,60,47,17,88,25,37,37,20,95,29,26,58,35,20,26,36,58,18,26,22,31,20,20,60,20,25,42,87,24,65,27,31,22,39,18,42,26,27,25,75,29,69,25,67,18,39,48,56,28,39,35,21,26,21,36,17,51,19,47,40,23,43,36,49,17,55,16,27,17,201,116,18,70,26,72,18,16,39,82,47,21,16,56,62,30,49,38,22,25,22,37,16,102,67,19,35,26,46,33,21,72,45,52,22,105,16,21,18,58,32,16,21,48,37,20,63,62,30,16,31,17,97,33,27,27,16,16,17,16,39,17,17,19,19,40,74,32,23,63,57,46,63,17,36,17,95,24,17,17,19,48,37,44,78,132,16,16,25,23,46,18,24,16,195,155,32,47,16,21,51,87,23,32,17,43,35,179,22,53,20,27,21,16,24,56,17,17,19,19,16,32,43,18,47,28,50,50,26,32,25,31,21,92,16,47,18,80,19,25,48,22,17,109,80,97,23,27,20,19,21,28,33,26,17,18,26,20,40,16,37,63,23,26,85,36,65,25,23,39,20,145,21,54,54,42,44,19,37,53,23,24,40,18,37,43,24,24,22,54,36,119,23,109,75,20,35,53,20,18,18,36,37,30,38,36,45,49,16,21,17,17,34,59,39,125,38,16,16,19,30,19,79,87,23,24,30,43,22,20,24,16,35,29,30,19,74,22,62,111,34,52,23,17,21,75,48,17,47,27,51,27,18,35,74,43,17,17,67,72,59,50,16,58,66,20,68,20,156,73,34,68,51,28,25,53,94,30,23,36,25,48,54,99,57,56,33,37,50,51,89,21,54,60,60,18,39,16,27,22,49,48,25,79,83,22,29,84,40,110,25,39,39,26,76,29,181,72,56,60,55,20,61,39,32,165,119,26,35,20,21,22,68,59,18,34,20,52,66,56,56,22,52,32,35,20,18,21,22,41,68,112,31,37,39,18,49,19,22,124,129,65,28,70,18,32,64,32,28,80,32,18,89,22,25,53,33,38,35,56,19,49,18,67,55,157,67,21,85,38,25,60,95,45,20,18,42,18,33,129,24,25,26,62,61,46,28,27,32,58,18,19,20,20,29,29,36,36,58,35,63,48,17,16,16,16,19,17,50,31,27,46,19,41,21,26,60,27,59,20,35,32,21,21,17,18,16,17,61,22,31,18,20,24,26,21,23,43,39,18,16,21,22,23,25,35,19,19,34,31,16,16,31,19,16,45,23,24,16,46,17,16,38,35,24,29,52,40,43,30,22,40,30,38,60,25,16,22,17,28,19,18,29,20,19,21,99,24,37,32,16,17,26,91,62,20,19,16,38,22,18,28,25,18,22,24,63,62,45,17,19,16,26,32,24,17,21,42,19,17,38,21,16,20,36,38,21,33,17,16,21,90,16,17,22,36,19,96,36,19,32,24,33,31,16,18,31,33,18,19,19,16,44,17,17,38,31,24,16,28,23,21,24,49,49,23,25,18,33,24,19,58,39,51,23,28,22,26,17,17,21,37,19,17,16,16,30,18,56,42,22,47,48,69,25,55,18,35,125,61,53,19,63,24,22,28,23,67,26,16,27,29,28,20,27,22,16,62,23,36,17,25,112,49,30,19,27,34,36,19,43,84,16,17,20,60,21,18,33,29,17,26,17,16,21,52,23,23,70,18,38,44,38,29,28,27,35,16,46,20,18,28,16,20,45,16,30,32,31,23,19,17,18,40,18,26,50,18,83,26,26,18,23,36,21,22,38,20,18,27,29,20,16,23,75,36,261,24],\"index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},\"selected\":{\"id\":\"27369\"},\"selection_policy\":{\"id\":\"27368\"}},\"id\":\"27319\",\"type\":\"ColumnDataSource\"},{\"attributes\":{\"text_color\":\"black\",\"text_font_size\":\"12pt\"},\"id\":\"26746\",\"type\":\"Title\"},{\"attributes\":{\"axis_label\":\"LABEL\",\"formatter\":{\"id\":\"27090\"},\"major_label_policy\":{\"id\":\"27088\"},\"ticker\":{\"id\":\"27028\"}},\"id\":\"27027\",\"type\":\"CategoricalAxis\"},{\"attributes\":{\"x0\":{\"field\":\"x0\"},\"x1\":{\"field\":\"x1\"},\"y0\":{\"field\":\"y0\"},\"y1\":{\"field\":\"y1\"}},\"id\":\"27062\",\"type\":\"Segment\"},{\"attributes\":{},\"id\":\"27304\",\"type\":\"BasicTicker\"},{\"attributes\":{\"end\":65248.7,\"reset_end\":65248.7,\"reset_start\":0.0,\"tags\":[[[\"ENC_12M_BF_count\",\"Count\",null]]]},\"id\":\"27396\",\"type\":\"Range1d\"},{\"attributes\":{},\"id\":\"27309\",\"type\":\"WheelZoomTool\"},{\"attributes\":{\"line_alpha\":{\"value\":0.1},\"x0\":{\"field\":\"x0\"},\"x1\":{\"field\":\"x1\"},\"y0\":{\"field\":\"y0\"},\"y1\":{\"field\":\"y1\"}},\"id\":\"27077\",\"type\":\"Segment\"},{\"attributes\":{\"axis_label\":\"INDEX_AGE\",\"formatter\":{\"id\":\"27093\"},\"major_label_policy\":{\"id\":\"27091\"},\"ticker\":{\"id\":\"27031\"}},\"id\":\"27030\",\"type\":\"LinearAxis\"},{\"attributes\":{\"axis\":{\"id\":\"27030\"},\"dimension\":1,\"grid_line_color\":null,\"ticker\":null},\"id\":\"27033\",\"type\":\"Grid\"},{\"attributes\":{\"axis\":{\"id\":\"27027\"},\"grid_line_color\":null,\"ticker\":null},\"id\":\"27029\",\"type\":\"Grid\"},{\"attributes\":{},\"id\":\"27307\",\"type\":\"SaveTool\"},{\"attributes\":{\"data\":{\"INDEX_YEAR\":[1996,1997,1997,1996,1995,1995,1999,1999,1997,1999,1998,1995,1999,1995,1996,1996,1995,1997,1996,1996,1999,1995,1995,1999,1997,1996,1997,1996,1999,1996,1997,1995,1997,1998,1996,1996,1995,1998,1999,1995,1998,1995,1999,1998,1996,1996,1996,1999,1996,1999,1998,1995,1995,1995,1997,1995,1996,1997,1997,1997,1998,1998,1997,1996,1998,1995,1997,1997,1995,1997,1997,1996,1999,1996,1998,1996,1996,1996,1999,1996,1997,1998,1995,1996,1996,1999,1995,1997,1997,1997,1997,1996,1998,1996,1997,1998,1995,1996,1999,1997,1998,1995,1997,1997,1998,1996,1997,1999,1996,1998,1997,1996,1999,1998,1999,1997,1996,1998,1997,1998,1995,1996,1999,1999,1999,1997,1998,1998,1995,1996,1999,1997,1995,1997,1997,1997,1999,1996,1997,1998,1996,1995,1998,1998,1998,1999,1995,1995,1998,1998,1999,1999,1995,1996,1997,1997,1998,1998,1996,1996,1996,1998,1997,1999,1996,1999,1999,1998,1998,1996,1995,1997,1998,1998,1995,1997,1996,1999,1998,1998,1997,1996,1999,1998,1997,1996,1999,1997,1998,1998,1999,1997,1996,1998,1996,1998,1998,1998,1997,1997,1998,1995,1998,1995,1997,1996,1995,1995,1995,1997,1996,1995,1995,1995,1998,1998,1996,1998,1997,1997,1998,1998,1999,1997,1999,1995,1999,1996,1998,1996,1997,1996,1997,1999,1998,1997,1998,1997,1996,1997,1996,1998,1997,1997,1996,1995,1996,1996,1996,1997,1997,1999,1997,1995,1996,1998,1996,1995,1997,1996,1999,1996,1996,1997,1997,1995,1995,1999,1998,1998,1997,1997,1997,1997,1995,1999,1997,1995,1998,1997,1996,1995,1999,1998,1995,1997,1998,1997,1995,1997,1996,1999,1997,1996,1997,1997,1996,1996,1996,1996,1996,1996,1996,1998,1996,1996,1999,1996,1997,1996,1996,1999,1996,1998,1996,1998,1997,1998,1998,1998,1997,1998,1997,1997,1997,1995,1996,1997,1997,1998,1997,1996,1997,1998,1998,1997,1998,1999,1998,1998,1999,1997,1998,1998,1998,1998,1998,1998,1998,1998,1998,1997,1998,1998,1998,1998,1999,1998,1998,1998,1998,1996,1995,1998,1998,1999,1998,1999,1998,1996,1998,1995,1996,1998,1998,1998,1998,1999,1999,1996,1999,1999,1999,1999,1995,1999,1999,1999,1995,1996,1997,1999,1999,1999,1999,1999,1999,1999,1995,1997,1996,1995,1998,1999,1998,1996,1997,1999,1998,1999,1998,1999,1997,1996,1999,1999,1997,1999,1996,1997,1999,1999,1999,1997,1996,1996,1996,1999,1998,1998,1996,1999,1998,1997,1999,1997,1999,1998,1996,1995,1997,1996,1999,1998,1996,1999,1999,1997,1998,1996,1997,1997,1999,1997,1996,1999,1998,1996,1998,1995,1996,1998,1999,1996,1997,1998,1996,1997,1996,1996,1998,1999,1997,1995,1996,1996,1997,1996,1999,1996,1997,1998,1997,1998,1998,1996,1996,1996,1995,1997,1995,1995,1998,1998,1995,1997,1999,1999,1995,1995,1995,1995,1999,1995,1998,1998,1995,1995,1996,1996,1996,1996,1999,1998,1999,1999,1998,1997,1999,1999,1998,1998,1997,1995,1998,1997,1997,1999,1997,1995,1995,1995,1995,1995,1997,1995,1995,1999,1995,1998,1995,1995,1998,1995,1996,1996,1995,1996,1996,1998,1997,1997,1997,1997,1996,1996,1996,1996,1996,1996,1996,1998,1996,1997,1996,1996,1996,1996,1996,1996,1996,1996,1996,1997,1996,1997,1996,1996,1996,1996,1996,1997,1997,1997,1997,1997,1997,1997,1995,1997,1997,1997,1997,1997,1997,1998,1999,1997,1997,1997,1997,1997,1997,1997,1997,1997,1998,1998,1997,1997,1997,1997,1998,1998,1998,1998,1997,1998,1997,1998,1998,1998,1998,1999,1998,1997,1996,1998,1999,1998,1999,1999,1998,1998,1998,1998,1998,1999,1998,1999,1999,1999,1999,1999,1999,1999,1999,1999,1999,1998,1996,1996,1996,1997,1999,1998,1998,1999,1997,1998,1997,1997,1998,1999,1999,1999,1999,1999,1999,1996,1998,1997,1999,1999,1997,1996,1999,1999,1995,1999,1998,1997,1999,1997,1998,1997,1998,1998,1998,1998,1998,1997,1996,1999,1998,1999,1997,1997,1996,1997,1997,1997,1999,1997,1998,1996,1998,1999,1999,1998,1998,1999,1997,1996,1997,1995,1997,1998,1996,1998,1996,1999,1999,1999,1997,1997,1998,1998,1999,1996,1999,1998,1996,1998,1995,1998,1998,1998,1996,1999,1999,1997,1999,1998,1999,1997,1998,1997,1996,1996,1998,1999,1999,1996,1998,1997,1998,1999,1996,1995,1997,1998,1997,1998,1998,1996,1998,1996,1997,1998,1996,1998,1995,1998,1998,1998,1998,1996,1995,1998,1995,1997,1997,1998,1996,1998,1997,1997,1996,1995,1998,1997,1998,1998,1998,1995,1996,1998,1996,1996,1997,1998,1998,1997,1996,1995,1997,1997,1996,1998,1997,1995,1998,1997,1997,1998,1998,1998,1996,1997,1998,1996,1997,1998,1998,1999,1996,1996,1996,1997,1997,1997,1997,1996,1998,1996,1997,1999,1998,1996,1995,1999,1997,1996,1996,1996,1998,1996,1995,1997,1997,1996,1997,1997,1997,1999,1996,1998,1997,1998,1997,1999,1996,1998,1997,1998,1996,1999,1996,1996,1998,1999,1998,1996,1995,1997,1996,1997,1996,1997,1995,1996,1996,1995,1998,1996,1996,1998,1996,1998,1998,1997,1998,1997,1998,1996,1997,1998,1996,1998,1998,1998,1999,1996,1997,1999,1997,1999,1999,1998,1999,1999,1999,1999,1996,1996,1999,1997,1996,1996,1999,1999,1999,1997,1999,1999,1997,1998,1997,1999,1998,1998,1998,1999,1996,1999,1998,1998,1996,1998,1996,1998,1996,1996,1998,1997,1999,1995,1998,1996,1997,1995,1995,1997,1996,1996,1996,1996,1998,1995,1996,1997,1997,1998,1998,1998,1999,1998,1995,1999,1995,1995,1999,1996,1998,1996,1996,1996,1996,1999,1996,1999,1997,1997,1999,1999,1997,1997,1998,1997,1998,1999,1998,1997,1995,1996,1995,1996,1998,1999,1998,1997,1998,1997,1998,1998,1998,1996,1997,1999,1997,1996,1998,1996,1997,1999,1999,1999,1996,1999,1996,1996,1998,1998,1997,1999,1996,1999,1996,1997,1999,1997,1999,1998,1997,1997,1999,1999,1999,1999,1999,1997,1997,1998,1998,1996,1997,1998,1996,1995,1996,1996,1996,1998,1997,1999,1997,1999,1997,1997,1995,1998,1999,1996,1999,1998,1998,1996,1996,1996,1997,1997,1997,1999,1997,1998,1996,1998,1996,1998,1998,1998,1998,1999,1998,1995,1998,1999,1999,1997,1998,1998,1997,1998,1996,1997,1995,1999,1998,1997,1996,1999,1998,1999,1999,1998,1998,1996,1996,1999,1997,1998,1997,1998,1998,1997,1999,1999,1999,1998,1995,1996,1999,1997,1999,1995,1998,1998,1996,1998,1998,1999,1996,1999,1998,1996,1998,1999,1997,1999,1999,1998,1999,1997,1999,1997,1999,1997,1998,1998,1999,1998,1999,1997,1999,1998,1998,1998,1999,1999,1998,1998,1999,1998,1999,1998,1998,1999,1999,1999,1999,1997,1999,1999,1998,1997,1997,1999,1999,1998,1998,1998,1999,1998,1999,1998,1999,1999,1999,1999,1999,1999,1999,1999,1999,1997,1997,1996,1998,1996,1997,1999,1996,1999,1997,1998,1998,1995,1998,1997,1999,1995,1996,1999,1995,1995,1996,1995,1996,1995,1995,1995,1995,1996,1995,1995,1995,1996,1996,1995,1996,1996,1996,1995,1995,1995,1996,1996,1995,1995,1995,1995,1996,1995,1995,1995,1996,1995,1996,1996,1996,1995,1996,1995,1995,1995,1995,1996,1995,1995,1996,1995,1996,1995,1995,1996,1995,1996,1995,1995,1996,1996,1996,1996,1996,1995,1995,1995,1995,1995,1996,1996,1996,1995,1996,1996,1995,1996,1996,1996,1995,1996,1995,1995,1995,1995,1996,1996,1995,1996,1996,1996,1996,1996,1996,1995,1996,1995,1995,1996,1995,1995,1995,1995,1996,1995,1995,1995,1995,1996,1995,1995,1995,1995,1995,1996,1996,1996,1995,1995,1995,1996,1995,1996,1995,1995,1996,1996,1995,1995,1995,1995,1995,1996,1996,1995,1996,1996,1995,1996,1996,1996,1996,1995,1995,1996,1996,1996,1996,1995,1996,1996,1996,1996,1995,1995,1995,1995,1996,1996,1996,1996,1996,1996,1996,1995,1996,1996,1996,1995,1995,1996,1996,1996,1995,1996,1995,1995,1996,1996,1995,1995,1996,1996,1996,1996,1996,1995,1996,1996,1996,1996,1996,1996,1996,1996,1996,1995,1996,1996,1995,1996,1995,1995,1995,1996,1996,1996,1995,1996,1995,1995,1996,1996,1996,1996,1995,1996,1996,1996,1995,1995,1996,1995],\"index\":[\"0\",\"0\",\"0\",\"0\",\"0\",\"0\",\"0\",\"0\",\"0\",\"0\",\"0\",\"0\",\"0\",\"0\",\"0\",\"0\",\"0\",\"0\",\"0\",\"0\",\"0\",\"0\",\"0\",\"0\",\"0\",\"0\",\"0\",\"0\",\"0\",\"0\",\"0\",\"0\",\"0\",\"0\",\"0\",\"0\",\"0\",\"0\",\"0\",\"0\",\"0\",\"0\",\"0\",\"0\",\"0\",\"0\",\"0\",\"0\",\"0\",\"0\",\"0\",\"0\",\"0\",\"0\",\"0\",\"0\",\"0\",\"0\",\"0\",\"0\",\"0\",\"0\",\"0\",\"0\",\"0\",\"0\",\"0\",\"0\",\"0\",\"0\",\"0\",\"0\",\"0\",\"0\",\"0\",\"0\",\"0\",\"0\",\"0\",\"0\",\"0\",\"0\",\"0\",\"0\",\"0\",\"0\",\"0\",\"0\",\"0\",\"0\",\"0\",\"0\",\"0\",\"0\",\"0\",\"0\",\"0\",\"0\",\"0\",\"0\",\"0\",\"0\",\"0\",\"0\",\"0\",\"0\",\"0\",\"0\",\"0\",\"0\",\"0\",\"0\",\"0\",\"0\",\"0\",\"0\",\"0\",\"0\",\"0\",\"0\",\"0\",\"0\",\"0\",\"0\",\"0\",\"0\",\"0\",\"0\",\"0\",\"0\",\"0\",\"0\",\"0\",\"0\",\"0\",\"0\",\"0\",\"0\",\"0\",\"0\",\"0\",\"0\",\"0\",\"0\",\"0\",\"0\",\"0\",\"0\",\"0\",\"0\",\"0\",\"0\",\"0\",\"0\",\"0\",\"0\",\"0\",\"0\",\"0\",\"0\",\"0\",\"0\",\"0\",\"0\",\"0\",\"0\",\"0\",\"0\",\"0\",\"0\",\"0\",\"0\",\"0\",\"0\",\"0\",\"0\",\"0\",\"0\",\"0\",\"0\",\"0\",\"0\",\"0\",\"0\",\"0\",\"0\",\"0\",\"0\",\"0\",\"0\",\"0\",\"0\",\"0\",\"0\",\"0\",\"0\",\"0\",\"0\",\"0\",\"0\",\"0\",\"0\",\"0\",\"0\",\"0\",\"0\",\"0\",\"0\",\"0\",\"0\",\"0\",\"0\",\"0\",\"0\",\"0\",\"0\",\"0\",\"0\",\"0\",\"0\",\"0\",\"0\",\"0\",\"0\",\"0\",\"0\",\"0\",\"0\",\"0\",\"0\",\"0\",\"0\",\"0\",\"0\",\"0\",\"0\",\"0\",\"0\",\"0\",\"0\",\"0\",\"0\",\"0\",\"0\",\"0\",\"0\",\"0\",\"0\",\"0\",\"0\",\"0\",\"0\",\"0\",\"0\",\"0\",\"0\",\"0\",\"0\",\"0\",\"0\",\"0\",\"0\",\"0\",\"0\",\"0\",\"0\",\"0\",\"0\",\"0\",\"0\",\"0\",\"0\",\"0\",\"0\",\"0\",\"0\",\"0\",\"0\",\"0\",\"0\",\"0\",\"0\",\"0\",\"0\",\"0\",\"0\",\"0\",\"0\",\"0\",\"0\",\"0\",\"0\",\"0\",\"0\",\"0\",\"0\",\"0\",\"0\",\"0\",\"0\",\"0\",\"0\",\"0\",\"0\",\"0\",\"0\",\"0\",\"0\",\"0\",\"0\",\"0\",\"0\",\"0\",\"0\",\"0\",\"0\",\"0\",\"0\",\"0\",\"0\",\"0\",\"0\",\"0\",\"0\",\"0\",\"0\",\"0\",\"0\",\"0\",\"0\",\"0\",\"0\",\"0\",\"0\",\"0\",\"0\",\"0\",\"0\",\"0\",\"0\",\"0\",\"0\",\"0\",\"0\",\"0\",\"0\",\"0\",\"0\",\"0\",\"0\",\"0\",\"0\",\"0\",\"0\",\"0\",\"0\",\"0\",\"0\",\"0\",\"0\",\"0\",\"0\",\"0\",\"0\",\"0\",\"0\",\"0\",\"0\",\"0\",\"0\",\"0\",\"0\",\"0\",\"0\",\"0\",\"0\",\"0\",\"0\",\"0\",\"0\",\"0\",\"0\",\"0\",\"0\",\"0\",\"0\",\"0\",\"0\",\"0\",\"0\",\"0\",\"0\",\"0\",\"0\",\"0\",\"0\",\"0\",\"0\",\"0\",\"0\",\"0\",\"0\",\"0\",\"0\",\"0\",\"0\",\"0\",\"0\",\"0\",\"0\",\"0\",\"0\",\"0\",\"0\",\"0\",\"0\",\"0\",\"0\",\"0\",\"0\",\"0\",\"0\",\"0\",\"0\",\"0\",\"0\",\"0\",\"0\",\"0\",\"0\",\"0\",\"0\",\"0\",\"0\",\"0\",\"0\",\"0\",\"0\",\"0\",\"0\",\"0\",\"0\",\"0\",\"0\",\"0\",\"0\",\"0\",\"0\",\"0\",\"0\",\"0\",\"0\",\"0\",\"0\",\"0\",\"0\",\"0\",\"0\",\"0\",\"0\",\"0\",\"0\",\"0\",\"0\",\"0\",\"0\",\"0\",\"0\",\"0\",\"0\",\"0\",\"0\",\"0\",\"0\",\"0\",\"0\",\"0\",\"0\",\"0\",\"0\",\"0\",\"0\",\"0\",\"0\",\"0\",\"0\",\"0\",\"0\",\"0\",\"0\",\"0\",\"0\",\"0\",\"0\",\"0\",\"0\",\"0\",\"0\",\"0\",\"0\",\"0\",\"0\",\"0\",\"0\",\"0\",\"0\",\"0\",\"0\",\"0\",\"0\",\"0\",\"0\",\"0\",\"0\",\"0\",\"0\",\"0\",\"0\",\"0\",\"0\",\"0\",\"0\",\"0\",\"0\",\"0\",\"0\",\"0\",\"0\",\"0\",\"0\",\"0\",\"0\",\"0\",\"0\",\"0\",\"0\",\"0\",\"0\",\"0\",\"0\",\"0\",\"0\",\"0\",\"0\",\"0\",\"0\",\"0\",\"0\",\"0\",\"0\",\"0\",\"0\",\"0\",\"0\",\"0\",\"0\",\"0\",\"0\",\"0\",\"0\",\"0\",\"0\",\"0\",\"0\",\"0\",\"0\",\"0\",\"0\",\"0\",\"0\",\"0\",\"0\",\"0\",\"0\",\"0\",\"0\",\"0\",\"0\",\"0\",\"0\",\"0\",\"0\",\"0\",\"0\",\"0\",\"0\",\"0\",\"0\",\"0\",\"0\",\"0\",\"0\",\"0\",\"0\",\"0\",\"0\",\"0\",\"0\",\"0\",\"0\",\"0\",\"0\",\"0\",\"0\",\"0\",\"0\",\"0\",\"0\",\"0\",\"0\",\"0\",\"0\",\"0\",\"0\",\"0\",\"0\",\"0\",\"0\",\"0\",\"0\",\"0\",\"0\",\"0\",\"0\",\"0\",\"0\",\"0\",\"0\",\"0\",\"0\",\"0\",\"0\",\"0\",\"0\",\"0\",\"0\",\"0\",\"0\",\"0\",\"0\",\"0\",\"0\",\"0\",\"0\",\"0\",\"0\",\"0\",\"0\",\"0\",\"0\",\"0\",\"0\",\"0\",\"0\",\"0\",\"0\",\"0\",\"0\",\"0\",\"0\",\"0\",\"0\",\"0\",\"0\",\"0\",\"0\",\"0\",\"0\",\"0\",\"0\",\"0\",\"0\",\"0\",\"0\",\"0\",\"0\",\"0\",\"0\",\"0\",\"0\",\"0\",\"0\",\"0\",\"0\",\"0\",\"0\",\"0\",\"0\",\"0\",\"0\",\"0\",\"0\",\"0\",\"0\",\"0\",\"0\",\"0\",\"0\",\"0\",\"0\",\"0\",\"0\",\"0\",\"0\",\"0\",\"0\",\"0\",\"0\",\"0\",\"0\",\"0\",\"0\",\"0\",\"0\",\"0\",\"0\",\"0\",\"0\",\"0\",\"0\",\"0\",\"0\",\"0\",\"0\",\"0\",\"0\",\"0\",\"0\",\"0\",\"0\",\"0\",\"0\",\"0\",\"0\",\"0\",\"0\",\"0\",\"0\",\"0\",\"0\",\"0\",\"0\",\"0\",\"0\",\"0\",\"0\",\"0\",\"0\",\"0\",\"0\",\"0\",\"0\",\"0\",\"0\",\"0\",\"0\",\"0\",\"0\",\"0\",\"0\",\"0\",\"0\",\"0\",\"0\",\"0\",\"0\",\"0\",\"0\",\"0\",\"0\",\"0\",\"0\",\"0\",\"0\",\"0\",\"0\",\"0\",\"0\",\"0\",\"0\",\"0\",\"0\",\"0\",\"0\",\"0\",\"0\",\"0\",\"0\",\"0\",\"0\",\"0\",\"0\",\"0\",\"0\",\"0\",\"0\",\"0\",\"0\",\"0\",\"0\",\"0\",\"0\",\"0\",\"0\",\"0\",\"0\",\"0\",\"0\",\"0\",\"0\",\"0\",\"0\",\"0\",\"0\",\"0\",\"0\",\"0\",\"0\",\"0\",\"0\",\"0\",\"0\",\"0\",\"0\",\"0\",\"0\",\"0\",\"0\",\"0\",\"0\",\"0\",\"0\",\"0\",\"0\",\"0\",\"0\",\"0\",\"0\",\"0\",\"0\",\"0\",\"0\",\"0\",\"0\",\"0\",\"0\",\"0\",\"0\",\"0\",\"0\",\"0\",\"0\",\"0\",\"0\",\"0\",\"0\",\"0\",\"0\",\"0\",\"0\",\"0\",\"0\",\"0\",\"0\",\"0\",\"0\",\"0\",\"0\",\"0\",\"0\",\"0\",\"0\",\"0\",\"0\",\"0\",\"0\",\"0\",\"0\",\"0\",\"0\",\"0\",\"0\",\"0\",\"0\",\"0\",\"0\",\"0\",\"0\",\"0\",\"0\",\"0\",\"0\",\"0\",\"0\",\"0\",\"0\",\"0\",\"0\",\"0\",\"0\",\"0\",\"0\",\"0\",\"0\",\"0\",\"0\",\"0\",\"0\",\"0\",\"0\",\"0\",\"0\",\"0\",\"0\",\"0\",\"0\",\"0\",\"0\",\"0\",\"0\",\"0\",\"0\",\"0\",\"0\",\"0\",\"0\",\"0\",\"0\",\"0\",\"0\",\"0\",\"0\",\"0\",\"0\",\"0\",\"0\",\"0\",\"0\",\"0\",\"0\",\"0\",\"0\",\"0\",\"0\",\"0\",\"0\",\"0\",\"0\",\"0\",\"0\",\"0\",\"0\",\"0\",\"0\",\"0\",\"0\",\"0\",\"0\",\"0\",\"0\",\"0\",\"0\",\"0\",\"0\",\"0\",\"0\",\"0\",\"0\",\"0\",\"0\",\"0\",\"0\",\"0\",\"0\",\"0\",\"0\",\"0\",\"0\",\"0\",\"0\",\"0\",\"0\",\"0\",\"0\",\"0\",\"0\",\"0\",\"0\",\"0\",\"0\",\"0\",\"0\",\"0\",\"0\",\"0\",\"0\",\"0\",\"0\",\"0\",\"0\",\"0\",\"0\",\"0\",\"0\",\"0\",\"0\",\"0\",\"0\",\"0\",\"0\",\"0\",\"0\",\"0\",\"0\",\"0\",\"0\",\"0\",\"0\",\"0\",\"0\",\"0\",\"0\",\"0\",\"0\",\"0\",\"0\",\"0\",\"0\",\"0\",\"0\",\"0\",\"0\",\"0\",\"0\",\"0\",\"0\",\"0\",\"0\",\"0\",\"0\",\"0\",\"0\",\"0\",\"0\",\"0\",\"0\",\"0\",\"0\",\"0\",\"0\",\"0\",\"0\",\"0\",\"0\",\"0\",\"0\",\"0\",\"0\",\"0\",\"0\",\"0\",\"0\",\"0\",\"0\",\"0\",\"0\",\"0\",\"0\",\"0\",\"0\",\"0\",\"0\",\"0\",\"0\",\"0\",\"0\",\"0\",\"0\",\"0\",\"0\",\"0\",\"0\",\"0\",\"0\",\"0\",\"0\",\"0\",\"0\",\"0\",\"0\",\"0\",\"0\",\"0\",\"0\",\"0\",\"0\",\"0\",\"0\",\"0\",\"0\",\"0\",\"0\",\"0\",\"0\",\"0\",\"0\",\"0\",\"0\",\"0\",\"0\",\"0\",\"0\",\"0\",\"0\",\"0\",\"0\",\"0\",\"0\",\"0\",\"0\",\"0\",\"0\",\"0\",\"0\",\"0\",\"0\",\"0\",\"0\",\"0\",\"0\",\"0\",\"0\",\"0\",\"0\",\"0\",\"0\",\"0\",\"0\",\"0\",\"0\",\"0\",\"0\",\"0\",\"0\",\"0\",\"0\",\"0\",\"0\",\"0\",\"0\",\"0\",\"0\",\"0\",\"0\",\"0\",\"0\",\"0\",\"0\",\"0\",\"0\",\"0\",\"0\",\"0\",\"0\",\"0\",\"0\",\"0\",\"0\",\"0\",\"0\",\"0\",\"0\",\"0\",\"0\",\"0\",\"0\",\"0\",\"0\",\"0\",\"0\",\"0\",\"0\",\"0\",\"0\",\"0\",\"0\",\"0\",\"0\",\"0\",\"0\",\"0\",\"0\",\"0\",\"0\",\"0\",\"0\",\"0\",\"0\",\"0\",\"0\",\"0\",\"0\",\"0\",\"0\",\"0\",\"0\",\"0\",\"0\",\"0\",\"0\",\"0\",\"0\",\"0\",\"0\",\"1\",\"1\",\"1\",\"1\",\"1\",\"1\",\"1\",\"1\",\"1\",\"1\",\"1\",\"1\",\"1\",\"1\",\"1\",\"1\",\"1\",\"1\",\"1\",\"1\",\"1\",\"1\",\"1\",\"1\",\"1\",\"1\",\"1\",\"1\",\"1\",\"1\",\"1\",\"1\",\"1\",\"1\",\"1\",\"1\",\"1\",\"1\",\"1\",\"1\",\"1\",\"1\",\"1\",\"1\",\"1\",\"1\",\"1\",\"1\",\"1\",\"1\",\"1\",\"1\",\"1\",\"1\",\"1\",\"1\",\"1\",\"1\",\"1\",\"1\",\"1\",\"1\",\"1\",\"1\",\"1\",\"1\",\"1\",\"1\",\"1\",\"1\",\"1\",\"1\",\"1\",\"1\",\"1\",\"1\",\"1\",\"1\",\"1\",\"1\",\"1\",\"1\",\"1\",\"1\",\"1\",\"1\",\"1\",\"1\",\"1\",\"1\",\"1\",\"1\",\"1\",\"1\",\"1\",\"1\",\"1\",\"1\",\"1\",\"1\",\"1\",\"1\",\"1\",\"1\",\"1\",\"1\",\"1\",\"1\",\"1\",\"1\",\"1\",\"1\",\"1\",\"1\",\"1\",\"1\",\"1\",\"1\",\"1\",\"1\",\"1\",\"1\",\"1\",\"1\",\"1\",\"1\",\"1\",\"1\",\"1\",\"1\",\"1\",\"1\",\"1\",\"1\",\"1\",\"1\",\"1\",\"1\",\"1\",\"1\",\"1\",\"1\",\"1\",\"1\",\"1\",\"1\",\"1\",\"1\",\"1\",\"1\",\"1\",\"1\",\"1\",\"1\",\"1\",\"1\",\"1\",\"1\",\"1\",\"1\",\"1\",\"1\",\"1\",\"1\",\"1\",\"1\",\"1\",\"1\",\"1\",\"1\",\"1\",\"1\",\"1\",\"1\",\"1\",\"1\",\"1\",\"1\",\"1\",\"1\",\"1\",\"1\",\"1\",\"1\",\"1\",\"1\",\"1\",\"1\",\"1\",\"1\",\"1\",\"1\",\"1\",\"1\",\"1\",\"1\",\"1\",\"1\",\"1\",\"1\",\"1\",\"1\",\"1\",\"1\",\"1\",\"1\",\"1\",\"1\",\"1\",\"1\",\"1\",\"1\",\"1\",\"1\",\"1\",\"1\",\"1\",\"1\",\"1\",\"1\"]},\"selected\":{\"id\":\"26823\"},\"selection_policy\":{\"id\":\"26822\"}},\"id\":\"26773\",\"type\":\"ColumnDataSource\"},{\"attributes\":{\"source\":{\"id\":\"27326\"}},\"id\":\"27331\",\"type\":\"CDSView\"},{\"attributes\":{\"bottom\":{\"field\":\"bottom\"},\"fill_color\":{\"value\":\"#6BB6BC\"},\"top\":{\"field\":\"top\"},\"width\":{\"value\":0.7},\"x\":{\"field\":\"index\"}},\"id\":\"27083\",\"type\":\"VBar\"},{\"attributes\":{\"axis_label\":\"INDEX_YEAR\",\"formatter\":{\"id\":\"26820\"},\"major_label_policy\":{\"id\":\"26818\"},\"ticker\":{\"id\":\"26758\"}},\"id\":\"26757\",\"type\":\"LinearAxis\"},{\"attributes\":{},\"id\":\"27031\",\"type\":\"BasicTicker\"},{\"attributes\":{\"overlay\":{\"id\":\"27312\"}},\"id\":\"27310\",\"type\":\"BoxZoomTool\"},{\"attributes\":{\"click_policy\":\"mute\",\"items\":[{\"id\":\"27181\"},{\"id\":\"27203\"}],\"location\":[0,0],\"title\":\"LABEL\"},\"id\":\"27180\",\"type\":\"Legend\"},{\"attributes\":{},\"id\":\"27088\",\"type\":\"AllLabels\"},{\"attributes\":{},\"id\":\"27311\",\"type\":\"ResetTool\"},{\"attributes\":{\"line_alpha\":{\"value\":0.1},\"x0\":{\"field\":\"x0\"},\"x1\":{\"field\":\"x1\"},\"y0\":{\"field\":\"y0\"},\"y1\":{\"field\":\"y1\"}},\"id\":\"27350\",\"type\":\"Segment\"},{\"attributes\":{},\"id\":\"27036\",\"type\":\"WheelZoomTool\"},{\"attributes\":{\"active_multi\":null,\"tools\":[{\"id\":\"27307\"},{\"id\":\"27308\"},{\"id\":\"27309\"},{\"id\":\"27310\"},{\"id\":\"27311\"}]},\"id\":\"27313\",\"type\":\"Toolbar\"},{\"attributes\":{},\"id\":\"26762\",\"type\":\"PanTool\"},{\"attributes\":{},\"id\":\"27457\",\"type\":\"Selection\"},{\"attributes\":{\"source\":{\"id\":\"27060\"}},\"id\":\"27065\",\"type\":\"CDSView\"},{\"attributes\":{\"source\":{\"id\":\"27319\"}},\"id\":\"27324\",\"type\":\"CDSView\"},{\"attributes\":{},\"id\":\"27034\",\"type\":\"SaveTool\"},{\"attributes\":{\"line_alpha\":{\"value\":1.0},\"line_cap\":{\"value\":\"butt\"},\"line_color\":{\"value\":\"black\"},\"line_dash\":{\"value\":[]},\"line_dash_offset\":{\"value\":0},\"line_join\":{\"value\":\"bevel\"},\"line_width\":{\"value\":1},\"x0\":{\"field\":\"x0\"},\"x1\":{\"field\":\"x1\"},\"y0\":{\"field\":\"y0\"},\"y1\":{\"field\":\"y1\"}},\"id\":\"27066\",\"type\":\"Segment\"},{\"attributes\":{\"axis_label\":\"LABEL\",\"formatter\":{\"id\":\"26817\"},\"major_label_policy\":{\"id\":\"26815\"},\"ticker\":{\"id\":\"26755\"}},\"id\":\"26754\",\"type\":\"CategoricalAxis\"},{\"attributes\":{\"overlay\":{\"id\":\"26766\"}},\"id\":\"26764\",\"type\":\"BoxZoomTool\"},{\"attributes\":{\"overlay\":{\"id\":\"27039\"}},\"id\":\"27037\",\"type\":\"BoxZoomTool\"},{\"attributes\":{\"data_source\":{\"id\":\"27340\"},\"glyph\":{\"id\":\"27342\"},\"hover_glyph\":null,\"muted_glyph\":null,\"nonselection_glyph\":{\"id\":\"27343\"},\"selection_glyph\":{\"id\":\"27346\"},\"view\":{\"id\":\"27345\"}},\"id\":\"27344\",\"type\":\"GlyphRenderer\"},{\"attributes\":{\"line_alpha\":{\"value\":1.0},\"line_cap\":{\"value\":\"butt\"},\"line_color\":{\"value\":\"black\"},\"line_dash\":{\"value\":[]},\"line_dash_offset\":{\"value\":0},\"line_join\":{\"value\":\"bevel\"},\"line_width\":{\"value\":1},\"x0\":{\"field\":\"x0\"},\"x1\":{\"field\":\"x1\"},\"y0\":{\"field\":\"y0\"},\"y1\":{\"field\":\"y1\"}},\"id\":\"27332\",\"type\":\"Segment\"},{\"attributes\":{\"data\":{\"bottom\":{\"__ndarray__\":\"AAAAAACAUEAAAAAAAEBRQA==\",\"dtype\":\"float64\",\"order\":\"little\",\"shape\":[2]},\"index\":[\"0\",\"1\"],\"top\":{\"__ndarray__\":\"AAAAAAAATEAAAAAAAIBNQA==\",\"dtype\":\"float64\",\"order\":\"little\",\"shape\":[2]}},\"selected\":{\"id\":\"27106\"},\"selection_policy\":{\"id\":\"27105\"}},\"id\":\"27081\",\"type\":\"ColumnDataSource\"},{\"attributes\":{},\"id\":\"27038\",\"type\":\"ResetTool\"},{\"attributes\":{},\"id\":\"26752\",\"type\":\"LinearScale\"},{\"attributes\":{\"source\":{\"id\":\"27081\"}},\"id\":\"27086\",\"type\":\"CDSView\"},{\"attributes\":{\"source\":{\"id\":\"27347\"}},\"id\":\"27352\",\"type\":\"CDSView\"},{\"attributes\":{\"active_multi\":null,\"tools\":[{\"id\":\"27034\"},{\"id\":\"27035\"},{\"id\":\"27036\"},{\"id\":\"27037\"},{\"id\":\"27038\"}]},\"id\":\"27040\",\"type\":\"Toolbar\"},{\"attributes\":{\"source\":{\"id\":\"27340\"}},\"id\":\"27345\",\"type\":\"CDSView\"},{\"attributes\":{\"axis\":{\"id\":\"26754\"},\"grid_line_color\":null,\"ticker\":null},\"id\":\"26756\",\"type\":\"Grid\"},{\"attributes\":{},\"id\":\"26761\",\"type\":\"SaveTool\"},{\"attributes\":{\"line_alpha\":{\"value\":0.1},\"x0\":{\"field\":\"x0\"},\"x1\":{\"field\":\"x1\"},\"y0\":{\"field\":\"y0\"},\"y1\":{\"field\":\"y1\"}},\"id\":\"27056\",\"type\":\"Segment\"},{\"attributes\":{\"x0\":{\"field\":\"x0\"},\"x1\":{\"field\":\"x1\"},\"y0\":{\"field\":\"y0\"},\"y1\":{\"field\":\"y1\"}},\"id\":\"27328\",\"type\":\"Segment\"},{\"attributes\":{\"x0\":{\"field\":\"x0\"},\"x1\":{\"field\":\"x1\"},\"y0\":{\"field\":\"y0\"},\"y1\":{\"field\":\"y1\"}},\"id\":\"27335\",\"type\":\"Segment\"},{\"attributes\":{\"items\":[]},\"id\":\"27107\",\"type\":\"Legend\"},{\"attributes\":{},\"id\":\"27095\",\"type\":\"UnionRenderers\"},{\"attributes\":{},\"id\":\"26765\",\"type\":\"ResetTool\"},{\"attributes\":{\"angle\":{\"value\":0.0},\"fill_alpha\":{\"value\":1.0},\"fill_color\":{\"value\":\"black\"},\"hatch_alpha\":{\"value\":1.0},\"hatch_color\":{\"value\":\"black\"},\"hatch_scale\":{\"value\":12.0},\"hatch_weight\":{\"value\":1.0},\"line_alpha\":{\"value\":1.0},\"line_cap\":{\"value\":\"butt\"},\"line_color\":{\"value\":\"black\"},\"line_dash\":{\"value\":[]},\"line_dash_offset\":{\"value\":0},\"line_join\":{\"value\":\"bevel\"},\"line_width\":{\"value\":1},\"size\":{\"value\":4},\"x\":{\"field\":\"index\"},\"y\":{\"field\":\"INDEX_AGE\"}},\"id\":\"27052\",\"type\":\"Circle\"},{\"attributes\":{\"below\":[{\"id\":\"26862\"}],\"center\":[{\"id\":\"26865\"},{\"id\":\"26869\"}],\"height\":300,\"left\":[{\"id\":\"26866\"}],\"margin\":null,\"min_border_bottom\":10,\"min_border_left\":10,\"min_border_right\":10,\"min_border_top\":10,\"renderers\":[{\"id\":\"26895\"},{\"id\":\"26916\"}],\"right\":[{\"id\":\"26907\"}],\"sizing_mode\":\"fixed\",\"title\":{\"id\":\"26854\"},\"toolbar\":{\"id\":\"26876\"},\"toolbar_location\":null,\"width\":450,\"x_range\":{\"id\":\"26744\"},\"x_scale\":{\"id\":\"26858\"},\"y_range\":{\"id\":\"26850\"},\"y_scale\":{\"id\":\"26860\"}},\"id\":\"26853\",\"subtype\":\"Figure\",\"type\":\"Plot\"},{\"attributes\":{\"x0\":{\"field\":\"x0\"},\"x1\":{\"field\":\"x1\"},\"y0\":{\"field\":\"y0\"},\"y1\":{\"field\":\"y1\"}},\"id\":\"27069\",\"type\":\"Segment\"},{\"attributes\":{\"data_source\":{\"id\":\"26780\"},\"glyph\":{\"id\":\"26782\"},\"hover_glyph\":null,\"muted_glyph\":null,\"nonselection_glyph\":{\"id\":\"26783\"},\"selection_glyph\":{\"id\":\"26786\"},\"view\":{\"id\":\"26785\"}},\"id\":\"26784\",\"type\":\"GlyphRenderer\"},{\"attributes\":{\"source\":{\"id\":\"27046\"}},\"id\":\"27051\",\"type\":\"CDSView\"},{\"attributes\":{},\"id\":\"27096\",\"type\":\"Selection\"},{\"attributes\":{\"below\":[{\"id\":\"27135\"}],\"center\":[{\"id\":\"27138\"},{\"id\":\"27142\"}],\"height\":300,\"left\":[{\"id\":\"27139\"}],\"margin\":null,\"min_border_bottom\":10,\"min_border_left\":10,\"min_border_right\":10,\"min_border_top\":10,\"renderers\":[{\"id\":\"27168\"},{\"id\":\"27189\"}],\"right\":[{\"id\":\"27180\"}],\"sizing_mode\":\"fixed\",\"title\":{\"id\":\"27127\"},\"toolbar\":{\"id\":\"27149\"},\"toolbar_location\":null,\"width\":450,\"x_range\":{\"id\":\"27017\"},\"x_scale\":{\"id\":\"27131\"},\"y_range\":{\"id\":\"27123\"},\"y_scale\":{\"id\":\"27133\"}},\"id\":\"27126\",\"subtype\":\"Figure\",\"type\":\"Plot\"},{\"attributes\":{\"source\":{\"id\":\"26780\"}},\"id\":\"26785\",\"type\":\"CDSView\"},{\"attributes\":{\"bottom_units\":\"screen\",\"fill_alpha\":0.5,\"fill_color\":\"lightgrey\",\"left_units\":\"screen\",\"level\":\"overlay\",\"line_alpha\":1.0,\"line_color\":\"black\",\"line_dash\":[4,4],\"line_width\":2,\"right_units\":\"screen\",\"syncable\":false,\"top_units\":\"screen\"},\"id\":\"27312\",\"type\":\"BoxAnnotation\"},{\"attributes\":{\"data_source\":{\"id\":\"27074\"},\"glyph\":{\"id\":\"27076\"},\"hover_glyph\":null,\"muted_glyph\":null,\"nonselection_glyph\":{\"id\":\"27077\"},\"selection_glyph\":{\"id\":\"27080\"},\"view\":{\"id\":\"27079\"}},\"id\":\"27078\",\"type\":\"GlyphRenderer\"},{\"attributes\":{\"data_source\":{\"id\":\"27046\"},\"glyph\":{\"id\":\"27048\"},\"hover_glyph\":null,\"muted_glyph\":null,\"nonselection_glyph\":{\"id\":\"27049\"},\"selection_glyph\":{\"id\":\"27052\"},\"view\":{\"id\":\"27051\"}},\"id\":\"27050\",\"type\":\"GlyphRenderer\"},{\"attributes\":{\"line_alpha\":{\"value\":0.1},\"x0\":{\"field\":\"x0\"},\"x1\":{\"field\":\"x1\"},\"y0\":{\"field\":\"y0\"},\"y1\":{\"field\":\"y1\"}},\"id\":\"27329\",\"type\":\"Segment\"},{\"attributes\":{\"line_alpha\":{\"value\":1.0},\"line_cap\":{\"value\":\"butt\"},\"line_color\":{\"value\":\"black\"},\"line_dash\":{\"value\":[]},\"line_dash_offset\":{\"value\":0},\"line_join\":{\"value\":\"bevel\"},\"line_width\":{\"value\":1},\"x0\":{\"field\":\"x0\"},\"x1\":{\"field\":\"x1\"},\"y0\":{\"field\":\"y0\"},\"y1\":{\"field\":\"y1\"}},\"id\":\"26786\",\"type\":\"Segment\"},{\"attributes\":{\"x0\":{\"field\":\"x0\"},\"x1\":{\"field\":\"x1\"},\"y0\":{\"field\":\"y0\"},\"y1\":{\"field\":\"y1\"}},\"id\":\"26782\",\"type\":\"Segment\"},{\"attributes\":{\"source\":{\"id\":\"27333\"}},\"id\":\"27338\",\"type\":\"CDSView\"},{\"attributes\":{\"line_alpha\":{\"value\":0.1},\"x0\":{\"field\":\"x0\"},\"x1\":{\"field\":\"x1\"},\"y0\":{\"field\":\"y0\"},\"y1\":{\"field\":\"y1\"}},\"id\":\"27063\",\"type\":\"Segment\"},{\"attributes\":{\"data\":{\"x0\":[[\"0\",-0.2],[\"1\",-0.2]],\"x1\":[[\"0\",0.2],[\"1\",0.2]],\"y0\":[2000,1997],\"y1\":[2000,1997]},\"selected\":{\"id\":\"26829\"},\"selection_policy\":{\"id\":\"26828\"}},\"id\":\"26794\",\"type\":\"ColumnDataSource\"},{\"attributes\":{\"line_alpha\":{\"value\":1.0},\"line_cap\":{\"value\":\"butt\"},\"line_color\":{\"value\":\"black\"},\"line_dash\":{\"value\":[]},\"line_dash_offset\":{\"value\":0},\"line_join\":{\"value\":\"bevel\"},\"line_width\":{\"value\":1},\"x0\":{\"field\":\"x0\"},\"x1\":{\"field\":\"x1\"},\"y0\":{\"field\":\"y0\"},\"y1\":{\"field\":\"y1\"}},\"id\":\"27339\",\"type\":\"Segment\"},{\"attributes\":{},\"id\":\"27093\",\"type\":\"BasicTickFormatter\"},{\"attributes\":{},\"id\":\"27097\",\"type\":\"UnionRenderers\"},{\"attributes\":{\"source\":{\"id\":\"27067\"}},\"id\":\"27072\",\"type\":\"CDSView\"},{\"attributes\":{\"bottom_units\":\"screen\",\"fill_alpha\":0.5,\"fill_color\":\"lightgrey\",\"left_units\":\"screen\",\"level\":\"overlay\",\"line_alpha\":1.0,\"line_color\":\"black\",\"line_dash\":[4,4],\"line_width\":2,\"right_units\":\"screen\",\"syncable\":false,\"top_units\":\"screen\"},\"id\":\"27039\",\"type\":\"BoxAnnotation\"},{\"attributes\":{\"line_alpha\":{\"value\":1.0},\"line_cap\":{\"value\":\"butt\"},\"line_color\":{\"value\":\"black\"},\"line_dash\":{\"value\":[]},\"line_dash_offset\":{\"value\":0},\"line_join\":{\"value\":\"bevel\"},\"line_width\":{\"value\":1},\"x0\":{\"field\":\"x0\"},\"x1\":{\"field\":\"x1\"},\"y0\":{\"field\":\"y0\"},\"y1\":{\"field\":\"y1\"}},\"id\":\"27073\",\"type\":\"Segment\"},{\"attributes\":{\"line_alpha\":{\"value\":0.1},\"x0\":{\"field\":\"x0\"},\"x1\":{\"field\":\"x1\"},\"y0\":{\"field\":\"y0\"},\"y1\":{\"field\":\"y1\"}},\"id\":\"26783\",\"type\":\"Segment\"},{\"attributes\":{},\"id\":\"27098\",\"type\":\"Selection\"},{\"attributes\":{\"bottom_units\":\"screen\",\"fill_alpha\":0.5,\"fill_color\":\"lightgrey\",\"left_units\":\"screen\",\"level\":\"overlay\",\"line_alpha\":1.0,\"line_color\":\"black\",\"line_dash\":[4,4],\"line_width\":2,\"right_units\":\"screen\",\"syncable\":false,\"top_units\":\"screen\"},\"id\":\"26766\",\"type\":\"BoxAnnotation\"},{\"attributes\":{},\"id\":\"27091\",\"type\":\"AllLabels\"},{\"attributes\":{\"line_alpha\":{\"value\":1.0},\"line_cap\":{\"value\":\"butt\"},\"line_color\":{\"value\":\"black\"},\"line_dash\":{\"value\":[]},\"line_dash_offset\":{\"value\":0},\"line_join\":{\"value\":\"bevel\"},\"line_width\":{\"value\":1},\"x0\":{\"field\":\"x0\"},\"x1\":{\"field\":\"x1\"},\"y0\":{\"field\":\"y0\"},\"y1\":{\"field\":\"y1\"}},\"id\":\"27080\",\"type\":\"Segment\"},{\"attributes\":{},\"id\":\"27099\",\"type\":\"UnionRenderers\"},{\"attributes\":{\"line_alpha\":{\"value\":1.0},\"line_cap\":{\"value\":\"butt\"},\"line_color\":{\"value\":\"black\"},\"line_dash\":{\"value\":[]},\"line_dash_offset\":{\"value\":0},\"line_join\":{\"value\":\"bevel\"},\"line_width\":{\"value\":1},\"x0\":{\"field\":\"x0\"},\"x1\":{\"field\":\"x1\"},\"y0\":{\"field\":\"y0\"},\"y1\":{\"field\":\"y1\"}},\"id\":\"27346\",\"type\":\"Segment\"},{\"attributes\":{\"line_alpha\":{\"value\":0.1},\"x0\":{\"field\":\"x0\"},\"x1\":{\"field\":\"x1\"},\"y0\":{\"field\":\"y0\"},\"y1\":{\"field\":\"y1\"}},\"id\":\"27336\",\"type\":\"Segment\"},{\"attributes\":{\"fill_alpha\":{\"value\":0.1},\"fill_color\":{\"value\":\"black\"},\"line_alpha\":{\"value\":0.1},\"x\":{\"field\":\"index\"},\"y\":{\"field\":\"INDEX_AGE\"}},\"id\":\"27049\",\"type\":\"Circle\"},{\"attributes\":{\"data\":{\"x0\":[\"0\",\"1\"],\"x1\":[\"0\",\"1\"],\"y0\":[17,15],\"y1\":{\"__ndarray__\":\"AAAAAAAAHEAAAAAAAAAYQA==\",\"dtype\":\"float64\",\"order\":\"little\",\"shape\":[2]}},\"selected\":{\"id\":\"27371\"},\"selection_policy\":{\"id\":\"27370\"}},\"id\":\"27326\",\"type\":\"ColumnDataSource\"},{\"attributes\":{\"fill_color\":{\"value\":\"black\"},\"x\":{\"field\":\"index\"},\"y\":{\"field\":\"ENC_12M_BF\"}},\"id\":\"27321\",\"type\":\"Circle\"},{\"attributes\":{},\"id\":\"27100\",\"type\":\"Selection\"},{\"attributes\":{\"x0\":{\"field\":\"x0\"},\"x1\":{\"field\":\"x1\"},\"y0\":{\"field\":\"y0\"},\"y1\":{\"field\":\"y1\"}},\"id\":\"27349\",\"type\":\"Segment\"},{\"attributes\":{\"line_alpha\":{\"value\":0.1},\"x0\":{\"field\":\"x0\"},\"x1\":{\"field\":\"x1\"},\"y0\":{\"field\":\"y0\"},\"y1\":{\"field\":\"y1\"}},\"id\":\"27070\",\"type\":\"Segment\"},{\"attributes\":{\"fill_alpha\":{\"value\":0.1},\"fill_color\":{\"value\":\"black\"},\"line_alpha\":{\"value\":0.1},\"x\":{\"field\":\"index\"},\"y\":{\"field\":\"ENC_12M_BF\"}},\"id\":\"27322\",\"type\":\"Circle\"},{\"attributes\":{\"data_source\":{\"id\":\"27081\"},\"glyph\":{\"id\":\"27083\"},\"hover_glyph\":null,\"muted_glyph\":null,\"nonselection_glyph\":{\"id\":\"27084\"},\"selection_glyph\":{\"id\":\"27109\"},\"view\":{\"id\":\"27086\"}},\"id\":\"27085\",\"type\":\"GlyphRenderer\"}],\"root_ids\":[\"26741\"]},\"title\":\"Bokeh Application\",\"version\":\"2.3.3\"}};\n",
       "    var render_items = [{\"docid\":\"fe404fb6-20d6-4e5e-a208-de76a9e7a223\",\"root_ids\":[\"26741\"],\"roots\":{\"26741\":\"08959c57-b7b0-4c12-b34a-c6e8413657bf\"}}];\n",
       "    root.Bokeh.embed.embed_items_notebook(docs_json, render_items);\n",
       "  }\n",
       "  if (root.Bokeh !== undefined && root.Bokeh.Panel !== undefined) {\n",
       "    embed_document(root);\n",
       "  } else {\n",
       "    var attempts = 0;\n",
       "    var timer = setInterval(function(root) {\n",
       "      if (root.Bokeh !== undefined && root.Bokeh.Panel !== undefined) {\n",
       "        clearInterval(timer);\n",
       "        embed_document(root);\n",
       "      } else if (document.readyState == \"complete\") {\n",
       "        attempts++;\n",
       "        if (attempts > 200) {\n",
       "          clearInterval(timer);\n",
       "          console.log(\"Bokeh: ERROR: Unable to run BokehJS code because BokehJS library is missing\");\n",
       "        }\n",
       "      }\n",
       "    }, 25, root)\n",
       "  }\n",
       "})(window);</script>"
      ],
      "text/plain": [
       ":Layout\n",
       "   .BoxWhisker.I   :BoxWhisker   [LABEL]   (INDEX_YEAR)\n",
       "   .NdOverlay.I    :NdOverlay   [LABEL]\n",
       "      :Histogram   [INDEX_YEAR]   (INDEX_YEAR_count)\n",
       "   .BoxWhisker.II  :BoxWhisker   [LABEL]   (INDEX_AGE)\n",
       "   .NdOverlay.II   :NdOverlay   [LABEL]\n",
       "      :Histogram   [INDEX_AGE]   (INDEX_AGE_count)\n",
       "   .BoxWhisker.III :BoxWhisker   [LABEL]   (ENC_12M_BF)\n",
       "   .NdOverlay.III  :NdOverlay   [LABEL]\n",
       "      :Histogram   [ENC_12M_BF]   (ENC_12M_BF_count)"
      ]
     },
     "execution_count": 229,
     "metadata": {
      "application/vnd.holoviews_exec.v0+json": {
       "id": "26741"
      }
     },
     "output_type": "execute_result"
    }
   ],
   "source": [
    "b1=cohort.hvplot.box('INDEX_YEAR', by='LABEL', width=450, color = '#6BB6BC')\n",
    "hist1 =cohort.hvplot.hist('INDEX_YEAR', by='LABEL', width=450, color =[\"#DB9885\",'#6BB6BC']) \n",
    "\n",
    "b2=cohort.hvplot.box('INDEX_AGE', by='LABEL', width=450, color = '#6BB6BC') \n",
    "hist2 =cohort.hvplot.hist('INDEX_AGE', by='LABEL', width=450, color =[\"#DB9885\",'#6BB6BC'])\n",
    "\n",
    "b3=cohort.hvplot.box('ENC_12M_BF', by='LABEL', width=450, color = '#6BB6BC')\n",
    "hist3 =cohort.hvplot.hist('ENC_12M_BF', by='LABEL', width=450, color =[\"#DB9885\",'#6BB6BC'])\n",
    "\n",
    "(b1+hist1+b2+hist2+b3+hist3).cols(2)"
   ]
  },
  {
   "cell_type": "code",
   "execution_count": 230,
   "id": "9a5b3773",
   "metadata": {},
   "outputs": [],
   "source": [
    "#cohort.groupby('RACE').RACE.nunique()"
   ]
  },
  {
   "cell_type": "markdown",
   "id": "af4912a7",
   "metadata": {},
   "source": [
    "<h3>Categorical variables</h3>"
   ]
  },
  {
   "cell_type": "markdown",
   "id": "bf9626e7",
   "metadata": {},
   "source": [
    "Changing categories names for 'T2D_STATUS' colum"
   ]
  },
  {
   "cell_type": "code",
   "execution_count": 231,
   "id": "688c789d",
   "metadata": {},
   "outputs": [],
   "source": [
    "\n",
    "#cohort['T2D_STATUS'].replace(' Only','',regex=True,inplace=True)                            \n",
    "cohort['T2D_STATUS'] =cohort['T2D_STATUS'].replace({'ICD2+A1C+Meds':'All',})                                                    \n",
    "                                                    \n",
    "cohort['RACE'] =cohort['RACE'].replace({'AMERICAN INDIAN AND ALASKA NATIVE': 'IND',\n",
    "                                        'ASIAN': 'ASN',\n",
    "                                        'BLACK OR AFRICAN AMERICAN':'BLCK', \n",
    "                                        'HISPANIC OR LATINO': 'LTN',\n",
    "                                        'MULTIRACIAL': 'MLT',\n",
    "                                        'NATIVE HAWAIIAN AND OTHER PACIFIC ISLANDER': 'PCIF',\n",
    "                                        'REFUSED': 'REF',\n",
    "                                        'UNKNOWN/NOT DOCUMENTED': 'UN',})\n",
    "                             "
   ]
  },
  {
   "cell_type": "code",
   "execution_count": 264,
   "id": "0401f6c4",
   "metadata": {},
   "outputs": [
    {
     "data": {
      "text/plain": [
       "RACE\n",
       "ASN      1\n",
       "BLCK     1\n",
       "IND      1\n",
       "LTN      1\n",
       "MLT      1\n",
       "OTHER    1\n",
       "PCIF     1\n",
       "REF      1\n",
       "UN       1\n",
       "WHITE    1\n",
       "Name: RACE, dtype: int64"
      ]
     },
     "execution_count": 264,
     "metadata": {},
     "output_type": "execute_result"
    }
   ],
   "source": [
    "#cohort.groupby('RACE').RACE.nunique()"
   ]
  },
  {
   "cell_type": "code",
   "execution_count": 233,
   "id": "7ca4e558",
   "metadata": {},
   "outputs": [],
   "source": [
    "## Or rename the existing DataFrame (rather than creating a copy) \n",
    "#df.rename(columns={'oldName1': 'newName1', 'oldName2': 'newName2'}, inplace=True)"
   ]
  },
  {
   "cell_type": "code",
   "execution_count": 265,
   "id": "fa557d76",
   "metadata": {},
   "outputs": [],
   "source": [
    "c=cohort.groupby(['T2D_STATUS', 'LABEL']).count()\n",
    "p1=(c/c.groupby(level=0).sum()).hvplot.bar(stacked=False, legend='top_left',width=450, color =[\"#DB9885\",'#6BB6BC'] )#.opts(fontscale=2,)\n",
    "\n",
    "c=cohort.groupby(['RACE', 'LABEL']).count()\n",
    "p2=(c/c.groupby(level=0).sum()).hvplot.bar(stacked=False,legend='top_left',width=450, color =[\"#DB9885\",'#6BB6BC'])\n",
    "\n",
    "c=cohort.groupby(['GENDER', 'LABEL']).count()\n",
    "p3=(c/c.groupby(level=0).sum()).hvplot.bar(stacked=False, legend='top_left',width=450, color =[\"#DB9885\",'#6BB6BC'])\n",
    "\n",
    "c=cohort.groupby(['CARDIOVASCULAR', 'LABEL']).count()\n",
    "p4=(c/c.groupby(level=0).sum()).hvplot.bar(stacked=False, legend='top_left',width=450, color =[\"#DB9885\",'#6BB6BC'])\n",
    "\n",
    "c=cohort.groupby(['MED_PRESCR', 'LABEL']).count()\n",
    "p5=(c/c.groupby(level=0).sum()).hvplot.bar(stacked=False, legend='top_left',width=450, color =[\"#DB9885\",'#6BB6BC'])"
   ]
  },
  {
   "cell_type": "code",
   "execution_count": 266,
   "id": "bd27cb6d",
   "metadata": {},
   "outputs": [
    {
     "data": {},
     "metadata": {},
     "output_type": "display_data"
    },
    {
     "data": {
      "application/vnd.holoviews_exec.v0+json": "",
      "text/html": [
       "<div id='36810'>\n",
       "\n",
       "\n",
       "\n",
       "\n",
       "\n",
       "  <div class=\"bk-root\" id=\"c482b0e6-c074-4c04-8b97-04723ff0eb1a\" data-root-id=\"36810\"></div>\n",
       "</div>\n",
       "<script type=\"application/javascript\">(function(root) {\n",
       "  function embed_document(root) {\n",
       "    var docs_json = {\"2c5dac8f-ef25-4926-8861-ffa7e2c56ef6\":{\"defs\":[{\"extends\":null,\"module\":null,\"name\":\"ReactiveHTML1\",\"overrides\":[],\"properties\":[]},{\"extends\":null,\"module\":null,\"name\":\"FlexBox1\",\"overrides\":[],\"properties\":[{\"default\":\"flex-start\",\"kind\":null,\"name\":\"align_content\"},{\"default\":\"flex-start\",\"kind\":null,\"name\":\"align_items\"},{\"default\":\"row\",\"kind\":null,\"name\":\"flex_direction\"},{\"default\":\"wrap\",\"kind\":null,\"name\":\"flex_wrap\"},{\"default\":\"flex-start\",\"kind\":null,\"name\":\"justify_content\"}]},{\"extends\":null,\"module\":null,\"name\":\"TemplateActions1\",\"overrides\":[],\"properties\":[{\"default\":0,\"kind\":null,\"name\":\"open_modal\"},{\"default\":0,\"kind\":null,\"name\":\"close_modal\"}]},{\"extends\":null,\"module\":null,\"name\":\"MaterialTemplateActions1\",\"overrides\":[],\"properties\":[{\"default\":0,\"kind\":null,\"name\":\"open_modal\"},{\"default\":0,\"kind\":null,\"name\":\"close_modal\"}]}],\"roots\":{\"references\":[{\"attributes\":{\"active_multi\":null,\"tools\":[{\"id\":\"37002\"},{\"id\":\"37019\"},{\"id\":\"37020\"},{\"id\":\"37021\"},{\"id\":\"37022\"},{\"id\":\"37023\"}]},\"id\":\"37025\",\"type\":\"Toolbar\"},{\"attributes\":{},\"id\":\"36953\",\"type\":\"AllLabels\"},{\"attributes\":{},\"id\":\"37078\",\"type\":\"UnionRenderers\"},{\"attributes\":{},\"id\":\"37067\",\"type\":\"UnionRenderers\"},{\"attributes\":{\"bottom_units\":\"screen\",\"fill_alpha\":0.5,\"fill_color\":\"lightgrey\",\"left_units\":\"screen\",\"level\":\"overlay\",\"line_alpha\":1.0,\"line_color\":\"black\",\"line_dash\":[4,4],\"line_width\":2,\"right_units\":\"screen\",\"syncable\":false,\"top_units\":\"screen\"},\"id\":\"36977\",\"type\":\"BoxAnnotation\"},{\"attributes\":{\"data\":{\"INDEX_YEAR\":{\"__ndarray__\":\"PVpUIvma6j8EqOCc9mLqPzLGGGOMMeY/27Zt27Zt6z8+6wZT5LPuPzjlLU9P/uw/yFYEDSd17z8AAAAAAADwPxIB+ocGde0/oHvsXpaO6j8Nl652G5TFP/FffYwldMY/nXPOOeec0z+SJEmSJEnCPxxMkc+6waQ/RNaQhoUNuD8NJ3VfHluRP2/3L8DLV7Q/ghFOhKbFxT8=\",\"dtype\":\"float64\",\"order\":\"little\",\"shape\":[19]},\"LABEL\":[\"0\",\"0\",\"0\",\"0\",\"0\",\"0\",\"0\",\"0\",\"0\",\"0\",\"1\",\"1\",\"1\",\"1\",\"1\",\"1\",\"1\",\"1\",\"1\"],\"RACE\":[\"ASN\",\"BLCK\",\"IND\",\"LTN\",\"MLT\",\"OTHER\",\"PCIF\",\"REF\",\"UN\",\"WHITE\",\"ASN\",\"BLCK\",\"IND\",\"LTN\",\"MLT\",\"OTHER\",\"PCIF\",\"UN\",\"WHITE\"],\"xoffsets\":[[\"ASN\",\"0\"],[\"BLCK\",\"0\"],[\"IND\",\"0\"],[\"LTN\",\"0\"],[\"MLT\",\"0\"],[\"OTHER\",\"0\"],[\"PCIF\",\"0\"],[\"REF\",\"0\"],[\"UN\",\"0\"],[\"WHITE\",\"0\"],[\"ASN\",\"1\"],[\"BLCK\",\"1\"],[\"IND\",\"1\"],[\"LTN\",\"1\"],[\"MLT\",\"1\"],[\"OTHER\",\"1\"],[\"PCIF\",\"1\"],[\"UN\",\"1\"],[\"WHITE\",\"1\"]]},\"selected\":{\"id\":\"36893\"},\"selection_policy\":{\"id\":\"37067\"}},\"id\":\"36892\",\"type\":\"ColumnDataSource\"},{\"attributes\":{\"bottom_units\":\"screen\",\"fill_alpha\":0.5,\"fill_color\":\"lightgrey\",\"left_units\":\"screen\",\"level\":\"overlay\",\"line_alpha\":1.0,\"line_color\":\"black\",\"line_dash\":[4,4],\"line_width\":2,\"right_units\":\"screen\",\"syncable\":false,\"top_units\":\"screen\"},\"id\":\"36883\",\"type\":\"BoxAnnotation\"},{\"attributes\":{},\"id\":\"37034\",\"type\":\"Selection\"},{\"attributes\":{\"bottom_units\":\"screen\",\"fill_alpha\":0.5,\"fill_color\":\"lightgrey\",\"left_units\":\"screen\",\"level\":\"overlay\",\"line_alpha\":1.0,\"line_color\":\"black\",\"line_dash\":[4,4],\"line_width\":2,\"right_units\":\"screen\",\"syncable\":false,\"top_units\":\"screen\"},\"id\":\"37024\",\"type\":\"BoxAnnotation\"},{\"attributes\":{\"children\":[[{\"id\":\"36815\"},0,0],[{\"id\":\"36862\"},0,1],[{\"id\":\"36909\"},1,0],[{\"id\":\"36956\"},1,1],[{\"id\":\"37003\"},2,0]]},\"id\":\"37103\",\"type\":\"GridBox\"},{\"attributes\":{\"children\":[{\"id\":\"37105\"},{\"id\":\"37103\"}]},\"id\":\"37106\",\"type\":\"Column\"},{\"attributes\":{\"bottom\":{\"value\":0},\"fill_alpha\":{\"value\":1.0},\"fill_color\":{\"field\":\"LABEL\",\"transform\":{\"id\":\"36985\"}},\"hatch_alpha\":{\"value\":1.0},\"hatch_color\":{\"value\":\"black\"},\"hatch_scale\":{\"value\":12.0},\"hatch_weight\":{\"value\":1.0},\"line_alpha\":{\"value\":1.0},\"line_cap\":{\"value\":\"butt\"},\"line_color\":{\"value\":\"black\"},\"line_dash\":{\"value\":[]},\"line_dash_offset\":{\"value\":0},\"line_join\":{\"value\":\"bevel\"},\"line_width\":{\"value\":1},\"top\":{\"field\":\"INDEX_YEAR\"},\"width\":{\"value\":0.8},\"x\":{\"field\":\"xoffsets\"}},\"id\":\"36994\",\"type\":\"VBar\"},{\"attributes\":{\"margin\":[5,5,5,5],\"name\":\"HSpacer40547\",\"sizing_mode\":\"stretch_width\"},\"id\":\"37557\",\"type\":\"Spacer\"},{\"attributes\":{\"fill_color\":{\"field\":\"LABEL\",\"transform\":{\"id\":\"36985\"}},\"top\":{\"field\":\"INDEX_YEAR\"},\"width\":{\"value\":0.8},\"x\":{\"field\":\"xoffsets\"}},\"id\":\"36989\",\"type\":\"VBar\"},{\"attributes\":{},\"id\":\"37056\",\"type\":\"UnionRenderers\"},{\"attributes\":{\"fill_alpha\":{\"value\":0.1},\"fill_color\":{\"field\":\"LABEL\",\"transform\":{\"id\":\"36985\"}},\"line_alpha\":{\"value\":0.1},\"top\":{\"field\":\"INDEX_YEAR\"},\"width\":{\"value\":0.8},\"x\":{\"field\":\"xoffsets\"}},\"id\":\"36990\",\"type\":\"VBar\"},{\"attributes\":{},\"id\":\"36987\",\"type\":\"Selection\"},{\"attributes\":{\"end\":1.0983050847457627,\"reset_end\":1.0983050847457627,\"reset_start\":0.0,\"tags\":[[[\"INDEX_YEAR\",\"INDEX_YEAR\",null]]]},\"id\":\"36813\",\"type\":\"Range1d\"},{\"attributes\":{\"factors\":[[\"A1C Only\",\"0\"],[\"A1C Only\",\"1\"],[\"A1C+Meds\",\"0\"],[\"A1C+Meds\",\"1\"],[\"All\",\"0\"],[\"All\",\"1\"],[\"ICD2 Only\",\"0\"],[\"ICD2 Only\",\"1\"],[\"ICD2+A1C\",\"0\"],[\"ICD2+A1C\",\"1\"],[\"ICD2+Meds\",\"0\"],[\"ICD2+Meds\",\"1\"],[\"Meds Only\",\"0\"],[\"Meds Only\",\"1\"]],\"tags\":[[[\"T2D_STATUS\",\"T2D_STATUS\",null],[\"LABEL\",\"LABEL\",null]]]},\"id\":\"36812\",\"type\":\"FactorRange\"},{\"attributes\":{},\"id\":\"36996\",\"type\":\"CategoricalTickFormatter\"},{\"attributes\":{\"factors\":[[\"F\",\"0\"],[\"F\",\"1\"],[\"M\",\"0\"],[\"M\",\"1\"]],\"tags\":[[[\"GENDER\",\"GENDER\",null],[\"LABEL\",\"LABEL\",null]]]},\"id\":\"36907\",\"type\":\"FactorRange\"},{\"attributes\":{},\"id\":\"36904\",\"type\":\"BasicTickFormatter\"},{\"attributes\":{\"text_color\":\"black\",\"text_font_size\":\"12pt\"},\"id\":\"37004\",\"type\":\"Title\"},{\"attributes\":{\"bottom\":{\"value\":0},\"fill_alpha\":{\"value\":1.0},\"fill_color\":{\"field\":\"LABEL\",\"transform\":{\"id\":\"37032\"}},\"hatch_alpha\":{\"value\":1.0},\"hatch_color\":{\"value\":\"black\"},\"hatch_scale\":{\"value\":12.0},\"hatch_weight\":{\"value\":1.0},\"line_alpha\":{\"value\":1.0},\"line_cap\":{\"value\":\"butt\"},\"line_color\":{\"value\":\"black\"},\"line_dash\":{\"value\":[]},\"line_dash_offset\":{\"value\":0},\"line_join\":{\"value\":\"bevel\"},\"line_width\":{\"value\":1},\"top\":{\"field\":\"INDEX_YEAR\"},\"width\":{\"value\":0.8},\"x\":{\"field\":\"xoffsets\"}},\"id\":\"37041\",\"type\":\"VBar\"},{\"attributes\":{\"source\":{\"id\":\"36986\"}},\"id\":\"36993\",\"type\":\"CDSView\"},{\"attributes\":{\"source\":{\"id\":\"37033\"}},\"id\":\"37040\",\"type\":\"CDSView\"},{\"attributes\":{},\"id\":\"36919\",\"type\":\"CategoricalTicker\"},{\"attributes\":{},\"id\":\"36914\",\"type\":\"CategoricalScale\"},{\"attributes\":{},\"id\":\"37044\",\"type\":\"AllLabels\"},{\"attributes\":{},\"id\":\"37010\",\"type\":\"LinearScale\"},{\"attributes\":{\"axis_label\":\"GENDER, LABEL\",\"formatter\":{\"id\":\"36949\"},\"major_label_policy\":{\"id\":\"36950\"},\"ticker\":{\"id\":\"36919\"}},\"id\":\"36918\",\"type\":\"CategoricalAxis\"},{\"attributes\":{\"data_source\":{\"id\":\"36986\"},\"glyph\":{\"id\":\"36989\"},\"hover_glyph\":null,\"muted_glyph\":{\"id\":\"36991\"},\"nonselection_glyph\":{\"id\":\"36990\"},\"selection_glyph\":{\"id\":\"36994\"},\"view\":{\"id\":\"36993\"}},\"id\":\"36992\",\"type\":\"GlyphRenderer\"},{\"attributes\":{\"below\":[{\"id\":\"37012\"}],\"center\":[{\"id\":\"37014\"},{\"id\":\"37018\"}],\"height\":300,\"left\":[{\"id\":\"37015\"}],\"margin\":null,\"min_border_bottom\":10,\"min_border_left\":10,\"min_border_right\":10,\"min_border_top\":10,\"renderers\":[{\"id\":\"37039\"}],\"sizing_mode\":\"fixed\",\"title\":{\"id\":\"37004\"},\"toolbar\":{\"id\":\"37025\"},\"toolbar_location\":null,\"width\":450,\"x_range\":{\"id\":\"37001\"},\"x_scale\":{\"id\":\"37008\"},\"y_range\":{\"id\":\"36813\"},\"y_scale\":{\"id\":\"37010\"}},\"id\":\"37003\",\"subtype\":\"Figure\",\"type\":\"Plot\"},{\"attributes\":{\"callback\":null,\"renderers\":[{\"id\":\"36945\"}],\"tags\":[\"hv_created\"],\"tooltips\":[[\"GENDER\",\"@{GENDER}\"],[\"LABEL\",\"@{LABEL}\"],[\"INDEX_YEAR\",\"@{INDEX_YEAR}\"]]},\"id\":\"36908\",\"type\":\"HoverTool\"},{\"attributes\":{\"toolbars\":[{\"id\":\"36837\"},{\"id\":\"36884\"},{\"id\":\"36931\"},{\"id\":\"36978\"},{\"id\":\"37025\"}],\"tools\":[{\"id\":\"36814\"},{\"id\":\"36831\"},{\"id\":\"36832\"},{\"id\":\"36833\"},{\"id\":\"36834\"},{\"id\":\"36835\"},{\"id\":\"36861\"},{\"id\":\"36878\"},{\"id\":\"36879\"},{\"id\":\"36880\"},{\"id\":\"36881\"},{\"id\":\"36882\"},{\"id\":\"36908\"},{\"id\":\"36925\"},{\"id\":\"36926\"},{\"id\":\"36927\"},{\"id\":\"36928\"},{\"id\":\"36929\"},{\"id\":\"36955\"},{\"id\":\"36972\"},{\"id\":\"36973\"},{\"id\":\"36974\"},{\"id\":\"36975\"},{\"id\":\"36976\"},{\"id\":\"37002\"},{\"id\":\"37019\"},{\"id\":\"37020\"},{\"id\":\"37021\"},{\"id\":\"37022\"},{\"id\":\"37023\"}]},\"id\":\"37104\",\"type\":\"ProxyToolbar\"},{\"attributes\":{\"axis\":{\"id\":\"36918\"},\"grid_line_color\":null,\"ticker\":null},\"id\":\"36920\",\"type\":\"Grid\"},{\"attributes\":{\"factors\":[\"0\",\"1\"],\"palette\":[\"#DB9885\",\"#6BB6BC\"]},\"id\":\"36891\",\"type\":\"CategoricalColorMapper\"},{\"attributes\":{},\"id\":\"36926\",\"type\":\"PanTool\"},{\"attributes\":{},\"id\":\"36916\",\"type\":\"LinearScale\"},{\"attributes\":{\"axis\":{\"id\":\"36921\"},\"dimension\":1,\"grid_line_color\":null,\"ticker\":null},\"id\":\"36924\",\"type\":\"Grid\"},{\"attributes\":{},\"id\":\"36922\",\"type\":\"BasicTicker\"},{\"attributes\":{},\"id\":\"37043\",\"type\":\"CategoricalTickFormatter\"},{\"attributes\":{},\"id\":\"36927\",\"type\":\"WheelZoomTool\"},{\"attributes\":{\"fill_alpha\":{\"value\":0.2},\"fill_color\":{\"field\":\"LABEL\",\"transform\":{\"id\":\"36985\"}},\"line_alpha\":{\"value\":0.2},\"top\":{\"field\":\"INDEX_YEAR\"},\"width\":{\"value\":0.8},\"x\":{\"field\":\"xoffsets\"}},\"id\":\"36991\",\"type\":\"VBar\"},{\"attributes\":{\"axis_label\":\"INDEX_YEAR\",\"formatter\":{\"id\":\"36951\"},\"major_label_policy\":{\"id\":\"36953\"},\"ticker\":{\"id\":\"36922\"}},\"id\":\"36921\",\"type\":\"LinearAxis\"},{\"attributes\":{\"fill_alpha\":{\"value\":0.2},\"fill_color\":{\"field\":\"LABEL\",\"transform\":{\"id\":\"37032\"}},\"line_alpha\":{\"value\":0.2},\"top\":{\"field\":\"INDEX_YEAR\"},\"width\":{\"value\":0.8},\"x\":{\"field\":\"xoffsets\"}},\"id\":\"37038\",\"type\":\"VBar\"},{\"attributes\":{},\"id\":\"37008\",\"type\":\"CategoricalScale\"},{\"attributes\":{\"text_color\":\"black\",\"text_font_size\":\"12pt\"},\"id\":\"36910\",\"type\":\"Title\"},{\"attributes\":{},\"id\":\"36925\",\"type\":\"SaveTool\"},{\"attributes\":{},\"id\":\"36906\",\"type\":\"AllLabels\"},{\"attributes\":{},\"id\":\"37000\",\"type\":\"AllLabels\"},{\"attributes\":{\"data\":{\"GENDER\":[\"F\",\"M\",\"F\",\"M\"],\"INDEX_YEAR\":{\"__ndarray__\":\"NE/VMxS96z9KFsbkUaXrPy7DqjCvC8E/2KbnbLhqwT8=\",\"dtype\":\"float64\",\"order\":\"little\",\"shape\":[4]},\"LABEL\":[\"0\",\"0\",\"1\",\"1\"],\"xoffsets\":[[\"F\",\"0\"],[\"M\",\"0\"],[\"F\",\"1\"],[\"M\",\"1\"]]},\"selected\":{\"id\":\"36940\"},\"selection_policy\":{\"id\":\"37078\"}},\"id\":\"36939\",\"type\":\"ColumnDataSource\"},{\"attributes\":{},\"id\":\"36997\",\"type\":\"AllLabels\"},{\"attributes\":{},\"id\":\"37047\",\"type\":\"AllLabels\"},{\"attributes\":{\"active_multi\":null,\"tools\":[{\"id\":\"36908\"},{\"id\":\"36925\"},{\"id\":\"36926\"},{\"id\":\"36927\"},{\"id\":\"36928\"},{\"id\":\"36929\"}]},\"id\":\"36931\",\"type\":\"Toolbar\"},{\"attributes\":{},\"id\":\"37045\",\"type\":\"BasicTickFormatter\"},{\"attributes\":{},\"id\":\"36929\",\"type\":\"ResetTool\"},{\"attributes\":{\"overlay\":{\"id\":\"36930\"}},\"id\":\"36928\",\"type\":\"BoxZoomTool\"},{\"attributes\":{},\"id\":\"36998\",\"type\":\"BasicTickFormatter\"},{\"attributes\":{\"factors\":[\"0\",\"1\"],\"palette\":[\"#DB9885\",\"#6BB6BC\"]},\"id\":\"37032\",\"type\":\"CategoricalColorMapper\"},{\"attributes\":{\"factors\":[[\"True\",\"0\"],[\"True\",\"1\"]],\"tags\":[[[\"CARDIOVASCULAR\",\"CARDIOVASCULAR\",null],[\"LABEL\",\"LABEL\",null]]]},\"id\":\"36954\",\"type\":\"FactorRange\"},{\"attributes\":{\"data_source\":{\"id\":\"37033\"},\"glyph\":{\"id\":\"37036\"},\"hover_glyph\":null,\"muted_glyph\":{\"id\":\"37038\"},\"nonselection_glyph\":{\"id\":\"37037\"},\"selection_glyph\":{\"id\":\"37041\"},\"view\":{\"id\":\"37040\"}},\"id\":\"37039\",\"type\":\"GlyphRenderer\"},{\"attributes\":{\"callback\":null,\"renderers\":[{\"id\":\"36992\"}],\"tags\":[\"hv_created\"],\"tooltips\":[[\"CARDIOVASCULAR\",\"@{CARDIOVASCULAR}\"],[\"LABEL\",\"@{LABEL}\"],[\"INDEX_YEAR\",\"@{INDEX_YEAR}\"]]},\"id\":\"36955\",\"type\":\"HoverTool\"},{\"attributes\":{},\"id\":\"37089\",\"type\":\"UnionRenderers\"},{\"attributes\":{\"fill_color\":{\"field\":\"LABEL\",\"transform\":{\"id\":\"37032\"}},\"top\":{\"field\":\"INDEX_YEAR\"},\"width\":{\"value\":0.8},\"x\":{\"field\":\"xoffsets\"}},\"id\":\"37036\",\"type\":\"VBar\"},{\"attributes\":{\"factors\":[[\"0\",\"0\"],[\"0\",\"1\"],[\"1\",\"0\"],[\"1\",\"1\"]],\"tags\":[[[\"MED_PRESCR\",\"MED_PRESCR\",null],[\"LABEL\",\"LABEL\",null]]]},\"id\":\"37001\",\"type\":\"FactorRange\"},{\"attributes\":{\"below\":[{\"id\":\"36965\"}],\"center\":[{\"id\":\"36967\"},{\"id\":\"36971\"}],\"height\":300,\"left\":[{\"id\":\"36968\"}],\"margin\":null,\"min_border_bottom\":10,\"min_border_left\":10,\"min_border_right\":10,\"min_border_top\":10,\"renderers\":[{\"id\":\"36992\"}],\"sizing_mode\":\"fixed\",\"title\":{\"id\":\"36957\"},\"toolbar\":{\"id\":\"36978\"},\"toolbar_location\":null,\"width\":450,\"x_range\":{\"id\":\"36954\"},\"x_scale\":{\"id\":\"36961\"},\"y_range\":{\"id\":\"36813\"},\"y_scale\":{\"id\":\"36963\"}},\"id\":\"36956\",\"subtype\":\"Figure\",\"type\":\"Plot\"},{\"attributes\":{\"callback\":null,\"renderers\":[{\"id\":\"37039\"}],\"tags\":[\"hv_created\"],\"tooltips\":[[\"MED_PRESCR\",\"@{MED_PRESCR}\"],[\"LABEL\",\"@{LABEL}\"],[\"INDEX_YEAR\",\"@{INDEX_YEAR}\"]]},\"id\":\"37002\",\"type\":\"HoverTool\"},{\"attributes\":{\"axis_label\":\"MED_PRESCR, LABEL\",\"formatter\":{\"id\":\"37043\"},\"major_label_policy\":{\"id\":\"37044\"},\"ticker\":{\"id\":\"37013\"}},\"id\":\"37012\",\"type\":\"CategoricalAxis\"},{\"attributes\":{},\"id\":\"37013\",\"type\":\"CategoricalTicker\"},{\"attributes\":{\"bottom_units\":\"screen\",\"fill_alpha\":0.5,\"fill_color\":\"lightgrey\",\"left_units\":\"screen\",\"level\":\"overlay\",\"line_alpha\":1.0,\"line_color\":\"black\",\"line_dash\":[4,4],\"line_width\":2,\"right_units\":\"screen\",\"syncable\":false,\"top_units\":\"screen\"},\"id\":\"36930\",\"type\":\"BoxAnnotation\"},{\"attributes\":{\"factors\":[\"0\",\"1\"],\"palette\":[\"#DB9885\",\"#6BB6BC\"]},\"id\":\"36985\",\"type\":\"CategoricalColorMapper\"},{\"attributes\":{\"callback\":null,\"renderers\":[{\"id\":\"36851\"}],\"tags\":[\"hv_created\"],\"tooltips\":[[\"T2D_STATUS\",\"@{T2D_STATUS}\"],[\"LABEL\",\"@{LABEL}\"],[\"INDEX_YEAR\",\"@{INDEX_YEAR}\"]]},\"id\":\"36814\",\"type\":\"HoverTool\"},{\"attributes\":{\"bottom\":{\"value\":0},\"fill_alpha\":{\"value\":1.0},\"fill_color\":{\"field\":\"LABEL\",\"transform\":{\"id\":\"36844\"}},\"hatch_alpha\":{\"value\":1.0},\"hatch_color\":{\"value\":\"black\"},\"hatch_scale\":{\"value\":12.0},\"hatch_weight\":{\"value\":1.0},\"line_alpha\":{\"value\":1.0},\"line_cap\":{\"value\":\"butt\"},\"line_color\":{\"value\":\"black\"},\"line_dash\":{\"value\":[]},\"line_dash_offset\":{\"value\":0},\"line_join\":{\"value\":\"bevel\"},\"line_width\":{\"value\":1},\"top\":{\"field\":\"INDEX_YEAR\"},\"width\":{\"value\":0.8},\"x\":{\"field\":\"xoffsets\"}},\"id\":\"36853\",\"type\":\"VBar\"},{\"attributes\":{\"fill_color\":{\"field\":\"LABEL\",\"transform\":{\"id\":\"36844\"}},\"top\":{\"field\":\"INDEX_YEAR\"},\"width\":{\"value\":0.8},\"x\":{\"field\":\"xoffsets\"}},\"id\":\"36848\",\"type\":\"VBar\"},{\"attributes\":{\"fill_alpha\":{\"value\":0.1},\"fill_color\":{\"field\":\"LABEL\",\"transform\":{\"id\":\"36844\"}},\"line_alpha\":{\"value\":0.1},\"top\":{\"field\":\"INDEX_YEAR\"},\"width\":{\"value\":0.8},\"x\":{\"field\":\"xoffsets\"}},\"id\":\"36849\",\"type\":\"VBar\"},{\"attributes\":{\"fill_color\":{\"field\":\"LABEL\",\"transform\":{\"id\":\"36891\"}},\"top\":{\"field\":\"INDEX_YEAR\"},\"width\":{\"value\":0.8},\"x\":{\"field\":\"xoffsets\"}},\"id\":\"36895\",\"type\":\"VBar\"},{\"attributes\":{},\"id\":\"36846\",\"type\":\"Selection\"},{\"attributes\":{\"axis\":{\"id\":\"36827\"},\"dimension\":1,\"grid_line_color\":null,\"ticker\":null},\"id\":\"36830\",\"type\":\"Grid\"},{\"attributes\":{},\"id\":\"36855\",\"type\":\"CategoricalTickFormatter\"},{\"attributes\":{},\"id\":\"36825\",\"type\":\"CategoricalTicker\"},{\"attributes\":{\"text_color\":\"black\",\"text_font_size\":\"12pt\"},\"id\":\"36863\",\"type\":\"Title\"},{\"attributes\":{\"source\":{\"id\":\"36845\"}},\"id\":\"36852\",\"type\":\"CDSView\"},{\"attributes\":{\"callback\":null,\"renderers\":[{\"id\":\"36898\"}],\"tags\":[\"hv_created\"],\"tooltips\":[[\"RACE\",\"@{RACE}\"],[\"LABEL\",\"@{LABEL}\"],[\"INDEX_YEAR\",\"@{INDEX_YEAR}\"]]},\"id\":\"36861\",\"type\":\"HoverTool\"},{\"attributes\":{\"axis_label\":\"T2D_STATUS, LABEL\",\"formatter\":{\"id\":\"36855\"},\"major_label_policy\":{\"id\":\"36856\"},\"ticker\":{\"id\":\"36825\"}},\"id\":\"36824\",\"type\":\"CategoricalAxis\"},{\"attributes\":{\"fill_alpha\":{\"value\":0.1},\"fill_color\":{\"field\":\"LABEL\",\"transform\":{\"id\":\"37032\"}},\"line_alpha\":{\"value\":0.1},\"top\":{\"field\":\"INDEX_YEAR\"},\"width\":{\"value\":0.8},\"x\":{\"field\":\"xoffsets\"}},\"id\":\"37037\",\"type\":\"VBar\"},{\"attributes\":{\"text_color\":\"black\",\"text_font_size\":\"12pt\"},\"id\":\"36957\",\"type\":\"Title\"},{\"attributes\":{\"source\":{\"id\":\"36892\"}},\"id\":\"36899\",\"type\":\"CDSView\"},{\"attributes\":{\"below\":[{\"id\":\"36871\"}],\"center\":[{\"id\":\"36873\"},{\"id\":\"36877\"}],\"height\":300,\"left\":[{\"id\":\"36874\"}],\"margin\":null,\"min_border_bottom\":10,\"min_border_left\":10,\"min_border_right\":10,\"min_border_top\":10,\"renderers\":[{\"id\":\"36898\"}],\"sizing_mode\":\"fixed\",\"title\":{\"id\":\"36863\"},\"toolbar\":{\"id\":\"36884\"},\"toolbar_location\":null,\"width\":450,\"x_range\":{\"id\":\"36860\"},\"x_scale\":{\"id\":\"36867\"},\"y_range\":{\"id\":\"36813\"},\"y_scale\":{\"id\":\"36869\"}},\"id\":\"36862\",\"subtype\":\"Figure\",\"type\":\"Plot\"},{\"attributes\":{},\"id\":\"36820\",\"type\":\"CategoricalScale\"},{\"attributes\":{\"data_source\":{\"id\":\"36845\"},\"glyph\":{\"id\":\"36848\"},\"hover_glyph\":null,\"muted_glyph\":{\"id\":\"36850\"},\"nonselection_glyph\":{\"id\":\"36849\"},\"selection_glyph\":{\"id\":\"36853\"},\"view\":{\"id\":\"36852\"}},\"id\":\"36851\",\"type\":\"GlyphRenderer\"},{\"attributes\":{\"bottom\":{\"value\":0},\"fill_alpha\":{\"value\":1.0},\"fill_color\":{\"field\":\"LABEL\",\"transform\":{\"id\":\"36938\"}},\"hatch_alpha\":{\"value\":1.0},\"hatch_color\":{\"value\":\"black\"},\"hatch_scale\":{\"value\":12.0},\"hatch_weight\":{\"value\":1.0},\"line_alpha\":{\"value\":1.0},\"line_cap\":{\"value\":\"butt\"},\"line_color\":{\"value\":\"black\"},\"line_dash\":{\"value\":[]},\"line_dash_offset\":{\"value\":0},\"line_join\":{\"value\":\"bevel\"},\"line_width\":{\"value\":1},\"top\":{\"field\":\"INDEX_YEAR\"},\"width\":{\"value\":0.8},\"x\":{\"field\":\"xoffsets\"}},\"id\":\"36947\",\"type\":\"VBar\"},{\"attributes\":{\"below\":[{\"id\":\"36918\"}],\"center\":[{\"id\":\"36920\"},{\"id\":\"36924\"}],\"height\":300,\"left\":[{\"id\":\"36921\"}],\"margin\":null,\"min_border_bottom\":10,\"min_border_left\":10,\"min_border_right\":10,\"min_border_top\":10,\"renderers\":[{\"id\":\"36945\"}],\"sizing_mode\":\"fixed\",\"title\":{\"id\":\"36910\"},\"toolbar\":{\"id\":\"36931\"},\"toolbar_location\":null,\"width\":450,\"x_range\":{\"id\":\"36907\"},\"x_scale\":{\"id\":\"36914\"},\"y_range\":{\"id\":\"36813\"},\"y_scale\":{\"id\":\"36916\"}},\"id\":\"36909\",\"subtype\":\"Figure\",\"type\":\"Plot\"},{\"attributes\":{},\"id\":\"36832\",\"type\":\"PanTool\"},{\"attributes\":{\"fill_color\":{\"field\":\"LABEL\",\"transform\":{\"id\":\"36938\"}},\"top\":{\"field\":\"INDEX_YEAR\"},\"width\":{\"value\":0.8},\"x\":{\"field\":\"xoffsets\"}},\"id\":\"36942\",\"type\":\"VBar\"},{\"attributes\":{\"fill_alpha\":{\"value\":0.1},\"fill_color\":{\"field\":\"LABEL\",\"transform\":{\"id\":\"36938\"}},\"line_alpha\":{\"value\":0.1},\"top\":{\"field\":\"INDEX_YEAR\"},\"width\":{\"value\":0.8},\"x\":{\"field\":\"xoffsets\"}},\"id\":\"36943\",\"type\":\"VBar\"},{\"attributes\":{},\"id\":\"36966\",\"type\":\"CategoricalTicker\"},{\"attributes\":{\"data\":{\"INDEX_YEAR\":{\"__ndarray__\":\"AAAAAAAA8D8AAAAAAADwP4xbuzkHxOE/GYAQU4Rk7T+h6DjTIFjmP03RvidYZuk/AAAAAAAA8D/oSImM8XfcPzz/e2fd27Q/vS6OWb5P0z/OugRhn2bKPw==\",\"dtype\":\"float64\",\"order\":\"little\",\"shape\":[11]},\"LABEL\":[\"0\",\"0\",\"0\",\"0\",\"0\",\"0\",\"0\",\"1\",\"1\",\"1\",\"1\"],\"T2D_STATUS\":[\"A1C Only\",\"A1C+Meds\",\"All\",\"ICD2 Only\",\"ICD2+A1C\",\"ICD2+Meds\",\"Meds Only\",\"All\",\"ICD2 Only\",\"ICD2+A1C\",\"ICD2+Meds\"],\"xoffsets\":[[\"A1C Only\",\"0\"],[\"A1C+Meds\",\"0\"],[\"All\",\"0\"],[\"ICD2 Only\",\"0\"],[\"ICD2+A1C\",\"0\"],[\"ICD2+Meds\",\"0\"],[\"Meds Only\",\"0\"],[\"All\",\"1\"],[\"ICD2 Only\",\"1\"],[\"ICD2+A1C\",\"1\"],[\"ICD2+Meds\",\"1\"]]},\"selected\":{\"id\":\"36846\"},\"selection_policy\":{\"id\":\"37056\"}},\"id\":\"36845\",\"type\":\"ColumnDataSource\"},{\"attributes\":{},\"id\":\"36940\",\"type\":\"Selection\"},{\"attributes\":{\"axis\":{\"id\":\"37012\"},\"grid_line_color\":null,\"ticker\":null},\"id\":\"37014\",\"type\":\"Grid\"},{\"attributes\":{},\"id\":\"36949\",\"type\":\"CategoricalTickFormatter\"},{\"attributes\":{\"below\":[{\"id\":\"36824\"}],\"center\":[{\"id\":\"36826\"},{\"id\":\"36830\"}],\"height\":300,\"left\":[{\"id\":\"36827\"}],\"margin\":null,\"min_border_bottom\":10,\"min_border_left\":10,\"min_border_right\":10,\"min_border_top\":10,\"renderers\":[{\"id\":\"36851\"}],\"sizing_mode\":\"fixed\",\"title\":{\"id\":\"36816\"},\"toolbar\":{\"id\":\"36837\"},\"toolbar_location\":null,\"width\":450,\"x_range\":{\"id\":\"36812\"},\"x_scale\":{\"id\":\"36820\"},\"y_range\":{\"id\":\"36813\"},\"y_scale\":{\"id\":\"36822\"}},\"id\":\"36815\",\"subtype\":\"Figure\",\"type\":\"Plot\"},{\"attributes\":{\"fill_alpha\":{\"value\":0.2},\"fill_color\":{\"field\":\"LABEL\",\"transform\":{\"id\":\"36844\"}},\"line_alpha\":{\"value\":0.2},\"top\":{\"field\":\"INDEX_YEAR\"},\"width\":{\"value\":0.8},\"x\":{\"field\":\"xoffsets\"}},\"id\":\"36850\",\"type\":\"VBar\"},{\"attributes\":{\"axis\":{\"id\":\"36824\"},\"grid_line_color\":null,\"ticker\":null},\"id\":\"36826\",\"type\":\"Grid\"},{\"attributes\":{\"source\":{\"id\":\"36939\"}},\"id\":\"36946\",\"type\":\"CDSView\"},{\"attributes\":{\"active_multi\":null,\"tools\":[{\"id\":\"36955\"},{\"id\":\"36972\"},{\"id\":\"36973\"},{\"id\":\"36974\"},{\"id\":\"36975\"},{\"id\":\"36976\"}]},\"id\":\"36978\",\"type\":\"Toolbar\"},{\"attributes\":{\"text_color\":\"black\",\"text_font_size\":\"12pt\"},\"id\":\"36816\",\"type\":\"Title\"},{\"attributes\":{},\"id\":\"36879\",\"type\":\"PanTool\"},{\"attributes\":{},\"id\":\"36822\",\"type\":\"LinearScale\"},{\"attributes\":{},\"id\":\"36828\",\"type\":\"BasicTicker\"},{\"attributes\":{\"overlay\":{\"id\":\"36977\"}},\"id\":\"36975\",\"type\":\"BoxZoomTool\"},{\"attributes\":{\"data_source\":{\"id\":\"36939\"},\"glyph\":{\"id\":\"36942\"},\"hover_glyph\":null,\"muted_glyph\":{\"id\":\"36944\"},\"nonselection_glyph\":{\"id\":\"36943\"},\"selection_glyph\":{\"id\":\"36947\"},\"view\":{\"id\":\"36946\"}},\"id\":\"36945\",\"type\":\"GlyphRenderer\"},{\"attributes\":{\"axis_label\":\"INDEX_YEAR\",\"formatter\":{\"id\":\"36857\"},\"major_label_policy\":{\"id\":\"36859\"},\"ticker\":{\"id\":\"36828\"}},\"id\":\"36827\",\"type\":\"LinearAxis\"},{\"attributes\":{},\"id\":\"36833\",\"type\":\"WheelZoomTool\"},{\"attributes\":{},\"id\":\"36856\",\"type\":\"AllLabels\"},{\"attributes\":{},\"id\":\"36831\",\"type\":\"SaveTool\"},{\"attributes\":{},\"id\":\"36859\",\"type\":\"AllLabels\"},{\"attributes\":{\"factors\":[[\"ASN\",\"0\"],[\"ASN\",\"1\"],[\"BLCK\",\"0\"],[\"BLCK\",\"1\"],[\"IND\",\"0\"],[\"IND\",\"1\"],[\"LTN\",\"0\"],[\"LTN\",\"1\"],[\"MLT\",\"0\"],[\"MLT\",\"1\"],[\"OTHER\",\"0\"],[\"OTHER\",\"1\"],[\"PCIF\",\"0\"],[\"PCIF\",\"1\"],[\"REF\",\"0\"],[\"REF\",\"1\"],[\"UN\",\"0\"],[\"UN\",\"1\"],[\"WHITE\",\"0\"],[\"WHITE\",\"1\"]],\"tags\":[[[\"RACE\",\"RACE\",null],[\"LABEL\",\"LABEL\",null]]]},\"id\":\"36860\",\"type\":\"FactorRange\"},{\"attributes\":{\"overlay\":{\"id\":\"36836\"}},\"id\":\"36834\",\"type\":\"BoxZoomTool\"},{\"attributes\":{},\"id\":\"36835\",\"type\":\"ResetTool\"},{\"attributes\":{},\"id\":\"36973\",\"type\":\"PanTool\"},{\"attributes\":{},\"id\":\"36857\",\"type\":\"BasicTickFormatter\"},{\"attributes\":{\"active_multi\":null,\"tools\":[{\"id\":\"36814\"},{\"id\":\"36831\"},{\"id\":\"36832\"},{\"id\":\"36833\"},{\"id\":\"36834\"},{\"id\":\"36835\"}]},\"id\":\"36837\",\"type\":\"Toolbar\"},{\"attributes\":{},\"id\":\"36951\",\"type\":\"BasicTickFormatter\"},{\"attributes\":{},\"id\":\"36961\",\"type\":\"CategoricalScale\"},{\"attributes\":{},\"id\":\"36867\",\"type\":\"CategoricalScale\"},{\"attributes\":{},\"id\":\"36903\",\"type\":\"AllLabels\"},{\"attributes\":{\"fill_alpha\":{\"value\":0.2},\"fill_color\":{\"field\":\"LABEL\",\"transform\":{\"id\":\"36938\"}},\"line_alpha\":{\"value\":0.2},\"top\":{\"field\":\"INDEX_YEAR\"},\"width\":{\"value\":0.8},\"x\":{\"field\":\"xoffsets\"}},\"id\":\"36944\",\"type\":\"VBar\"},{\"attributes\":{},\"id\":\"36976\",\"type\":\"ResetTool\"},{\"attributes\":{},\"id\":\"36969\",\"type\":\"BasicTicker\"},{\"attributes\":{},\"id\":\"36869\",\"type\":\"LinearScale\"},{\"attributes\":{\"axis_label\":\"INDEX_YEAR\",\"formatter\":{\"id\":\"37045\"},\"major_label_policy\":{\"id\":\"37047\"},\"ticker\":{\"id\":\"37016\"}},\"id\":\"37015\",\"type\":\"LinearAxis\"},{\"attributes\":{\"bottom\":{\"value\":0},\"fill_alpha\":{\"value\":1.0},\"fill_color\":{\"field\":\"LABEL\",\"transform\":{\"id\":\"36891\"}},\"hatch_alpha\":{\"value\":1.0},\"hatch_color\":{\"value\":\"black\"},\"hatch_scale\":{\"value\":12.0},\"hatch_weight\":{\"value\":1.0},\"line_alpha\":{\"value\":1.0},\"line_cap\":{\"value\":\"butt\"},\"line_color\":{\"value\":\"black\"},\"line_dash\":{\"value\":[]},\"line_dash_offset\":{\"value\":0},\"line_join\":{\"value\":\"bevel\"},\"line_width\":{\"value\":1},\"top\":{\"field\":\"INDEX_YEAR\"},\"width\":{\"value\":0.8},\"x\":{\"field\":\"xoffsets\"}},\"id\":\"36900\",\"type\":\"VBar\"},{\"attributes\":{\"axis\":{\"id\":\"36874\"},\"dimension\":1,\"grid_line_color\":null,\"ticker\":null},\"id\":\"36877\",\"type\":\"Grid\"},{\"attributes\":{\"axis_label\":\"RACE, LABEL\",\"formatter\":{\"id\":\"36902\"},\"major_label_policy\":{\"id\":\"36903\"},\"ticker\":{\"id\":\"36872\"}},\"id\":\"36871\",\"type\":\"CategoricalAxis\"},{\"attributes\":{\"margin\":[5,5,5,5],\"name\":\"HSpacer40546\",\"sizing_mode\":\"stretch_width\"},\"id\":\"36811\",\"type\":\"Spacer\"},{\"attributes\":{\"axis_label\":\"CARDIOVASCULAR, LABEL\",\"formatter\":{\"id\":\"36996\"},\"major_label_policy\":{\"id\":\"36997\"},\"ticker\":{\"id\":\"36966\"}},\"id\":\"36965\",\"type\":\"CategoricalAxis\"},{\"attributes\":{},\"id\":\"36902\",\"type\":\"CategoricalTickFormatter\"},{\"attributes\":{\"axis\":{\"id\":\"36968\"},\"dimension\":1,\"grid_line_color\":null,\"ticker\":null},\"id\":\"36971\",\"type\":\"Grid\"},{\"attributes\":{},\"id\":\"36872\",\"type\":\"CategoricalTicker\"},{\"attributes\":{\"data\":{\"CARDIOVASCULAR\":[\"True\",\"True\"],\"INDEX_YEAR\":{\"__ndarray__\":\"gcrNO9Kx6z/71cgQtzjBPw==\",\"dtype\":\"float64\",\"order\":\"little\",\"shape\":[2]},\"LABEL\":[\"0\",\"1\"],\"xoffsets\":[[\"True\",\"0\"],[\"True\",\"1\"]]},\"selected\":{\"id\":\"36987\"},\"selection_policy\":{\"id\":\"37089\"}},\"id\":\"36986\",\"type\":\"ColumnDataSource\"},{\"attributes\":{},\"id\":\"36893\",\"type\":\"Selection\"},{\"attributes\":{\"toolbar\":{\"id\":\"37104\"},\"toolbar_location\":\"above\"},\"id\":\"37105\",\"type\":\"ToolbarBox\"},{\"attributes\":{\"factors\":[\"0\",\"1\"],\"palette\":[\"#DB9885\",\"#6BB6BC\"]},\"id\":\"36844\",\"type\":\"CategoricalColorMapper\"},{\"attributes\":{},\"id\":\"36950\",\"type\":\"AllLabels\"},{\"attributes\":{},\"id\":\"36963\",\"type\":\"LinearScale\"},{\"attributes\":{\"children\":[{\"id\":\"36811\"},{\"id\":\"37106\"},{\"id\":\"37557\"}],\"margin\":[0,0,0,0],\"name\":\"Row40542\",\"tags\":[\"embedded\"]},\"id\":\"36810\",\"type\":\"Row\"},{\"attributes\":{\"axis\":{\"id\":\"36965\"},\"grid_line_color\":null,\"ticker\":null},\"id\":\"36967\",\"type\":\"Grid\"},{\"attributes\":{\"axis\":{\"id\":\"36871\"},\"grid_line_color\":null,\"ticker\":null},\"id\":\"36873\",\"type\":\"Grid\"},{\"attributes\":{\"bottom_units\":\"screen\",\"fill_alpha\":0.5,\"fill_color\":\"lightgrey\",\"left_units\":\"screen\",\"level\":\"overlay\",\"line_alpha\":1.0,\"line_color\":\"black\",\"line_dash\":[4,4],\"line_width\":2,\"right_units\":\"screen\",\"syncable\":false,\"top_units\":\"screen\"},\"id\":\"36836\",\"type\":\"BoxAnnotation\"},{\"attributes\":{\"axis_label\":\"INDEX_YEAR\",\"formatter\":{\"id\":\"36904\"},\"major_label_policy\":{\"id\":\"36906\"},\"ticker\":{\"id\":\"36875\"}},\"id\":\"36874\",\"type\":\"LinearAxis\"},{\"attributes\":{\"axis_label\":\"INDEX_YEAR\",\"formatter\":{\"id\":\"36998\"},\"major_label_policy\":{\"id\":\"37000\"},\"ticker\":{\"id\":\"36969\"}},\"id\":\"36968\",\"type\":\"LinearAxis\"},{\"attributes\":{},\"id\":\"36875\",\"type\":\"BasicTicker\"},{\"attributes\":{},\"id\":\"36880\",\"type\":\"WheelZoomTool\"},{\"attributes\":{},\"id\":\"36972\",\"type\":\"SaveTool\"},{\"attributes\":{},\"id\":\"37100\",\"type\":\"UnionRenderers\"},{\"attributes\":{},\"id\":\"36878\",\"type\":\"SaveTool\"},{\"attributes\":{},\"id\":\"36974\",\"type\":\"WheelZoomTool\"},{\"attributes\":{},\"id\":\"37021\",\"type\":\"WheelZoomTool\"},{\"attributes\":{\"overlay\":{\"id\":\"36883\"}},\"id\":\"36881\",\"type\":\"BoxZoomTool\"},{\"attributes\":{\"data\":{\"INDEX_YEAR\":{\"__ndarray__\":\"f1MqGdzs7D+tRXqXDRTqPwtkrTYfmbg/S+kWosmvxz8=\",\"dtype\":\"float64\",\"order\":\"little\",\"shape\":[4]},\"LABEL\":[\"0\",\"0\",\"1\",\"1\"],\"MED_PRESCR\":[\"0\",\"1\",\"0\",\"1\"],\"xoffsets\":[[\"0\",\"0\"],[\"1\",\"0\"],[\"0\",\"1\"],[\"1\",\"1\"]]},\"selected\":{\"id\":\"37034\"},\"selection_policy\":{\"id\":\"37100\"}},\"id\":\"37033\",\"type\":\"ColumnDataSource\"},{\"attributes\":{},\"id\":\"36882\",\"type\":\"ResetTool\"},{\"attributes\":{\"active_multi\":null,\"tools\":[{\"id\":\"36861\"},{\"id\":\"36878\"},{\"id\":\"36879\"},{\"id\":\"36880\"},{\"id\":\"36881\"},{\"id\":\"36882\"}]},\"id\":\"36884\",\"type\":\"Toolbar\"},{\"attributes\":{},\"id\":\"37019\",\"type\":\"SaveTool\"},{\"attributes\":{},\"id\":\"37016\",\"type\":\"BasicTicker\"},{\"attributes\":{},\"id\":\"37023\",\"type\":\"ResetTool\"},{\"attributes\":{\"fill_alpha\":{\"value\":0.2},\"fill_color\":{\"field\":\"LABEL\",\"transform\":{\"id\":\"36891\"}},\"line_alpha\":{\"value\":0.2},\"top\":{\"field\":\"INDEX_YEAR\"},\"width\":{\"value\":0.8},\"x\":{\"field\":\"xoffsets\"}},\"id\":\"36897\",\"type\":\"VBar\"},{\"attributes\":{\"fill_alpha\":{\"value\":0.1},\"fill_color\":{\"field\":\"LABEL\",\"transform\":{\"id\":\"36891\"}},\"line_alpha\":{\"value\":0.1},\"top\":{\"field\":\"INDEX_YEAR\"},\"width\":{\"value\":0.8},\"x\":{\"field\":\"xoffsets\"}},\"id\":\"36896\",\"type\":\"VBar\"},{\"attributes\":{\"axis\":{\"id\":\"37015\"},\"dimension\":1,\"grid_line_color\":null,\"ticker\":null},\"id\":\"37018\",\"type\":\"Grid\"},{\"attributes\":{\"factors\":[\"0\",\"1\"],\"palette\":[\"#DB9885\",\"#6BB6BC\"]},\"id\":\"36938\",\"type\":\"CategoricalColorMapper\"},{\"attributes\":{\"overlay\":{\"id\":\"37024\"}},\"id\":\"37022\",\"type\":\"BoxZoomTool\"},{\"attributes\":{\"data_source\":{\"id\":\"36892\"},\"glyph\":{\"id\":\"36895\"},\"hover_glyph\":null,\"muted_glyph\":{\"id\":\"36897\"},\"nonselection_glyph\":{\"id\":\"36896\"},\"selection_glyph\":{\"id\":\"36900\"},\"view\":{\"id\":\"36899\"}},\"id\":\"36898\",\"type\":\"GlyphRenderer\"},{\"attributes\":{},\"id\":\"37020\",\"type\":\"PanTool\"}],\"root_ids\":[\"36810\"]},\"title\":\"Bokeh Application\",\"version\":\"2.3.3\"}};\n",
       "    var render_items = [{\"docid\":\"2c5dac8f-ef25-4926-8861-ffa7e2c56ef6\",\"root_ids\":[\"36810\"],\"roots\":{\"36810\":\"c482b0e6-c074-4c04-8b97-04723ff0eb1a\"}}];\n",
       "    root.Bokeh.embed.embed_items_notebook(docs_json, render_items);\n",
       "  }\n",
       "  if (root.Bokeh !== undefined && root.Bokeh.Panel !== undefined) {\n",
       "    embed_document(root);\n",
       "  } else {\n",
       "    var attempts = 0;\n",
       "    var timer = setInterval(function(root) {\n",
       "      if (root.Bokeh !== undefined && root.Bokeh.Panel !== undefined) {\n",
       "        clearInterval(timer);\n",
       "        embed_document(root);\n",
       "      } else if (document.readyState == \"complete\") {\n",
       "        attempts++;\n",
       "        if (attempts > 200) {\n",
       "          clearInterval(timer);\n",
       "          console.log(\"Bokeh: ERROR: Unable to run BokehJS code because BokehJS library is missing\");\n",
       "        }\n",
       "      }\n",
       "    }, 25, root)\n",
       "  }\n",
       "})(window);</script>"
      ],
      "text/plain": [
       ":Layout\n",
       "   .Bars.I   :Bars   [T2D_STATUS,LABEL]   (INDEX_YEAR)\n",
       "   .Bars.II  :Bars   [RACE,LABEL]   (INDEX_YEAR)\n",
       "   .Bars.III :Bars   [GENDER,LABEL]   (INDEX_YEAR)\n",
       "   .Bars.IV  :Bars   [CARDIOVASCULAR,LABEL]   (INDEX_YEAR)\n",
       "   .Bars.V   :Bars   [MED_PRESCR,LABEL]   (INDEX_YEAR)"
      ]
     },
     "execution_count": 266,
     "metadata": {
      "application/vnd.holoviews_exec.v0+json": {
       "id": "36810"
      }
     },
     "output_type": "execute_result"
    }
   ],
   "source": [
    "(p1+p2+p3+p4+p5).cols(2)"
   ]
  },
  {
   "cell_type": "markdown",
   "id": "d28cd941",
   "metadata": {},
   "source": [
    "<h1>Data Wrangling</h1>"
   ]
  },
  {
   "cell_type": "markdown",
   "id": "cbd231fb",
   "metadata": {},
   "source": [
    "<div>Data Wrangling is the process of converting data from the initial format to a better for analysis format.</div> "
   ]
  },
  {
   "cell_type": "markdown",
   "id": "898b4fcf",
   "metadata": {},
   "source": [
    "<h2 id=\"identify_handle_missing_values\">Identify and handle missing values</h2>\n",
    "\n",
    "\n",
    "Steps for working with missing data:\n",
    "\n",
    "<ol>\n",
    "    <li>dentify missing data</li>\n",
    "    <li>deal with missing data</li>\n",
    "    <li>correct data format</li>\n",
    "</ol>\n"
   ]
  },
  {
   "cell_type": "code",
   "execution_count": 31,
   "id": "72b61268",
   "metadata": {},
   "outputs": [
    {
     "data": {
      "text/plain": [
       "COUNT_NDC_CODES            44231\n",
       "UNIQUE_NDC_CODES           44231\n",
       "METFORMIN_HYDROCHLORIDE    44231\n",
       "INSULIN_GLARGINE           44231\n",
       "INDEX_YEAR                     0\n",
       "INDEX_AGE                      0\n",
       "GENDER                         0\n",
       "RACE                           0\n",
       "T2D_STATUS                     0\n",
       "CARDIOVASCULAR                 0\n",
       "NEPHROPATHY                    0\n",
       "LIVER                          0\n",
       "ENC_12M_BF                     0\n",
       "LABEL                          0\n",
       "MED_PRESCR                     0\n",
       "dtype: int64"
      ]
     },
     "execution_count": 31,
     "metadata": {},
     "output_type": "execute_result"
    }
   ],
   "source": [
    "pd.set_option('display.max_rows', 50)\n",
    "# Number of missing values\n",
    "cohort.isnull().sum().sort_values(ascending=False)"
   ]
  },
  {
   "cell_type": "code",
   "execution_count": 32,
   "id": "ab5e9aa6",
   "metadata": {},
   "outputs": [
    {
     "data": {
      "application/vnd.jupyter.widget-view+json": {
       "model_id": "0923cfc9b6674f59ab78053410fba119",
       "version_major": 2,
       "version_minor": 0
      },
      "text/plain": [
       "HBox(children=(Label(value='Threshold for missing values:'), FloatSlider(value=0.5, max=1.0)))"
      ]
     },
     "metadata": {},
     "output_type": "display_data"
    }
   ],
   "source": [
    "#Require that many non-NA values.\n",
    "label = Label('Threshold for missing values:')\n",
    "w = widgets.FloatSlider(value=0.5, min=0, max=1, step=0.1, )\n",
    "HBox([label, w])"
   ]
  },
  {
   "cell_type": "code",
   "execution_count": 33,
   "id": "99c819d0",
   "metadata": {},
   "outputs": [
    {
     "name": "stdout",
     "output_type": "stream",
     "text": [
      "0.5\n",
      "Before deletion of missing values(77908, 15)\n",
      "After deletion of missing values(77908, 11)\n"
     ]
    }
   ],
   "source": [
    "print(w.value)\n",
    "print('Before deletion of missing values' + str(cohort.shape))\n",
    "thresh = len(cohort) * w.value\n",
    "cohort.dropna(axis=1, thresh=thresh, inplace=True)\n",
    "print('After deletion of missing values' + str(cohort.shape))"
   ]
  },
  {
   "cell_type": "markdown",
   "id": "1bd4b2f4",
   "metadata": {},
   "source": [
    "<h2 id=\"Data transformation\">Data transformation</h2>"
   ]
  },
  {
   "cell_type": "code",
   "execution_count": 34,
   "id": "93b9193c",
   "metadata": {},
   "outputs": [],
   "source": [
    "if 'LABEL' in cohort.columns: \n",
    "    y = cohort['LABEL']\n",
    "    cohort.drop(columns=['LABEL'], inplace=True)\n",
    "X=cohort"
   ]
  },
  {
   "cell_type": "markdown",
   "id": "0260c98b",
   "metadata": {},
   "source": [
    "<h3>Train Test Split</h3>\n",
    "\n",
    "Train/Test Split involves splitting the dataset into training and testing sets respectively, which are mutually exclusive. After which, you train with the training set and test with the testing set. \n",
    "\n",
    "This will provide a more accurate evaluation on out-of-sample accuracy because the testing dataset is not part of the dataset that have been used to train the data. It is more realistic for real world problems."
   ]
  },
  {
   "cell_type": "code",
   "execution_count": 35,
   "id": "d826498c",
   "metadata": {},
   "outputs": [],
   "source": [
    "X_train, X_test, y_train, y_test = train_test_split(X, y, test_size=0.30, random_state=42)"
   ]
  },
  {
   "cell_type": "markdown",
   "id": "1182edd7",
   "metadata": {},
   "source": [
    "<h3>Standardization</h3>\n",
    "\n",
    "Data Standardization give data zero mean and unit variance, it is good practice, especially for algorithms such as KNN which is based on distance of cases.\n",
    "standardization (or Z-score normalization) means centering the variable at zero and standardizing the variance at 1.\n",
    "\n",
    "Standardization is useful when your data has varying scales and the algorithm you are using does make assumptions about your data having a Gaussian distribution, such as linear regression, logistic regression, and linear discriminant analysis.\n",
    " \n",
    "StandardScaler performs the task of Standardization. Usually a dataset contains variables that are different in scale. For e.g. the dataset will contain \"INDEX_YEAR\" column with values on scale 1995-2015 and \"INDEX_AGE\" column with values on scale 18-85.\n",
    "\n",
    "<h3>One Hot Encoding</h3>\n",
    "\n",
    "Categorical data are variables that contain label values rather than numeric values.\n",
    "For example: A “color” variable with the values: “red“, “green” and “blue“.\n",
    "Some algorithms can work with categorical data directly (decision tree, but it depends on the specific implementation).\n",
    "\n",
    "Many machine learning algorithms cannot operate on label data directly. They require all input variables and output variables to be numeric.\n",
    "This means that categorical data must be converted to a numerical form.\n",
    "One Hot Encoding adds a new binary variable for each unique categorical value."
   ]
  },
  {
   "cell_type": "markdown",
   "id": "36ac2fbe",
   "metadata": {},
   "source": [
    "Checking vaalues by grouping data by 'T2D_STATUS' and 'GENDER'"
   ]
  },
  {
   "cell_type": "code",
   "execution_count": 207,
   "id": "82a8d893",
   "metadata": {},
   "outputs": [
    {
     "data": {
      "text/plain": [
       "T2D_STATUS     GENDER\n",
       "A1C Only       M          1045\n",
       "               F          1024\n",
       "A1C+Meds       M           303\n",
       "               F           286\n",
       "ICD2 Only      F         21958\n",
       "               M         19451\n",
       "ICD2+A1C       M          2301\n",
       "               F          2004\n",
       "ICD2+A1C+Meds  F          3543\n",
       "               M          3543\n",
       "ICD2+Meds      F          6495\n",
       "               M          6387\n",
       "Meds Only      F          5683\n",
       "               M          3885\n",
       "Name: GENDER, dtype: int64"
      ]
     },
     "execution_count": 207,
     "metadata": {},
     "output_type": "execute_result"
    }
   ],
   "source": [
    "patients_df.groupby(['T2D_STATUS'])['GENDER'].value_counts()"
   ]
  },
  {
   "cell_type": "markdown",
   "id": "44400c62",
   "metadata": {},
   "source": [
    "Feature befor One Hot Encoding"
   ]
  },
  {
   "cell_type": "code",
   "execution_count": 37,
   "id": "f5adc7af",
   "metadata": {},
   "outputs": [
    {
     "data": {
      "text/html": [
       "<div>\n",
       "<style scoped>\n",
       "    .dataframe tbody tr th:only-of-type {\n",
       "        vertical-align: middle;\n",
       "    }\n",
       "\n",
       "    .dataframe tbody tr th {\n",
       "        vertical-align: top;\n",
       "    }\n",
       "\n",
       "    .dataframe thead th {\n",
       "        text-align: right;\n",
       "    }\n",
       "</style>\n",
       "<table border=\"1\" class=\"dataframe\">\n",
       "  <thead>\n",
       "    <tr style=\"text-align: right;\">\n",
       "      <th></th>\n",
       "      <th>INDEX_YEAR</th>\n",
       "      <th>INDEX_AGE</th>\n",
       "      <th>T2D_STATUS</th>\n",
       "    </tr>\n",
       "  </thead>\n",
       "  <tbody>\n",
       "    <tr>\n",
       "      <th>0</th>\n",
       "      <td>1996</td>\n",
       "      <td>76</td>\n",
       "      <td>ICD2 Only</td>\n",
       "    </tr>\n",
       "    <tr>\n",
       "      <th>1</th>\n",
       "      <td>1995</td>\n",
       "      <td>71</td>\n",
       "      <td>ICD2+A1C</td>\n",
       "    </tr>\n",
       "    <tr>\n",
       "      <th>2</th>\n",
       "      <td>2014</td>\n",
       "      <td>71</td>\n",
       "      <td>ICD2 Only</td>\n",
       "    </tr>\n",
       "    <tr>\n",
       "      <th>3</th>\n",
       "      <td>2013</td>\n",
       "      <td>57</td>\n",
       "      <td>A1C Only</td>\n",
       "    </tr>\n",
       "    <tr>\n",
       "      <th>4</th>\n",
       "      <td>2003</td>\n",
       "      <td>78</td>\n",
       "      <td>ICD2 Only</td>\n",
       "    </tr>\n",
       "  </tbody>\n",
       "</table>\n",
       "</div>"
      ],
      "text/plain": [
       "   INDEX_YEAR  INDEX_AGE T2D_STATUS\n",
       "0        1996         76  ICD2 Only\n",
       "1        1995         71   ICD2+A1C\n",
       "2        2014         71  ICD2 Only\n",
       "3        2013         57   A1C Only\n",
       "4        2003         78  ICD2 Only"
      ]
     },
     "execution_count": 37,
     "metadata": {},
     "output_type": "execute_result"
    }
   ],
   "source": [
    "patients_df[['INDEX_YEAR','INDEX_AGE','T2D_STATUS']].head()"
   ]
  },
  {
   "cell_type": "code",
   "execution_count": 38,
   "id": "3285cc69",
   "metadata": {},
   "outputs": [
    {
     "data": {
      "text/html": [
       "<div>\n",
       "<style scoped>\n",
       "    .dataframe tbody tr th:only-of-type {\n",
       "        vertical-align: middle;\n",
       "    }\n",
       "\n",
       "    .dataframe tbody tr th {\n",
       "        vertical-align: top;\n",
       "    }\n",
       "\n",
       "    .dataframe thead th {\n",
       "        text-align: right;\n",
       "    }\n",
       "</style>\n",
       "<table border=\"1\" class=\"dataframe\">\n",
       "  <thead>\n",
       "    <tr style=\"text-align: right;\">\n",
       "      <th></th>\n",
       "      <th>INDEX_YEAR</th>\n",
       "      <th>INDEX_AGE</th>\n",
       "      <th>A1C Only</th>\n",
       "      <th>A1C+Meds</th>\n",
       "      <th>ICD2 Only</th>\n",
       "      <th>ICD2+A1C</th>\n",
       "      <th>ICD2+A1C+Meds</th>\n",
       "      <th>ICD2+Meds</th>\n",
       "      <th>Meds Only</th>\n",
       "    </tr>\n",
       "  </thead>\n",
       "  <tbody>\n",
       "    <tr>\n",
       "      <th>0</th>\n",
       "      <td>1996</td>\n",
       "      <td>76</td>\n",
       "      <td>0</td>\n",
       "      <td>0</td>\n",
       "      <td>1</td>\n",
       "      <td>0</td>\n",
       "      <td>0</td>\n",
       "      <td>0</td>\n",
       "      <td>0</td>\n",
       "    </tr>\n",
       "    <tr>\n",
       "      <th>1</th>\n",
       "      <td>1995</td>\n",
       "      <td>71</td>\n",
       "      <td>0</td>\n",
       "      <td>0</td>\n",
       "      <td>0</td>\n",
       "      <td>1</td>\n",
       "      <td>0</td>\n",
       "      <td>0</td>\n",
       "      <td>0</td>\n",
       "    </tr>\n",
       "    <tr>\n",
       "      <th>2</th>\n",
       "      <td>2014</td>\n",
       "      <td>71</td>\n",
       "      <td>0</td>\n",
       "      <td>0</td>\n",
       "      <td>1</td>\n",
       "      <td>0</td>\n",
       "      <td>0</td>\n",
       "      <td>0</td>\n",
       "      <td>0</td>\n",
       "    </tr>\n",
       "    <tr>\n",
       "      <th>3</th>\n",
       "      <td>2013</td>\n",
       "      <td>57</td>\n",
       "      <td>1</td>\n",
       "      <td>0</td>\n",
       "      <td>0</td>\n",
       "      <td>0</td>\n",
       "      <td>0</td>\n",
       "      <td>0</td>\n",
       "      <td>0</td>\n",
       "    </tr>\n",
       "    <tr>\n",
       "      <th>4</th>\n",
       "      <td>2003</td>\n",
       "      <td>78</td>\n",
       "      <td>0</td>\n",
       "      <td>0</td>\n",
       "      <td>1</td>\n",
       "      <td>0</td>\n",
       "      <td>0</td>\n",
       "      <td>0</td>\n",
       "      <td>0</td>\n",
       "    </tr>\n",
       "  </tbody>\n",
       "</table>\n",
       "</div>"
      ],
      "text/plain": [
       "   INDEX_YEAR  INDEX_AGE  A1C Only  A1C+Meds  ICD2 Only  ICD2+A1C  \\\n",
       "0        1996         76         0         0          1         0   \n",
       "1        1995         71         0         0          0         1   \n",
       "2        2014         71         0         0          1         0   \n",
       "3        2013         57         1         0          0         0   \n",
       "4        2003         78         0         0          1         0   \n",
       "\n",
       "   ICD2+A1C+Meds  ICD2+Meds  Meds Only  \n",
       "0              0          0          0  \n",
       "1              0          0          0  \n",
       "2              0          0          0  \n",
       "3              0          0          0  \n",
       "4              0          0          0  "
      ]
     },
     "execution_count": 38,
     "metadata": {},
     "output_type": "execute_result"
    }
   ],
   "source": [
    "Feature = patients_df[['INDEX_YEAR','INDEX_AGE']]\n",
    "Feature = pd.concat([Feature,pd.get_dummies(patients_df['T2D_STATUS'])], axis=1)\n",
    "Feature.head()"
   ]
  },
  {
   "cell_type": "markdown",
   "id": "0e5e2fa9",
   "metadata": {},
   "source": [
    "Use one hot encoding technique to conver categorical varables to binary variables and append them to the feature Data Frame"
   ]
  },
  {
   "cell_type": "markdown",
   "id": "7e7fe746",
   "metadata": {},
   "source": [
    "<h3>Pipline for data trasformation: SimpleImputer,StandardScaler and OneHotEncoder</h3>"
   ]
  },
  {
   "cell_type": "code",
   "execution_count": 39,
   "id": "79fdfe03",
   "metadata": {},
   "outputs": [],
   "source": [
    "def cohort_2_transform_df(X_train, X_test, scaler = True):\n",
    "    values_num = X.dtypes != object\n",
    "    values_cat = X.dtypes == object\n",
    "\n",
    "    si_0 = SimpleImputer(missing_values=np.NaN,strategy='median') \n",
    "    ss = StandardScaler() \n",
    "    ohe = OneHotEncoder()\n",
    "    # define column groups with same processing\n",
    "    cat_vars = values_cat\n",
    "    num_vars = values_num\n",
    "    # set up pipelines for each column group\n",
    "    categorical_pipe = Pipeline([('ohe', ohe)])\n",
    "    \n",
    "    if scaler:\n",
    "        numeric_pipe = Pipeline([('si_0', si_0), ('ss', ss)])\n",
    "    else:\n",
    "        numeric_pipe = Pipeline([('si_0', si_0)])\n",
    "    # set up columnTransformer\n",
    "    col_transformer = ColumnTransformer(\n",
    "                        transformers=[\n",
    "                            ('nums', numeric_pipe, num_vars),\n",
    "                            ('cats', categorical_pipe, cat_vars)\n",
    "                        ],\n",
    "                        remainder='drop',\n",
    "                        n_jobs=-1\n",
    "                        )\n",
    "\n",
    "\n",
    "    X_train_np = col_transformer.fit_transform(X_train)\n",
    "    X_test_np = col_transformer.fit_transform(X_test)\n",
    "    \n",
    "    # getting names for transform data\n",
    "    # categorical values\n",
    "    pipe_cats_actual = col_transformer.named_transformers_['cats']\n",
    "    names_cats = pipe_cats_actual['ohe'].get_feature_names()\n",
    "    print('Number of categorical names: %d ' %  len(names_cats))\n",
    "    # numerical values\n",
    "    names = [name for name, value in num_vars.iteritems() if value]\n",
    "    names_num = names\n",
    "    print('Number of numerical names: %d ' %  len(names_num))\n",
    "    # lasst of all new names\n",
    "    names_all = list(names_num) + list(names_cats)\n",
    "\n",
    "    X_train_df = pd.DataFrame(X_train_np,columns= names_all)\n",
    "    X_test_df = pd.DataFrame(X_test_np,columns= names_all)\n",
    "    return X_train_np, X_train_df, X_test_np,X_test_df\n",
    "\n"
   ]
  },
  {
   "cell_type": "markdown",
   "id": "362a078a",
   "metadata": {},
   "source": [
    "<h3>Pre-processed datasets: Train and Test for prediction </h3>"
   ]
  },
  {
   "cell_type": "code",
   "execution_count": 40,
   "id": "7ff824ed",
   "metadata": {},
   "outputs": [
    {
     "name": "stdout",
     "output_type": "stream",
     "text": [
      "Number of categorical names: 19 \n",
      "Number of numerical names: 7 \n"
     ]
    }
   ],
   "source": [
    "X_train_np, X_train_df, X_test_np, X_test_df = cohort_2_transform_df(X_train, X_test)"
   ]
  },
  {
   "cell_type": "markdown",
   "id": "49bd16b3",
   "metadata": {},
   "source": [
    "<h1>Week 4</h1>"
   ]
  },
  {
   "cell_type": "code",
   "execution_count": 242,
   "id": "cc908c75",
   "metadata": {},
   "outputs": [
    {
     "data": {
      "text/html": [
       "\n",
       "<style>\n",
       ".output_png {\n",
       "    display: table-cell;\n",
       "    text-align: center;\n",
       "    vertical-align: middle;\n",
       "}\n",
       "</style>\n"
      ],
      "text/plain": [
       "<IPython.core.display.HTML object>"
      ]
     },
     "execution_count": 242,
     "metadata": {},
     "output_type": "execute_result"
    }
   ],
   "source": [
    "from IPython.core.display import HTML\n",
    "HTML(\"\"\"\n",
    "<style>\n",
    ".output_png {\n",
    "    display: table-cell;\n",
    "    text-align: center;\n",
    "    vertical-align: middle;\n",
    "}\n",
    "</style>\n",
    "\"\"\")"
   ]
  },
  {
   "cell_type": "markdown",
   "id": "a438a091",
   "metadata": {},
   "source": [
    "<h2>Objectives</h2>\n",
    "\n",
    "After completing this course you will be able to:\n",
    "\n",
    "-   Understand machine learning basis\n",
    "-   Understand common classification algorithms\n",
    "-   To assess performance and validate predictive models\n",
    "-   Basic boolean logic - venn diagrams\n",
    "-   Difference between categorical, ordinal, continuous, etc\n"
   ]
  },
  {
   "cell_type": "markdown",
   "id": "82d971d0",
   "metadata": {},
   "source": [
    "“Learning is any process by which a system improves performance from experience.”\n",
    "    - Herbert Simon\n"
   ]
  },
  {
   "cell_type": "code",
   "execution_count": 243,
   "id": "411d25e0",
   "metadata": {},
   "outputs": [
    {
     "data": {
      "text/html": [
       "\n",
       "        <iframe\n",
       "            width=\"400\"\n",
       "            height=\"300\"\n",
       "            src=\"https://www.youtube.com/embed/f_uwKZIAeM0?start=1&end=110\"\n",
       "            frameborder=\"0\"\n",
       "            allowfullscreen\n",
       "        ></iframe>\n",
       "        "
      ],
      "text/plain": [
       "<IPython.lib.display.YouTubeVideo at 0x211857415b0>"
      ]
     },
     "execution_count": 243,
     "metadata": {},
     "output_type": "execute_result"
    }
   ],
   "source": [
    "#what ML is?\n",
    "YouTubeVideo('f_uwKZIAeM0?start=1&end=110',width=400, height=300)"
   ]
  },
  {
   "cell_type": "markdown",
   "id": "89cf9cf2",
   "metadata": {},
   "source": [
    "<h1>Supervised Learning Pipeline</h1>"
   ]
  },
  {
   "cell_type": "markdown",
   "id": "55497755",
   "metadata": {},
   "source": [
    "<div>\n",
    "<img src=\"Images/Training_test.png\" width=\"900\" >\n",
    "</div>"
   ]
  },
  {
   "cell_type": "markdown",
   "id": "75313ac1",
   "metadata": {},
   "source": [
    "<h1>Learning Algorithms</h1>"
   ]
  },
  {
   "cell_type": "markdown",
   "id": "a3e94391",
   "metadata": {},
   "source": [
    "<h2>K Nearest Neighbor(KNN)</h2>\n",
    "\n",
    "**K-Nearest Neighbors** is an algorithm for supervised learning. Where the data is 'trained' with data points corresponding to their classification. Once a point is to be predicted, it takes into account the 'K' nearest points to it to determine it's classification.\n",
    "\n",
    "Notice: You should find the best k to build the model with the best accuracy.  \n",
    "\n",
    "In this case, we have data points of Class A and B. We want to predict what the star (test data point) is. If we consider a k value of 3 (3 nearest data points) we will obtain a prediction of Class B. Yet if we consider a k value of 6, we will obtain a prediction of Class A.\n"
   ]
  },
  {
   "cell_type": "markdown",
   "id": "2ff1ab01",
   "metadata": {},
   "source": [
    "<div>\n",
    "<img src=\"Images/KNN.png\" width=\"700\" >\n",
    "</div>"
   ]
  },
  {
   "cell_type": "markdown",
   "id": "1a9de989",
   "metadata": {},
   "source": [
    "<h2>KNN. Alturnative explanation</h2>"
   ]
  },
  {
   "cell_type": "code",
   "execution_count": 42,
   "id": "63fb093f",
   "metadata": {},
   "outputs": [
    {
     "data": {
      "text/html": [
       "\n",
       "        <iframe\n",
       "            width=\"500\"\n",
       "            height=\"400\"\n",
       "            src=\"https://www.youtube.com/embed/HVXime0nQeI?start=23&end=164\"\n",
       "            frameborder=\"0\"\n",
       "            allowfullscreen\n",
       "        ></iframe>\n",
       "        "
      ],
      "text/plain": [
       "<IPython.lib.display.YouTubeVideo at 0x2119231e1f0>"
      ]
     },
     "execution_count": 42,
     "metadata": {},
     "output_type": "execute_result"
    }
   ],
   "source": [
    "YouTubeVideo('HVXime0nQeI?start=23&end=164',width=500, height=400)"
   ]
  },
  {
   "cell_type": "markdown",
   "id": "300737af",
   "metadata": {},
   "source": [
    "<h3>How to find the optimal value of K in KNN?</h3>"
   ]
  },
  {
   "cell_type": "markdown",
   "id": "fbcbc092",
   "metadata": {},
   "source": [
    "- There are no pre-defined statistical methods to find the most favorable value of K. \n",
    "- Choosing a small value of K leads to unstable decision boundaries.\n",
    "- Derive a plot between error rate and K denoting values in a defined range. Then choose the K value as having a minimum error rate."
   ]
  },
  {
   "cell_type": "code",
   "execution_count": 43,
   "id": "7ffda580",
   "metadata": {},
   "outputs": [
    {
     "data": {
      "text/plain": [
       "<matplotlib.legend.Legend at 0x21191655f70>"
      ]
     },
     "execution_count": 43,
     "metadata": {},
     "output_type": "execute_result"
    },
    {
     "data": {
      "image/png": "[encoded data removed]",
      "text/plain": [
       "<Figure size 432x288 with 1 Axes>"
      ]
     },
     "metadata": {
      "needs_background": "light"
     },
     "output_type": "display_data"
    }
   ],
   "source": [
    "#Plotting Testing/Training accuracy for KNN with different k\n",
    "test_accuracy = []\n",
    "train_accuracy = []\n",
    "neighbors = range(2,8)\n",
    "for i in neighbors:\n",
    "    knn = KNeighborsClassifier(n_neighbors = i, n_jobs=2)\n",
    "    knn.fit(X_train_np,y_train)\n",
    "    train_accuracy.append(knn.score(X_train_np,y_train))\n",
    "    test_accuracy.append(knn.score(X_test_np,y_test))\n",
    "plt.plot(neighbors, test_accuracy, label = 'Testing Accuracy',color=\"#6BB6BC\" )\n",
    "plt.plot(neighbors, train_accuracy, label = 'Training Accuracy', color=\"#DB9885\") \n",
    "plt.legend()"
   ]
  },
  {
   "cell_type": "markdown",
   "id": "b0555129",
   "metadata": {},
   "source": [
    "Pick the optiman value for K-nn based on the accurasy graph restart algorithm"
   ]
  },
  {
   "cell_type": "code",
   "execution_count": 44,
   "id": "feea3409",
   "metadata": {},
   "outputs": [
    {
     "data": {
      "application/vnd.jupyter.widget-view+json": {
       "model_id": "58349a5267ab4bd48a5b124056c8826d",
       "version_major": 2,
       "version_minor": 0
      },
      "text/plain": [
       "Dropdown(description='Select number of K:', index=5, options=(1, 2, 3, 4, 5, 6, 7), style=DescriptionStyle(des…"
      ]
     },
     "metadata": {},
     "output_type": "display_data"
    }
   ],
   "source": [
    "num_of_knn = widgets.Dropdown(options=[1,2,3,4,5,6,7], description='Select number of K:', disabled=False,style={'description_width': 'max-content'}, value=6)\n",
    "num_of_knn"
   ]
  },
  {
   "cell_type": "markdown",
   "id": "affea173",
   "metadata": {},
   "source": [
    "Calculate model's performance on blind dataset"
   ]
  },
  {
   "cell_type": "code",
   "execution_count": 153,
   "id": "c8a48885",
   "metadata": {},
   "outputs": [
    {
     "name": "stdout",
     "output_type": "stream",
     "text": [
      "0.7455883736964608\n"
     ]
    },
    {
     "data": {
      "text/plain": [
       "[<matplotlib.lines.Line2D at 0x211a3b59bb0>]"
      ]
     },
     "execution_count": 153,
     "metadata": {},
     "output_type": "execute_result"
    },
    {
     "data": {
      "image/png": "[encoded data removed]",
      "text/plain": [
       "<Figure size 504x504 with 1 Axes>"
      ]
     },
     "metadata": {
      "needs_background": "light"
     },
     "output_type": "display_data"
    }
   ],
   "source": [
    "models = []\n",
    "cms = []\n",
    "\n",
    "k = num_of_knn.value \n",
    "\n",
    "#KNN train/test\n",
    "neigh6 = KNeighborsClassifier(n_neighbors = k, n_jobs=2).fit(X_train_np,y_train)\n",
    "yhat6 = neigh6.predict(X_test_np)\n",
    "\n",
    "knn_cm=confusion_matrix(y_test, yhat6) \n",
    "roc_auc=roc_auc_score(y_test, neigh6.predict_proba(X_test_np)[:, 1])\n",
    "\n",
    "models.append(neigh6)\n",
    "cms.append(knn_cm)\n",
    "#KNN ROC Curve plotting\n",
    "plt.rcParams.update({'font.size': 16})\n",
    "fig, ax = plt.subplots(figsize=(7,7))   \n",
    "plot_roc_curve(neigh6, X_test_np, y_test, ax=ax, color=\"#6BB6BC\")  \n",
    "ax.plot([0, 1], [0, 1], linestyle='--', lw=2, color=\"#DB9885\",label='Chance', alpha=.8)"
   ]
  },
  {
   "cell_type": "markdown",
   "id": "e9699d53",
   "metadata": {},
   "source": [
    "Confusion matrix for KNN"
   ]
  },
  {
   "cell_type": "code",
   "execution_count": 189,
   "id": "6e63302e",
   "metadata": {},
   "outputs": [
    {
     "data": {},
     "metadata": {},
     "output_type": "display_data"
    },
    {
     "data": {
      "application/vnd.holoviews_exec.v0+json": "",
      "text/html": [
       "<div id='23675'>\n",
       "\n",
       "\n",
       "\n",
       "\n",
       "\n",
       "  <div class=\"bk-root\" id=\"c1becb88-a4c9-4628-89b7-e8fc7fa8ff81\" data-root-id=\"23675\"></div>\n",
       "</div>\n",
       "<script type=\"application/javascript\">(function(root) {\n",
       "  function embed_document(root) {\n",
       "    var docs_json = {\"8c9c7508-eb51-4f15-8b73-ca5455830049\":{\"defs\":[{\"extends\":null,\"module\":null,\"name\":\"ReactiveHTML1\",\"overrides\":[],\"properties\":[]},{\"extends\":null,\"module\":null,\"name\":\"FlexBox1\",\"overrides\":[],\"properties\":[{\"default\":\"flex-start\",\"kind\":null,\"name\":\"align_content\"},{\"default\":\"flex-start\",\"kind\":null,\"name\":\"align_items\"},{\"default\":\"row\",\"kind\":null,\"name\":\"flex_direction\"},{\"default\":\"wrap\",\"kind\":null,\"name\":\"flex_wrap\"},{\"default\":\"flex-start\",\"kind\":null,\"name\":\"justify_content\"}]},{\"extends\":null,\"module\":null,\"name\":\"TemplateActions1\",\"overrides\":[],\"properties\":[{\"default\":0,\"kind\":null,\"name\":\"open_modal\"},{\"default\":0,\"kind\":null,\"name\":\"close_modal\"}]},{\"extends\":null,\"module\":null,\"name\":\"MaterialTemplateActions1\",\"overrides\":[],\"properties\":[{\"default\":0,\"kind\":null,\"name\":\"open_modal\"},{\"default\":0,\"kind\":null,\"name\":\"close_modal\"}]}],\"roots\":{\"references\":[{\"attributes\":{},\"id\":\"23700\",\"type\":\"ResetTool\"},{\"attributes\":{},\"id\":\"23747\",\"type\":\"UnionRenderers\"},{\"attributes\":{},\"id\":\"23710\",\"type\":\"CategoricalTickFormatter\"},{\"attributes\":{\"margin\":[5,5,5,5],\"name\":\"HSpacer24669\",\"sizing_mode\":\"stretch_width\"},\"id\":\"23853\",\"type\":\"Spacer\"},{\"attributes\":{\"angle\":{\"value\":0.0},\"fill_alpha\":{\"value\":1.0},\"fill_color\":{\"field\":\"zvalues\",\"transform\":{\"id\":\"23717\"}},\"hatch_alpha\":{\"value\":1.0},\"hatch_color\":{\"value\":\"black\"},\"hatch_scale\":{\"value\":12.0},\"hatch_weight\":{\"value\":1.0},\"height\":{\"field\":\"height\"},\"line_alpha\":{\"value\":1.0},\"line_cap\":{\"value\":\"butt\"},\"line_color\":{\"value\":\"white\"},\"line_dash\":{\"value\":[]},\"line_dash_offset\":{\"value\":0},\"line_join\":{\"value\":\"bevel\"},\"line_width\":{\"value\":2},\"width\":{\"value\":1},\"x\":{\"field\":\"columns\"},\"y\":{\"field\":\"index\"}},\"id\":\"23727\",\"type\":\"Rect\"},{\"attributes\":{},\"id\":\"23711\",\"type\":\"AllLabels\"},{\"attributes\":{\"source\":{\"id\":\"23718\"}},\"id\":\"23724\",\"type\":\"CDSView\"},{\"attributes\":{},\"id\":\"23725\",\"type\":\"BasicTicker\"},{\"attributes\":{},\"id\":\"23712\",\"type\":\"BasicTickFormatter\"},{\"attributes\":{},\"id\":\"23737\",\"type\":\"NoOverlap\"},{\"attributes\":{\"bar_line_color\":\"black\",\"color_mapper\":{\"id\":\"23717\"},\"label_standoff\":8,\"location\":[0,0],\"major_label_policy\":{\"id\":\"23737\"},\"major_tick_line_color\":\"black\",\"ticker\":{\"id\":\"23725\"}},\"id\":\"23726\",\"type\":\"ColorBar\"},{\"attributes\":{\"end\":1.7,\"reset_end\":1.7,\"reset_start\":-0.7,\"start\":-0.7,\"tags\":[[[\"index\",\"index\",null]]]},\"id\":\"23678\",\"type\":\"Range1d\"},{\"attributes\":{\"text\":{\"field\":\"value\"},\"text_align\":{\"value\":\"center\"},\"text_baseline\":{\"value\":\"middle\"},\"text_color\":{\"value\":\"black\"},\"x\":{\"field\":\"columns\"},\"y\":{\"field\":\"index\"}},\"id\":\"23731\",\"type\":\"Text\"},{\"attributes\":{},\"id\":\"23714\",\"type\":\"AllLabels\"},{\"attributes\":{\"margin\":[5,5,5,5],\"name\":\"HSpacer24668\",\"sizing_mode\":\"stretch_width\"},\"id\":\"23676\",\"type\":\"Spacer\"},{\"attributes\":{\"angle\":{\"value\":0},\"text\":{\"field\":\"value\"},\"text_align\":{\"value\":\"center\"},\"text_alpha\":{\"value\":1.0},\"text_baseline\":{\"value\":\"middle\"},\"text_color\":{\"value\":\"black\"},\"text_font_style\":{\"value\":\"normal\"},\"text_line_height\":{\"value\":1.2},\"x\":{\"field\":\"columns\"},\"x_offset\":{\"value\":0},\"y\":{\"field\":\"index\"},\"y_offset\":{\"value\":0}},\"id\":\"23735\",\"type\":\"Text\"},{\"attributes\":{},\"id\":\"23719\",\"type\":\"Selection\"},{\"attributes\":{\"bottom_units\":\"screen\",\"fill_alpha\":0.5,\"fill_color\":\"lightgrey\",\"left_units\":\"screen\",\"level\":\"overlay\",\"line_alpha\":1.0,\"line_color\":\"black\",\"line_dash\":[4,4],\"line_width\":2,\"right_units\":\"screen\",\"syncable\":false,\"top_units\":\"screen\"},\"id\":\"23701\",\"type\":\"BoxAnnotation\"},{\"attributes\":{\"axis_label\":\"\",\"formatter\":{\"id\":\"23710\"},\"major_label_policy\":{\"id\":\"23711\"},\"ticker\":{\"id\":\"23690\"}},\"id\":\"23689\",\"type\":\"CategoricalAxis\"},{\"attributes\":{\"fill_color\":{\"field\":\"zvalues\",\"transform\":{\"id\":\"23717\"}},\"height\":{\"field\":\"height\"},\"line_color\":{\"value\":\"white\"},\"line_width\":{\"value\":2},\"width\":{\"value\":1},\"x\":{\"field\":\"columns\"},\"y\":{\"field\":\"index\"}},\"id\":\"23721\",\"type\":\"Rect\"},{\"attributes\":{},\"id\":\"23685\",\"type\":\"CategoricalScale\"},{\"attributes\":{\"text\":{\"field\":\"value\"},\"text_align\":{\"value\":\"center\"},\"text_alpha\":{\"value\":0.1},\"text_baseline\":{\"value\":\"middle\"},\"text_color\":{\"value\":\"black\"},\"x\":{\"field\":\"columns\"},\"y\":{\"field\":\"index\"}},\"id\":\"23732\",\"type\":\"Text\"},{\"attributes\":{\"text_color\":\"black\",\"text_font_size\":\"12pt\"},\"id\":\"23681\",\"type\":\"Title\"},{\"attributes\":{\"callback\":null,\"renderers\":[{\"id\":\"23723\"}],\"tags\":[\"hv_created\"],\"tooltips\":[[\"columns\",\"@{columns}\"],[\"index\",\"@{index}\"],[\"value\",\"@{value}\"]]},\"id\":\"23679\",\"type\":\"HoverTool\"},{\"attributes\":{\"fill_alpha\":{\"value\":0.1},\"fill_color\":{\"field\":\"zvalues\",\"transform\":{\"id\":\"23717\"}},\"height\":{\"field\":\"height\"},\"line_alpha\":{\"value\":0.1},\"line_color\":{\"value\":\"white\"},\"line_width\":{\"value\":2},\"width\":{\"value\":1},\"x\":{\"field\":\"columns\"},\"y\":{\"field\":\"index\"}},\"id\":\"23722\",\"type\":\"Rect\"},{\"attributes\":{\"below\":[{\"id\":\"23689\"}],\"center\":[{\"id\":\"23691\"},{\"id\":\"23695\"}],\"height\":300,\"left\":[{\"id\":\"23692\"}],\"margin\":[5,5,5,5],\"min_border_bottom\":10,\"min_border_left\":10,\"min_border_right\":10,\"min_border_top\":10,\"renderers\":[{\"id\":\"23723\"},{\"id\":\"23733\"}],\"right\":[{\"id\":\"23726\"}],\"sizing_mode\":\"fixed\",\"title\":{\"id\":\"23681\"},\"toolbar\":{\"id\":\"23702\"},\"x_range\":{\"id\":\"23677\"},\"x_scale\":{\"id\":\"23685\"},\"y_range\":{\"id\":\"23678\"},\"y_scale\":{\"id\":\"23687\"}},\"id\":\"23680\",\"subtype\":\"Figure\",\"type\":\"Plot\"},{\"attributes\":{\"factors\":[\"0\",\"1\"],\"tags\":[[[\"columns\",\"columns\",null]]]},\"id\":\"23677\",\"type\":\"FactorRange\"},{\"attributes\":{},\"id\":\"23697\",\"type\":\"PanTool\"},{\"attributes\":{},\"id\":\"23745\",\"type\":\"UnionRenderers\"},{\"attributes\":{\"data_source\":{\"id\":\"23718\"},\"glyph\":{\"id\":\"23721\"},\"hover_glyph\":null,\"muted_glyph\":null,\"nonselection_glyph\":{\"id\":\"23722\"},\"selection_glyph\":{\"id\":\"23727\"},\"view\":{\"id\":\"23724\"}},\"id\":\"23723\",\"type\":\"GlyphRenderer\"},{\"attributes\":{\"data\":{\"columns\":[\"0\",\"0\",\"1\",\"1\"],\"height\":{\"__ndarray__\":\"AAAAAAAA8D8AAAAAAADwPwAAAAAAAPA/AAAAAAAA8D8=\",\"dtype\":\"float64\",\"order\":\"little\",\"shape\":[4]},\"index\":[0,1,0,1],\"value\":[\"19783\",\"2581\",\"483\",\"526\"],\"zvalues\":[19783,2581,483,526]},\"selected\":{\"id\":\"23719\"},\"selection_policy\":{\"id\":\"23745\"}},\"id\":\"23718\",\"type\":\"ColumnDataSource\"},{\"attributes\":{\"high\":19783,\"low\":483,\"nan_color\":\"white\",\"palette\":[\"#659a8f\",\"#669a8f\",\"#679b8f\",\"#679b8e\",\"#689b8e\",\"#699b8d\",\"#6a9c8d\",\"#6a9c8c\",\"#6b9c8c\",\"#6c9c8b\",\"#6c9c8b\",\"#6d9d8a\",\"#6e9d8a\",\"#6f9d89\",\"#6f9d89\",\"#709e88\",\"#719e88\",\"#729e88\",\"#729e87\",\"#739f87\",\"#749f86\",\"#759f86\",\"#759f85\",\"#769f85\",\"#77a084\",\"#78a084\",\"#78a084\",\"#79a083\",\"#7aa083\",\"#7ba182\",\"#7ca182\",\"#7ca181\",\"#7da181\",\"#7ea181\",\"#7fa280\",\"#80a280\",\"#81a27f\",\"#81a27f\",\"#82a27e\",\"#83a37e\",\"#84a37e\",\"#85a37d\",\"#86a37d\",\"#87a37c\",\"#87a37c\",\"#88a37c\",\"#89a47b\",\"#8aa47b\",\"#8ba47b\",\"#8ca47a\",\"#8da47a\",\"#8ea479\",\"#8fa479\",\"#90a579\",\"#91a578\",\"#92a578\",\"#93a578\",\"#94a577\",\"#95a577\",\"#96a577\",\"#97a576\",\"#98a576\",\"#99a676\",\"#9aa675\",\"#9ba675\",\"#9da675\",\"#9ea674\",\"#9fa674\",\"#a0a674\",\"#a1a674\",\"#a3a673\",\"#a4a673\",\"#a5a673\",\"#a6a673\",\"#a8a673\",\"#a9a672\",\"#aaa672\",\"#aca672\",\"#ada672\",\"#afa672\",\"#b0a571\",\"#b1a571\",\"#b3a571\",\"#b4a571\",\"#b5a571\",\"#b6a571\",\"#b7a570\",\"#b9a570\",\"#baa570\",\"#bba570\",\"#bca570\",\"#bda56f\",\"#bea56f\",\"#bfa56f\",\"#c0a56f\",\"#c1a56f\",\"#c2a56f\",\"#c3a56e\",\"#c4a66e\",\"#c5a66e\",\"#c5a66e\",\"#c6a66e\",\"#c7a66e\",\"#c8a66d\",\"#c8a66d\",\"#c9a66d\",\"#caa66d\",\"#cba76d\",\"#cba76d\",\"#cca76c\",\"#cca76c\",\"#cda76c\",\"#cea76c\",\"#cea86c\",\"#cfa86c\",\"#cfa86b\",\"#d0a86b\",\"#d0a86b\",\"#d0a96b\",\"#d1a96b\",\"#d1a96a\",\"#d2a96a\",\"#d2aa6a\",\"#d2aa6a\",\"#d3aa6a\",\"#d3aa6a\",\"#d3ab69\",\"#d3ab69\",\"#d3ab69\",\"#d4ac69\",\"#d4ac69\",\"#d4ac69\",\"#d4ad69\",\"#d4ad69\",\"#d5ad69\",\"#d5ae69\",\"#d5ae69\",\"#d5ae69\",\"#d5af69\",\"#d5af69\",\"#d6af69\",\"#d6b069\",\"#d6b069\",\"#d6b069\",\"#d6b06a\",\"#d6b16a\",\"#d6b16a\",\"#d7b16b\",\"#d7b26b\",\"#d7b26b\",\"#d7b26c\",\"#d7b36c\",\"#d7b36c\",\"#d7b36d\",\"#d7b46d\",\"#d7b46e\",\"#d8b46e\",\"#d8b56f\",\"#d8b570\",\"#d8b570\",\"#d8b671\",\"#d8b672\",\"#d8b672\",\"#d8b773\",\"#d8b774\",\"#d8b774\",\"#d8b875\",\"#d8b876\",\"#d8b877\",\"#d8b978\",\"#d8b979\",\"#d8b979\",\"#d8ba7a\",\"#d8ba7b\",\"#d8ba7c\",\"#d8bb7d\",\"#d8bb7e\",\"#d8bb7f\",\"#d8bc81\",\"#d8bc82\",\"#d8bc83\",\"#d8bd84\",\"#d8bd85\",\"#d8bd86\",\"#d8be87\",\"#d8be88\",\"#d8be89\",\"#d8bf8a\",\"#d8bf8b\",\"#d7bf8d\",\"#d7c08e\",\"#d7c08f\",\"#d7c090\",\"#d7c191\",\"#d7c192\",\"#d7c193\",\"#d7c294\",\"#d7c295\",\"#d7c296\",\"#d7c297\",\"#d7c398\",\"#d7c39a\",\"#d7c39b\",\"#d7c49c\",\"#d7c49d\",\"#d7c49e\",\"#d7c59f\",\"#d7c5a0\",\"#d7c5a1\",\"#d7c6a2\",\"#d7c6a3\",\"#d7c6a4\",\"#d7c7a5\",\"#d7c7a6\",\"#d7c7a8\",\"#d7c7a9\",\"#d7c8aa\",\"#d6c8ab\",\"#d6c8ac\",\"#d6c9ad\",\"#d6c9ae\",\"#d6c9af\",\"#d6cab0\",\"#d6cab1\",\"#d6cab2\",\"#d6cbb3\",\"#d6cbb4\",\"#d6cbb6\",\"#d6cbb7\",\"#d6ccb8\",\"#d6ccb9\",\"#d6ccba\",\"#d6cdbb\",\"#d6cdbc\",\"#d6cdbd\",\"#d5cebe\",\"#d5cebf\",\"#d5cec0\",\"#d5cfc1\",\"#d5cfc2\",\"#d5cfc4\",\"#d5cfc5\",\"#d5d0c6\",\"#d5d0c7\",\"#d5d0c8\",\"#d5d1c9\",\"#d5d1ca\",\"#d4d1cb\",\"#d4d2cc\",\"#d4d2cd\",\"#d4d2ce\",\"#d4d3cf\",\"#d4d3d1\",\"#d4d3d2\",\"#d4d3d3\",\"#d4d4d4\"]},\"id\":\"23717\",\"type\":\"LinearColorMapper\"},{\"attributes\":{\"source\":{\"id\":\"23728\"}},\"id\":\"23734\",\"type\":\"CDSView\"},{\"attributes\":{\"data_source\":{\"id\":\"23728\"},\"glyph\":{\"id\":\"23731\"},\"hover_glyph\":null,\"muted_glyph\":null,\"nonselection_glyph\":{\"id\":\"23732\"},\"selection_glyph\":{\"id\":\"23735\"},\"view\":{\"id\":\"23734\"}},\"id\":\"23733\",\"type\":\"GlyphRenderer\"},{\"attributes\":{\"axis_label\":\"\",\"formatter\":{\"id\":\"23712\"},\"major_label_policy\":{\"id\":\"23714\"},\"ticker\":{\"id\":\"23693\"}},\"id\":\"23692\",\"type\":\"LinearAxis\"},{\"attributes\":{},\"id\":\"23693\",\"type\":\"BasicTicker\"},{\"attributes\":{\"children\":[{\"id\":\"23676\"},{\"id\":\"23680\"},{\"id\":\"23853\"}],\"margin\":[0,0,0,0],\"name\":\"Row24664\",\"tags\":[\"embedded\"]},\"id\":\"23675\",\"type\":\"Row\"},{\"attributes\":{},\"id\":\"23687\",\"type\":\"LinearScale\"},{\"attributes\":{\"data\":{\"columns\":[\"0\",\"0\",\"1\",\"1\"],\"index\":[0,1,0,1],\"value\":[\"19783\",\"2581\",\"483\",\"526\"]},\"selected\":{\"id\":\"23729\"},\"selection_policy\":{\"id\":\"23747\"}},\"id\":\"23728\",\"type\":\"ColumnDataSource\"},{\"attributes\":{},\"id\":\"23690\",\"type\":\"CategoricalTicker\"},{\"attributes\":{\"axis\":{\"id\":\"23692\"},\"dimension\":1,\"ticker\":{\"id\":\"23693\"}},\"id\":\"23695\",\"type\":\"Grid\"},{\"attributes\":{},\"id\":\"23698\",\"type\":\"WheelZoomTool\"},{\"attributes\":{\"axis\":{\"id\":\"23689\"},\"ticker\":{\"id\":\"23690\"}},\"id\":\"23691\",\"type\":\"Grid\"},{\"attributes\":{\"overlay\":{\"id\":\"23701\"}},\"id\":\"23699\",\"type\":\"BoxZoomTool\"},{\"attributes\":{\"active_multi\":null,\"tools\":[{\"id\":\"23679\"},{\"id\":\"23696\"},{\"id\":\"23697\"},{\"id\":\"23698\"},{\"id\":\"23699\"},{\"id\":\"23700\"}]},\"id\":\"23702\",\"type\":\"Toolbar\"},{\"attributes\":{},\"id\":\"23696\",\"type\":\"SaveTool\"},{\"attributes\":{},\"id\":\"23729\",\"type\":\"Selection\"}],\"root_ids\":[\"23675\"]},\"title\":\"Bokeh Application\",\"version\":\"2.3.3\"}};\n",
       "    var render_items = [{\"docid\":\"8c9c7508-eb51-4f15-8b73-ca5455830049\",\"root_ids\":[\"23675\"],\"roots\":{\"23675\":\"c1becb88-a4c9-4628-89b7-e8fc7fa8ff81\"}}];\n",
       "    root.Bokeh.embed.embed_items_notebook(docs_json, render_items);\n",
       "  }\n",
       "  if (root.Bokeh !== undefined && root.Bokeh.Panel !== undefined) {\n",
       "    embed_document(root);\n",
       "  } else {\n",
       "    var attempts = 0;\n",
       "    var timer = setInterval(function(root) {\n",
       "      if (root.Bokeh !== undefined && root.Bokeh.Panel !== undefined) {\n",
       "        clearInterval(timer);\n",
       "        embed_document(root);\n",
       "      } else if (document.readyState == \"complete\") {\n",
       "        attempts++;\n",
       "        if (attempts > 200) {\n",
       "          clearInterval(timer);\n",
       "          console.log(\"Bokeh: ERROR: Unable to run BokehJS code because BokehJS library is missing\");\n",
       "        }\n",
       "      }\n",
       "    }, 25, root)\n",
       "  }\n",
       "})(window);</script>"
      ],
      "text/plain": [
       ":Overlay\n",
       "   .HeatMap.I :HeatMap   [columns,index]   (value)\n",
       "   .Labels.I  :Labels   [columns,index]   (value)"
      ]
     },
     "metadata": {
      "application/vnd.holoviews_exec.v0+json": {
       "id": "23675"
      }
     },
     "output_type": "display_data"
    }
   ],
   "source": [
    "heatmap =pd.DataFrame(knn_cm).hvplot.heatmap(height=300, width=600, grid=True, line_width=2,cmap='cet_CET_L10')        \n",
    "display(heatmap * hv.Labels(heatmap))"
   ]
  },
  {
   "cell_type": "markdown",
   "id": "35155069",
   "metadata": {},
   "source": [
    "<h2>Logistic Regression (LR)</h2>\n",
    "\n",
    "Logistic Regression is a variation of Linear Regression, useful when the observed dependent variable, <b>y</b>, is categorical. It produces a formula that predicts the probability of the class label as a function of the independent variables.\n",
    "Logistic Regression passes the input through the logistic/sigmoid ([logistic function](http://en.wikipedia.org/wiki/Logistic_function?cm_mmc=Email_Newsletter-_-Developer_Ed%2BTech-_-WW_WW-_-SkillsNetwork-Courses-IBMDeveloperSkillsNetwork-ML0101EN-SkillsNetwork-20718538&cm_mmca1=000026UJ&cm_mmca2=10006555&cm_mmca3=M12345678&cvosrc=email.Newsletter.M12345678&cvo_campaign=000026UJ&cm_mmc=Email_Newsletter-_-Developer_Ed%2BTech-_-WW_WW-_-SkillsNetwork-Courses-IBMDeveloperSkillsNetwork-ML0101EN-SkillsNetwork-20718538&cm_mmca1=000026UJ&cm_mmca2=10006555&cm_mmca3=M12345678&cvosrc=email.Newsletter.M12345678&cvo_campaign=000026UJ&cm_mmc=Email_Newsletter-_-Developer_Ed%2BTech-_-WW_WW-_-SkillsNetwork-Courses-IBMDeveloperSkillsNetwork-ML0101EN-SkillsNetwork-20718538&cm_mmca1=000026UJ&cm_mmca2=10006555&cm_mmca3=M12345678&cvosrc=email.Newsletter.M12345678&cvo_campaign=000026UJ&cm_mmc=Email_Newsletter-_-Developer_Ed%2BTech-_-WW_WW-_-SkillsNetwork-Courses-IBMDeveloperSkillsNetwork-ML0101EN-SkillsNetwork-20718538&cm_mmca1=000026UJ&cm_mmca2=10006555&cm_mmca3=M12345678&cvosrc=email.Newsletter.M12345678&cvo_campaign=000026UJ)) but then treats the result as a probability:\n"
   ]
  },
  {
   "cell_type": "markdown",
   "id": "4da93326",
   "metadata": {},
   "source": [
    "<div>\n",
    "<img src=\"Images/Linear_Logistic_Regression.png\" width=\"800\" >\n",
    "</div>"
   ]
  },
  {
   "cell_type": "code",
   "execution_count": 244,
   "id": "99550c99",
   "metadata": {},
   "outputs": [
    {
     "data": {
      "text/html": [
       "\n",
       "        <iframe\n",
       "            width=\"400\"\n",
       "            height=\"300\"\n",
       "            src=\"https://www.youtube.com/embed/yIYKR4sgzI8?start=189&end=261\"\n",
       "            frameborder=\"0\"\n",
       "            allowfullscreen\n",
       "        ></iframe>\n",
       "        "
      ],
      "text/plain": [
       "<IPython.lib.display.YouTubeVideo at 0x21185741e80>"
      ]
     },
     "execution_count": 244,
     "metadata": {},
     "output_type": "execute_result"
    }
   ],
   "source": [
    "YouTubeVideo('yIYKR4sgzI8?start=189&end=261',width=400, height=300)"
   ]
  },
  {
   "cell_type": "code",
   "execution_count": 245,
   "id": "c01177b6",
   "metadata": {},
   "outputs": [],
   "source": [
    "#Procedure for model creation: train/test/cv\n",
    "def create_model(x, dataset_type, balanced=False):\n",
    "    mcc=0\n",
    "    roc_auc=0\n",
    "    bacc=0\n",
    "    target_names = [ 'Outpatient','Inpatient']\n",
    "    if x=='LR': \n",
    "        if balanced:\n",
    "            model = LogisticRegression(random_state=0, max_iter=300, class_weight = 'balanced') \n",
    "        else:\n",
    "            model = LogisticRegression(random_state=0, max_iter=300) \n",
    "        \n",
    "    elif x=='NB':\n",
    "        model = BernoulliNB() # GaussianNB()\n",
    "        \n",
    "    elif x=='DT':\n",
    "        if balanced:\n",
    "            model = DecisionTreeClassifier(random_state=0, class_weight = 'balanced') \n",
    "        else:\n",
    "            model = DecisionTreeClassifier(random_state=0,) \n",
    "            \n",
    "    model.fit(X_train_np, y_train)\n",
    "    cm = None\n",
    "    \n",
    "    #Branches for different datasets\n",
    "    if dataset_type == 'Test':\n",
    "        y_pred=model.predict(X_test_np)\n",
    "       # y_pred_prob = model.predict_proba(X_test_np)\n",
    "        mcc=matthews_corrcoef(y_test, y_pred)\n",
    "        bacc=balanced_accuracy_score(y_test, y_pred)\n",
    "        if  x in ('LR','DT', 'NB'):\n",
    "            roc_auc=roc_auc_score(y_test, model.predict_proba(X_test_np)[:, 1])\n",
    "        cm = confusion_matrix(y_test, y_pred)\n",
    "        \n",
    "        plt.rcParams.update({'font.size': 16})\n",
    "        fig, ax = plt.subplots(figsize=(7,7))        \n",
    "        ax.plot([0, 1], [0, 1], linestyle='--', lw=2, color=\"#DB9885\",label='Chance', alpha=.8)\n",
    "        plot_roc_curve(model, X_test_np, y_test, ax=ax, color=\"#6BB6BC\")   \n",
    "        \n",
    "        \n",
    "        print('Blind dataset - 30%')\n",
    "        print('-------------------------')\n",
    "        #print(\"MCC {}\".format(round(mcc,2)))\n",
    "        print(\"ROC AUC {}\".format(round(roc_auc,2)))\n",
    "        #print(\"Balanced accuracy {}\".format(round(bacc,2)))\n",
    "        #print(cm)\n",
    "        #print(classification_report(y_test, y_pred, target_names=target_names))\n",
    "      \n",
    "\n",
    "    elif dataset_type == 'Train':\n",
    "        Matthew = make_scorer(matthews_corrcoef)\n",
    "        cv_mcc_mean = np.mean(cross_val_score(model, X_train_np, y_train ,cv=10,scoring=Matthew))\n",
    "        cv_roc_auc_mean = np.mean(cross_val_score(model, X_train_np, y_train , cv=10, scoring='roc_auc'))\n",
    "        cv_baccuracu_mean = np.mean(cross_val_score(model, X_train_np, y_train , cv=10, scoring='balanced_accuracy'))\n",
    "\n",
    "        print('Train dataset - 70%')\n",
    "        print('------------------------')\n",
    "        print(\"MCC {}\".format(round(cv_mcc_mean,2)))\n",
    "        print(\"ROC AUC {}\".format(round(cv_roc_auc_mean,2)))\n",
    "        print(\"Balanced accuracy {}\".format(round(cv_baccuracu_mean,2)))\n",
    "\n",
    "    return model, cm "
   ]
  },
  {
   "cell_type": "markdown",
   "id": "0c373216",
   "metadata": {},
   "source": [
    "<h3>AUC for LR</h3>"
   ]
  },
  {
   "cell_type": "code",
   "execution_count": 246,
   "id": "bb8e2cad",
   "metadata": {},
   "outputs": [
    {
     "name": "stdout",
     "output_type": "stream",
     "text": [
      "Blind dataset - 30%\n",
      "-------------------------\n",
      "ROC AUC 0.81\n"
     ]
    },
    {
     "data": {
      "image/png": "[encoded data removed]",
      "text/plain": [
       "<Figure size 504x504 with 1 Axes>"
      ]
     },
     "metadata": {
      "needs_background": "light"
     },
     "output_type": "display_data"
    }
   ],
   "source": [
    "model, cm = create_model('LR', 'Test')\n",
    "models.append(model)\n",
    "cms.append(cm)"
   ]
  },
  {
   "cell_type": "code",
   "execution_count": 247,
   "id": "ecab9c44",
   "metadata": {},
   "outputs": [
    {
     "data": {},
     "metadata": {},
     "output_type": "display_data"
    },
    {
     "data": {
      "application/vnd.holoviews_exec.v0+json": "",
      "text/html": [
       "<div id='34567'>\n",
       "\n",
       "\n",
       "\n",
       "\n",
       "\n",
       "  <div class=\"bk-root\" id=\"c3eadc0a-bd03-4597-9938-bc57f4efe9f1\" data-root-id=\"34567\"></div>\n",
       "</div>\n",
       "<script type=\"application/javascript\">(function(root) {\n",
       "  function embed_document(root) {\n",
       "    var docs_json = {\"b35f9a8a-9103-40fa-ba94-dde41d69ae40\":{\"defs\":[{\"extends\":null,\"module\":null,\"name\":\"ReactiveHTML1\",\"overrides\":[],\"properties\":[]},{\"extends\":null,\"module\":null,\"name\":\"FlexBox1\",\"overrides\":[],\"properties\":[{\"default\":\"flex-start\",\"kind\":null,\"name\":\"align_content\"},{\"default\":\"flex-start\",\"kind\":null,\"name\":\"align_items\"},{\"default\":\"row\",\"kind\":null,\"name\":\"flex_direction\"},{\"default\":\"wrap\",\"kind\":null,\"name\":\"flex_wrap\"},{\"default\":\"flex-start\",\"kind\":null,\"name\":\"justify_content\"}]},{\"extends\":null,\"module\":null,\"name\":\"TemplateActions1\",\"overrides\":[],\"properties\":[{\"default\":0,\"kind\":null,\"name\":\"open_modal\"},{\"default\":0,\"kind\":null,\"name\":\"close_modal\"}]},{\"extends\":null,\"module\":null,\"name\":\"MaterialTemplateActions1\",\"overrides\":[],\"properties\":[{\"default\":0,\"kind\":null,\"name\":\"open_modal\"},{\"default\":0,\"kind\":null,\"name\":\"close_modal\"}]}],\"roots\":{\"references\":[{\"attributes\":{},\"id\":\"34582\",\"type\":\"CategoricalTicker\"},{\"attributes\":{\"source\":{\"id\":\"34610\"}},\"id\":\"34616\",\"type\":\"CDSView\"},{\"attributes\":{\"callback\":null,\"renderers\":[{\"id\":\"34615\"}],\"tags\":[\"hv_created\"],\"tooltips\":[[\"columns\",\"@{columns}\"],[\"index\",\"@{index}\"],[\"value\",\"@{value}\"]]},\"id\":\"34571\",\"type\":\"HoverTool\"},{\"attributes\":{\"fill_color\":{\"field\":\"zvalues\",\"transform\":{\"id\":\"34609\"}},\"height\":{\"field\":\"height\"},\"line_color\":{\"value\":\"white\"},\"line_width\":{\"value\":2},\"width\":{\"value\":1},\"x\":{\"field\":\"columns\"},\"y\":{\"field\":\"index\"}},\"id\":\"34613\",\"type\":\"Rect\"},{\"attributes\":{\"bottom_units\":\"screen\",\"fill_alpha\":0.5,\"fill_color\":\"lightgrey\",\"left_units\":\"screen\",\"level\":\"overlay\",\"line_alpha\":1.0,\"line_color\":\"black\",\"line_dash\":[4,4],\"line_width\":2,\"right_units\":\"screen\",\"syncable\":false,\"top_units\":\"screen\"},\"id\":\"34593\",\"type\":\"BoxAnnotation\"},{\"attributes\":{\"data\":{\"columns\":[\"0\",\"0\",\"1\",\"1\"],\"index\":[0,1,0,1],\"value\":[\"19919\",\"2616\",\"347\",\"491\"]},\"selected\":{\"id\":\"34621\"},\"selection_policy\":{\"id\":\"34639\"}},\"id\":\"34620\",\"type\":\"ColumnDataSource\"},{\"attributes\":{},\"id\":\"34585\",\"type\":\"BasicTicker\"},{\"attributes\":{\"axis_label\":\"\",\"formatter\":{\"id\":\"34602\"},\"major_label_policy\":{\"id\":\"34603\"},\"ticker\":{\"id\":\"34582\"}},\"id\":\"34581\",\"type\":\"CategoricalAxis\"},{\"attributes\":{\"axis\":{\"id\":\"34581\"},\"ticker\":{\"id\":\"34582\"}},\"id\":\"34583\",\"type\":\"Grid\"},{\"attributes\":{},\"id\":\"34577\",\"type\":\"CategoricalScale\"},{\"attributes\":{},\"id\":\"34617\",\"type\":\"BasicTicker\"},{\"attributes\":{\"end\":1.7,\"reset_end\":1.7,\"reset_start\":-0.7,\"start\":-0.7,\"tags\":[[[\"index\",\"index\",null]]]},\"id\":\"34570\",\"type\":\"Range1d\"},{\"attributes\":{},\"id\":\"34589\",\"type\":\"PanTool\"},{\"attributes\":{\"high\":19919,\"low\":347,\"nan_color\":\"white\",\"palette\":[\"#659a8f\",\"#669a8f\",\"#679b8f\",\"#679b8e\",\"#689b8e\",\"#699b8d\",\"#6a9c8d\",\"#6a9c8c\",\"#6b9c8c\",\"#6c9c8b\",\"#6c9c8b\",\"#6d9d8a\",\"#6e9d8a\",\"#6f9d89\",\"#6f9d89\",\"#709e88\",\"#719e88\",\"#729e88\",\"#729e87\",\"#739f87\",\"#749f86\",\"#759f86\",\"#759f85\",\"#769f85\",\"#77a084\",\"#78a084\",\"#78a084\",\"#79a083\",\"#7aa083\",\"#7ba182\",\"#7ca182\",\"#7ca181\",\"#7da181\",\"#7ea181\",\"#7fa280\",\"#80a280\",\"#81a27f\",\"#81a27f\",\"#82a27e\",\"#83a37e\",\"#84a37e\",\"#85a37d\",\"#86a37d\",\"#87a37c\",\"#87a37c\",\"#88a37c\",\"#89a47b\",\"#8aa47b\",\"#8ba47b\",\"#8ca47a\",\"#8da47a\",\"#8ea479\",\"#8fa479\",\"#90a579\",\"#91a578\",\"#92a578\",\"#93a578\",\"#94a577\",\"#95a577\",\"#96a577\",\"#97a576\",\"#98a576\",\"#99a676\",\"#9aa675\",\"#9ba675\",\"#9da675\",\"#9ea674\",\"#9fa674\",\"#a0a674\",\"#a1a674\",\"#a3a673\",\"#a4a673\",\"#a5a673\",\"#a6a673\",\"#a8a673\",\"#a9a672\",\"#aaa672\",\"#aca672\",\"#ada672\",\"#afa672\",\"#b0a571\",\"#b1a571\",\"#b3a571\",\"#b4a571\",\"#b5a571\",\"#b6a571\",\"#b7a570\",\"#b9a570\",\"#baa570\",\"#bba570\",\"#bca570\",\"#bda56f\",\"#bea56f\",\"#bfa56f\",\"#c0a56f\",\"#c1a56f\",\"#c2a56f\",\"#c3a56e\",\"#c4a66e\",\"#c5a66e\",\"#c5a66e\",\"#c6a66e\",\"#c7a66e\",\"#c8a66d\",\"#c8a66d\",\"#c9a66d\",\"#caa66d\",\"#cba76d\",\"#cba76d\",\"#cca76c\",\"#cca76c\",\"#cda76c\",\"#cea76c\",\"#cea86c\",\"#cfa86c\",\"#cfa86b\",\"#d0a86b\",\"#d0a86b\",\"#d0a96b\",\"#d1a96b\",\"#d1a96a\",\"#d2a96a\",\"#d2aa6a\",\"#d2aa6a\",\"#d3aa6a\",\"#d3aa6a\",\"#d3ab69\",\"#d3ab69\",\"#d3ab69\",\"#d4ac69\",\"#d4ac69\",\"#d4ac69\",\"#d4ad69\",\"#d4ad69\",\"#d5ad69\",\"#d5ae69\",\"#d5ae69\",\"#d5ae69\",\"#d5af69\",\"#d5af69\",\"#d6af69\",\"#d6b069\",\"#d6b069\",\"#d6b069\",\"#d6b06a\",\"#d6b16a\",\"#d6b16a\",\"#d7b16b\",\"#d7b26b\",\"#d7b26b\",\"#d7b26c\",\"#d7b36c\",\"#d7b36c\",\"#d7b36d\",\"#d7b46d\",\"#d7b46e\",\"#d8b46e\",\"#d8b56f\",\"#d8b570\",\"#d8b570\",\"#d8b671\",\"#d8b672\",\"#d8b672\",\"#d8b773\",\"#d8b774\",\"#d8b774\",\"#d8b875\",\"#d8b876\",\"#d8b877\",\"#d8b978\",\"#d8b979\",\"#d8b979\",\"#d8ba7a\",\"#d8ba7b\",\"#d8ba7c\",\"#d8bb7d\",\"#d8bb7e\",\"#d8bb7f\",\"#d8bc81\",\"#d8bc82\",\"#d8bc83\",\"#d8bd84\",\"#d8bd85\",\"#d8bd86\",\"#d8be87\",\"#d8be88\",\"#d8be89\",\"#d8bf8a\",\"#d8bf8b\",\"#d7bf8d\",\"#d7c08e\",\"#d7c08f\",\"#d7c090\",\"#d7c191\",\"#d7c192\",\"#d7c193\",\"#d7c294\",\"#d7c295\",\"#d7c296\",\"#d7c297\",\"#d7c398\",\"#d7c39a\",\"#d7c39b\",\"#d7c49c\",\"#d7c49d\",\"#d7c49e\",\"#d7c59f\",\"#d7c5a0\",\"#d7c5a1\",\"#d7c6a2\",\"#d7c6a3\",\"#d7c6a4\",\"#d7c7a5\",\"#d7c7a6\",\"#d7c7a8\",\"#d7c7a9\",\"#d7c8aa\",\"#d6c8ab\",\"#d6c8ac\",\"#d6c9ad\",\"#d6c9ae\",\"#d6c9af\",\"#d6cab0\",\"#d6cab1\",\"#d6cab2\",\"#d6cbb3\",\"#d6cbb4\",\"#d6cbb6\",\"#d6cbb7\",\"#d6ccb8\",\"#d6ccb9\",\"#d6ccba\",\"#d6cdbb\",\"#d6cdbc\",\"#d6cdbd\",\"#d5cebe\",\"#d5cebf\",\"#d5cec0\",\"#d5cfc1\",\"#d5cfc2\",\"#d5cfc4\",\"#d5cfc5\",\"#d5d0c6\",\"#d5d0c7\",\"#d5d0c8\",\"#d5d1c9\",\"#d5d1ca\",\"#d4d1cb\",\"#d4d2cc\",\"#d4d2cd\",\"#d4d2ce\",\"#d4d3cf\",\"#d4d3d1\",\"#d4d3d2\",\"#d4d3d3\",\"#d4d4d4\"]},\"id\":\"34609\",\"type\":\"LinearColorMapper\"},{\"attributes\":{\"text_color\":\"black\",\"text_font_size\":\"12pt\"},\"id\":\"34573\",\"type\":\"Title\"},{\"attributes\":{\"data_source\":{\"id\":\"34620\"},\"glyph\":{\"id\":\"34623\"},\"hover_glyph\":null,\"muted_glyph\":null,\"nonselection_glyph\":{\"id\":\"34624\"},\"selection_glyph\":{\"id\":\"34627\"},\"view\":{\"id\":\"34626\"}},\"id\":\"34625\",\"type\":\"GlyphRenderer\"},{\"attributes\":{},\"id\":\"34637\",\"type\":\"UnionRenderers\"},{\"attributes\":{\"text\":{\"field\":\"value\"},\"text_align\":{\"value\":\"center\"},\"text_alpha\":{\"value\":0.1},\"text_baseline\":{\"value\":\"middle\"},\"text_color\":{\"value\":\"black\"},\"x\":{\"field\":\"columns\"},\"y\":{\"field\":\"index\"}},\"id\":\"34624\",\"type\":\"Text\"},{\"attributes\":{\"source\":{\"id\":\"34620\"}},\"id\":\"34626\",\"type\":\"CDSView\"},{\"attributes\":{\"axis_label\":\"\",\"formatter\":{\"id\":\"34604\"},\"major_label_policy\":{\"id\":\"34606\"},\"ticker\":{\"id\":\"34585\"}},\"id\":\"34584\",\"type\":\"LinearAxis\"},{\"attributes\":{},\"id\":\"34579\",\"type\":\"LinearScale\"},{\"attributes\":{\"fill_alpha\":{\"value\":0.1},\"fill_color\":{\"field\":\"zvalues\",\"transform\":{\"id\":\"34609\"}},\"height\":{\"field\":\"height\"},\"line_alpha\":{\"value\":0.1},\"line_color\":{\"value\":\"white\"},\"line_width\":{\"value\":2},\"width\":{\"value\":1},\"x\":{\"field\":\"columns\"},\"y\":{\"field\":\"index\"}},\"id\":\"34614\",\"type\":\"Rect\"},{\"attributes\":{\"factors\":[\"0\",\"1\"],\"tags\":[[[\"columns\",\"columns\",null]]]},\"id\":\"34569\",\"type\":\"FactorRange\"},{\"attributes\":{\"axis\":{\"id\":\"34584\"},\"dimension\":1,\"ticker\":{\"id\":\"34585\"}},\"id\":\"34587\",\"type\":\"Grid\"},{\"attributes\":{},\"id\":\"34590\",\"type\":\"WheelZoomTool\"},{\"attributes\":{\"margin\":[5,5,5,5],\"name\":\"HSpacer36966\",\"sizing_mode\":\"stretch_width\"},\"id\":\"34568\",\"type\":\"Spacer\"},{\"attributes\":{\"active_multi\":null,\"tools\":[{\"id\":\"34571\"},{\"id\":\"34588\"},{\"id\":\"34589\"},{\"id\":\"34590\"},{\"id\":\"34591\"},{\"id\":\"34592\"}]},\"id\":\"34594\",\"type\":\"Toolbar\"},{\"attributes\":{\"children\":[{\"id\":\"34568\"},{\"id\":\"34572\"},{\"id\":\"34745\"}],\"margin\":[0,0,0,0],\"name\":\"Row36962\",\"tags\":[\"embedded\"]},\"id\":\"34567\",\"type\":\"Row\"},{\"attributes\":{},\"id\":\"34611\",\"type\":\"Selection\"},{\"attributes\":{},\"id\":\"34621\",\"type\":\"Selection\"},{\"attributes\":{},\"id\":\"34588\",\"type\":\"SaveTool\"},{\"attributes\":{\"angle\":{\"value\":0.0},\"fill_alpha\":{\"value\":1.0},\"fill_color\":{\"field\":\"zvalues\",\"transform\":{\"id\":\"34609\"}},\"hatch_alpha\":{\"value\":1.0},\"hatch_color\":{\"value\":\"black\"},\"hatch_scale\":{\"value\":12.0},\"hatch_weight\":{\"value\":1.0},\"height\":{\"field\":\"height\"},\"line_alpha\":{\"value\":1.0},\"line_cap\":{\"value\":\"butt\"},\"line_color\":{\"value\":\"white\"},\"line_dash\":{\"value\":[]},\"line_dash_offset\":{\"value\":0},\"line_join\":{\"value\":\"bevel\"},\"line_width\":{\"value\":2},\"width\":{\"value\":1},\"x\":{\"field\":\"columns\"},\"y\":{\"field\":\"index\"}},\"id\":\"34619\",\"type\":\"Rect\"},{\"attributes\":{\"overlay\":{\"id\":\"34593\"}},\"id\":\"34591\",\"type\":\"BoxZoomTool\"},{\"attributes\":{},\"id\":\"34639\",\"type\":\"UnionRenderers\"},{\"attributes\":{},\"id\":\"34592\",\"type\":\"ResetTool\"},{\"attributes\":{},\"id\":\"34602\",\"type\":\"CategoricalTickFormatter\"},{\"attributes\":{\"margin\":[5,5,5,5],\"name\":\"HSpacer36967\",\"sizing_mode\":\"stretch_width\"},\"id\":\"34745\",\"type\":\"Spacer\"},{\"attributes\":{\"data_source\":{\"id\":\"34610\"},\"glyph\":{\"id\":\"34613\"},\"hover_glyph\":null,\"muted_glyph\":null,\"nonselection_glyph\":{\"id\":\"34614\"},\"selection_glyph\":{\"id\":\"34619\"},\"view\":{\"id\":\"34616\"}},\"id\":\"34615\",\"type\":\"GlyphRenderer\"},{\"attributes\":{\"bar_line_color\":\"black\",\"color_mapper\":{\"id\":\"34609\"},\"label_standoff\":8,\"location\":[0,0],\"major_label_policy\":{\"id\":\"34629\"},\"major_tick_line_color\":\"black\",\"ticker\":{\"id\":\"34617\"}},\"id\":\"34618\",\"type\":\"ColorBar\"},{\"attributes\":{},\"id\":\"34629\",\"type\":\"NoOverlap\"},{\"attributes\":{\"text\":{\"field\":\"value\"},\"text_align\":{\"value\":\"center\"},\"text_baseline\":{\"value\":\"middle\"},\"text_color\":{\"value\":\"black\"},\"x\":{\"field\":\"columns\"},\"y\":{\"field\":\"index\"}},\"id\":\"34623\",\"type\":\"Text\"},{\"attributes\":{\"angle\":{\"value\":0},\"text\":{\"field\":\"value\"},\"text_align\":{\"value\":\"center\"},\"text_alpha\":{\"value\":1.0},\"text_baseline\":{\"value\":\"middle\"},\"text_color\":{\"value\":\"black\"},\"text_font_style\":{\"value\":\"normal\"},\"text_line_height\":{\"value\":1.2},\"x\":{\"field\":\"columns\"},\"x_offset\":{\"value\":0},\"y\":{\"field\":\"index\"},\"y_offset\":{\"value\":0}},\"id\":\"34627\",\"type\":\"Text\"},{\"attributes\":{\"below\":[{\"id\":\"34581\"}],\"center\":[{\"id\":\"34583\"},{\"id\":\"34587\"}],\"height\":300,\"left\":[{\"id\":\"34584\"}],\"margin\":[5,5,5,5],\"min_border_bottom\":10,\"min_border_left\":10,\"min_border_right\":10,\"min_border_top\":10,\"renderers\":[{\"id\":\"34615\"},{\"id\":\"34625\"}],\"right\":[{\"id\":\"34618\"}],\"sizing_mode\":\"fixed\",\"title\":{\"id\":\"34573\"},\"toolbar\":{\"id\":\"34594\"},\"x_range\":{\"id\":\"34569\"},\"x_scale\":{\"id\":\"34577\"},\"y_range\":{\"id\":\"34570\"},\"y_scale\":{\"id\":\"34579\"}},\"id\":\"34572\",\"subtype\":\"Figure\",\"type\":\"Plot\"},{\"attributes\":{},\"id\":\"34606\",\"type\":\"AllLabels\"},{\"attributes\":{},\"id\":\"34603\",\"type\":\"AllLabels\"},{\"attributes\":{\"data\":{\"columns\":[\"0\",\"0\",\"1\",\"1\"],\"height\":{\"__ndarray__\":\"AAAAAAAA8D8AAAAAAADwPwAAAAAAAPA/AAAAAAAA8D8=\",\"dtype\":\"float64\",\"order\":\"little\",\"shape\":[4]},\"index\":[0,1,0,1],\"value\":[\"19919\",\"2616\",\"347\",\"491\"],\"zvalues\":[19919,2616,347,491]},\"selected\":{\"id\":\"34611\"},\"selection_policy\":{\"id\":\"34637\"}},\"id\":\"34610\",\"type\":\"ColumnDataSource\"},{\"attributes\":{},\"id\":\"34604\",\"type\":\"BasicTickFormatter\"}],\"root_ids\":[\"34567\"]},\"title\":\"Bokeh Application\",\"version\":\"2.3.3\"}};\n",
       "    var render_items = [{\"docid\":\"b35f9a8a-9103-40fa-ba94-dde41d69ae40\",\"root_ids\":[\"34567\"],\"roots\":{\"34567\":\"c3eadc0a-bd03-4597-9938-bc57f4efe9f1\"}}];\n",
       "    root.Bokeh.embed.embed_items_notebook(docs_json, render_items);\n",
       "  }\n",
       "  if (root.Bokeh !== undefined && root.Bokeh.Panel !== undefined) {\n",
       "    embed_document(root);\n",
       "  } else {\n",
       "    var attempts = 0;\n",
       "    var timer = setInterval(function(root) {\n",
       "      if (root.Bokeh !== undefined && root.Bokeh.Panel !== undefined) {\n",
       "        clearInterval(timer);\n",
       "        embed_document(root);\n",
       "      } else if (document.readyState == \"complete\") {\n",
       "        attempts++;\n",
       "        if (attempts > 200) {\n",
       "          clearInterval(timer);\n",
       "          console.log(\"Bokeh: ERROR: Unable to run BokehJS code because BokehJS library is missing\");\n",
       "        }\n",
       "      }\n",
       "    }, 25, root)\n",
       "  }\n",
       "})(window);</script>"
      ],
      "text/plain": [
       ":Overlay\n",
       "   .HeatMap.I :HeatMap   [columns,index]   (value)\n",
       "   .Labels.I  :Labels   [columns,index]   (value)"
      ]
     },
     "metadata": {
      "application/vnd.holoviews_exec.v0+json": {
       "id": "34567"
      }
     },
     "output_type": "display_data"
    }
   ],
   "source": [
    "heatmap =pd.DataFrame(cm).hvplot.heatmap(height=300, width=600, grid=True, line_width=2,cmap='cet_CET_L10')        \n",
    "display(heatmap * hv.Labels(heatmap))"
   ]
  },
  {
   "cell_type": "markdown",
   "id": "a9594769",
   "metadata": {},
   "source": [
    "# Decision Trees"
   ]
  },
  {
   "cell_type": "markdown",
   "id": "1dc7717d",
   "metadata": {},
   "source": [
    "- A decision tree consists of a hierarchy of rules for prediction\n",
    "- We can visualise this as a tree where every node is either:\n",
    "    - An internal node, with a decision criterion, with two children (binary)\n",
    "    - A leaf node, which predicts an outcome\n",
    "\n",
    "- Trees can be built for classification or for regression"
   ]
  },
  {
   "cell_type": "code",
   "execution_count": 248,
   "id": "d14f6ebb",
   "metadata": {},
   "outputs": [
    {
     "data": {
      "text/html": [
       "\n",
       "        <iframe\n",
       "            width=\"400\"\n",
       "            height=\"300\"\n",
       "            src=\"https://www.youtube.com/embed/7VeUPuFGJHk?start=15&end=209\"\n",
       "            frameborder=\"0\"\n",
       "            allowfullscreen\n",
       "        ></iframe>\n",
       "        "
      ],
      "text/plain": [
       "<IPython.lib.display.YouTubeVideo at 0x21187ab3be0>"
      ]
     },
     "execution_count": 248,
     "metadata": {},
     "output_type": "execute_result"
    }
   ],
   "source": [
    "YouTubeVideo('7VeUPuFGJHk?start=15&end=209',width=400, height=300)"
   ]
  },
  {
   "cell_type": "code",
   "execution_count": 249,
   "id": "b638523e",
   "metadata": {},
   "outputs": [
    {
     "name": "stdout",
     "output_type": "stream",
     "text": [
      "Blind dataset - 30%\n",
      "-------------------------\n",
      "ROC AUC 0.62\n"
     ]
    },
    {
     "data": {
      "image/png": "[encoded data removed]",
      "text/plain": [
       "<Figure size 504x504 with 1 Axes>"
      ]
     },
     "metadata": {
      "needs_background": "light"
     },
     "output_type": "display_data"
    }
   ],
   "source": [
    "model, cm = create_model('DT', 'Test')\n",
    "models.append(model)\n",
    "cms.append(cm)"
   ]
  },
  {
   "cell_type": "code",
   "execution_count": 250,
   "id": "ac583748",
   "metadata": {},
   "outputs": [
    {
     "data": {},
     "metadata": {},
     "output_type": "display_data"
    },
    {
     "data": {
      "application/vnd.holoviews_exec.v0+json": "",
      "text/html": [
       "<div id='34812'>\n",
       "\n",
       "\n",
       "\n",
       "\n",
       "\n",
       "  <div class=\"bk-root\" id=\"1fb8224b-e53a-4e35-b708-b93ff0599bec\" data-root-id=\"34812\"></div>\n",
       "</div>\n",
       "<script type=\"application/javascript\">(function(root) {\n",
       "  function embed_document(root) {\n",
       "    var docs_json = {\"ea8e129d-3a4a-4bfc-b918-48aa1d8c6b7d\":{\"defs\":[{\"extends\":null,\"module\":null,\"name\":\"ReactiveHTML1\",\"overrides\":[],\"properties\":[]},{\"extends\":null,\"module\":null,\"name\":\"FlexBox1\",\"overrides\":[],\"properties\":[{\"default\":\"flex-start\",\"kind\":null,\"name\":\"align_content\"},{\"default\":\"flex-start\",\"kind\":null,\"name\":\"align_items\"},{\"default\":\"row\",\"kind\":null,\"name\":\"flex_direction\"},{\"default\":\"wrap\",\"kind\":null,\"name\":\"flex_wrap\"},{\"default\":\"flex-start\",\"kind\":null,\"name\":\"justify_content\"}]},{\"extends\":null,\"module\":null,\"name\":\"TemplateActions1\",\"overrides\":[],\"properties\":[{\"default\":0,\"kind\":null,\"name\":\"open_modal\"},{\"default\":0,\"kind\":null,\"name\":\"close_modal\"}]},{\"extends\":null,\"module\":null,\"name\":\"MaterialTemplateActions1\",\"overrides\":[],\"properties\":[{\"default\":0,\"kind\":null,\"name\":\"open_modal\"},{\"default\":0,\"kind\":null,\"name\":\"close_modal\"}]}],\"roots\":{\"references\":[{\"attributes\":{\"below\":[{\"id\":\"34826\"}],\"center\":[{\"id\":\"34828\"},{\"id\":\"34832\"}],\"height\":300,\"left\":[{\"id\":\"34829\"}],\"margin\":[5,5,5,5],\"min_border_bottom\":10,\"min_border_left\":10,\"min_border_right\":10,\"min_border_top\":10,\"renderers\":[{\"id\":\"34860\"},{\"id\":\"34870\"}],\"right\":[{\"id\":\"34863\"}],\"sizing_mode\":\"fixed\",\"title\":{\"id\":\"34818\"},\"toolbar\":{\"id\":\"34839\"},\"x_range\":{\"id\":\"34814\"},\"x_scale\":{\"id\":\"34822\"},\"y_range\":{\"id\":\"34815\"},\"y_scale\":{\"id\":\"34824\"}},\"id\":\"34817\",\"subtype\":\"Figure\",\"type\":\"Plot\"},{\"attributes\":{\"source\":{\"id\":\"34855\"}},\"id\":\"34861\",\"type\":\"CDSView\"},{\"attributes\":{},\"id\":\"34834\",\"type\":\"PanTool\"},{\"attributes\":{\"high\":18409,\"low\":909,\"nan_color\":\"white\",\"palette\":[\"#659a8f\",\"#669a8f\",\"#679b8f\",\"#679b8e\",\"#689b8e\",\"#699b8d\",\"#6a9c8d\",\"#6a9c8c\",\"#6b9c8c\",\"#6c9c8b\",\"#6c9c8b\",\"#6d9d8a\",\"#6e9d8a\",\"#6f9d89\",\"#6f9d89\",\"#709e88\",\"#719e88\",\"#729e88\",\"#729e87\",\"#739f87\",\"#749f86\",\"#759f86\",\"#759f85\",\"#769f85\",\"#77a084\",\"#78a084\",\"#78a084\",\"#79a083\",\"#7aa083\",\"#7ba182\",\"#7ca182\",\"#7ca181\",\"#7da181\",\"#7ea181\",\"#7fa280\",\"#80a280\",\"#81a27f\",\"#81a27f\",\"#82a27e\",\"#83a37e\",\"#84a37e\",\"#85a37d\",\"#86a37d\",\"#87a37c\",\"#87a37c\",\"#88a37c\",\"#89a47b\",\"#8aa47b\",\"#8ba47b\",\"#8ca47a\",\"#8da47a\",\"#8ea479\",\"#8fa479\",\"#90a579\",\"#91a578\",\"#92a578\",\"#93a578\",\"#94a577\",\"#95a577\",\"#96a577\",\"#97a576\",\"#98a576\",\"#99a676\",\"#9aa675\",\"#9ba675\",\"#9da675\",\"#9ea674\",\"#9fa674\",\"#a0a674\",\"#a1a674\",\"#a3a673\",\"#a4a673\",\"#a5a673\",\"#a6a673\",\"#a8a673\",\"#a9a672\",\"#aaa672\",\"#aca672\",\"#ada672\",\"#afa672\",\"#b0a571\",\"#b1a571\",\"#b3a571\",\"#b4a571\",\"#b5a571\",\"#b6a571\",\"#b7a570\",\"#b9a570\",\"#baa570\",\"#bba570\",\"#bca570\",\"#bda56f\",\"#bea56f\",\"#bfa56f\",\"#c0a56f\",\"#c1a56f\",\"#c2a56f\",\"#c3a56e\",\"#c4a66e\",\"#c5a66e\",\"#c5a66e\",\"#c6a66e\",\"#c7a66e\",\"#c8a66d\",\"#c8a66d\",\"#c9a66d\",\"#caa66d\",\"#cba76d\",\"#cba76d\",\"#cca76c\",\"#cca76c\",\"#cda76c\",\"#cea76c\",\"#cea86c\",\"#cfa86c\",\"#cfa86b\",\"#d0a86b\",\"#d0a86b\",\"#d0a96b\",\"#d1a96b\",\"#d1a96a\",\"#d2a96a\",\"#d2aa6a\",\"#d2aa6a\",\"#d3aa6a\",\"#d3aa6a\",\"#d3ab69\",\"#d3ab69\",\"#d3ab69\",\"#d4ac69\",\"#d4ac69\",\"#d4ac69\",\"#d4ad69\",\"#d4ad69\",\"#d5ad69\",\"#d5ae69\",\"#d5ae69\",\"#d5ae69\",\"#d5af69\",\"#d5af69\",\"#d6af69\",\"#d6b069\",\"#d6b069\",\"#d6b069\",\"#d6b06a\",\"#d6b16a\",\"#d6b16a\",\"#d7b16b\",\"#d7b26b\",\"#d7b26b\",\"#d7b26c\",\"#d7b36c\",\"#d7b36c\",\"#d7b36d\",\"#d7b46d\",\"#d7b46e\",\"#d8b46e\",\"#d8b56f\",\"#d8b570\",\"#d8b570\",\"#d8b671\",\"#d8b672\",\"#d8b672\",\"#d8b773\",\"#d8b774\",\"#d8b774\",\"#d8b875\",\"#d8b876\",\"#d8b877\",\"#d8b978\",\"#d8b979\",\"#d8b979\",\"#d8ba7a\",\"#d8ba7b\",\"#d8ba7c\",\"#d8bb7d\",\"#d8bb7e\",\"#d8bb7f\",\"#d8bc81\",\"#d8bc82\",\"#d8bc83\",\"#d8bd84\",\"#d8bd85\",\"#d8bd86\",\"#d8be87\",\"#d8be88\",\"#d8be89\",\"#d8bf8a\",\"#d8bf8b\",\"#d7bf8d\",\"#d7c08e\",\"#d7c08f\",\"#d7c090\",\"#d7c191\",\"#d7c192\",\"#d7c193\",\"#d7c294\",\"#d7c295\",\"#d7c296\",\"#d7c297\",\"#d7c398\",\"#d7c39a\",\"#d7c39b\",\"#d7c49c\",\"#d7c49d\",\"#d7c49e\",\"#d7c59f\",\"#d7c5a0\",\"#d7c5a1\",\"#d7c6a2\",\"#d7c6a3\",\"#d7c6a4\",\"#d7c7a5\",\"#d7c7a6\",\"#d7c7a8\",\"#d7c7a9\",\"#d7c8aa\",\"#d6c8ab\",\"#d6c8ac\",\"#d6c9ad\",\"#d6c9ae\",\"#d6c9af\",\"#d6cab0\",\"#d6cab1\",\"#d6cab2\",\"#d6cbb3\",\"#d6cbb4\",\"#d6cbb6\",\"#d6cbb7\",\"#d6ccb8\",\"#d6ccb9\",\"#d6ccba\",\"#d6cdbb\",\"#d6cdbc\",\"#d6cdbd\",\"#d5cebe\",\"#d5cebf\",\"#d5cec0\",\"#d5cfc1\",\"#d5cfc2\",\"#d5cfc4\",\"#d5cfc5\",\"#d5d0c6\",\"#d5d0c7\",\"#d5d0c8\",\"#d5d1c9\",\"#d5d1ca\",\"#d4d1cb\",\"#d4d2cc\",\"#d4d2cd\",\"#d4d2ce\",\"#d4d3cf\",\"#d4d3d1\",\"#d4d3d2\",\"#d4d3d3\",\"#d4d4d4\"]},\"id\":\"34854\",\"type\":\"LinearColorMapper\"},{\"attributes\":{},\"id\":\"34882\",\"type\":\"UnionRenderers\"},{\"attributes\":{},\"id\":\"34830\",\"type\":\"BasicTicker\"},{\"attributes\":{},\"id\":\"34827\",\"type\":\"CategoricalTicker\"},{\"attributes\":{\"angle\":{\"value\":0},\"text\":{\"field\":\"value\"},\"text_align\":{\"value\":\"center\"},\"text_alpha\":{\"value\":1.0},\"text_baseline\":{\"value\":\"middle\"},\"text_color\":{\"value\":\"black\"},\"text_font_style\":{\"value\":\"normal\"},\"text_line_height\":{\"value\":1.2},\"x\":{\"field\":\"columns\"},\"x_offset\":{\"value\":0},\"y\":{\"field\":\"index\"},\"y_offset\":{\"value\":0}},\"id\":\"34872\",\"type\":\"Text\"},{\"attributes\":{\"axis_label\":\"\",\"formatter\":{\"id\":\"34849\"},\"major_label_policy\":{\"id\":\"34851\"},\"ticker\":{\"id\":\"34830\"}},\"id\":\"34829\",\"type\":\"LinearAxis\"},{\"attributes\":{},\"id\":\"34824\",\"type\":\"LinearScale\"},{\"attributes\":{\"fill_alpha\":{\"value\":0.1},\"fill_color\":{\"field\":\"zvalues\",\"transform\":{\"id\":\"34854\"}},\"height\":{\"field\":\"height\"},\"line_alpha\":{\"value\":0.1},\"line_color\":{\"value\":\"white\"},\"line_width\":{\"value\":2},\"width\":{\"value\":1},\"x\":{\"field\":\"columns\"},\"y\":{\"field\":\"index\"}},\"id\":\"34859\",\"type\":\"Rect\"},{\"attributes\":{\"factors\":[\"0\",\"1\"],\"tags\":[[[\"columns\",\"columns\",null]]]},\"id\":\"34814\",\"type\":\"FactorRange\"},{\"attributes\":{\"axis\":{\"id\":\"34829\"},\"dimension\":1,\"ticker\":{\"id\":\"34830\"}},\"id\":\"34832\",\"type\":\"Grid\"},{\"attributes\":{},\"id\":\"34835\",\"type\":\"WheelZoomTool\"},{\"attributes\":{},\"id\":\"34856\",\"type\":\"Selection\"},{\"attributes\":{},\"id\":\"34866\",\"type\":\"Selection\"},{\"attributes\":{},\"id\":\"34833\",\"type\":\"SaveTool\"},{\"attributes\":{\"angle\":{\"value\":0.0},\"fill_alpha\":{\"value\":1.0},\"fill_color\":{\"field\":\"zvalues\",\"transform\":{\"id\":\"34854\"}},\"hatch_alpha\":{\"value\":1.0},\"hatch_color\":{\"value\":\"black\"},\"hatch_scale\":{\"value\":12.0},\"hatch_weight\":{\"value\":1.0},\"height\":{\"field\":\"height\"},\"line_alpha\":{\"value\":1.0},\"line_cap\":{\"value\":\"butt\"},\"line_color\":{\"value\":\"white\"},\"line_dash\":{\"value\":[]},\"line_dash_offset\":{\"value\":0},\"line_join\":{\"value\":\"bevel\"},\"line_width\":{\"value\":2},\"width\":{\"value\":1},\"x\":{\"field\":\"columns\"},\"y\":{\"field\":\"index\"}},\"id\":\"34864\",\"type\":\"Rect\"},{\"attributes\":{},\"id\":\"34884\",\"type\":\"UnionRenderers\"},{\"attributes\":{\"overlay\":{\"id\":\"34838\"}},\"id\":\"34836\",\"type\":\"BoxZoomTool\"},{\"attributes\":{\"end\":1.7,\"reset_end\":1.7,\"reset_start\":-0.7,\"start\":-0.7,\"tags\":[[[\"index\",\"index\",null]]]},\"id\":\"34815\",\"type\":\"Range1d\"},{\"attributes\":{\"margin\":[5,5,5,5],\"name\":\"HSpacer37345\",\"sizing_mode\":\"stretch_width\"},\"id\":\"34990\",\"type\":\"Spacer\"},{\"attributes\":{},\"id\":\"34837\",\"type\":\"ResetTool\"},{\"attributes\":{\"active_multi\":null,\"tools\":[{\"id\":\"34816\"},{\"id\":\"34833\"},{\"id\":\"34834\"},{\"id\":\"34835\"},{\"id\":\"34836\"},{\"id\":\"34837\"}]},\"id\":\"34839\",\"type\":\"Toolbar\"},{\"attributes\":{\"data_source\":{\"id\":\"34865\"},\"glyph\":{\"id\":\"34868\"},\"hover_glyph\":null,\"muted_glyph\":null,\"nonselection_glyph\":{\"id\":\"34869\"},\"selection_glyph\":{\"id\":\"34872\"},\"view\":{\"id\":\"34871\"}},\"id\":\"34870\",\"type\":\"GlyphRenderer\"},{\"attributes\":{\"data\":{\"columns\":[\"0\",\"0\",\"1\",\"1\"],\"index\":[0,1,0,1],\"value\":[\"18409\",\"2198\",\"1857\",\"909\"]},\"selected\":{\"id\":\"34866\"},\"selection_policy\":{\"id\":\"34884\"}},\"id\":\"34865\",\"type\":\"ColumnDataSource\"},{\"attributes\":{\"source\":{\"id\":\"34865\"}},\"id\":\"34871\",\"type\":\"CDSView\"},{\"attributes\":{\"data_source\":{\"id\":\"34855\"},\"glyph\":{\"id\":\"34858\"},\"hover_glyph\":null,\"muted_glyph\":null,\"nonselection_glyph\":{\"id\":\"34859\"},\"selection_glyph\":{\"id\":\"34864\"},\"view\":{\"id\":\"34861\"}},\"id\":\"34860\",\"type\":\"GlyphRenderer\"},{\"attributes\":{},\"id\":\"34848\",\"type\":\"AllLabels\"},{\"attributes\":{\"axis\":{\"id\":\"34826\"},\"ticker\":{\"id\":\"34827\"}},\"id\":\"34828\",\"type\":\"Grid\"},{\"attributes\":{},\"id\":\"34874\",\"type\":\"NoOverlap\"},{\"attributes\":{},\"id\":\"34851\",\"type\":\"AllLabels\"},{\"attributes\":{\"bar_line_color\":\"black\",\"color_mapper\":{\"id\":\"34854\"},\"label_standoff\":8,\"location\":[0,0],\"major_label_policy\":{\"id\":\"34874\"},\"major_tick_line_color\":\"black\",\"ticker\":{\"id\":\"34862\"}},\"id\":\"34863\",\"type\":\"ColorBar\"},{\"attributes\":{\"margin\":[5,5,5,5],\"name\":\"HSpacer37344\",\"sizing_mode\":\"stretch_width\"},\"id\":\"34813\",\"type\":\"Spacer\"},{\"attributes\":{},\"id\":\"34849\",\"type\":\"BasicTickFormatter\"},{\"attributes\":{\"text\":{\"field\":\"value\"},\"text_align\":{\"value\":\"center\"},\"text_baseline\":{\"value\":\"middle\"},\"text_color\":{\"value\":\"black\"},\"x\":{\"field\":\"columns\"},\"y\":{\"field\":\"index\"}},\"id\":\"34868\",\"type\":\"Text\"},{\"attributes\":{},\"id\":\"34847\",\"type\":\"CategoricalTickFormatter\"},{\"attributes\":{\"bottom_units\":\"screen\",\"fill_alpha\":0.5,\"fill_color\":\"lightgrey\",\"left_units\":\"screen\",\"level\":\"overlay\",\"line_alpha\":1.0,\"line_color\":\"black\",\"line_dash\":[4,4],\"line_width\":2,\"right_units\":\"screen\",\"syncable\":false,\"top_units\":\"screen\"},\"id\":\"34838\",\"type\":\"BoxAnnotation\"},{\"attributes\":{\"fill_color\":{\"field\":\"zvalues\",\"transform\":{\"id\":\"34854\"}},\"height\":{\"field\":\"height\"},\"line_color\":{\"value\":\"white\"},\"line_width\":{\"value\":2},\"width\":{\"value\":1},\"x\":{\"field\":\"columns\"},\"y\":{\"field\":\"index\"}},\"id\":\"34858\",\"type\":\"Rect\"},{\"attributes\":{\"children\":[{\"id\":\"34813\"},{\"id\":\"34817\"},{\"id\":\"34990\"}],\"margin\":[0,0,0,0],\"name\":\"Row37340\",\"tags\":[\"embedded\"]},\"id\":\"34812\",\"type\":\"Row\"},{\"attributes\":{\"data\":{\"columns\":[\"0\",\"0\",\"1\",\"1\"],\"height\":{\"__ndarray__\":\"AAAAAAAA8D8AAAAAAADwPwAAAAAAAPA/AAAAAAAA8D8=\",\"dtype\":\"float64\",\"order\":\"little\",\"shape\":[4]},\"index\":[0,1,0,1],\"value\":[\"18409\",\"2198\",\"1857\",\"909\"],\"zvalues\":[18409,2198,1857,909]},\"selected\":{\"id\":\"34856\"},\"selection_policy\":{\"id\":\"34882\"}},\"id\":\"34855\",\"type\":\"ColumnDataSource\"},{\"attributes\":{\"text\":{\"field\":\"value\"},\"text_align\":{\"value\":\"center\"},\"text_alpha\":{\"value\":0.1},\"text_baseline\":{\"value\":\"middle\"},\"text_color\":{\"value\":\"black\"},\"x\":{\"field\":\"columns\"},\"y\":{\"field\":\"index\"}},\"id\":\"34869\",\"type\":\"Text\"},{\"attributes\":{\"axis_label\":\"\",\"formatter\":{\"id\":\"34847\"},\"major_label_policy\":{\"id\":\"34848\"},\"ticker\":{\"id\":\"34827\"}},\"id\":\"34826\",\"type\":\"CategoricalAxis\"},{\"attributes\":{},\"id\":\"34822\",\"type\":\"CategoricalScale\"},{\"attributes\":{\"text_color\":\"black\",\"text_font_size\":\"12pt\"},\"id\":\"34818\",\"type\":\"Title\"},{\"attributes\":{},\"id\":\"34862\",\"type\":\"BasicTicker\"},{\"attributes\":{\"callback\":null,\"renderers\":[{\"id\":\"34860\"}],\"tags\":[\"hv_created\"],\"tooltips\":[[\"columns\",\"@{columns}\"],[\"index\",\"@{index}\"],[\"value\",\"@{value}\"]]},\"id\":\"34816\",\"type\":\"HoverTool\"}],\"root_ids\":[\"34812\"]},\"title\":\"Bokeh Application\",\"version\":\"2.3.3\"}};\n",
       "    var render_items = [{\"docid\":\"ea8e129d-3a4a-4bfc-b918-48aa1d8c6b7d\",\"root_ids\":[\"34812\"],\"roots\":{\"34812\":\"1fb8224b-e53a-4e35-b708-b93ff0599bec\"}}];\n",
       "    root.Bokeh.embed.embed_items_notebook(docs_json, render_items);\n",
       "  }\n",
       "  if (root.Bokeh !== undefined && root.Bokeh.Panel !== undefined) {\n",
       "    embed_document(root);\n",
       "  } else {\n",
       "    var attempts = 0;\n",
       "    var timer = setInterval(function(root) {\n",
       "      if (root.Bokeh !== undefined && root.Bokeh.Panel !== undefined) {\n",
       "        clearInterval(timer);\n",
       "        embed_document(root);\n",
       "      } else if (document.readyState == \"complete\") {\n",
       "        attempts++;\n",
       "        if (attempts > 200) {\n",
       "          clearInterval(timer);\n",
       "          console.log(\"Bokeh: ERROR: Unable to run BokehJS code because BokehJS library is missing\");\n",
       "        }\n",
       "      }\n",
       "    }, 25, root)\n",
       "  }\n",
       "})(window);</script>"
      ],
      "text/plain": [
       ":Overlay\n",
       "   .HeatMap.I :HeatMap   [columns,index]   (value)\n",
       "   .Labels.I  :Labels   [columns,index]   (value)"
      ]
     },
     "metadata": {
      "application/vnd.holoviews_exec.v0+json": {
       "id": "34812"
      }
     },
     "output_type": "display_data"
    }
   ],
   "source": [
    "heatmap =pd.DataFrame(cm).hvplot.heatmap(height=300, width=600, grid=True, line_width=2,cmap='cet_CET_L10')        \n",
    "display(heatmap * hv.Labels(heatmap))\n"
   ]
  },
  {
   "cell_type": "code",
   "execution_count": 251,
   "id": "2a07c0fe",
   "metadata": {},
   "outputs": [
    {
     "name": "stdout",
     "output_type": "stream",
     "text": [
      "Number of categorical names: 19 \n",
      "Number of numerical names: 7 \n"
     ]
    },
    {
     "data": {
      "image/svg+xml": [
       "<?xml version=\"1.0\" encoding=\"UTF-8\" standalone=\"no\"?>\r\n",
       "<!DOCTYPE svg PUBLIC \"-//W3C//DTD SVG 1.1//EN\"\r\n",
       " \"http://www.w3.org/Graphics/SVG/1.1/DTD/svg11.dtd\">\r\n",
       "<!-- Generated by graphviz version 2.38.0 (20140413.2041)\r\n",
       " -->\r\n",
       "<!-- Title: Tree Pages: 1 -->\r\n",
       "<svg width=\"367pt\" height=\"192pt\"\r\n",
       " viewBox=\"0.00 0.00 367.00 192.00\" xmlns=\"http://www.w3.org/2000/svg\" xmlns:xlink=\"http://www.w3.org/1999/xlink\">\r\n",
       "<g id=\"graph0\" class=\"graph\" transform=\"scale(1 1) rotate(0) translate(4 188)\">\r\n",
       "<title>Tree</title>\r\n",
       "<polygon fill=\"white\" stroke=\"none\" points=\"-4,4 -4,-188 363,-188 363,4 -4,4\"/>\r\n",
       "<!-- 0 -->\r\n",
       "<g id=\"node1\" class=\"node\"><title>0</title>\r\n",
       "<polygon fill=\"#e99558\" stroke=\"black\" points=\"221,-184 126,-184 126,-146 221,-146 221,-184\"/>\r\n",
       "<text text-anchor=\"middle\" x=\"173.5\" y=\"-168.8\" font-family=\"Times New Roman,serif\" font-size=\"14.00\">x2_All &lt;= 0.5</text>\r\n",
       "<text text-anchor=\"middle\" x=\"173.5\" y=\"-153.8\" font-family=\"Times New Roman,serif\" font-size=\"14.00\">class = 0</text>\r\n",
       "</g>\r\n",
       "<!-- 1 -->\r\n",
       "<g id=\"node2\" class=\"node\"><title>1</title>\r\n",
       "<polygon fill=\"#e89050\" stroke=\"black\" points=\"165,-110 0,-110 0,-72 165,-72 165,-110\"/>\r\n",
       "<text text-anchor=\"middle\" x=\"82.5\" y=\"-94.8\" font-family=\"Times New Roman,serif\" font-size=\"14.00\">INDEX_YEAR &lt;= 2009.5</text>\r\n",
       "<text text-anchor=\"middle\" x=\"82.5\" y=\"-79.8\" font-family=\"Times New Roman,serif\" font-size=\"14.00\">class = 0</text>\r\n",
       "</g>\r\n",
       "<!-- 0&#45;&gt;1 -->\r\n",
       "<g id=\"edge1\" class=\"edge\"><title>0&#45;&gt;1</title>\r\n",
       "<path fill=\"none\" stroke=\"black\" d=\"M150.537,-145.831C139.328,-136.963 125.679,-126.164 113.556,-116.572\"/>\r\n",
       "<polygon fill=\"black\" stroke=\"black\" points=\"115.47,-113.623 105.456,-110.163 111.126,-119.112 115.47,-113.623\"/>\r\n",
       "<text text-anchor=\"middle\" x=\"108.35\" y=\"-131.295\" font-family=\"Times New Roman,serif\" font-size=\"14.00\">True</text>\r\n",
       "</g>\r\n",
       "<!-- 4 -->\r\n",
       "<g id=\"node5\" class=\"node\"><title>4</title>\r\n",
       "<polygon fill=\"#fae7d9\" stroke=\"black\" points=\"348,-110 183,-110 183,-72 348,-72 348,-110\"/>\r\n",
       "<text text-anchor=\"middle\" x=\"265.5\" y=\"-94.8\" font-family=\"Times New Roman,serif\" font-size=\"14.00\">INDEX_YEAR &lt;= 2007.5</text>\r\n",
       "<text text-anchor=\"middle\" x=\"265.5\" y=\"-79.8\" font-family=\"Times New Roman,serif\" font-size=\"14.00\">class = 0</text>\r\n",
       "</g>\r\n",
       "<!-- 0&#45;&gt;4 -->\r\n",
       "<g id=\"edge4\" class=\"edge\"><title>0&#45;&gt;4</title>\r\n",
       "<path fill=\"none\" stroke=\"black\" d=\"M196.715,-145.831C208.047,-136.963 221.846,-126.164 234.103,-116.572\"/>\r\n",
       "<polygon fill=\"black\" stroke=\"black\" points=\"236.574,-119.082 242.292,-110.163 232.26,-113.57 236.574,-119.082\"/>\r\n",
       "<text text-anchor=\"middle\" x=\"239.266\" y=\"-131.279\" font-family=\"Times New Roman,serif\" font-size=\"14.00\">False</text>\r\n",
       "</g>\r\n",
       "<!-- 2 -->\r\n",
       "<g id=\"node3\" class=\"node\"><title>2</title>\r\n",
       "<polygon fill=\"#ea985c\" stroke=\"black\" points=\"80,-36 13,-36 13,-0 80,-0 80,-36\"/>\r\n",
       "<text text-anchor=\"middle\" x=\"46.5\" y=\"-14.3\" font-family=\"Times New Roman,serif\" font-size=\"14.00\">class = 0</text>\r\n",
       "</g>\r\n",
       "<!-- 1&#45;&gt;2 -->\r\n",
       "<g id=\"edge2\" class=\"edge\"><title>1&#45;&gt;2</title>\r\n",
       "<path fill=\"none\" stroke=\"black\" d=\"M73.2291,-71.7157C69.1289,-63.6292 64.2313,-53.9702 59.7553,-45.1424\"/>\r\n",
       "<polygon fill=\"black\" stroke=\"black\" points=\"62.7655,-43.3396 55.1215,-36.0034 56.5222,-46.5053 62.7655,-43.3396\"/>\r\n",
       "</g>\r\n",
       "<!-- 3 -->\r\n",
       "<g id=\"node4\" class=\"node\"><title>3</title>\r\n",
       "<polygon fill=\"#e68743\" stroke=\"black\" points=\"165,-36 98,-36 98,-0 165,-0 165,-36\"/>\r\n",
       "<text text-anchor=\"middle\" x=\"131.5\" y=\"-14.3\" font-family=\"Times New Roman,serif\" font-size=\"14.00\">class = 0</text>\r\n",
       "</g>\r\n",
       "<!-- 1&#45;&gt;3 -->\r\n",
       "<g id=\"edge3\" class=\"edge\"><title>1&#45;&gt;3</title>\r\n",
       "<path fill=\"none\" stroke=\"black\" d=\"M95.1187,-71.7157C100.878,-63.3711 107.792,-53.352 114.04,-44.2998\"/>\r\n",
       "<polygon fill=\"black\" stroke=\"black\" points=\"116.966,-46.2218 119.765,-36.0034 111.205,-42.2457 116.966,-46.2218\"/>\r\n",
       "</g>\r\n",
       "<!-- 5 -->\r\n",
       "<g id=\"node6\" class=\"node\"><title>5</title>\r\n",
       "<polygon fill=\"#dbedfa\" stroke=\"black\" points=\"274,-36 207,-36 207,-0 274,-0 274,-36\"/>\r\n",
       "<text text-anchor=\"middle\" x=\"240.5\" y=\"-14.3\" font-family=\"Times New Roman,serif\" font-size=\"14.00\">class = 1</text>\r\n",
       "</g>\r\n",
       "<!-- 4&#45;&gt;5 -->\r\n",
       "<g id=\"edge5\" class=\"edge\"><title>4&#45;&gt;5</title>\r\n",
       "<path fill=\"none\" stroke=\"black\" d=\"M259.062,-71.7157C256.275,-63.8013 252.958,-54.3805 249.904,-45.707\"/>\r\n",
       "<polygon fill=\"black\" stroke=\"black\" points=\"253.11,-44.2733 246.487,-36.0034 246.507,-46.5983 253.11,-44.2733\"/>\r\n",
       "</g>\r\n",
       "<!-- 6 -->\r\n",
       "<g id=\"node7\" class=\"node\"><title>6</title>\r\n",
       "<polygon fill=\"#f0b78f\" stroke=\"black\" points=\"359,-36 292,-36 292,-0 359,-0 359,-36\"/>\r\n",
       "<text text-anchor=\"middle\" x=\"325.5\" y=\"-14.3\" font-family=\"Times New Roman,serif\" font-size=\"14.00\">class = 0</text>\r\n",
       "</g>\r\n",
       "<!-- 4&#45;&gt;6 -->\r\n",
       "<g id=\"edge6\" class=\"edge\"><title>4&#45;&gt;6</title>\r\n",
       "<path fill=\"none\" stroke=\"black\" d=\"M280.951,-71.7157C288.149,-63.1991 296.82,-52.9382 304.592,-43.7412\"/>\r\n",
       "<polygon fill=\"black\" stroke=\"black\" points=\"307.35,-45.9005 311.131,-36.0034 302.003,-41.3823 307.35,-45.9005\"/>\r\n",
       "</g>\r\n",
       "</g>\r\n",
       "</svg>\r\n"
      ],
      "text/plain": [
       "<graphviz.files.Source at 0x21189cf61f0>"
      ]
     },
     "metadata": {},
     "output_type": "display_data"
    }
   ],
   "source": [
    "#create DT model with max_depth=2 since easy to plot\n",
    "X_train_np_t, X_train_df_t, X_test_np_t, X_test_df_t = cohort_2_transform_df(X_train, X_test, False )\n",
    "model = DecisionTreeClassifier(random_state=0,max_depth=2)\n",
    "model.fit(X_train_np_t, y_train)\n",
    "\n",
    "# create DOT data\n",
    "im_path = './Images'\n",
    "\n",
    "dot_data = tree.export_graphviz(model, out_file=os.path.join (im_path, 'tree_test.dot'), \n",
    "                                feature_names=X_train_df_t.columns,  \n",
    "                                class_names=['0','1'],\n",
    "                                filled=True,\n",
    "                                impurity = False,\n",
    "                               )\n",
    "\n",
    "#clean dot file via re\n",
    "file_to_rewrite = './Images/tree_test.dot'\n",
    "f = pdp.graph_from_dot_file(file_to_rewrite).to_string()\n",
    "f = re.sub(\"(\\\\\\\\nsamples = [0-9]+)(\\\\\\\\nvalue = \\[[0-9]+, [0-9]+\\])\", '', f)\n",
    "f = re.sub('(samples = [0-9]+)(\\\\\\\\nvalue = \\[[0-9]+, [0-9]+\\])\\\\\\\\n', '', f)\n",
    "\n",
    "#write updated data\n",
    "with open(\"./Images/tree_test.dot\", 'w') as file:\n",
    "    file.write(f)\n",
    "    \n",
    "#display updated file\n",
    "with open(\"./Images/tree_test.dot\") as f:\n",
    "    dot_graph = f.read()\n",
    "    display(graphviz.Source(dot_graph))"
   ]
  },
  {
   "cell_type": "markdown",
   "id": "1c37591b",
   "metadata": {},
   "source": [
    "# NB"
   ]
  },
  {
   "cell_type": "markdown",
   "id": "57377f13",
   "metadata": {},
   "source": [
    "A Naive Bayes classifier is a probabilistic machine learning model that’s used for classification task. The main idea of the classifier is based on the Bayes theorem.\n",
    "\n",
    "Using Bayes theorem, we can find the probability of A happening, given that B has occurred. Here, B is the evidence and A is the hypothesis. The assumption made here is that the predictors/features are independent. That is presence of one particular feature does not affect the other. Hence it is called naive"
   ]
  },
  {
   "cell_type": "markdown",
   "id": "162736dd",
   "metadata": {},
   "source": [
    "$$ \n",
    "P(y|x) = \\frac{P(x|y) \\cdot P(y)}{P(x)}\n",
    "$$"
   ]
  },
  {
   "cell_type": "markdown",
   "id": "1256acaf",
   "metadata": {},
   "source": [
    "\n",
    "<tr>\n",
    "<td> <img src=\"Images/NB_1.png\" alt=\"Drawing\" style=\"width: 600px;\"/> </td>\n",
    "<td> <img src=\"Images/NB_2.png\" alt=\"Drawing\" style=\"width: 450px;\"/> </td>\n",
    "</tr>\n",
    "    "
   ]
  },
  {
   "cell_type": "code",
   "execution_count": 252,
   "id": "28487b32",
   "metadata": {},
   "outputs": [
    {
     "name": "stdout",
     "output_type": "stream",
     "text": [
      "Blind dataset - 30%\n",
      "-------------------------\n",
      "ROC AUC 0.8\n"
     ]
    },
    {
     "data": {
      "image/png": "[encoded data removed]",
      "text/plain": [
       "<Figure size 504x504 with 1 Axes>"
      ]
     },
     "metadata": {
      "needs_background": "light"
     },
     "output_type": "display_data"
    }
   ],
   "source": [
    "model, cm = create_model('NB', 'Test')\n",
    "models.append(model)\n",
    "cms.append(cm)"
   ]
  },
  {
   "cell_type": "code",
   "execution_count": 253,
   "id": "936951ed",
   "metadata": {},
   "outputs": [
    {
     "data": {},
     "metadata": {},
     "output_type": "display_data"
    },
    {
     "data": {
      "application/vnd.holoviews_exec.v0+json": "",
      "text/html": [
       "<div id='35057'>\n",
       "\n",
       "\n",
       "\n",
       "\n",
       "\n",
       "  <div class=\"bk-root\" id=\"d57f5875-5dc4-4109-9745-748fc1d94160\" data-root-id=\"35057\"></div>\n",
       "</div>\n",
       "<script type=\"application/javascript\">(function(root) {\n",
       "  function embed_document(root) {\n",
       "    var docs_json = {\"e39d6b11-420f-4168-bc03-df5538d39432\":{\"defs\":[{\"extends\":null,\"module\":null,\"name\":\"ReactiveHTML1\",\"overrides\":[],\"properties\":[]},{\"extends\":null,\"module\":null,\"name\":\"FlexBox1\",\"overrides\":[],\"properties\":[{\"default\":\"flex-start\",\"kind\":null,\"name\":\"align_content\"},{\"default\":\"flex-start\",\"kind\":null,\"name\":\"align_items\"},{\"default\":\"row\",\"kind\":null,\"name\":\"flex_direction\"},{\"default\":\"wrap\",\"kind\":null,\"name\":\"flex_wrap\"},{\"default\":\"flex-start\",\"kind\":null,\"name\":\"justify_content\"}]},{\"extends\":null,\"module\":null,\"name\":\"TemplateActions1\",\"overrides\":[],\"properties\":[{\"default\":0,\"kind\":null,\"name\":\"open_modal\"},{\"default\":0,\"kind\":null,\"name\":\"close_modal\"}]},{\"extends\":null,\"module\":null,\"name\":\"MaterialTemplateActions1\",\"overrides\":[],\"properties\":[{\"default\":0,\"kind\":null,\"name\":\"open_modal\"},{\"default\":0,\"kind\":null,\"name\":\"close_modal\"}]}],\"roots\":{\"references\":[{\"attributes\":{\"data_source\":{\"id\":\"35100\"},\"glyph\":{\"id\":\"35103\"},\"hover_glyph\":null,\"muted_glyph\":null,\"nonselection_glyph\":{\"id\":\"35104\"},\"selection_glyph\":{\"id\":\"35109\"},\"view\":{\"id\":\"35106\"}},\"id\":\"35105\",\"type\":\"GlyphRenderer\"},{\"attributes\":{},\"id\":\"35093\",\"type\":\"AllLabels\"},{\"attributes\":{},\"id\":\"35107\",\"type\":\"BasicTicker\"},{\"attributes\":{\"data\":{\"columns\":[\"0\",\"0\",\"1\",\"1\"],\"height\":{\"__ndarray__\":\"AAAAAAAA8D8AAAAAAADwPwAAAAAAAPA/AAAAAAAA8D8=\",\"dtype\":\"float64\",\"order\":\"little\",\"shape\":[4]},\"index\":[0,1,0,1],\"value\":[\"18339\",\"1702\",\"1927\",\"1405\"],\"zvalues\":[18339,1702,1927,1405]},\"selected\":{\"id\":\"35101\"},\"selection_policy\":{\"id\":\"35127\"}},\"id\":\"35100\",\"type\":\"ColumnDataSource\"},{\"attributes\":{\"bar_line_color\":\"black\",\"color_mapper\":{\"id\":\"35099\"},\"label_standoff\":8,\"location\":[0,0],\"major_label_policy\":{\"id\":\"35119\"},\"major_tick_line_color\":\"black\",\"ticker\":{\"id\":\"35107\"}},\"id\":\"35108\",\"type\":\"ColorBar\"},{\"attributes\":{},\"id\":\"35092\",\"type\":\"CategoricalTickFormatter\"},{\"attributes\":{\"text_color\":\"black\",\"text_font_size\":\"12pt\"},\"id\":\"35063\",\"type\":\"Title\"},{\"attributes\":{},\"id\":\"35096\",\"type\":\"AllLabels\"},{\"attributes\":{},\"id\":\"35094\",\"type\":\"BasicTickFormatter\"},{\"attributes\":{},\"id\":\"35127\",\"type\":\"UnionRenderers\"},{\"attributes\":{\"fill_color\":{\"field\":\"zvalues\",\"transform\":{\"id\":\"35099\"}},\"height\":{\"field\":\"height\"},\"line_color\":{\"value\":\"white\"},\"line_width\":{\"value\":2},\"width\":{\"value\":1},\"x\":{\"field\":\"columns\"},\"y\":{\"field\":\"index\"}},\"id\":\"35103\",\"type\":\"Rect\"},{\"attributes\":{\"angle\":{\"value\":0.0},\"fill_alpha\":{\"value\":1.0},\"fill_color\":{\"field\":\"zvalues\",\"transform\":{\"id\":\"35099\"}},\"hatch_alpha\":{\"value\":1.0},\"hatch_color\":{\"value\":\"black\"},\"hatch_scale\":{\"value\":12.0},\"hatch_weight\":{\"value\":1.0},\"height\":{\"field\":\"height\"},\"line_alpha\":{\"value\":1.0},\"line_cap\":{\"value\":\"butt\"},\"line_color\":{\"value\":\"white\"},\"line_dash\":{\"value\":[]},\"line_dash_offset\":{\"value\":0},\"line_join\":{\"value\":\"bevel\"},\"line_width\":{\"value\":2},\"width\":{\"value\":1},\"x\":{\"field\":\"columns\"},\"y\":{\"field\":\"index\"}},\"id\":\"35109\",\"type\":\"Rect\"},{\"attributes\":{},\"id\":\"35111\",\"type\":\"Selection\"},{\"attributes\":{},\"id\":\"35067\",\"type\":\"CategoricalScale\"},{\"attributes\":{},\"id\":\"35075\",\"type\":\"BasicTicker\"},{\"attributes\":{\"source\":{\"id\":\"35100\"}},\"id\":\"35106\",\"type\":\"CDSView\"},{\"attributes\":{\"axis_label\":\"\",\"formatter\":{\"id\":\"35092\"},\"major_label_policy\":{\"id\":\"35093\"},\"ticker\":{\"id\":\"35072\"}},\"id\":\"35071\",\"type\":\"CategoricalAxis\"},{\"attributes\":{\"high\":18339,\"low\":1405,\"nan_color\":\"white\",\"palette\":[\"#659a8f\",\"#669a8f\",\"#679b8f\",\"#679b8e\",\"#689b8e\",\"#699b8d\",\"#6a9c8d\",\"#6a9c8c\",\"#6b9c8c\",\"#6c9c8b\",\"#6c9c8b\",\"#6d9d8a\",\"#6e9d8a\",\"#6f9d89\",\"#6f9d89\",\"#709e88\",\"#719e88\",\"#729e88\",\"#729e87\",\"#739f87\",\"#749f86\",\"#759f86\",\"#759f85\",\"#769f85\",\"#77a084\",\"#78a084\",\"#78a084\",\"#79a083\",\"#7aa083\",\"#7ba182\",\"#7ca182\",\"#7ca181\",\"#7da181\",\"#7ea181\",\"#7fa280\",\"#80a280\",\"#81a27f\",\"#81a27f\",\"#82a27e\",\"#83a37e\",\"#84a37e\",\"#85a37d\",\"#86a37d\",\"#87a37c\",\"#87a37c\",\"#88a37c\",\"#89a47b\",\"#8aa47b\",\"#8ba47b\",\"#8ca47a\",\"#8da47a\",\"#8ea479\",\"#8fa479\",\"#90a579\",\"#91a578\",\"#92a578\",\"#93a578\",\"#94a577\",\"#95a577\",\"#96a577\",\"#97a576\",\"#98a576\",\"#99a676\",\"#9aa675\",\"#9ba675\",\"#9da675\",\"#9ea674\",\"#9fa674\",\"#a0a674\",\"#a1a674\",\"#a3a673\",\"#a4a673\",\"#a5a673\",\"#a6a673\",\"#a8a673\",\"#a9a672\",\"#aaa672\",\"#aca672\",\"#ada672\",\"#afa672\",\"#b0a571\",\"#b1a571\",\"#b3a571\",\"#b4a571\",\"#b5a571\",\"#b6a571\",\"#b7a570\",\"#b9a570\",\"#baa570\",\"#bba570\",\"#bca570\",\"#bda56f\",\"#bea56f\",\"#bfa56f\",\"#c0a56f\",\"#c1a56f\",\"#c2a56f\",\"#c3a56e\",\"#c4a66e\",\"#c5a66e\",\"#c5a66e\",\"#c6a66e\",\"#c7a66e\",\"#c8a66d\",\"#c8a66d\",\"#c9a66d\",\"#caa66d\",\"#cba76d\",\"#cba76d\",\"#cca76c\",\"#cca76c\",\"#cda76c\",\"#cea76c\",\"#cea86c\",\"#cfa86c\",\"#cfa86b\",\"#d0a86b\",\"#d0a86b\",\"#d0a96b\",\"#d1a96b\",\"#d1a96a\",\"#d2a96a\",\"#d2aa6a\",\"#d2aa6a\",\"#d3aa6a\",\"#d3aa6a\",\"#d3ab69\",\"#d3ab69\",\"#d3ab69\",\"#d4ac69\",\"#d4ac69\",\"#d4ac69\",\"#d4ad69\",\"#d4ad69\",\"#d5ad69\",\"#d5ae69\",\"#d5ae69\",\"#d5ae69\",\"#d5af69\",\"#d5af69\",\"#d6af69\",\"#d6b069\",\"#d6b069\",\"#d6b069\",\"#d6b06a\",\"#d6b16a\",\"#d6b16a\",\"#d7b16b\",\"#d7b26b\",\"#d7b26b\",\"#d7b26c\",\"#d7b36c\",\"#d7b36c\",\"#d7b36d\",\"#d7b46d\",\"#d7b46e\",\"#d8b46e\",\"#d8b56f\",\"#d8b570\",\"#d8b570\",\"#d8b671\",\"#d8b672\",\"#d8b672\",\"#d8b773\",\"#d8b774\",\"#d8b774\",\"#d8b875\",\"#d8b876\",\"#d8b877\",\"#d8b978\",\"#d8b979\",\"#d8b979\",\"#d8ba7a\",\"#d8ba7b\",\"#d8ba7c\",\"#d8bb7d\",\"#d8bb7e\",\"#d8bb7f\",\"#d8bc81\",\"#d8bc82\",\"#d8bc83\",\"#d8bd84\",\"#d8bd85\",\"#d8bd86\",\"#d8be87\",\"#d8be88\",\"#d8be89\",\"#d8bf8a\",\"#d8bf8b\",\"#d7bf8d\",\"#d7c08e\",\"#d7c08f\",\"#d7c090\",\"#d7c191\",\"#d7c192\",\"#d7c193\",\"#d7c294\",\"#d7c295\",\"#d7c296\",\"#d7c297\",\"#d7c398\",\"#d7c39a\",\"#d7c39b\",\"#d7c49c\",\"#d7c49d\",\"#d7c49e\",\"#d7c59f\",\"#d7c5a0\",\"#d7c5a1\",\"#d7c6a2\",\"#d7c6a3\",\"#d7c6a4\",\"#d7c7a5\",\"#d7c7a6\",\"#d7c7a8\",\"#d7c7a9\",\"#d7c8aa\",\"#d6c8ab\",\"#d6c8ac\",\"#d6c9ad\",\"#d6c9ae\",\"#d6c9af\",\"#d6cab0\",\"#d6cab1\",\"#d6cab2\",\"#d6cbb3\",\"#d6cbb4\",\"#d6cbb6\",\"#d6cbb7\",\"#d6ccb8\",\"#d6ccb9\",\"#d6ccba\",\"#d6cdbb\",\"#d6cdbc\",\"#d6cdbd\",\"#d5cebe\",\"#d5cebf\",\"#d5cec0\",\"#d5cfc1\",\"#d5cfc2\",\"#d5cfc4\",\"#d5cfc5\",\"#d5d0c6\",\"#d5d0c7\",\"#d5d0c8\",\"#d5d1c9\",\"#d5d1ca\",\"#d4d1cb\",\"#d4d2cc\",\"#d4d2cd\",\"#d4d2ce\",\"#d4d3cf\",\"#d4d3d1\",\"#d4d3d2\",\"#d4d3d3\",\"#d4d4d4\"]},\"id\":\"35099\",\"type\":\"LinearColorMapper\"},{\"attributes\":{},\"id\":\"35072\",\"type\":\"CategoricalTicker\"},{\"attributes\":{\"margin\":[5,5,5,5],\"name\":\"HSpacer37722\",\"sizing_mode\":\"stretch_width\"},\"id\":\"35058\",\"type\":\"Spacer\"},{\"attributes\":{},\"id\":\"35129\",\"type\":\"UnionRenderers\"},{\"attributes\":{\"bottom_units\":\"screen\",\"fill_alpha\":0.5,\"fill_color\":\"lightgrey\",\"left_units\":\"screen\",\"level\":\"overlay\",\"line_alpha\":1.0,\"line_color\":\"black\",\"line_dash\":[4,4],\"line_width\":2,\"right_units\":\"screen\",\"syncable\":false,\"top_units\":\"screen\"},\"id\":\"35083\",\"type\":\"BoxAnnotation\"},{\"attributes\":{\"callback\":null,\"renderers\":[{\"id\":\"35105\"}],\"tags\":[\"hv_created\"],\"tooltips\":[[\"columns\",\"@{columns}\"],[\"index\",\"@{index}\"],[\"value\",\"@{value}\"]]},\"id\":\"35061\",\"type\":\"HoverTool\"},{\"attributes\":{\"end\":1.7,\"reset_end\":1.7,\"reset_start\":-0.7,\"start\":-0.7,\"tags\":[[[\"index\",\"index\",null]]]},\"id\":\"35060\",\"type\":\"Range1d\"},{\"attributes\":{},\"id\":\"35079\",\"type\":\"PanTool\"},{\"attributes\":{\"factors\":[\"0\",\"1\"],\"tags\":[[[\"columns\",\"columns\",null]]]},\"id\":\"35059\",\"type\":\"FactorRange\"},{\"attributes\":{\"angle\":{\"value\":0},\"text\":{\"field\":\"value\"},\"text_align\":{\"value\":\"center\"},\"text_alpha\":{\"value\":1.0},\"text_baseline\":{\"value\":\"middle\"},\"text_color\":{\"value\":\"black\"},\"text_font_style\":{\"value\":\"normal\"},\"text_line_height\":{\"value\":1.2},\"x\":{\"field\":\"columns\"},\"x_offset\":{\"value\":0},\"y\":{\"field\":\"index\"},\"y_offset\":{\"value\":0}},\"id\":\"35117\",\"type\":\"Text\"},{\"attributes\":{\"text\":{\"field\":\"value\"},\"text_align\":{\"value\":\"center\"},\"text_baseline\":{\"value\":\"middle\"},\"text_color\":{\"value\":\"black\"},\"x\":{\"field\":\"columns\"},\"y\":{\"field\":\"index\"}},\"id\":\"35113\",\"type\":\"Text\"},{\"attributes\":{\"below\":[{\"id\":\"35071\"}],\"center\":[{\"id\":\"35073\"},{\"id\":\"35077\"}],\"height\":300,\"left\":[{\"id\":\"35074\"}],\"margin\":[5,5,5,5],\"min_border_bottom\":10,\"min_border_left\":10,\"min_border_right\":10,\"min_border_top\":10,\"renderers\":[{\"id\":\"35105\"},{\"id\":\"35115\"}],\"right\":[{\"id\":\"35108\"}],\"sizing_mode\":\"fixed\",\"title\":{\"id\":\"35063\"},\"toolbar\":{\"id\":\"35084\"},\"x_range\":{\"id\":\"35059\"},\"x_scale\":{\"id\":\"35067\"},\"y_range\":{\"id\":\"35060\"},\"y_scale\":{\"id\":\"35069\"}},\"id\":\"35062\",\"subtype\":\"Figure\",\"type\":\"Plot\"},{\"attributes\":{\"source\":{\"id\":\"35110\"}},\"id\":\"35116\",\"type\":\"CDSView\"},{\"attributes\":{},\"id\":\"35119\",\"type\":\"NoOverlap\"},{\"attributes\":{\"data_source\":{\"id\":\"35110\"},\"glyph\":{\"id\":\"35113\"},\"hover_glyph\":null,\"muted_glyph\":null,\"nonselection_glyph\":{\"id\":\"35114\"},\"selection_glyph\":{\"id\":\"35117\"},\"view\":{\"id\":\"35116\"}},\"id\":\"35115\",\"type\":\"GlyphRenderer\"},{\"attributes\":{},\"id\":\"35069\",\"type\":\"LinearScale\"},{\"attributes\":{\"text\":{\"field\":\"value\"},\"text_align\":{\"value\":\"center\"},\"text_alpha\":{\"value\":0.1},\"text_baseline\":{\"value\":\"middle\"},\"text_color\":{\"value\":\"black\"},\"x\":{\"field\":\"columns\"},\"y\":{\"field\":\"index\"}},\"id\":\"35114\",\"type\":\"Text\"},{\"attributes\":{\"axis\":{\"id\":\"35071\"},\"ticker\":{\"id\":\"35072\"}},\"id\":\"35073\",\"type\":\"Grid\"},{\"attributes\":{\"data\":{\"columns\":[\"0\",\"0\",\"1\",\"1\"],\"index\":[0,1,0,1],\"value\":[\"18339\",\"1702\",\"1927\",\"1405\"]},\"selected\":{\"id\":\"35111\"},\"selection_policy\":{\"id\":\"35129\"}},\"id\":\"35110\",\"type\":\"ColumnDataSource\"},{\"attributes\":{\"axis_label\":\"\",\"formatter\":{\"id\":\"35094\"},\"major_label_policy\":{\"id\":\"35096\"},\"ticker\":{\"id\":\"35075\"}},\"id\":\"35074\",\"type\":\"LinearAxis\"},{\"attributes\":{},\"id\":\"35101\",\"type\":\"Selection\"},{\"attributes\":{\"axis\":{\"id\":\"35074\"},\"dimension\":1,\"ticker\":{\"id\":\"35075\"}},\"id\":\"35077\",\"type\":\"Grid\"},{\"attributes\":{},\"id\":\"35080\",\"type\":\"WheelZoomTool\"},{\"attributes\":{\"active_multi\":null,\"tools\":[{\"id\":\"35061\"},{\"id\":\"35078\"},{\"id\":\"35079\"},{\"id\":\"35080\"},{\"id\":\"35081\"},{\"id\":\"35082\"}]},\"id\":\"35084\",\"type\":\"Toolbar\"},{\"attributes\":{\"children\":[{\"id\":\"35058\"},{\"id\":\"35062\"},{\"id\":\"35235\"}],\"margin\":[0,0,0,0],\"name\":\"Row37718\",\"tags\":[\"embedded\"]},\"id\":\"35057\",\"type\":\"Row\"},{\"attributes\":{},\"id\":\"35078\",\"type\":\"SaveTool\"},{\"attributes\":{\"margin\":[5,5,5,5],\"name\":\"HSpacer37723\",\"sizing_mode\":\"stretch_width\"},\"id\":\"35235\",\"type\":\"Spacer\"},{\"attributes\":{\"overlay\":{\"id\":\"35083\"}},\"id\":\"35081\",\"type\":\"BoxZoomTool\"},{\"attributes\":{},\"id\":\"35082\",\"type\":\"ResetTool\"},{\"attributes\":{\"fill_alpha\":{\"value\":0.1},\"fill_color\":{\"field\":\"zvalues\",\"transform\":{\"id\":\"35099\"}},\"height\":{\"field\":\"height\"},\"line_alpha\":{\"value\":0.1},\"line_color\":{\"value\":\"white\"},\"line_width\":{\"value\":2},\"width\":{\"value\":1},\"x\":{\"field\":\"columns\"},\"y\":{\"field\":\"index\"}},\"id\":\"35104\",\"type\":\"Rect\"}],\"root_ids\":[\"35057\"]},\"title\":\"Bokeh Application\",\"version\":\"2.3.3\"}};\n",
       "    var render_items = [{\"docid\":\"e39d6b11-420f-4168-bc03-df5538d39432\",\"root_ids\":[\"35057\"],\"roots\":{\"35057\":\"d57f5875-5dc4-4109-9745-748fc1d94160\"}}];\n",
       "    root.Bokeh.embed.embed_items_notebook(docs_json, render_items);\n",
       "  }\n",
       "  if (root.Bokeh !== undefined && root.Bokeh.Panel !== undefined) {\n",
       "    embed_document(root);\n",
       "  } else {\n",
       "    var attempts = 0;\n",
       "    var timer = setInterval(function(root) {\n",
       "      if (root.Bokeh !== undefined && root.Bokeh.Panel !== undefined) {\n",
       "        clearInterval(timer);\n",
       "        embed_document(root);\n",
       "      } else if (document.readyState == \"complete\") {\n",
       "        attempts++;\n",
       "        if (attempts > 200) {\n",
       "          clearInterval(timer);\n",
       "          console.log(\"Bokeh: ERROR: Unable to run BokehJS code because BokehJS library is missing\");\n",
       "        }\n",
       "      }\n",
       "    }, 25, root)\n",
       "  }\n",
       "})(window);</script>"
      ],
      "text/plain": [
       ":Overlay\n",
       "   .HeatMap.I :HeatMap   [columns,index]   (value)\n",
       "   .Labels.I  :Labels   [columns,index]   (value)"
      ]
     },
     "metadata": {
      "application/vnd.holoviews_exec.v0+json": {
       "id": "35057"
      }
     },
     "output_type": "display_data"
    }
   ],
   "source": [
    "heatmap =pd.DataFrame(cm).hvplot.heatmap(height=300, width=600, grid=True, line_width=2,cmap='cet_CET_L10')        \n",
    "display(heatmap * hv.Labels(heatmap))"
   ]
  },
  {
   "cell_type": "markdown",
   "id": "027c442b",
   "metadata": {},
   "source": [
    "# Model Evaluation"
   ]
  },
  {
   "cell_type": "markdown",
   "id": "53830dbc",
   "metadata": {},
   "source": [
    "## AUC for all models"
   ]
  },
  {
   "cell_type": "code",
   "execution_count": 254,
   "id": "d712c2ab",
   "metadata": {},
   "outputs": [
    {
     "data": {
      "text/plain": [
       "<sklearn.metrics._plot.roc_curve.RocCurveDisplay at 0x211926ab430>"
      ]
     },
     "execution_count": 254,
     "metadata": {},
     "output_type": "execute_result"
    },
    {
     "data": {
      "image/png": "[encoded data removed]",
      "text/plain": [
       "<Figure size 1152x1152 with 4 Axes>"
      ]
     },
     "metadata": {
      "needs_background": "light"
     },
     "output_type": "display_data"
    }
   ],
   "source": [
    "plt.rcParams.update({'font.size': 16})\n",
    "fig, ax = plt.subplots(2, 2, figsize=(16,16))\n",
    "\n",
    "ax[0, 0].plot([0, 1], [0, 1], linestyle='--', lw=2, color=\"#DB9885\",label='Chance', alpha=.8)\n",
    "plot_roc_curve(models[0], X_test_np, y_test, ax=ax[0, 0], color=\"#6BB6BC\")\n",
    "\n",
    "ax[0, 1].plot([0, 1], [0, 1], linestyle='--', lw=2, color=\"#DB9885\",label='Chance', alpha=.8)\n",
    "plot_roc_curve(models[1], X_test_np, y_test, ax=ax[0, 1], color=\"#6BB6BC\")\n",
    "\n",
    "\n",
    "ax[1, 0].plot([0, 1], [0, 1], linestyle='--', lw=2, color=\"#DB9885\",label='Chance', alpha=.8)\n",
    "plot_roc_curve(models[2], X_test_np, y_test, ax=ax[1, 0], color=\"#6BB6BC\")\n",
    "\n",
    "ax[1, 1].plot([0, 1], [0, 1], linestyle='--', lw=2, color=\"#DB9885\",label='Chance', alpha=.8)\n",
    "plot_roc_curve(models[3], X_test_np, y_test, ax=ax[1, 1], color=\"#6BB6BC\")\n"
   ]
  },
  {
   "cell_type": "markdown",
   "id": "64720d54",
   "metadata": {},
   "source": [
    "## Confusion matrix for all models"
   ]
  },
  {
   "cell_type": "code",
   "execution_count": 255,
   "id": "d8002b2f",
   "metadata": {},
   "outputs": [
    {
     "data": {},
     "metadata": {},
     "output_type": "display_data"
    },
    {
     "data": {
      "application/vnd.holoviews_exec.v0+json": "",
      "text/html": [
       "<div id='35302'>\n",
       "\n",
       "\n",
       "\n",
       "\n",
       "\n",
       "  <div class=\"bk-root\" id=\"8f12237c-6f0a-4cd0-993f-d681420a4687\" data-root-id=\"35302\"></div>\n",
       "</div>\n",
       "<script type=\"application/javascript\">(function(root) {\n",
       "  function embed_document(root) {\n",
       "    var docs_json = {\"ba16f44b-39e8-49b7-a014-a055865cc2a8\":{\"defs\":[{\"extends\":null,\"module\":null,\"name\":\"ReactiveHTML1\",\"overrides\":[],\"properties\":[]},{\"extends\":null,\"module\":null,\"name\":\"FlexBox1\",\"overrides\":[],\"properties\":[{\"default\":\"flex-start\",\"kind\":null,\"name\":\"align_content\"},{\"default\":\"flex-start\",\"kind\":null,\"name\":\"align_items\"},{\"default\":\"row\",\"kind\":null,\"name\":\"flex_direction\"},{\"default\":\"wrap\",\"kind\":null,\"name\":\"flex_wrap\"},{\"default\":\"flex-start\",\"kind\":null,\"name\":\"justify_content\"}]},{\"extends\":null,\"module\":null,\"name\":\"TemplateActions1\",\"overrides\":[],\"properties\":[{\"default\":0,\"kind\":null,\"name\":\"open_modal\"},{\"default\":0,\"kind\":null,\"name\":\"close_modal\"}]},{\"extends\":null,\"module\":null,\"name\":\"MaterialTemplateActions1\",\"overrides\":[],\"properties\":[{\"default\":0,\"kind\":null,\"name\":\"open_modal\"},{\"default\":0,\"kind\":null,\"name\":\"close_modal\"}]}],\"roots\":{\"references\":[{\"attributes\":{},\"id\":\"35771\",\"type\":\"PanTool\"},{\"attributes\":{},\"id\":\"35662\",\"type\":\"NoOverlap\"},{\"attributes\":{},\"id\":\"35772\",\"type\":\"WheelZoomTool\"},{\"attributes\":{\"data\":{\"columns\":[\"0\",\"0\",\"1\",\"1\"],\"height\":{\"__ndarray__\":\"AAAAAAAA8D8AAAAAAADwPwAAAAAAAPA/AAAAAAAA8D8=\",\"dtype\":\"float64\",\"order\":\"little\",\"shape\":[4]},\"index\":[0,1,0,1],\"value\":[\"19783\",\"2581\",\"483\",\"526\"],\"zvalues\":[19783,2581,483,526]},\"selected\":{\"id\":\"35346\"},\"selection_policy\":{\"id\":\"35372\"}},\"id\":\"35345\",\"type\":\"ColumnDataSource\"},{\"attributes\":{\"data\":{\"columns\":[\"0\",\"0\",\"1\",\"1\"],\"height\":{\"__ndarray__\":\"AAAAAAAA8D8AAAAAAADwPwAAAAAAAPA/AAAAAAAA8D8=\",\"dtype\":\"float64\",\"order\":\"little\",\"shape\":[4]},\"index\":[0,1,0,1],\"value\":[\"18339\",\"1702\",\"1927\",\"1405\"],\"zvalues\":[18339,1702,1927,1405]},\"selected\":{\"id\":\"35793\"},\"selection_policy\":{\"id\":\"35819\"}},\"id\":\"35792\",\"type\":\"ColumnDataSource\"},{\"attributes\":{},\"id\":\"35770\",\"type\":\"SaveTool\"},{\"attributes\":{},\"id\":\"35314\",\"type\":\"LinearScale\"},{\"attributes\":{\"overlay\":{\"id\":\"35775\"}},\"id\":\"35773\",\"type\":\"BoxZoomTool\"},{\"attributes\":{\"data\":{\"columns\":[\"0\",\"0\",\"1\",\"1\"],\"index\":[0,1,0,1],\"value\":[\"18339\",\"1702\",\"1927\",\"1405\"]},\"selected\":{\"id\":\"35505\"},\"selection_policy\":{\"id\":\"35523\"}},\"id\":\"35504\",\"type\":\"ColumnDataSource\"},{\"attributes\":{},\"id\":\"35774\",\"type\":\"ResetTool\"},{\"attributes\":{\"bottom_units\":\"screen\",\"fill_alpha\":0.5,\"fill_color\":\"lightgrey\",\"left_units\":\"screen\",\"level\":\"overlay\",\"line_alpha\":1.0,\"line_color\":\"black\",\"line_dash\":[4,4],\"line_width\":2,\"right_units\":\"screen\",\"syncable\":false,\"top_units\":\"screen\"},\"id\":\"35328\",\"type\":\"BoxAnnotation\"},{\"attributes\":{},\"id\":\"35610\",\"type\":\"CategoricalScale\"},{\"attributes\":{\"fill_color\":{\"field\":\"zvalues\",\"transform\":{\"id\":\"35791\"}},\"height\":{\"field\":\"height\"},\"line_color\":{\"value\":\"white\"},\"line_width\":{\"value\":2},\"width\":{\"value\":1},\"x\":{\"field\":\"columns\"},\"y\":{\"field\":\"index\"}},\"id\":\"35795\",\"type\":\"Rect\"},{\"attributes\":{\"source\":{\"id\":\"35802\"}},\"id\":\"35808\",\"type\":\"CDSView\"},{\"attributes\":{},\"id\":\"35521\",\"type\":\"UnionRenderers\"},{\"attributes\":{\"axis\":{\"id\":\"35465\"},\"ticker\":{\"id\":\"35466\"}},\"id\":\"35467\",\"type\":\"Grid\"},{\"attributes\":{},\"id\":\"35803\",\"type\":\"Selection\"},{\"attributes\":{\"children\":[{\"id\":\"35959\"},{\"id\":\"35957\"}]},\"id\":\"35960\",\"type\":\"Column\"},{\"attributes\":{\"bottom_units\":\"screen\",\"fill_alpha\":0.5,\"fill_color\":\"lightgrey\",\"left_units\":\"screen\",\"level\":\"overlay\",\"line_alpha\":1.0,\"line_color\":\"black\",\"line_dash\":[4,4],\"line_width\":2,\"right_units\":\"screen\",\"syncable\":false,\"top_units\":\"screen\"},\"id\":\"35775\",\"type\":\"BoxAnnotation\"},{\"attributes\":{},\"id\":\"35466\",\"type\":\"CategoricalTicker\"},{\"attributes\":{\"below\":[{\"id\":\"35614\"}],\"center\":[{\"id\":\"35616\"},{\"id\":\"35620\"}],\"height\":300,\"left\":[{\"id\":\"35617\"}],\"margin\":null,\"min_border_bottom\":10,\"min_border_left\":10,\"min_border_right\":10,\"min_border_top\":10,\"renderers\":[{\"id\":\"35648\"},{\"id\":\"35658\"}],\"right\":[{\"id\":\"35651\"}],\"sizing_mode\":\"fixed\",\"title\":{\"id\":\"35606\"},\"toolbar\":{\"id\":\"35627\"},\"toolbar_location\":null,\"width\":450,\"x_range\":{\"id\":\"35304\"},\"x_scale\":{\"id\":\"35610\"},\"y_range\":{\"id\":\"35305\"},\"y_scale\":{\"id\":\"35612\"}},\"id\":\"35605\",\"subtype\":\"Figure\",\"type\":\"Plot\"},{\"attributes\":{\"callback\":null,\"renderers\":[{\"id\":\"35499\"}],\"tags\":[\"hv_created\"],\"tooltips\":[[\"columns\",\"@{columns}\"],[\"index\",\"@{index}\"],[\"value\",\"@{value}\"]]},\"id\":\"35455\",\"type\":\"HoverTool\"},{\"attributes\":{},\"id\":\"35337\",\"type\":\"CategoricalTickFormatter\"},{\"attributes\":{},\"id\":\"35523\",\"type\":\"UnionRenderers\"},{\"attributes\":{},\"id\":\"35473\",\"type\":\"PanTool\"},{\"attributes\":{\"margin\":[5,5,5,5],\"name\":\"HSpacer38416\",\"sizing_mode\":\"stretch_width\"},\"id\":\"36429\",\"type\":\"Spacer\"},{\"attributes\":{\"data\":{\"columns\":[\"0\",\"0\",\"1\",\"1\"],\"index\":[0,1,0,1],\"value\":[\"18339\",\"1702\",\"1927\",\"1405\"]},\"selected\":{\"id\":\"35356\"},\"selection_policy\":{\"id\":\"35374\"}},\"id\":\"35355\",\"type\":\"ColumnDataSource\"},{\"attributes\":{\"data\":{\"columns\":[\"0\",\"0\",\"1\",\"1\"],\"height\":{\"__ndarray__\":\"AAAAAAAA8D8AAAAAAADwPwAAAAAAAPA/AAAAAAAA8D8=\",\"dtype\":\"float64\",\"order\":\"little\",\"shape\":[4]},\"index\":[0,1,0,1],\"value\":[\"19919\",\"2616\",\"347\",\"491\"],\"zvalues\":[19919,2616,347,491]},\"selected\":{\"id\":\"35495\"},\"selection_policy\":{\"id\":\"35521\"}},\"id\":\"35494\",\"type\":\"ColumnDataSource\"},{\"attributes\":{\"axis_label\":\"\",\"formatter\":{\"id\":\"35488\"},\"major_label_policy\":{\"id\":\"35490\"},\"ticker\":{\"id\":\"35469\"}},\"id\":\"35468\",\"type\":\"LinearAxis\"},{\"attributes\":{\"text\":\"LogisticRegression(max_iter=300, random_state=0)\",\"text_color\":\"black\",\"text_font_size\":\"12pt\"},\"id\":\"35457\",\"type\":\"Title\"},{\"attributes\":{},\"id\":\"35338\",\"type\":\"AllLabels\"},{\"attributes\":{\"fill_alpha\":{\"value\":0.1},\"fill_color\":{\"field\":\"zvalues\",\"transform\":{\"id\":\"35344\"}},\"height\":{\"field\":\"height\"},\"line_alpha\":{\"value\":0.1},\"line_color\":{\"value\":\"white\"},\"line_width\":{\"value\":2},\"width\":{\"value\":1},\"x\":{\"field\":\"columns\"},\"y\":{\"field\":\"index\"}},\"id\":\"35349\",\"type\":\"Rect\"},{\"attributes\":{\"fill_alpha\":{\"value\":0.1},\"fill_color\":{\"field\":\"zvalues\",\"transform\":{\"id\":\"35493\"}},\"height\":{\"field\":\"height\"},\"line_alpha\":{\"value\":0.1},\"line_color\":{\"value\":\"white\"},\"line_width\":{\"value\":2},\"width\":{\"value\":1},\"x\":{\"field\":\"columns\"},\"y\":{\"field\":\"index\"}},\"id\":\"35498\",\"type\":\"Rect\"},{\"attributes\":{},\"id\":\"35339\",\"type\":\"BasicTickFormatter\"},{\"attributes\":{},\"id\":\"35469\",\"type\":\"BasicTicker\"},{\"attributes\":{\"text\":\"KNeighborsClassifier(n_jobs=2, n_neighbors=6)\",\"text_color\":\"black\",\"text_font_size\":\"12pt\"},\"id\":\"35308\",\"type\":\"Title\"},{\"attributes\":{},\"id\":\"35341\",\"type\":\"AllLabels\"},{\"attributes\":{\"axis_label\":\"\",\"formatter\":{\"id\":\"35486\"},\"major_label_policy\":{\"id\":\"35487\"},\"ticker\":{\"id\":\"35466\"}},\"id\":\"35465\",\"type\":\"CategoricalAxis\"},{\"attributes\":{\"axis\":{\"id\":\"35316\"},\"ticker\":{\"id\":\"35317\"}},\"id\":\"35318\",\"type\":\"Grid\"},{\"attributes\":{},\"id\":\"35461\",\"type\":\"CategoricalScale\"},{\"attributes\":{\"text\":{\"field\":\"value\"},\"text_align\":{\"value\":\"center\"},\"text_alpha\":{\"value\":0.1},\"text_baseline\":{\"value\":\"middle\"},\"text_color\":{\"value\":\"black\"},\"x\":{\"field\":\"columns\"},\"y\":{\"field\":\"index\"}},\"id\":\"35359\",\"type\":\"Text\"},{\"attributes\":{},\"id\":\"35463\",\"type\":\"LinearScale\"},{\"attributes\":{},\"id\":\"35474\",\"type\":\"WheelZoomTool\"},{\"attributes\":{\"data_source\":{\"id\":\"35355\"},\"glyph\":{\"id\":\"35358\"},\"hover_glyph\":null,\"muted_glyph\":null,\"nonselection_glyph\":{\"id\":\"35359\"},\"selection_glyph\":{\"id\":\"35362\"},\"view\":{\"id\":\"35361\"}},\"id\":\"35360\",\"type\":\"GlyphRenderer\"},{\"attributes\":{},\"id\":\"35317\",\"type\":\"CategoricalTicker\"},{\"attributes\":{\"active_multi\":null,\"tools\":[{\"id\":\"35753\"},{\"id\":\"35770\"},{\"id\":\"35771\"},{\"id\":\"35772\"},{\"id\":\"35773\"},{\"id\":\"35774\"}]},\"id\":\"35776\",\"type\":\"Toolbar\"},{\"attributes\":{\"axis\":{\"id\":\"35468\"},\"dimension\":1,\"ticker\":{\"id\":\"35469\"}},\"id\":\"35471\",\"type\":\"Grid\"},{\"attributes\":{\"high\":19919,\"low\":347,\"nan_color\":\"white\",\"palette\":[\"#659a8f\",\"#669a8f\",\"#679b8f\",\"#679b8e\",\"#689b8e\",\"#699b8d\",\"#6a9c8d\",\"#6a9c8c\",\"#6b9c8c\",\"#6c9c8b\",\"#6c9c8b\",\"#6d9d8a\",\"#6e9d8a\",\"#6f9d89\",\"#6f9d89\",\"#709e88\",\"#719e88\",\"#729e88\",\"#729e87\",\"#739f87\",\"#749f86\",\"#759f86\",\"#759f85\",\"#769f85\",\"#77a084\",\"#78a084\",\"#78a084\",\"#79a083\",\"#7aa083\",\"#7ba182\",\"#7ca182\",\"#7ca181\",\"#7da181\",\"#7ea181\",\"#7fa280\",\"#80a280\",\"#81a27f\",\"#81a27f\",\"#82a27e\",\"#83a37e\",\"#84a37e\",\"#85a37d\",\"#86a37d\",\"#87a37c\",\"#87a37c\",\"#88a37c\",\"#89a47b\",\"#8aa47b\",\"#8ba47b\",\"#8ca47a\",\"#8da47a\",\"#8ea479\",\"#8fa479\",\"#90a579\",\"#91a578\",\"#92a578\",\"#93a578\",\"#94a577\",\"#95a577\",\"#96a577\",\"#97a576\",\"#98a576\",\"#99a676\",\"#9aa675\",\"#9ba675\",\"#9da675\",\"#9ea674\",\"#9fa674\",\"#a0a674\",\"#a1a674\",\"#a3a673\",\"#a4a673\",\"#a5a673\",\"#a6a673\",\"#a8a673\",\"#a9a672\",\"#aaa672\",\"#aca672\",\"#ada672\",\"#afa672\",\"#b0a571\",\"#b1a571\",\"#b3a571\",\"#b4a571\",\"#b5a571\",\"#b6a571\",\"#b7a570\",\"#b9a570\",\"#baa570\",\"#bba570\",\"#bca570\",\"#bda56f\",\"#bea56f\",\"#bfa56f\",\"#c0a56f\",\"#c1a56f\",\"#c2a56f\",\"#c3a56e\",\"#c4a66e\",\"#c5a66e\",\"#c5a66e\",\"#c6a66e\",\"#c7a66e\",\"#c8a66d\",\"#c8a66d\",\"#c9a66d\",\"#caa66d\",\"#cba76d\",\"#cba76d\",\"#cca76c\",\"#cca76c\",\"#cda76c\",\"#cea76c\",\"#cea86c\",\"#cfa86c\",\"#cfa86b\",\"#d0a86b\",\"#d0a86b\",\"#d0a96b\",\"#d1a96b\",\"#d1a96a\",\"#d2a96a\",\"#d2aa6a\",\"#d2aa6a\",\"#d3aa6a\",\"#d3aa6a\",\"#d3ab69\",\"#d3ab69\",\"#d3ab69\",\"#d4ac69\",\"#d4ac69\",\"#d4ac69\",\"#d4ad69\",\"#d4ad69\",\"#d5ad69\",\"#d5ae69\",\"#d5ae69\",\"#d5ae69\",\"#d5af69\",\"#d5af69\",\"#d6af69\",\"#d6b069\",\"#d6b069\",\"#d6b069\",\"#d6b06a\",\"#d6b16a\",\"#d6b16a\",\"#d7b16b\",\"#d7b26b\",\"#d7b26b\",\"#d7b26c\",\"#d7b36c\",\"#d7b36c\",\"#d7b36d\",\"#d7b46d\",\"#d7b46e\",\"#d8b46e\",\"#d8b56f\",\"#d8b570\",\"#d8b570\",\"#d8b671\",\"#d8b672\",\"#d8b672\",\"#d8b773\",\"#d8b774\",\"#d8b774\",\"#d8b875\",\"#d8b876\",\"#d8b877\",\"#d8b978\",\"#d8b979\",\"#d8b979\",\"#d8ba7a\",\"#d8ba7b\",\"#d8ba7c\",\"#d8bb7d\",\"#d8bb7e\",\"#d8bb7f\",\"#d8bc81\",\"#d8bc82\",\"#d8bc83\",\"#d8bd84\",\"#d8bd85\",\"#d8bd86\",\"#d8be87\",\"#d8be88\",\"#d8be89\",\"#d8bf8a\",\"#d8bf8b\",\"#d7bf8d\",\"#d7c08e\",\"#d7c08f\",\"#d7c090\",\"#d7c191\",\"#d7c192\",\"#d7c193\",\"#d7c294\",\"#d7c295\",\"#d7c296\",\"#d7c297\",\"#d7c398\",\"#d7c39a\",\"#d7c39b\",\"#d7c49c\",\"#d7c49d\",\"#d7c49e\",\"#d7c59f\",\"#d7c5a0\",\"#d7c5a1\",\"#d7c6a2\",\"#d7c6a3\",\"#d7c6a4\",\"#d7c7a5\",\"#d7c7a6\",\"#d7c7a8\",\"#d7c7a9\",\"#d7c8aa\",\"#d6c8ab\",\"#d6c8ac\",\"#d6c9ad\",\"#d6c9ae\",\"#d6c9af\",\"#d6cab0\",\"#d6cab1\",\"#d6cab2\",\"#d6cbb3\",\"#d6cbb4\",\"#d6cbb6\",\"#d6cbb7\",\"#d6ccb8\",\"#d6ccb9\",\"#d6ccba\",\"#d6cdbb\",\"#d6cdbc\",\"#d6cdbd\",\"#d5cebe\",\"#d5cebf\",\"#d5cec0\",\"#d5cfc1\",\"#d5cfc2\",\"#d5cfc4\",\"#d5cfc5\",\"#d5d0c6\",\"#d5d0c7\",\"#d5d0c8\",\"#d5d1c9\",\"#d5d1ca\",\"#d4d1cb\",\"#d4d2cc\",\"#d4d2cd\",\"#d4d2ce\",\"#d4d3cf\",\"#d4d3d1\",\"#d4d3d2\",\"#d4d3d3\",\"#d4d4d4\"]},\"id\":\"35493\",\"type\":\"LinearColorMapper\"},{\"attributes\":{\"below\":[{\"id\":\"35316\"}],\"center\":[{\"id\":\"35318\"},{\"id\":\"35322\"}],\"height\":300,\"left\":[{\"id\":\"35319\"}],\"margin\":null,\"min_border_bottom\":10,\"min_border_left\":10,\"min_border_right\":10,\"min_border_top\":10,\"renderers\":[{\"id\":\"35350\"},{\"id\":\"35360\"}],\"right\":[{\"id\":\"35353\"}],\"sizing_mode\":\"fixed\",\"title\":{\"id\":\"35308\"},\"toolbar\":{\"id\":\"35329\"},\"toolbar_location\":null,\"width\":450,\"x_range\":{\"id\":\"35304\"},\"x_scale\":{\"id\":\"35312\"},\"y_range\":{\"id\":\"35305\"},\"y_scale\":{\"id\":\"35314\"}},\"id\":\"35307\",\"subtype\":\"Figure\",\"type\":\"Plot\"},{\"attributes\":{\"below\":[{\"id\":\"35465\"}],\"center\":[{\"id\":\"35467\"},{\"id\":\"35471\"}],\"height\":300,\"left\":[{\"id\":\"35468\"}],\"margin\":null,\"min_border_bottom\":10,\"min_border_left\":10,\"min_border_right\":10,\"min_border_top\":10,\"renderers\":[{\"id\":\"35499\"},{\"id\":\"35509\"}],\"right\":[{\"id\":\"35502\"}],\"sizing_mode\":\"fixed\",\"title\":{\"id\":\"35457\"},\"toolbar\":{\"id\":\"35478\"},\"toolbar_location\":null,\"width\":450,\"x_range\":{\"id\":\"35304\"},\"x_scale\":{\"id\":\"35461\"},\"y_range\":{\"id\":\"35305\"},\"y_scale\":{\"id\":\"35463\"}},\"id\":\"35456\",\"subtype\":\"Figure\",\"type\":\"Plot\"},{\"attributes\":{},\"id\":\"35472\",\"type\":\"SaveTool\"},{\"attributes\":{},\"id\":\"35495\",\"type\":\"Selection\"},{\"attributes\":{\"overlay\":{\"id\":\"35477\"}},\"id\":\"35475\",\"type\":\"BoxZoomTool\"},{\"attributes\":{},\"id\":\"35312\",\"type\":\"CategoricalScale\"},{\"attributes\":{},\"id\":\"35784\",\"type\":\"CategoricalTickFormatter\"},{\"attributes\":{\"callback\":null,\"renderers\":[{\"id\":\"35350\"}],\"tags\":[\"hv_created\"],\"tooltips\":[[\"columns\",\"@{columns}\"],[\"index\",\"@{index}\"],[\"value\",\"@{value}\"]]},\"id\":\"35306\",\"type\":\"HoverTool\"},{\"attributes\":{\"margin\":[5,5,5,5],\"name\":\"HSpacer38415\",\"sizing_mode\":\"stretch_width\"},\"id\":\"35303\",\"type\":\"Spacer\"},{\"attributes\":{},\"id\":\"35476\",\"type\":\"ResetTool\"},{\"attributes\":{\"active_multi\":null,\"tools\":[{\"id\":\"35455\"},{\"id\":\"35472\"},{\"id\":\"35473\"},{\"id\":\"35474\"},{\"id\":\"35475\"},{\"id\":\"35476\"}]},\"id\":\"35478\",\"type\":\"Toolbar\"},{\"attributes\":{\"angle\":{\"value\":0.0},\"fill_alpha\":{\"value\":1.0},\"fill_color\":{\"field\":\"zvalues\",\"transform\":{\"id\":\"35344\"}},\"hatch_alpha\":{\"value\":1.0},\"hatch_color\":{\"value\":\"black\"},\"hatch_scale\":{\"value\":12.0},\"hatch_weight\":{\"value\":1.0},\"height\":{\"field\":\"height\"},\"line_alpha\":{\"value\":1.0},\"line_cap\":{\"value\":\"butt\"},\"line_color\":{\"value\":\"white\"},\"line_dash\":{\"value\":[]},\"line_dash_offset\":{\"value\":0},\"line_join\":{\"value\":\"bevel\"},\"line_width\":{\"value\":2},\"width\":{\"value\":1},\"x\":{\"field\":\"columns\"},\"y\":{\"field\":\"index\"}},\"id\":\"35354\",\"type\":\"Rect\"},{\"attributes\":{},\"id\":\"35324\",\"type\":\"PanTool\"},{\"attributes\":{\"data_source\":{\"id\":\"35494\"},\"glyph\":{\"id\":\"35497\"},\"hover_glyph\":null,\"muted_glyph\":null,\"nonselection_glyph\":{\"id\":\"35498\"},\"selection_glyph\":{\"id\":\"35503\"},\"view\":{\"id\":\"35500\"}},\"id\":\"35499\",\"type\":\"GlyphRenderer\"},{\"attributes\":{},\"id\":\"35346\",\"type\":\"Selection\"},{\"attributes\":{\"children\":[{\"id\":\"35303\"},{\"id\":\"35960\"},{\"id\":\"36429\"}],\"margin\":[0,0,0,0],\"name\":\"Row38411\",\"tags\":[\"embedded\"]},\"id\":\"35302\",\"type\":\"Row\"},{\"attributes\":{},\"id\":\"35623\",\"type\":\"WheelZoomTool\"},{\"attributes\":{\"text\":\"BernoulliNB()\",\"text_color\":\"black\",\"text_font_size\":\"12pt\"},\"id\":\"35755\",\"type\":\"Title\"},{\"attributes\":{},\"id\":\"35622\",\"type\":\"PanTool\"},{\"attributes\":{\"high\":19919,\"low\":347,\"nan_color\":\"white\",\"palette\":[\"#659a8f\",\"#669a8f\",\"#679b8f\",\"#679b8e\",\"#689b8e\",\"#699b8d\",\"#6a9c8d\",\"#6a9c8c\",\"#6b9c8c\",\"#6c9c8b\",\"#6c9c8b\",\"#6d9d8a\",\"#6e9d8a\",\"#6f9d89\",\"#6f9d89\",\"#709e88\",\"#719e88\",\"#729e88\",\"#729e87\",\"#739f87\",\"#749f86\",\"#759f86\",\"#759f85\",\"#769f85\",\"#77a084\",\"#78a084\",\"#78a084\",\"#79a083\",\"#7aa083\",\"#7ba182\",\"#7ca182\",\"#7ca181\",\"#7da181\",\"#7ea181\",\"#7fa280\",\"#80a280\",\"#81a27f\",\"#81a27f\",\"#82a27e\",\"#83a37e\",\"#84a37e\",\"#85a37d\",\"#86a37d\",\"#87a37c\",\"#87a37c\",\"#88a37c\",\"#89a47b\",\"#8aa47b\",\"#8ba47b\",\"#8ca47a\",\"#8da47a\",\"#8ea479\",\"#8fa479\",\"#90a579\",\"#91a578\",\"#92a578\",\"#93a578\",\"#94a577\",\"#95a577\",\"#96a577\",\"#97a576\",\"#98a576\",\"#99a676\",\"#9aa675\",\"#9ba675\",\"#9da675\",\"#9ea674\",\"#9fa674\",\"#a0a674\",\"#a1a674\",\"#a3a673\",\"#a4a673\",\"#a5a673\",\"#a6a673\",\"#a8a673\",\"#a9a672\",\"#aaa672\",\"#aca672\",\"#ada672\",\"#afa672\",\"#b0a571\",\"#b1a571\",\"#b3a571\",\"#b4a571\",\"#b5a571\",\"#b6a571\",\"#b7a570\",\"#b9a570\",\"#baa570\",\"#bba570\",\"#bca570\",\"#bda56f\",\"#bea56f\",\"#bfa56f\",\"#c0a56f\",\"#c1a56f\",\"#c2a56f\",\"#c3a56e\",\"#c4a66e\",\"#c5a66e\",\"#c5a66e\",\"#c6a66e\",\"#c7a66e\",\"#c8a66d\",\"#c8a66d\",\"#c9a66d\",\"#caa66d\",\"#cba76d\",\"#cba76d\",\"#cca76c\",\"#cca76c\",\"#cda76c\",\"#cea76c\",\"#cea86c\",\"#cfa86c\",\"#cfa86b\",\"#d0a86b\",\"#d0a86b\",\"#d0a96b\",\"#d1a96b\",\"#d1a96a\",\"#d2a96a\",\"#d2aa6a\",\"#d2aa6a\",\"#d3aa6a\",\"#d3aa6a\",\"#d3ab69\",\"#d3ab69\",\"#d3ab69\",\"#d4ac69\",\"#d4ac69\",\"#d4ac69\",\"#d4ad69\",\"#d4ad69\",\"#d5ad69\",\"#d5ae69\",\"#d5ae69\",\"#d5ae69\",\"#d5af69\",\"#d5af69\",\"#d6af69\",\"#d6b069\",\"#d6b069\",\"#d6b069\",\"#d6b06a\",\"#d6b16a\",\"#d6b16a\",\"#d7b16b\",\"#d7b26b\",\"#d7b26b\",\"#d7b26c\",\"#d7b36c\",\"#d7b36c\",\"#d7b36d\",\"#d7b46d\",\"#d7b46e\",\"#d8b46e\",\"#d8b56f\",\"#d8b570\",\"#d8b570\",\"#d8b671\",\"#d8b672\",\"#d8b672\",\"#d8b773\",\"#d8b774\",\"#d8b774\",\"#d8b875\",\"#d8b876\",\"#d8b877\",\"#d8b978\",\"#d8b979\",\"#d8b979\",\"#d8ba7a\",\"#d8ba7b\",\"#d8ba7c\",\"#d8bb7d\",\"#d8bb7e\",\"#d8bb7f\",\"#d8bc81\",\"#d8bc82\",\"#d8bc83\",\"#d8bd84\",\"#d8bd85\",\"#d8bd86\",\"#d8be87\",\"#d8be88\",\"#d8be89\",\"#d8bf8a\",\"#d8bf8b\",\"#d7bf8d\",\"#d7c08e\",\"#d7c08f\",\"#d7c090\",\"#d7c191\",\"#d7c192\",\"#d7c193\",\"#d7c294\",\"#d7c295\",\"#d7c296\",\"#d7c297\",\"#d7c398\",\"#d7c39a\",\"#d7c39b\",\"#d7c49c\",\"#d7c49d\",\"#d7c49e\",\"#d7c59f\",\"#d7c5a0\",\"#d7c5a1\",\"#d7c6a2\",\"#d7c6a3\",\"#d7c6a4\",\"#d7c7a5\",\"#d7c7a6\",\"#d7c7a8\",\"#d7c7a9\",\"#d7c8aa\",\"#d6c8ab\",\"#d6c8ac\",\"#d6c9ad\",\"#d6c9ae\",\"#d6c9af\",\"#d6cab0\",\"#d6cab1\",\"#d6cab2\",\"#d6cbb3\",\"#d6cbb4\",\"#d6cbb6\",\"#d6cbb7\",\"#d6ccb8\",\"#d6ccb9\",\"#d6ccba\",\"#d6cdbb\",\"#d6cdbc\",\"#d6cdbd\",\"#d5cebe\",\"#d5cebf\",\"#d5cec0\",\"#d5cfc1\",\"#d5cfc2\",\"#d5cfc4\",\"#d5cfc5\",\"#d5d0c6\",\"#d5d0c7\",\"#d5d0c8\",\"#d5d1c9\",\"#d5d1ca\",\"#d4d1cb\",\"#d4d2cc\",\"#d4d2cd\",\"#d4d2ce\",\"#d4d3cf\",\"#d4d3d1\",\"#d4d3d2\",\"#d4d3d3\",\"#d4d4d4\"]},\"id\":\"35344\",\"type\":\"LinearColorMapper\"},{\"attributes\":{},\"id\":\"35352\",\"type\":\"BasicTicker\"},{\"attributes\":{\"axis_label\":\"\",\"formatter\":{\"id\":\"35635\"},\"major_label_policy\":{\"id\":\"35636\"},\"ticker\":{\"id\":\"35615\"}},\"id\":\"35614\",\"type\":\"CategoricalAxis\"},{\"attributes\":{},\"id\":\"35615\",\"type\":\"CategoricalTicker\"},{\"attributes\":{\"fill_alpha\":{\"value\":0.1},\"fill_color\":{\"field\":\"zvalues\",\"transform\":{\"id\":\"35791\"}},\"height\":{\"field\":\"height\"},\"line_alpha\":{\"value\":0.1},\"line_color\":{\"value\":\"white\"},\"line_width\":{\"value\":2},\"width\":{\"value\":1},\"x\":{\"field\":\"columns\"},\"y\":{\"field\":\"index\"}},\"id\":\"35796\",\"type\":\"Rect\"},{\"attributes\":{},\"id\":\"35320\",\"type\":\"BasicTicker\"},{\"attributes\":{\"source\":{\"id\":\"35345\"}},\"id\":\"35351\",\"type\":\"CDSView\"},{\"attributes\":{},\"id\":\"35501\",\"type\":\"BasicTicker\"},{\"attributes\":{\"bar_line_color\":\"black\",\"color_mapper\":{\"id\":\"35344\"},\"label_standoff\":8,\"location\":[0,0],\"major_label_policy\":{\"id\":\"35364\"},\"major_tick_line_color\":\"black\",\"ticker\":{\"id\":\"35352\"}},\"id\":\"35353\",\"type\":\"ColorBar\"},{\"attributes\":{},\"id\":\"35788\",\"type\":\"AllLabels\"},{\"attributes\":{},\"id\":\"35786\",\"type\":\"BasicTickFormatter\"},{\"attributes\":{\"axis\":{\"id\":\"35617\"},\"dimension\":1,\"ticker\":{\"id\":\"35618\"}},\"id\":\"35620\",\"type\":\"Grid\"},{\"attributes\":{\"fill_color\":{\"field\":\"zvalues\",\"transform\":{\"id\":\"35344\"}},\"height\":{\"field\":\"height\"},\"line_color\":{\"value\":\"white\"},\"line_width\":{\"value\":2},\"width\":{\"value\":1},\"x\":{\"field\":\"columns\"},\"y\":{\"field\":\"index\"}},\"id\":\"35348\",\"type\":\"Rect\"},{\"attributes\":{\"axis_label\":\"\",\"formatter\":{\"id\":\"35339\"},\"major_label_policy\":{\"id\":\"35341\"},\"ticker\":{\"id\":\"35320\"}},\"id\":\"35319\",\"type\":\"LinearAxis\"},{\"attributes\":{\"fill_color\":{\"field\":\"zvalues\",\"transform\":{\"id\":\"35493\"}},\"height\":{\"field\":\"height\"},\"line_color\":{\"value\":\"white\"},\"line_width\":{\"value\":2},\"width\":{\"value\":1},\"x\":{\"field\":\"columns\"},\"y\":{\"field\":\"index\"}},\"id\":\"35497\",\"type\":\"Rect\"},{\"attributes\":{\"data\":{\"columns\":[\"0\",\"0\",\"1\",\"1\"],\"index\":[0,1,0,1],\"value\":[\"18339\",\"1702\",\"1927\",\"1405\"]},\"selected\":{\"id\":\"35654\"},\"selection_policy\":{\"id\":\"35672\"}},\"id\":\"35653\",\"type\":\"ColumnDataSource\"},{\"attributes\":{},\"id\":\"35505\",\"type\":\"Selection\"},{\"attributes\":{\"data_source\":{\"id\":\"35345\"},\"glyph\":{\"id\":\"35348\"},\"hover_glyph\":null,\"muted_glyph\":null,\"nonselection_glyph\":{\"id\":\"35349\"},\"selection_glyph\":{\"id\":\"35354\"},\"view\":{\"id\":\"35351\"}},\"id\":\"35350\",\"type\":\"GlyphRenderer\"},{\"attributes\":{\"axis_label\":\"\",\"formatter\":{\"id\":\"35337\"},\"major_label_policy\":{\"id\":\"35338\"},\"ticker\":{\"id\":\"35317\"}},\"id\":\"35316\",\"type\":\"CategoricalAxis\"},{\"attributes\":{\"source\":{\"id\":\"35494\"}},\"id\":\"35500\",\"type\":\"CDSView\"},{\"attributes\":{},\"id\":\"35799\",\"type\":\"BasicTicker\"},{\"attributes\":{\"bar_line_color\":\"black\",\"color_mapper\":{\"id\":\"35493\"},\"label_standoff\":8,\"location\":[0,0],\"major_label_policy\":{\"id\":\"35513\"},\"major_tick_line_color\":\"black\",\"ticker\":{\"id\":\"35501\"}},\"id\":\"35502\",\"type\":\"ColorBar\"},{\"attributes\":{},\"id\":\"35793\",\"type\":\"Selection\"},{\"attributes\":{\"axis_label\":\"\",\"formatter\":{\"id\":\"35637\"},\"major_label_policy\":{\"id\":\"35639\"},\"ticker\":{\"id\":\"35618\"}},\"id\":\"35617\",\"type\":\"LinearAxis\"},{\"attributes\":{},\"id\":\"35325\",\"type\":\"WheelZoomTool\"},{\"attributes\":{\"bar_line_color\":\"black\",\"color_mapper\":{\"id\":\"35791\"},\"label_standoff\":8,\"location\":[0,0],\"major_label_policy\":{\"id\":\"35811\"},\"major_tick_line_color\":\"black\",\"ticker\":{\"id\":\"35799\"}},\"id\":\"35800\",\"type\":\"ColorBar\"},{\"attributes\":{},\"id\":\"35356\",\"type\":\"Selection\"},{\"attributes\":{\"axis\":{\"id\":\"35319\"},\"dimension\":1,\"ticker\":{\"id\":\"35320\"}},\"id\":\"35322\",\"type\":\"Grid\"},{\"attributes\":{\"bottom_units\":\"screen\",\"fill_alpha\":0.5,\"fill_color\":\"lightgrey\",\"left_units\":\"screen\",\"level\":\"overlay\",\"line_alpha\":1.0,\"line_color\":\"black\",\"line_dash\":[4,4],\"line_width\":2,\"right_units\":\"screen\",\"syncable\":false,\"top_units\":\"screen\"},\"id\":\"35477\",\"type\":\"BoxAnnotation\"},{\"attributes\":{\"high\":19919,\"low\":347,\"nan_color\":\"white\",\"palette\":[\"#659a8f\",\"#669a8f\",\"#679b8f\",\"#679b8e\",\"#689b8e\",\"#699b8d\",\"#6a9c8d\",\"#6a9c8c\",\"#6b9c8c\",\"#6c9c8b\",\"#6c9c8b\",\"#6d9d8a\",\"#6e9d8a\",\"#6f9d89\",\"#6f9d89\",\"#709e88\",\"#719e88\",\"#729e88\",\"#729e87\",\"#739f87\",\"#749f86\",\"#759f86\",\"#759f85\",\"#769f85\",\"#77a084\",\"#78a084\",\"#78a084\",\"#79a083\",\"#7aa083\",\"#7ba182\",\"#7ca182\",\"#7ca181\",\"#7da181\",\"#7ea181\",\"#7fa280\",\"#80a280\",\"#81a27f\",\"#81a27f\",\"#82a27e\",\"#83a37e\",\"#84a37e\",\"#85a37d\",\"#86a37d\",\"#87a37c\",\"#87a37c\",\"#88a37c\",\"#89a47b\",\"#8aa47b\",\"#8ba47b\",\"#8ca47a\",\"#8da47a\",\"#8ea479\",\"#8fa479\",\"#90a579\",\"#91a578\",\"#92a578\",\"#93a578\",\"#94a577\",\"#95a577\",\"#96a577\",\"#97a576\",\"#98a576\",\"#99a676\",\"#9aa675\",\"#9ba675\",\"#9da675\",\"#9ea674\",\"#9fa674\",\"#a0a674\",\"#a1a674\",\"#a3a673\",\"#a4a673\",\"#a5a673\",\"#a6a673\",\"#a8a673\",\"#a9a672\",\"#aaa672\",\"#aca672\",\"#ada672\",\"#afa672\",\"#b0a571\",\"#b1a571\",\"#b3a571\",\"#b4a571\",\"#b5a571\",\"#b6a571\",\"#b7a570\",\"#b9a570\",\"#baa570\",\"#bba570\",\"#bca570\",\"#bda56f\",\"#bea56f\",\"#bfa56f\",\"#c0a56f\",\"#c1a56f\",\"#c2a56f\",\"#c3a56e\",\"#c4a66e\",\"#c5a66e\",\"#c5a66e\",\"#c6a66e\",\"#c7a66e\",\"#c8a66d\",\"#c8a66d\",\"#c9a66d\",\"#caa66d\",\"#cba76d\",\"#cba76d\",\"#cca76c\",\"#cca76c\",\"#cda76c\",\"#cea76c\",\"#cea86c\",\"#cfa86c\",\"#cfa86b\",\"#d0a86b\",\"#d0a86b\",\"#d0a96b\",\"#d1a96b\",\"#d1a96a\",\"#d2a96a\",\"#d2aa6a\",\"#d2aa6a\",\"#d3aa6a\",\"#d3aa6a\",\"#d3ab69\",\"#d3ab69\",\"#d3ab69\",\"#d4ac69\",\"#d4ac69\",\"#d4ac69\",\"#d4ad69\",\"#d4ad69\",\"#d5ad69\",\"#d5ae69\",\"#d5ae69\",\"#d5ae69\",\"#d5af69\",\"#d5af69\",\"#d6af69\",\"#d6b069\",\"#d6b069\",\"#d6b069\",\"#d6b06a\",\"#d6b16a\",\"#d6b16a\",\"#d7b16b\",\"#d7b26b\",\"#d7b26b\",\"#d7b26c\",\"#d7b36c\",\"#d7b36c\",\"#d7b36d\",\"#d7b46d\",\"#d7b46e\",\"#d8b46e\",\"#d8b56f\",\"#d8b570\",\"#d8b570\",\"#d8b671\",\"#d8b672\",\"#d8b672\",\"#d8b773\",\"#d8b774\",\"#d8b774\",\"#d8b875\",\"#d8b876\",\"#d8b877\",\"#d8b978\",\"#d8b979\",\"#d8b979\",\"#d8ba7a\",\"#d8ba7b\",\"#d8ba7c\",\"#d8bb7d\",\"#d8bb7e\",\"#d8bb7f\",\"#d8bc81\",\"#d8bc82\",\"#d8bc83\",\"#d8bd84\",\"#d8bd85\",\"#d8bd86\",\"#d8be87\",\"#d8be88\",\"#d8be89\",\"#d8bf8a\",\"#d8bf8b\",\"#d7bf8d\",\"#d7c08e\",\"#d7c08f\",\"#d7c090\",\"#d7c191\",\"#d7c192\",\"#d7c193\",\"#d7c294\",\"#d7c295\",\"#d7c296\",\"#d7c297\",\"#d7c398\",\"#d7c39a\",\"#d7c39b\",\"#d7c49c\",\"#d7c49d\",\"#d7c49e\",\"#d7c59f\",\"#d7c5a0\",\"#d7c5a1\",\"#d7c6a2\",\"#d7c6a3\",\"#d7c6a4\",\"#d7c7a5\",\"#d7c7a6\",\"#d7c7a8\",\"#d7c7a9\",\"#d7c8aa\",\"#d6c8ab\",\"#d6c8ac\",\"#d6c9ad\",\"#d6c9ae\",\"#d6c9af\",\"#d6cab0\",\"#d6cab1\",\"#d6cab2\",\"#d6cbb3\",\"#d6cbb4\",\"#d6cbb6\",\"#d6cbb7\",\"#d6ccb8\",\"#d6ccb9\",\"#d6ccba\",\"#d6cdbb\",\"#d6cdbc\",\"#d6cdbd\",\"#d5cebe\",\"#d5cebf\",\"#d5cec0\",\"#d5cfc1\",\"#d5cfc2\",\"#d5cfc4\",\"#d5cfc5\",\"#d5d0c6\",\"#d5d0c7\",\"#d5d0c8\",\"#d5d1c9\",\"#d5d1ca\",\"#d4d1cb\",\"#d4d2cc\",\"#d4d2cd\",\"#d4d2ce\",\"#d4d3cf\",\"#d4d3d1\",\"#d4d3d2\",\"#d4d3d3\",\"#d4d4d4\"]},\"id\":\"35791\",\"type\":\"LinearColorMapper\"},{\"attributes\":{},\"id\":\"35323\",\"type\":\"SaveTool\"},{\"attributes\":{\"angle\":{\"value\":0.0},\"fill_alpha\":{\"value\":1.0},\"fill_color\":{\"field\":\"zvalues\",\"transform\":{\"id\":\"35791\"}},\"hatch_alpha\":{\"value\":1.0},\"hatch_color\":{\"value\":\"black\"},\"hatch_scale\":{\"value\":12.0},\"hatch_weight\":{\"value\":1.0},\"height\":{\"field\":\"height\"},\"line_alpha\":{\"value\":1.0},\"line_cap\":{\"value\":\"butt\"},\"line_color\":{\"value\":\"white\"},\"line_dash\":{\"value\":[]},\"line_dash_offset\":{\"value\":0},\"line_join\":{\"value\":\"bevel\"},\"line_width\":{\"value\":2},\"width\":{\"value\":1},\"x\":{\"field\":\"columns\"},\"y\":{\"field\":\"index\"}},\"id\":\"35801\",\"type\":\"Rect\"},{\"attributes\":{\"overlay\":{\"id\":\"35328\"}},\"id\":\"35326\",\"type\":\"BoxZoomTool\"},{\"attributes\":{\"data_source\":{\"id\":\"35792\"},\"glyph\":{\"id\":\"35795\"},\"hover_glyph\":null,\"muted_glyph\":null,\"nonselection_glyph\":{\"id\":\"35796\"},\"selection_glyph\":{\"id\":\"35801\"},\"view\":{\"id\":\"35798\"}},\"id\":\"35797\",\"type\":\"GlyphRenderer\"},{\"attributes\":{},\"id\":\"35327\",\"type\":\"ResetTool\"},{\"attributes\":{\"factors\":[\"0\",\"1\"],\"tags\":[[[\"columns\",\"columns\",null]]]},\"id\":\"35304\",\"type\":\"FactorRange\"},{\"attributes\":{\"active_multi\":null,\"tools\":[{\"id\":\"35306\"},{\"id\":\"35323\"},{\"id\":\"35324\"},{\"id\":\"35325\"},{\"id\":\"35326\"},{\"id\":\"35327\"}]},\"id\":\"35329\",\"type\":\"Toolbar\"},{\"attributes\":{\"text\":{\"field\":\"value\"},\"text_align\":{\"value\":\"center\"},\"text_alpha\":{\"value\":0.1},\"text_baseline\":{\"value\":\"middle\"},\"text_color\":{\"value\":\"black\"},\"x\":{\"field\":\"columns\"},\"y\":{\"field\":\"index\"}},\"id\":\"35806\",\"type\":\"Text\"},{\"attributes\":{\"callback\":null,\"renderers\":[{\"id\":\"35648\"}],\"tags\":[\"hv_created\"],\"tooltips\":[[\"columns\",\"@{columns}\"],[\"index\",\"@{index}\"],[\"value\",\"@{value}\"]]},\"id\":\"35604\",\"type\":\"HoverTool\"},{\"attributes\":{\"overlay\":{\"id\":\"35626\"}},\"id\":\"35624\",\"type\":\"BoxZoomTool\"},{\"attributes\":{\"bottom_units\":\"screen\",\"fill_alpha\":0.5,\"fill_color\":\"lightgrey\",\"left_units\":\"screen\",\"level\":\"overlay\",\"line_alpha\":1.0,\"line_color\":\"black\",\"line_dash\":[4,4],\"line_width\":2,\"right_units\":\"screen\",\"syncable\":false,\"top_units\":\"screen\"},\"id\":\"35626\",\"type\":\"BoxAnnotation\"},{\"attributes\":{\"data\":{\"columns\":[\"0\",\"0\",\"1\",\"1\"],\"height\":{\"__ndarray__\":\"AAAAAAAA8D8AAAAAAADwPwAAAAAAAPA/AAAAAAAA8D8=\",\"dtype\":\"float64\",\"order\":\"little\",\"shape\":[4]},\"index\":[0,1,0,1],\"value\":[\"18409\",\"2198\",\"1857\",\"909\"],\"zvalues\":[18409,2198,1857,909]},\"selected\":{\"id\":\"35644\"},\"selection_policy\":{\"id\":\"35670\"}},\"id\":\"35643\",\"type\":\"ColumnDataSource\"},{\"attributes\":{\"source\":{\"id\":\"35792\"}},\"id\":\"35798\",\"type\":\"CDSView\"},{\"attributes\":{},\"id\":\"35618\",\"type\":\"BasicTicker\"},{\"attributes\":{},\"id\":\"35621\",\"type\":\"SaveTool\"},{\"attributes\":{},\"id\":\"35625\",\"type\":\"ResetTool\"},{\"attributes\":{\"text\":\"DecisionTreeClassifier(random_state=0)\",\"text_color\":\"black\",\"text_font_size\":\"12pt\"},\"id\":\"35606\",\"type\":\"Title\"},{\"attributes\":{\"source\":{\"id\":\"35355\"}},\"id\":\"35361\",\"type\":\"CDSView\"},{\"attributes\":{\"active_multi\":null,\"tools\":[{\"id\":\"35604\"},{\"id\":\"35621\"},{\"id\":\"35622\"},{\"id\":\"35623\"},{\"id\":\"35624\"},{\"id\":\"35625\"}]},\"id\":\"35627\",\"type\":\"Toolbar\"},{\"attributes\":{\"text\":{\"field\":\"value\"},\"text_align\":{\"value\":\"center\"},\"text_baseline\":{\"value\":\"middle\"},\"text_color\":{\"value\":\"black\"},\"x\":{\"field\":\"columns\"},\"y\":{\"field\":\"index\"}},\"id\":\"35358\",\"type\":\"Text\"},{\"attributes\":{\"text\":{\"field\":\"value\"},\"text_align\":{\"value\":\"center\"},\"text_baseline\":{\"value\":\"middle\"},\"text_color\":{\"value\":\"black\"},\"x\":{\"field\":\"columns\"},\"y\":{\"field\":\"index\"}},\"id\":\"35805\",\"type\":\"Text\"},{\"attributes\":{\"data_source\":{\"id\":\"35802\"},\"glyph\":{\"id\":\"35805\"},\"hover_glyph\":null,\"muted_glyph\":null,\"nonselection_glyph\":{\"id\":\"35806\"},\"selection_glyph\":{\"id\":\"35809\"},\"view\":{\"id\":\"35808\"}},\"id\":\"35807\",\"type\":\"GlyphRenderer\"},{\"attributes\":{\"angle\":{\"value\":0},\"text\":{\"field\":\"value\"},\"text_align\":{\"value\":\"center\"},\"text_alpha\":{\"value\":1.0},\"text_baseline\":{\"value\":\"middle\"},\"text_color\":{\"value\":\"black\"},\"text_font_style\":{\"value\":\"normal\"},\"text_line_height\":{\"value\":1.2},\"x\":{\"field\":\"columns\"},\"x_offset\":{\"value\":0},\"y\":{\"field\":\"index\"},\"y_offset\":{\"value\":0}},\"id\":\"35362\",\"type\":\"Text\"},{\"attributes\":{\"angle\":{\"value\":0},\"text\":{\"field\":\"value\"},\"text_align\":{\"value\":\"center\"},\"text_alpha\":{\"value\":1.0},\"text_baseline\":{\"value\":\"middle\"},\"text_color\":{\"value\":\"black\"},\"text_font_style\":{\"value\":\"normal\"},\"text_line_height\":{\"value\":1.2},\"x\":{\"field\":\"columns\"},\"x_offset\":{\"value\":0},\"y\":{\"field\":\"index\"},\"y_offset\":{\"value\":0}},\"id\":\"35809\",\"type\":\"Text\"},{\"attributes\":{\"toolbar\":{\"id\":\"35958\"},\"toolbar_location\":\"above\"},\"id\":\"35959\",\"type\":\"ToolbarBox\"},{\"attributes\":{},\"id\":\"35486\",\"type\":\"CategoricalTickFormatter\"},{\"attributes\":{},\"id\":\"35635\",\"type\":\"CategoricalTickFormatter\"},{\"attributes\":{},\"id\":\"35487\",\"type\":\"AllLabels\"},{\"attributes\":{},\"id\":\"35636\",\"type\":\"AllLabels\"},{\"attributes\":{\"fill_alpha\":{\"value\":0.1},\"fill_color\":{\"field\":\"zvalues\",\"transform\":{\"id\":\"35642\"}},\"height\":{\"field\":\"height\"},\"line_alpha\":{\"value\":0.1},\"line_color\":{\"value\":\"white\"},\"line_width\":{\"value\":2},\"width\":{\"value\":1},\"x\":{\"field\":\"columns\"},\"y\":{\"field\":\"index\"}},\"id\":\"35647\",\"type\":\"Rect\"},{\"attributes\":{},\"id\":\"35488\",\"type\":\"BasicTickFormatter\"},{\"attributes\":{},\"id\":\"35637\",\"type\":\"BasicTickFormatter\"},{\"attributes\":{},\"id\":\"35490\",\"type\":\"AllLabels\"},{\"attributes\":{},\"id\":\"35639\",\"type\":\"AllLabels\"},{\"attributes\":{\"source\":{\"id\":\"35653\"}},\"id\":\"35659\",\"type\":\"CDSView\"},{\"attributes\":{},\"id\":\"35670\",\"type\":\"UnionRenderers\"},{\"attributes\":{\"angle\":{\"value\":0.0},\"fill_alpha\":{\"value\":1.0},\"fill_color\":{\"field\":\"zvalues\",\"transform\":{\"id\":\"35642\"}},\"hatch_alpha\":{\"value\":1.0},\"hatch_color\":{\"value\":\"black\"},\"hatch_scale\":{\"value\":12.0},\"hatch_weight\":{\"value\":1.0},\"height\":{\"field\":\"height\"},\"line_alpha\":{\"value\":1.0},\"line_cap\":{\"value\":\"butt\"},\"line_color\":{\"value\":\"white\"},\"line_dash\":{\"value\":[]},\"line_dash_offset\":{\"value\":0},\"line_join\":{\"value\":\"bevel\"},\"line_width\":{\"value\":2},\"width\":{\"value\":1},\"x\":{\"field\":\"columns\"},\"y\":{\"field\":\"index\"}},\"id\":\"35652\",\"type\":\"Rect\"},{\"attributes\":{\"callback\":null,\"renderers\":[{\"id\":\"35797\"}],\"tags\":[\"hv_created\"],\"tooltips\":[[\"columns\",\"@{columns}\"],[\"index\",\"@{index}\"],[\"value\",\"@{value}\"]]},\"id\":\"35753\",\"type\":\"HoverTool\"},{\"attributes\":{},\"id\":\"35513\",\"type\":\"NoOverlap\"},{\"attributes\":{\"text\":{\"field\":\"value\"},\"text_align\":{\"value\":\"center\"},\"text_alpha\":{\"value\":0.1},\"text_baseline\":{\"value\":\"middle\"},\"text_color\":{\"value\":\"black\"},\"x\":{\"field\":\"columns\"},\"y\":{\"field\":\"index\"}},\"id\":\"35657\",\"type\":\"Text\"},{\"attributes\":{},\"id\":\"35644\",\"type\":\"Selection\"},{\"attributes\":{\"text\":{\"field\":\"value\"},\"text_align\":{\"value\":\"center\"},\"text_baseline\":{\"value\":\"middle\"},\"text_color\":{\"value\":\"black\"},\"x\":{\"field\":\"columns\"},\"y\":{\"field\":\"index\"}},\"id\":\"35507\",\"type\":\"Text\"},{\"attributes\":{},\"id\":\"35650\",\"type\":\"BasicTicker\"},{\"attributes\":{},\"id\":\"35785\",\"type\":\"AllLabels\"},{\"attributes\":{\"high\":19919,\"low\":347,\"nan_color\":\"white\",\"palette\":[\"#659a8f\",\"#669a8f\",\"#679b8f\",\"#679b8e\",\"#689b8e\",\"#699b8d\",\"#6a9c8d\",\"#6a9c8c\",\"#6b9c8c\",\"#6c9c8b\",\"#6c9c8b\",\"#6d9d8a\",\"#6e9d8a\",\"#6f9d89\",\"#6f9d89\",\"#709e88\",\"#719e88\",\"#729e88\",\"#729e87\",\"#739f87\",\"#749f86\",\"#759f86\",\"#759f85\",\"#769f85\",\"#77a084\",\"#78a084\",\"#78a084\",\"#79a083\",\"#7aa083\",\"#7ba182\",\"#7ca182\",\"#7ca181\",\"#7da181\",\"#7ea181\",\"#7fa280\",\"#80a280\",\"#81a27f\",\"#81a27f\",\"#82a27e\",\"#83a37e\",\"#84a37e\",\"#85a37d\",\"#86a37d\",\"#87a37c\",\"#87a37c\",\"#88a37c\",\"#89a47b\",\"#8aa47b\",\"#8ba47b\",\"#8ca47a\",\"#8da47a\",\"#8ea479\",\"#8fa479\",\"#90a579\",\"#91a578\",\"#92a578\",\"#93a578\",\"#94a577\",\"#95a577\",\"#96a577\",\"#97a576\",\"#98a576\",\"#99a676\",\"#9aa675\",\"#9ba675\",\"#9da675\",\"#9ea674\",\"#9fa674\",\"#a0a674\",\"#a1a674\",\"#a3a673\",\"#a4a673\",\"#a5a673\",\"#a6a673\",\"#a8a673\",\"#a9a672\",\"#aaa672\",\"#aca672\",\"#ada672\",\"#afa672\",\"#b0a571\",\"#b1a571\",\"#b3a571\",\"#b4a571\",\"#b5a571\",\"#b6a571\",\"#b7a570\",\"#b9a570\",\"#baa570\",\"#bba570\",\"#bca570\",\"#bda56f\",\"#bea56f\",\"#bfa56f\",\"#c0a56f\",\"#c1a56f\",\"#c2a56f\",\"#c3a56e\",\"#c4a66e\",\"#c5a66e\",\"#c5a66e\",\"#c6a66e\",\"#c7a66e\",\"#c8a66d\",\"#c8a66d\",\"#c9a66d\",\"#caa66d\",\"#cba76d\",\"#cba76d\",\"#cca76c\",\"#cca76c\",\"#cda76c\",\"#cea76c\",\"#cea86c\",\"#cfa86c\",\"#cfa86b\",\"#d0a86b\",\"#d0a86b\",\"#d0a96b\",\"#d1a96b\",\"#d1a96a\",\"#d2a96a\",\"#d2aa6a\",\"#d2aa6a\",\"#d3aa6a\",\"#d3aa6a\",\"#d3ab69\",\"#d3ab69\",\"#d3ab69\",\"#d4ac69\",\"#d4ac69\",\"#d4ac69\",\"#d4ad69\",\"#d4ad69\",\"#d5ad69\",\"#d5ae69\",\"#d5ae69\",\"#d5ae69\",\"#d5af69\",\"#d5af69\",\"#d6af69\",\"#d6b069\",\"#d6b069\",\"#d6b069\",\"#d6b06a\",\"#d6b16a\",\"#d6b16a\",\"#d7b16b\",\"#d7b26b\",\"#d7b26b\",\"#d7b26c\",\"#d7b36c\",\"#d7b36c\",\"#d7b36d\",\"#d7b46d\",\"#d7b46e\",\"#d8b46e\",\"#d8b56f\",\"#d8b570\",\"#d8b570\",\"#d8b671\",\"#d8b672\",\"#d8b672\",\"#d8b773\",\"#d8b774\",\"#d8b774\",\"#d8b875\",\"#d8b876\",\"#d8b877\",\"#d8b978\",\"#d8b979\",\"#d8b979\",\"#d8ba7a\",\"#d8ba7b\",\"#d8ba7c\",\"#d8bb7d\",\"#d8bb7e\",\"#d8bb7f\",\"#d8bc81\",\"#d8bc82\",\"#d8bc83\",\"#d8bd84\",\"#d8bd85\",\"#d8bd86\",\"#d8be87\",\"#d8be88\",\"#d8be89\",\"#d8bf8a\",\"#d8bf8b\",\"#d7bf8d\",\"#d7c08e\",\"#d7c08f\",\"#d7c090\",\"#d7c191\",\"#d7c192\",\"#d7c193\",\"#d7c294\",\"#d7c295\",\"#d7c296\",\"#d7c297\",\"#d7c398\",\"#d7c39a\",\"#d7c39b\",\"#d7c49c\",\"#d7c49d\",\"#d7c49e\",\"#d7c59f\",\"#d7c5a0\",\"#d7c5a1\",\"#d7c6a2\",\"#d7c6a3\",\"#d7c6a4\",\"#d7c7a5\",\"#d7c7a6\",\"#d7c7a8\",\"#d7c7a9\",\"#d7c8aa\",\"#d6c8ab\",\"#d6c8ac\",\"#d6c9ad\",\"#d6c9ae\",\"#d6c9af\",\"#d6cab0\",\"#d6cab1\",\"#d6cab2\",\"#d6cbb3\",\"#d6cbb4\",\"#d6cbb6\",\"#d6cbb7\",\"#d6ccb8\",\"#d6ccb9\",\"#d6ccba\",\"#d6cdbb\",\"#d6cdbc\",\"#d6cdbd\",\"#d5cebe\",\"#d5cebf\",\"#d5cec0\",\"#d5cfc1\",\"#d5cfc2\",\"#d5cfc4\",\"#d5cfc5\",\"#d5d0c6\",\"#d5d0c7\",\"#d5d0c8\",\"#d5d1c9\",\"#d5d1ca\",\"#d4d1cb\",\"#d4d2cc\",\"#d4d2cd\",\"#d4d2ce\",\"#d4d3cf\",\"#d4d3d1\",\"#d4d3d2\",\"#d4d3d3\",\"#d4d4d4\"]},\"id\":\"35642\",\"type\":\"LinearColorMapper\"},{\"attributes\":{},\"id\":\"35672\",\"type\":\"UnionRenderers\"},{\"attributes\":{\"source\":{\"id\":\"35643\"}},\"id\":\"35649\",\"type\":\"CDSView\"},{\"attributes\":{\"bar_line_color\":\"black\",\"color_mapper\":{\"id\":\"35642\"},\"label_standoff\":8,\"location\":[0,0],\"major_label_policy\":{\"id\":\"35662\"},\"major_tick_line_color\":\"black\",\"ticker\":{\"id\":\"35650\"}},\"id\":\"35651\",\"type\":\"ColorBar\"},{\"attributes\":{\"text\":{\"field\":\"value\"},\"text_align\":{\"value\":\"center\"},\"text_alpha\":{\"value\":0.1},\"text_baseline\":{\"value\":\"middle\"},\"text_color\":{\"value\":\"black\"},\"x\":{\"field\":\"columns\"},\"y\":{\"field\":\"index\"}},\"id\":\"35508\",\"type\":\"Text\"},{\"attributes\":{\"fill_color\":{\"field\":\"zvalues\",\"transform\":{\"id\":\"35642\"}},\"height\":{\"field\":\"height\"},\"line_color\":{\"value\":\"white\"},\"line_width\":{\"value\":2},\"width\":{\"value\":1},\"x\":{\"field\":\"columns\"},\"y\":{\"field\":\"index\"}},\"id\":\"35646\",\"type\":\"Rect\"},{\"attributes\":{\"angle\":{\"value\":0.0},\"fill_alpha\":{\"value\":1.0},\"fill_color\":{\"field\":\"zvalues\",\"transform\":{\"id\":\"35493\"}},\"hatch_alpha\":{\"value\":1.0},\"hatch_color\":{\"value\":\"black\"},\"hatch_scale\":{\"value\":12.0},\"hatch_weight\":{\"value\":1.0},\"height\":{\"field\":\"height\"},\"line_alpha\":{\"value\":1.0},\"line_cap\":{\"value\":\"butt\"},\"line_color\":{\"value\":\"white\"},\"line_dash\":{\"value\":[]},\"line_dash_offset\":{\"value\":0},\"line_join\":{\"value\":\"bevel\"},\"line_width\":{\"value\":2},\"width\":{\"value\":1},\"x\":{\"field\":\"columns\"},\"y\":{\"field\":\"index\"}},\"id\":\"35503\",\"type\":\"Rect\"},{\"attributes\":{},\"id\":\"35811\",\"type\":\"NoOverlap\"},{\"attributes\":{\"data_source\":{\"id\":\"35653\"},\"glyph\":{\"id\":\"35656\"},\"hover_glyph\":null,\"muted_glyph\":null,\"nonselection_glyph\":{\"id\":\"35657\"},\"selection_glyph\":{\"id\":\"35660\"},\"view\":{\"id\":\"35659\"}},\"id\":\"35658\",\"type\":\"GlyphRenderer\"},{\"attributes\":{\"data_source\":{\"id\":\"35643\"},\"glyph\":{\"id\":\"35646\"},\"hover_glyph\":null,\"muted_glyph\":null,\"nonselection_glyph\":{\"id\":\"35647\"},\"selection_glyph\":{\"id\":\"35652\"},\"view\":{\"id\":\"35649\"}},\"id\":\"35648\",\"type\":\"GlyphRenderer\"},{\"attributes\":{},\"id\":\"35364\",\"type\":\"NoOverlap\"},{\"attributes\":{\"angle\":{\"value\":0},\"text\":{\"field\":\"value\"},\"text_align\":{\"value\":\"center\"},\"text_alpha\":{\"value\":1.0},\"text_baseline\":{\"value\":\"middle\"},\"text_color\":{\"value\":\"black\"},\"text_font_style\":{\"value\":\"normal\"},\"text_line_height\":{\"value\":1.2},\"x\":{\"field\":\"columns\"},\"x_offset\":{\"value\":0},\"y\":{\"field\":\"index\"},\"y_offset\":{\"value\":0}},\"id\":\"35511\",\"type\":\"Text\"},{\"attributes\":{\"source\":{\"id\":\"35504\"}},\"id\":\"35510\",\"type\":\"CDSView\"},{\"attributes\":{\"data_source\":{\"id\":\"35504\"},\"glyph\":{\"id\":\"35507\"},\"hover_glyph\":null,\"muted_glyph\":null,\"nonselection_glyph\":{\"id\":\"35508\"},\"selection_glyph\":{\"id\":\"35511\"},\"view\":{\"id\":\"35510\"}},\"id\":\"35509\",\"type\":\"GlyphRenderer\"},{\"attributes\":{},\"id\":\"35654\",\"type\":\"Selection\"},{\"attributes\":{\"axis\":{\"id\":\"35614\"},\"ticker\":{\"id\":\"35615\"}},\"id\":\"35616\",\"type\":\"Grid\"},{\"attributes\":{\"below\":[{\"id\":\"35763\"}],\"center\":[{\"id\":\"35765\"},{\"id\":\"35769\"}],\"height\":300,\"left\":[{\"id\":\"35766\"}],\"margin\":null,\"min_border_bottom\":10,\"min_border_left\":10,\"min_border_right\":10,\"min_border_top\":10,\"renderers\":[{\"id\":\"35797\"},{\"id\":\"35807\"}],\"right\":[{\"id\":\"35800\"}],\"sizing_mode\":\"fixed\",\"title\":{\"id\":\"35755\"},\"toolbar\":{\"id\":\"35776\"},\"toolbar_location\":null,\"width\":450,\"x_range\":{\"id\":\"35304\"},\"x_scale\":{\"id\":\"35759\"},\"y_range\":{\"id\":\"35305\"},\"y_scale\":{\"id\":\"35761\"}},\"id\":\"35754\",\"subtype\":\"Figure\",\"type\":\"Plot\"},{\"attributes\":{\"text\":{\"field\":\"value\"},\"text_align\":{\"value\":\"center\"},\"text_baseline\":{\"value\":\"middle\"},\"text_color\":{\"value\":\"black\"},\"x\":{\"field\":\"columns\"},\"y\":{\"field\":\"index\"}},\"id\":\"35656\",\"type\":\"Text\"},{\"attributes\":{\"angle\":{\"value\":0},\"text\":{\"field\":\"value\"},\"text_align\":{\"value\":\"center\"},\"text_alpha\":{\"value\":1.0},\"text_baseline\":{\"value\":\"middle\"},\"text_color\":{\"value\":\"black\"},\"text_font_style\":{\"value\":\"normal\"},\"text_line_height\":{\"value\":1.2},\"x\":{\"field\":\"columns\"},\"x_offset\":{\"value\":0},\"y\":{\"field\":\"index\"},\"y_offset\":{\"value\":0}},\"id\":\"35660\",\"type\":\"Text\"},{\"attributes\":{},\"id\":\"35819\",\"type\":\"UnionRenderers\"},{\"attributes\":{\"toolbars\":[{\"id\":\"35329\"},{\"id\":\"35478\"},{\"id\":\"35627\"},{\"id\":\"35776\"}],\"tools\":[{\"id\":\"35306\"},{\"id\":\"35323\"},{\"id\":\"35324\"},{\"id\":\"35325\"},{\"id\":\"35326\"},{\"id\":\"35327\"},{\"id\":\"35455\"},{\"id\":\"35472\"},{\"id\":\"35473\"},{\"id\":\"35474\"},{\"id\":\"35475\"},{\"id\":\"35476\"},{\"id\":\"35604\"},{\"id\":\"35621\"},{\"id\":\"35622\"},{\"id\":\"35623\"},{\"id\":\"35624\"},{\"id\":\"35625\"},{\"id\":\"35753\"},{\"id\":\"35770\"},{\"id\":\"35771\"},{\"id\":\"35772\"},{\"id\":\"35773\"},{\"id\":\"35774\"}]},\"id\":\"35958\",\"type\":\"ProxyToolbar\"},{\"attributes\":{},\"id\":\"35372\",\"type\":\"UnionRenderers\"},{\"attributes\":{\"end\":1.7,\"reset_end\":1.7,\"reset_start\":-0.7,\"start\":-0.7,\"tags\":[[[\"index\",\"index\",null]]]},\"id\":\"35305\",\"type\":\"Range1d\"},{\"attributes\":{},\"id\":\"35764\",\"type\":\"CategoricalTicker\"},{\"attributes\":{},\"id\":\"35374\",\"type\":\"UnionRenderers\"},{\"attributes\":{\"data\":{\"columns\":[\"0\",\"0\",\"1\",\"1\"],\"index\":[0,1,0,1],\"value\":[\"18339\",\"1702\",\"1927\",\"1405\"]},\"selected\":{\"id\":\"35803\"},\"selection_policy\":{\"id\":\"35821\"}},\"id\":\"35802\",\"type\":\"ColumnDataSource\"},{\"attributes\":{},\"id\":\"35821\",\"type\":\"UnionRenderers\"},{\"attributes\":{\"axis_label\":\"\",\"formatter\":{\"id\":\"35786\"},\"major_label_policy\":{\"id\":\"35788\"},\"ticker\":{\"id\":\"35767\"}},\"id\":\"35766\",\"type\":\"LinearAxis\"},{\"attributes\":{\"axis_label\":\"\",\"formatter\":{\"id\":\"35784\"},\"major_label_policy\":{\"id\":\"35785\"},\"ticker\":{\"id\":\"35764\"}},\"id\":\"35763\",\"type\":\"CategoricalAxis\"},{\"attributes\":{\"children\":[[{\"id\":\"35307\"},0,0],[{\"id\":\"35456\"},0,1],[{\"id\":\"35605\"},1,0],[{\"id\":\"35754\"},1,1]]},\"id\":\"35957\",\"type\":\"GridBox\"},{\"attributes\":{},\"id\":\"35612\",\"type\":\"LinearScale\"},{\"attributes\":{},\"id\":\"35767\",\"type\":\"BasicTicker\"},{\"attributes\":{\"axis\":{\"id\":\"35763\"},\"ticker\":{\"id\":\"35764\"}},\"id\":\"35765\",\"type\":\"Grid\"},{\"attributes\":{},\"id\":\"35759\",\"type\":\"CategoricalScale\"},{\"attributes\":{\"axis\":{\"id\":\"35766\"},\"dimension\":1,\"ticker\":{\"id\":\"35767\"}},\"id\":\"35769\",\"type\":\"Grid\"},{\"attributes\":{},\"id\":\"35761\",\"type\":\"LinearScale\"}],\"root_ids\":[\"35302\"]},\"title\":\"Bokeh Application\",\"version\":\"2.3.3\"}};\n",
       "    var render_items = [{\"docid\":\"ba16f44b-39e8-49b7-a014-a055865cc2a8\",\"root_ids\":[\"35302\"],\"roots\":{\"35302\":\"8f12237c-6f0a-4cd0-993f-d681420a4687\"}}];\n",
       "    root.Bokeh.embed.embed_items_notebook(docs_json, render_items);\n",
       "  }\n",
       "  if (root.Bokeh !== undefined && root.Bokeh.Panel !== undefined) {\n",
       "    embed_document(root);\n",
       "  } else {\n",
       "    var attempts = 0;\n",
       "    var timer = setInterval(function(root) {\n",
       "      if (root.Bokeh !== undefined && root.Bokeh.Panel !== undefined) {\n",
       "        clearInterval(timer);\n",
       "        embed_document(root);\n",
       "      } else if (document.readyState == \"complete\") {\n",
       "        attempts++;\n",
       "        if (attempts > 200) {\n",
       "          clearInterval(timer);\n",
       "          console.log(\"Bokeh: ERROR: Unable to run BokehJS code because BokehJS library is missing\");\n",
       "        }\n",
       "      }\n",
       "    }, 25, root)\n",
       "  }\n",
       "})(window);</script>"
      ],
      "text/plain": [
       ":Layout\n",
       "   .Overlay.I   :Overlay\n",
       "      .HeatMap.I :HeatMap   [columns,index]   (value)\n",
       "      .Labels.I  :Labels   [columns,index]   (value)\n",
       "   .Overlay.II  :Overlay\n",
       "      .HeatMap.I :HeatMap   [columns,index]   (value)\n",
       "      .Labels.I  :Labels   [columns,index]   (value)\n",
       "   .Overlay.III :Overlay\n",
       "      .HeatMap.I :HeatMap   [columns,index]   (value)\n",
       "      .Labels.I  :Labels   [columns,index]   (value)\n",
       "   .Overlay.IV  :Overlay\n",
       "      .HeatMap.I :HeatMap   [columns,index]   (value)\n",
       "      .Labels.I  :Labels   [columns,index]   (value)"
      ]
     },
     "execution_count": 255,
     "metadata": {
      "application/vnd.holoviews_exec.v0+json": {
       "id": "35302"
      }
     },
     "output_type": "execute_result"
    }
   ],
   "source": [
    "heatmap1 =pd.DataFrame(cms[0]).hvplot.heatmap(height=300, width=450, grid=True, line_width=2,cmap='cet_CET_L10').opts(title=str(models[0]))      \n",
    "heatmap2 =pd.DataFrame(cms[1]).hvplot.heatmap(height=300, width=450, grid=True, line_width=2,cmap='cet_CET_L10').opts(title=str(models[1]))  \n",
    "heatmap3 =pd.DataFrame(cms[2]).hvplot.heatmap(height=300, width=450, grid=True, line_width=2,cmap='cet_CET_L10').opts(title=str(models[2]))  \n",
    "heatmap4 =pd.DataFrame(cms[3]).hvplot.heatmap(height=300, width=450, grid=True, line_width=2,cmap='cet_CET_L10').opts(title=str(models[3]))  \n",
    "\n",
    "((heatmap1 * hv.Labels(heatmap)) + \n",
    " (heatmap2 * hv.Labels(heatmap)) + \n",
    " (heatmap3 * hv.Labels(heatmap)) +\n",
    " (heatmap4 * hv.Labels(heatmap)) ).cols(2)"
   ]
  },
  {
   "cell_type": "code",
   "execution_count": 256,
   "id": "2bbd9b9f",
   "metadata": {},
   "outputs": [],
   "source": [
    "'''\n",
    "\n",
    "for m in models_name:\n",
    "    print(m)\n",
    "    model, cm = create_model(m, 'Test')\n",
    "    models.append(model)\n",
    "    cms.append(cm)\n",
    "    print('***********************')'''\n",
    "    \n",
    "None"
   ]
  },
  {
   "cell_type": "code",
   "execution_count": 257,
   "id": "be48c6ab",
   "metadata": {},
   "outputs": [],
   "source": [
    "a=list(models[2].feature_importances_)\n",
    "b=list(X_test_df.columns[0:])"
   ]
  },
  {
   "cell_type": "code",
   "execution_count": 258,
   "id": "4d8e5275",
   "metadata": {},
   "outputs": [],
   "source": [
    "d = {'feature name':b,'importances':a}\n",
    "d=pd.DataFrame(d)\n",
    "d=d[d['importances'] !=0]"
   ]
  },
  {
   "cell_type": "code",
   "execution_count": 259,
   "id": "3242ff5c",
   "metadata": {},
   "outputs": [],
   "source": [
    "#d"
   ]
  },
  {
   "cell_type": "code",
   "execution_count": 260,
   "id": "4fa0940d",
   "metadata": {},
   "outputs": [],
   "source": [
    "#hv.Bars(d.sort_values(by = ['importances'], ascending=False)).opts(width=900,xrotation=45 )"
   ]
  },
  {
   "cell_type": "code",
   "execution_count": 261,
   "id": "a55e8521",
   "metadata": {},
   "outputs": [
    {
     "data": {},
     "metadata": {},
     "output_type": "display_data"
    },
    {
     "data": {
      "application/vnd.holoviews_exec.v0+json": "",
      "text/html": [
       "<div id='36691'>\n",
       "\n",
       "\n",
       "\n",
       "\n",
       "\n",
       "  <div class=\"bk-root\" id=\"976641f2-a0d1-46e0-874e-b59546680953\" data-root-id=\"36691\"></div>\n",
       "</div>\n",
       "<script type=\"application/javascript\">(function(root) {\n",
       "  function embed_document(root) {\n",
       "    var docs_json = {\"ab6a1857-a004-4fe6-bc42-a9aa8de5edd6\":{\"defs\":[{\"extends\":null,\"module\":null,\"name\":\"ReactiveHTML1\",\"overrides\":[],\"properties\":[]},{\"extends\":null,\"module\":null,\"name\":\"FlexBox1\",\"overrides\":[],\"properties\":[{\"default\":\"flex-start\",\"kind\":null,\"name\":\"align_content\"},{\"default\":\"flex-start\",\"kind\":null,\"name\":\"align_items\"},{\"default\":\"row\",\"kind\":null,\"name\":\"flex_direction\"},{\"default\":\"wrap\",\"kind\":null,\"name\":\"flex_wrap\"},{\"default\":\"flex-start\",\"kind\":null,\"name\":\"justify_content\"}]},{\"extends\":null,\"module\":null,\"name\":\"TemplateActions1\",\"overrides\":[],\"properties\":[{\"default\":0,\"kind\":null,\"name\":\"open_modal\"},{\"default\":0,\"kind\":null,\"name\":\"close_modal\"}]},{\"extends\":null,\"module\":null,\"name\":\"MaterialTemplateActions1\",\"overrides\":[],\"properties\":[{\"default\":0,\"kind\":null,\"name\":\"open_modal\"},{\"default\":0,\"kind\":null,\"name\":\"close_modal\"}]}],\"roots\":{\"references\":[{\"attributes\":{\"axis\":{\"id\":\"36704\"},\"grid_line_color\":null,\"ticker\":null},\"id\":\"36706\",\"type\":\"Grid\"},{\"attributes\":{},\"id\":\"36712\",\"type\":\"PanTool\"},{\"attributes\":{},\"id\":\"36735\",\"type\":\"BasicTickFormatter\"},{\"attributes\":{},\"id\":\"36708\",\"type\":\"BasicTicker\"},{\"attributes\":{},\"id\":\"36713\",\"type\":\"WheelZoomTool\"},{\"attributes\":{},\"id\":\"36733\",\"type\":\"CategoricalTickFormatter\"},{\"attributes\":{},\"id\":\"36711\",\"type\":\"SaveTool\"},{\"attributes\":{\"overlay\":{\"id\":\"36716\"}},\"id\":\"36714\",\"type\":\"BoxZoomTool\"},{\"attributes\":{\"fill_color\":{\"value\":\"#DB9885\"},\"top\":{\"field\":\"importances\"},\"width\":{\"value\":0.8},\"x\":{\"field\":\"feature_name\"}},\"id\":\"36726\",\"type\":\"VBar\"},{\"attributes\":{},\"id\":\"36715\",\"type\":\"ResetTool\"},{\"attributes\":{\"fill_alpha\":{\"value\":0.2},\"fill_color\":{\"value\":\"#DB9885\"},\"line_alpha\":{\"value\":0.2},\"top\":{\"field\":\"importances\"},\"width\":{\"value\":0.8},\"x\":{\"field\":\"feature_name\"}},\"id\":\"36728\",\"type\":\"VBar\"},{\"attributes\":{\"active_multi\":null,\"tools\":[{\"id\":\"36711\"},{\"id\":\"36712\"},{\"id\":\"36713\"},{\"id\":\"36714\"},{\"id\":\"36715\"}]},\"id\":\"36717\",\"type\":\"Toolbar\"},{\"attributes\":{\"fill_alpha\":{\"value\":0.1},\"fill_color\":{\"value\":\"#DB9885\"},\"line_alpha\":{\"value\":0.1},\"top\":{\"field\":\"importances\"},\"width\":{\"value\":0.8},\"x\":{\"field\":\"feature_name\"}},\"id\":\"36727\",\"type\":\"VBar\"},{\"attributes\":{},\"id\":\"36734\",\"type\":\"AllLabels\"},{\"attributes\":{\"source\":{\"id\":\"36723\"}},\"id\":\"36730\",\"type\":\"CDSView\"},{\"attributes\":{\"children\":[{\"id\":\"36692\"},{\"id\":\"36695\"},{\"id\":\"36758\"}],\"margin\":[0,0,0,0],\"name\":\"Row40017\",\"tags\":[\"embedded\"]},\"id\":\"36691\",\"type\":\"Row\"},{\"attributes\":{\"data_source\":{\"id\":\"36723\"},\"glyph\":{\"id\":\"36726\"},\"hover_glyph\":null,\"muted_glyph\":{\"id\":\"36728\"},\"nonselection_glyph\":{\"id\":\"36727\"},\"selection_glyph\":{\"id\":\"36731\"},\"view\":{\"id\":\"36730\"}},\"id\":\"36729\",\"type\":\"GlyphRenderer\"},{\"attributes\":{},\"id\":\"36737\",\"type\":\"AllLabels\"},{\"attributes\":{},\"id\":\"36700\",\"type\":\"CategoricalScale\"},{\"attributes\":{\"below\":[{\"id\":\"36704\"}],\"center\":[{\"id\":\"36706\"},{\"id\":\"36710\"}],\"height\":300,\"left\":[{\"id\":\"36707\"}],\"margin\":[5,5,5,5],\"min_border_bottom\":10,\"min_border_left\":10,\"min_border_right\":10,\"min_border_top\":10,\"renderers\":[{\"id\":\"36729\"}],\"sizing_mode\":\"fixed\",\"title\":{\"id\":\"36696\"},\"toolbar\":{\"id\":\"36717\"},\"width\":900,\"x_range\":{\"id\":\"36693\"},\"x_scale\":{\"id\":\"36700\"},\"y_range\":{\"id\":\"36694\"},\"y_scale\":{\"id\":\"36702\"}},\"id\":\"36695\",\"subtype\":\"Figure\",\"type\":\"Plot\"},{\"attributes\":{\"bottom\":{\"value\":0},\"fill_alpha\":{\"value\":1.0},\"fill_color\":{\"value\":\"#DB9885\"},\"hatch_alpha\":{\"value\":1.0},\"hatch_color\":{\"value\":\"black\"},\"hatch_scale\":{\"value\":12.0},\"hatch_weight\":{\"value\":1.0},\"line_alpha\":{\"value\":1.0},\"line_cap\":{\"value\":\"butt\"},\"line_color\":{\"value\":\"black\"},\"line_dash\":{\"value\":[]},\"line_dash_offset\":{\"value\":0},\"line_join\":{\"value\":\"bevel\"},\"line_width\":{\"value\":1},\"top\":{\"field\":\"importances\"},\"width\":{\"value\":0.8},\"x\":{\"field\":\"feature_name\"}},\"id\":\"36731\",\"type\":\"VBar\"},{\"attributes\":{},\"id\":\"36705\",\"type\":\"CategoricalTicker\"},{\"attributes\":{\"margin\":[5,5,5,5],\"name\":\"HSpacer40022\",\"sizing_mode\":\"stretch_width\"},\"id\":\"36758\",\"type\":\"Spacer\"},{\"attributes\":{\"bottom_units\":\"screen\",\"fill_alpha\":0.5,\"fill_color\":\"lightgrey\",\"left_units\":\"screen\",\"level\":\"overlay\",\"line_alpha\":1.0,\"line_color\":\"black\",\"line_dash\":[4,4],\"line_width\":2,\"right_units\":\"screen\",\"syncable\":false,\"top_units\":\"screen\"},\"id\":\"36716\",\"type\":\"BoxAnnotation\"},{\"attributes\":{\"end\":0.3224045009103478,\"reset_end\":0.3224045009103478,\"reset_start\":0.0,\"tags\":[[[\"importances\",\"importances\",null]]]},\"id\":\"36694\",\"type\":\"Range1d\"},{\"attributes\":{\"text_color\":\"black\",\"text_font_size\":\"12pt\"},\"id\":\"36696\",\"type\":\"Title\"},{\"attributes\":{\"factors\":[\"AGE_AT_DIAG\",\"ENC_12M_BF\",\"YEAR_AT_DIAG\",\"All\",\"SEX_M\",\"SEX_F\",\"ICD2+Meds\",\"ICD2+A1C\",\"WHITE\",\"UN\",\"BLCK\",\"OTHER\",\"ICD2\",\"MED_PRESCR\",\"LTN\",\"ASN\",\"IND\",\"MLT\",\"PCIF\",\"REF\"],\"tags\":[[[\"feature name\",\"feature name\",null]]]},\"id\":\"36693\",\"type\":\"FactorRange\"},{\"attributes\":{\"axis_label\":\"feature name\",\"formatter\":{\"id\":\"36733\"},\"major_label_orientation\":0.7853981633974483,\"major_label_policy\":{\"id\":\"36734\"},\"ticker\":{\"id\":\"36705\"}},\"id\":\"36704\",\"type\":\"CategoricalAxis\"},{\"attributes\":{\"data\":{\"feature_name\":[\"AGE_AT_DIAG\",\"ENC_12M_BF\",\"YEAR_AT_DIAG\",\"All\",\"SEX_M\",\"SEX_F\",\"ICD2+Meds\",\"ICD2+A1C\",\"WHITE\",\"UN\",\"BLCK\",\"OTHER\",\"ICD2\",\"MED_PRESCR\",\"LTN\",\"ASN\",\"IND\",\"MLT\",\"PCIF\",\"REF\"],\"importances\":{\"__ndarray__\":\"Pfoqvh3C0j/rsFiKxzfNP/EdkZDwzcY/Au2oVqX3uT+6f5/PkCSiP0afQvSlxaA/SY1Oe9Y3nT/4TBEHJ3uaP9DHb/Eug5M/257vkJUkkj9eUTt1bZKOPxbetaHs03o/acH34oBpeD/jcCjwFit3PwqtFvVdlnA/5ER43OFeVT9QpsAcuQBKP012fa0DgDg/nPJCGMWsAj+SKnOkY8kAPw==\",\"dtype\":\"float64\",\"order\":\"little\",\"shape\":[20]}},\"selected\":{\"id\":\"36724\"},\"selection_policy\":{\"id\":\"36746\"}},\"id\":\"36723\",\"type\":\"ColumnDataSource\"},{\"attributes\":{},\"id\":\"36746\",\"type\":\"UnionRenderers\"},{\"attributes\":{\"margin\":[5,5,5,5],\"name\":\"HSpacer40021\",\"sizing_mode\":\"stretch_width\"},\"id\":\"36692\",\"type\":\"Spacer\"},{\"attributes\":{\"axis_label\":\"importances\",\"formatter\":{\"id\":\"36735\"},\"major_label_policy\":{\"id\":\"36737\"},\"ticker\":{\"id\":\"36708\"}},\"id\":\"36707\",\"type\":\"LinearAxis\"},{\"attributes\":{},\"id\":\"36702\",\"type\":\"LinearScale\"},{\"attributes\":{\"axis\":{\"id\":\"36707\"},\"dimension\":1,\"grid_line_color\":null,\"ticker\":null},\"id\":\"36710\",\"type\":\"Grid\"},{\"attributes\":{},\"id\":\"36724\",\"type\":\"Selection\"}],\"root_ids\":[\"36691\"]},\"title\":\"Bokeh Application\",\"version\":\"2.3.3\"}};\n",
       "    var render_items = [{\"docid\":\"ab6a1857-a004-4fe6-bc42-a9aa8de5edd6\",\"root_ids\":[\"36691\"],\"roots\":{\"36691\":\"976641f2-a0d1-46e0-874e-b59546680953\"}}];\n",
       "    root.Bokeh.embed.embed_items_notebook(docs_json, render_items);\n",
       "  }\n",
       "  if (root.Bokeh !== undefined && root.Bokeh.Panel !== undefined) {\n",
       "    embed_document(root);\n",
       "  } else {\n",
       "    var attempts = 0;\n",
       "    var timer = setInterval(function(root) {\n",
       "      if (root.Bokeh !== undefined && root.Bokeh.Panel !== undefined) {\n",
       "        clearInterval(timer);\n",
       "        embed_document(root);\n",
       "      } else if (document.readyState == \"complete\") {\n",
       "        attempts++;\n",
       "        if (attempts > 200) {\n",
       "          clearInterval(timer);\n",
       "          console.log(\"Bokeh: ERROR: Unable to run BokehJS code because BokehJS library is missing\");\n",
       "        }\n",
       "      }\n",
       "    }, 25, root)\n",
       "  }\n",
       "})(window);</script>"
      ],
      "text/plain": [
       ":Bars   [feature name]   (importances)"
      ]
     },
     "execution_count": 261,
     "metadata": {
      "application/vnd.holoviews_exec.v0+json": {
       "id": "36691"
      }
     },
     "output_type": "execute_result"
    }
   ],
   "source": [
    "#plot_feature_importance(models[2].feature_importances_, X_test_df.columns[0:], 'DT')\n",
    "d['feature name'] = d['feature name'].replace({'INDEX_YEAR':'YEAR_AT_DIAG', \n",
    "                                               'INDEX_AGE':'AGE_AT_DIAG',\n",
    "                                                'x0_F': 'SEX_F',\n",
    "                                                'x0_M': 'SEX_M',\n",
    "                                                'x1_AMERICAN INDIAN AND ALASKA NATIVE': 'INDIAN_OR_ALASKA',\n",
    "                                                'x1_ASIAN': 'ASIAN',\n",
    "                                                'x1_BLACK OR AFRICAN AMERICAN': 'BLACK',\n",
    "                                                'x1_HISPANIC OR LATINO': 'LATINO',\n",
    "                                                'x1_NATIVE HAWAIIAN AND OTHER PACIFIC ISLANDER': 'HAWAIIAN',\n",
    "                                                'x1_UNKNOWN/NOT DOCUMENTED': 'UNKNOWN',\n",
    "                                              })\n",
    "d\n",
    "d['feature name'].replace('x1_|x2_','',regex=True,inplace=True)\n",
    "hv.Bars(d.sort_values(by = ['importances'], ascending=False)).opts(width=900,xrotation=45 , color =\"#DB9885\")"
   ]
  },
  {
   "cell_type": "code",
   "execution_count": 262,
   "id": "0bcb90fd",
   "metadata": {},
   "outputs": [
    {
     "name": "stdout",
     "output_type": "stream",
     "text": [
      "LR\n",
      "Train dataset - 70%\n",
      "------------------------\n",
      "MCC 0.26\n",
      "ROC AUC 0.81\n",
      "Balanced accuracy 0.57\n",
      "***********************\n",
      "NB\n",
      "Train dataset - 70%\n",
      "------------------------\n",
      "MCC 0.35\n",
      "ROC AUC 0.79\n",
      "Balanced accuracy 0.68\n",
      "***********************\n",
      "DT\n",
      "Train dataset - 70%\n",
      "------------------------\n",
      "MCC 0.21\n",
      "ROC AUC 0.62\n",
      "Balanced accuracy 0.6\n",
      "***********************\n"
     ]
    }
   ],
   "source": [
    "models_name = ['LR','NB','DT']\n",
    "for m in models_name:\n",
    "    print(m)\n",
    "    create_model(m, 'Train')\n",
    "    print('***********************')"
   ]
  }
 ],
 "metadata": {
  "kernelspec": {
   "display_name": "Python 3",
   "language": "python",
   "name": "python3"
  },
  "language_info": {
   "codemirror_mode": {
    "name": "ipython",
    "version": 3
   },
   "file_extension": ".py",
   "mimetype": "text/x-python",
   "name": "python",
   "nbconvert_exporter": "python",
   "pygments_lexer": "ipython3",
   "version": "3.8.11"
  }
 },
 "nbformat": 4,
 "nbformat_minor": 5
}
